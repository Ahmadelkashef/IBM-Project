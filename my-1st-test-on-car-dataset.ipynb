{
 "cells": [
  {
   "cell_type": "code",
   "execution_count": 1,
   "id": "249d8437",
   "metadata": {
    "_cell_guid": "b1076dfc-b9ad-4769-8c92-a6c4dae69d19",
    "_uuid": "8f2839f25d086af736a60e9eeb907d3b93b6e0e5",
    "execution": {
     "iopub.execute_input": "2022-01-26T01:26:53.338690Z",
     "iopub.status.busy": "2022-01-26T01:26:53.336930Z",
     "iopub.status.idle": "2022-01-26T01:26:53.349124Z",
     "shell.execute_reply": "2022-01-26T01:26:53.348406Z",
     "shell.execute_reply.started": "2022-01-25T20:46:32.947074Z"
    },
    "papermill": {
     "duration": 0.2017,
     "end_time": "2022-01-26T01:26:53.349286",
     "exception": false,
     "start_time": "2022-01-26T01:26:53.147586",
     "status": "completed"
    },
    "tags": []
   },
   "outputs": [],
   "source": [
    "# This Python 3 environment comes with many helpful analytics libraries installed\n",
    "# It is defined by the kaggle/python Docker image: https://github.com/kaggle/docker-python\n",
    "# For example, here's several helpful packages to load\n",
    "\n",
    "import numpy as np # linear algebra\n",
    "import pandas as pd # data processing, CSV file I/O (e.g. pd.read_csv)\n",
    "\n",
    "# Input data files are available in the read-only \"../input/\" directory\n",
    "# For example, running this (by clicking run or pressing Shift+Enter) will list all files under the input directory\n",
    "\n",
    "import os\n",
    "for dirname, _, filenames in os.walk('/kaggle/input'):\n",
    "    for filename in filenames:\n",
    "        print(os.path.join(dirname, filename))\n",
    "\n",
    "# You can write up to 20GB to the current directory (/kaggle/working/) that gets preserved as output when you create a version using \"Save & Run All\" \n",
    "# You can also write temporary files to /kaggle/temp/, but they won't be saved outside of the current session"
   ]
  },
  {
   "cell_type": "code",
   "execution_count": 2,
   "id": "b942a452",
   "metadata": {
    "execution": {
     "iopub.execute_input": "2022-01-26T01:26:53.717055Z",
     "iopub.status.busy": "2022-01-26T01:26:53.716367Z",
     "iopub.status.idle": "2022-01-26T01:26:54.359195Z",
     "shell.execute_reply": "2022-01-26T01:26:54.359678Z",
     "shell.execute_reply.started": "2022-01-25T20:46:32.987369Z"
    },
    "papermill": {
     "duration": 0.827242,
     "end_time": "2022-01-26T01:26:54.359860",
     "exception": false,
     "start_time": "2022-01-26T01:26:53.532618",
     "status": "completed"
    },
    "tags": []
   },
   "outputs": [],
   "source": [
    "# Read the online file by the URL provides above, and assign it to variable \"df\"\n",
    "\n",
    "other_path = \"https://cf-courses-data.s3.us.cloud-object-storage.appdomain.cloud/IBMDeveloperSkillsNetwork-DA0101EN-SkillsNetwork/labs/Data%20files/auto.csv\"\n",
    "df = pd.read_csv(other_path, header=None)"
   ]
  },
  {
   "cell_type": "code",
   "execution_count": 3,
   "id": "b1871abc",
   "metadata": {
    "execution": {
     "iopub.execute_input": "2022-01-26T01:26:54.725948Z",
     "iopub.status.busy": "2022-01-26T01:26:54.725333Z",
     "iopub.status.idle": "2022-01-26T01:26:54.728692Z",
     "shell.execute_reply": "2022-01-26T01:26:54.728158Z",
     "shell.execute_reply.started": "2022-01-25T20:46:33.990403Z"
    },
    "papermill": {
     "duration": 0.187896,
     "end_time": "2022-01-26T01:26:54.728824",
     "exception": false,
     "start_time": "2022-01-26T01:26:54.540928",
     "status": "completed"
    },
    "tags": []
   },
   "outputs": [],
   "source": [
    "#After reading the dataset, \n",
    "#we can use the <code>dataframe.head(n) method to check the top n rows of the dataframe\n",
    "#where n is an integer. \n",
    "#Contrary , <code>dataframe.tail(n)</code> will show you the bottom n rows of the dataframe.\n"
   ]
  },
  {
   "cell_type": "code",
   "execution_count": 4,
   "id": "32c7de44",
   "metadata": {
    "execution": {
     "iopub.execute_input": "2022-01-26T01:26:55.108005Z",
     "iopub.status.busy": "2022-01-26T01:26:55.107344Z",
     "iopub.status.idle": "2022-01-26T01:26:55.136863Z",
     "shell.execute_reply": "2022-01-26T01:26:55.137376Z",
     "shell.execute_reply.started": "2022-01-25T20:46:33.996497Z"
    },
    "papermill": {
     "duration": 0.226863,
     "end_time": "2022-01-26T01:26:55.137552",
     "exception": false,
     "start_time": "2022-01-26T01:26:54.910689",
     "status": "completed"
    },
    "tags": []
   },
   "outputs": [
    {
     "data": {
      "text/html": [
       "<div>\n",
       "<style scoped>\n",
       "    .dataframe tbody tr th:only-of-type {\n",
       "        vertical-align: middle;\n",
       "    }\n",
       "\n",
       "    .dataframe tbody tr th {\n",
       "        vertical-align: top;\n",
       "    }\n",
       "\n",
       "    .dataframe thead th {\n",
       "        text-align: right;\n",
       "    }\n",
       "</style>\n",
       "<table border=\"1\" class=\"dataframe\">\n",
       "  <thead>\n",
       "    <tr style=\"text-align: right;\">\n",
       "      <th></th>\n",
       "      <th>0</th>\n",
       "      <th>1</th>\n",
       "      <th>2</th>\n",
       "      <th>3</th>\n",
       "      <th>4</th>\n",
       "      <th>5</th>\n",
       "      <th>6</th>\n",
       "      <th>7</th>\n",
       "      <th>8</th>\n",
       "      <th>9</th>\n",
       "      <th>...</th>\n",
       "      <th>16</th>\n",
       "      <th>17</th>\n",
       "      <th>18</th>\n",
       "      <th>19</th>\n",
       "      <th>20</th>\n",
       "      <th>21</th>\n",
       "      <th>22</th>\n",
       "      <th>23</th>\n",
       "      <th>24</th>\n",
       "      <th>25</th>\n",
       "    </tr>\n",
       "  </thead>\n",
       "  <tbody>\n",
       "    <tr>\n",
       "      <th>0</th>\n",
       "      <td>3</td>\n",
       "      <td>?</td>\n",
       "      <td>alfa-romero</td>\n",
       "      <td>gas</td>\n",
       "      <td>std</td>\n",
       "      <td>two</td>\n",
       "      <td>convertible</td>\n",
       "      <td>rwd</td>\n",
       "      <td>front</td>\n",
       "      <td>88.6</td>\n",
       "      <td>...</td>\n",
       "      <td>130</td>\n",
       "      <td>mpfi</td>\n",
       "      <td>3.47</td>\n",
       "      <td>2.68</td>\n",
       "      <td>9.0</td>\n",
       "      <td>111</td>\n",
       "      <td>5000</td>\n",
       "      <td>21</td>\n",
       "      <td>27</td>\n",
       "      <td>13495</td>\n",
       "    </tr>\n",
       "    <tr>\n",
       "      <th>1</th>\n",
       "      <td>3</td>\n",
       "      <td>?</td>\n",
       "      <td>alfa-romero</td>\n",
       "      <td>gas</td>\n",
       "      <td>std</td>\n",
       "      <td>two</td>\n",
       "      <td>convertible</td>\n",
       "      <td>rwd</td>\n",
       "      <td>front</td>\n",
       "      <td>88.6</td>\n",
       "      <td>...</td>\n",
       "      <td>130</td>\n",
       "      <td>mpfi</td>\n",
       "      <td>3.47</td>\n",
       "      <td>2.68</td>\n",
       "      <td>9.0</td>\n",
       "      <td>111</td>\n",
       "      <td>5000</td>\n",
       "      <td>21</td>\n",
       "      <td>27</td>\n",
       "      <td>16500</td>\n",
       "    </tr>\n",
       "    <tr>\n",
       "      <th>2</th>\n",
       "      <td>1</td>\n",
       "      <td>?</td>\n",
       "      <td>alfa-romero</td>\n",
       "      <td>gas</td>\n",
       "      <td>std</td>\n",
       "      <td>two</td>\n",
       "      <td>hatchback</td>\n",
       "      <td>rwd</td>\n",
       "      <td>front</td>\n",
       "      <td>94.5</td>\n",
       "      <td>...</td>\n",
       "      <td>152</td>\n",
       "      <td>mpfi</td>\n",
       "      <td>2.68</td>\n",
       "      <td>3.47</td>\n",
       "      <td>9.0</td>\n",
       "      <td>154</td>\n",
       "      <td>5000</td>\n",
       "      <td>19</td>\n",
       "      <td>26</td>\n",
       "      <td>16500</td>\n",
       "    </tr>\n",
       "    <tr>\n",
       "      <th>3</th>\n",
       "      <td>2</td>\n",
       "      <td>164</td>\n",
       "      <td>audi</td>\n",
       "      <td>gas</td>\n",
       "      <td>std</td>\n",
       "      <td>four</td>\n",
       "      <td>sedan</td>\n",
       "      <td>fwd</td>\n",
       "      <td>front</td>\n",
       "      <td>99.8</td>\n",
       "      <td>...</td>\n",
       "      <td>109</td>\n",
       "      <td>mpfi</td>\n",
       "      <td>3.19</td>\n",
       "      <td>3.40</td>\n",
       "      <td>10.0</td>\n",
       "      <td>102</td>\n",
       "      <td>5500</td>\n",
       "      <td>24</td>\n",
       "      <td>30</td>\n",
       "      <td>13950</td>\n",
       "    </tr>\n",
       "    <tr>\n",
       "      <th>4</th>\n",
       "      <td>2</td>\n",
       "      <td>164</td>\n",
       "      <td>audi</td>\n",
       "      <td>gas</td>\n",
       "      <td>std</td>\n",
       "      <td>four</td>\n",
       "      <td>sedan</td>\n",
       "      <td>4wd</td>\n",
       "      <td>front</td>\n",
       "      <td>99.4</td>\n",
       "      <td>...</td>\n",
       "      <td>136</td>\n",
       "      <td>mpfi</td>\n",
       "      <td>3.19</td>\n",
       "      <td>3.40</td>\n",
       "      <td>8.0</td>\n",
       "      <td>115</td>\n",
       "      <td>5500</td>\n",
       "      <td>18</td>\n",
       "      <td>22</td>\n",
       "      <td>17450</td>\n",
       "    </tr>\n",
       "  </tbody>\n",
       "</table>\n",
       "<p>5 rows × 26 columns</p>\n",
       "</div>"
      ],
      "text/plain": [
       "   0    1            2    3    4     5            6    7      8     9   ...  \\\n",
       "0   3    ?  alfa-romero  gas  std   two  convertible  rwd  front  88.6  ...   \n",
       "1   3    ?  alfa-romero  gas  std   two  convertible  rwd  front  88.6  ...   \n",
       "2   1    ?  alfa-romero  gas  std   two    hatchback  rwd  front  94.5  ...   \n",
       "3   2  164         audi  gas  std  four        sedan  fwd  front  99.8  ...   \n",
       "4   2  164         audi  gas  std  four        sedan  4wd  front  99.4  ...   \n",
       "\n",
       "    16    17    18    19    20   21    22  23  24     25  \n",
       "0  130  mpfi  3.47  2.68   9.0  111  5000  21  27  13495  \n",
       "1  130  mpfi  3.47  2.68   9.0  111  5000  21  27  16500  \n",
       "2  152  mpfi  2.68  3.47   9.0  154  5000  19  26  16500  \n",
       "3  109  mpfi  3.19  3.40  10.0  102  5500  24  30  13950  \n",
       "4  136  mpfi  3.19  3.40   8.0  115  5500  18  22  17450  \n",
       "\n",
       "[5 rows x 26 columns]"
      ]
     },
     "execution_count": 4,
     "metadata": {},
     "output_type": "execute_result"
    }
   ],
   "source": [
    "df.head()"
   ]
  },
  {
   "cell_type": "code",
   "execution_count": 5,
   "id": "8f01a6ac",
   "metadata": {
    "execution": {
     "iopub.execute_input": "2022-01-26T01:26:55.534993Z",
     "iopub.status.busy": "2022-01-26T01:26:55.511911Z",
     "iopub.status.idle": "2022-01-26T01:26:55.537429Z",
     "shell.execute_reply": "2022-01-26T01:26:55.537992Z",
     "shell.execute_reply.started": "2022-01-25T20:46:34.045933Z"
    },
    "papermill": {
     "duration": 0.216657,
     "end_time": "2022-01-26T01:26:55.538160",
     "exception": false,
     "start_time": "2022-01-26T01:26:55.321503",
     "status": "completed"
    },
    "tags": []
   },
   "outputs": [
    {
     "data": {
      "text/html": [
       "<div>\n",
       "<style scoped>\n",
       "    .dataframe tbody tr th:only-of-type {\n",
       "        vertical-align: middle;\n",
       "    }\n",
       "\n",
       "    .dataframe tbody tr th {\n",
       "        vertical-align: top;\n",
       "    }\n",
       "\n",
       "    .dataframe thead th {\n",
       "        text-align: right;\n",
       "    }\n",
       "</style>\n",
       "<table border=\"1\" class=\"dataframe\">\n",
       "  <thead>\n",
       "    <tr style=\"text-align: right;\">\n",
       "      <th></th>\n",
       "      <th>0</th>\n",
       "      <th>1</th>\n",
       "      <th>2</th>\n",
       "      <th>3</th>\n",
       "      <th>4</th>\n",
       "      <th>5</th>\n",
       "      <th>6</th>\n",
       "      <th>7</th>\n",
       "      <th>8</th>\n",
       "      <th>9</th>\n",
       "      <th>...</th>\n",
       "      <th>16</th>\n",
       "      <th>17</th>\n",
       "      <th>18</th>\n",
       "      <th>19</th>\n",
       "      <th>20</th>\n",
       "      <th>21</th>\n",
       "      <th>22</th>\n",
       "      <th>23</th>\n",
       "      <th>24</th>\n",
       "      <th>25</th>\n",
       "    </tr>\n",
       "  </thead>\n",
       "  <tbody>\n",
       "    <tr>\n",
       "      <th>195</th>\n",
       "      <td>-1</td>\n",
       "      <td>74</td>\n",
       "      <td>volvo</td>\n",
       "      <td>gas</td>\n",
       "      <td>std</td>\n",
       "      <td>four</td>\n",
       "      <td>wagon</td>\n",
       "      <td>rwd</td>\n",
       "      <td>front</td>\n",
       "      <td>104.3</td>\n",
       "      <td>...</td>\n",
       "      <td>141</td>\n",
       "      <td>mpfi</td>\n",
       "      <td>3.78</td>\n",
       "      <td>3.15</td>\n",
       "      <td>9.5</td>\n",
       "      <td>114</td>\n",
       "      <td>5400</td>\n",
       "      <td>23</td>\n",
       "      <td>28</td>\n",
       "      <td>13415</td>\n",
       "    </tr>\n",
       "    <tr>\n",
       "      <th>196</th>\n",
       "      <td>-2</td>\n",
       "      <td>103</td>\n",
       "      <td>volvo</td>\n",
       "      <td>gas</td>\n",
       "      <td>std</td>\n",
       "      <td>four</td>\n",
       "      <td>sedan</td>\n",
       "      <td>rwd</td>\n",
       "      <td>front</td>\n",
       "      <td>104.3</td>\n",
       "      <td>...</td>\n",
       "      <td>141</td>\n",
       "      <td>mpfi</td>\n",
       "      <td>3.78</td>\n",
       "      <td>3.15</td>\n",
       "      <td>9.5</td>\n",
       "      <td>114</td>\n",
       "      <td>5400</td>\n",
       "      <td>24</td>\n",
       "      <td>28</td>\n",
       "      <td>15985</td>\n",
       "    </tr>\n",
       "    <tr>\n",
       "      <th>197</th>\n",
       "      <td>-1</td>\n",
       "      <td>74</td>\n",
       "      <td>volvo</td>\n",
       "      <td>gas</td>\n",
       "      <td>std</td>\n",
       "      <td>four</td>\n",
       "      <td>wagon</td>\n",
       "      <td>rwd</td>\n",
       "      <td>front</td>\n",
       "      <td>104.3</td>\n",
       "      <td>...</td>\n",
       "      <td>141</td>\n",
       "      <td>mpfi</td>\n",
       "      <td>3.78</td>\n",
       "      <td>3.15</td>\n",
       "      <td>9.5</td>\n",
       "      <td>114</td>\n",
       "      <td>5400</td>\n",
       "      <td>24</td>\n",
       "      <td>28</td>\n",
       "      <td>16515</td>\n",
       "    </tr>\n",
       "    <tr>\n",
       "      <th>198</th>\n",
       "      <td>-2</td>\n",
       "      <td>103</td>\n",
       "      <td>volvo</td>\n",
       "      <td>gas</td>\n",
       "      <td>turbo</td>\n",
       "      <td>four</td>\n",
       "      <td>sedan</td>\n",
       "      <td>rwd</td>\n",
       "      <td>front</td>\n",
       "      <td>104.3</td>\n",
       "      <td>...</td>\n",
       "      <td>130</td>\n",
       "      <td>mpfi</td>\n",
       "      <td>3.62</td>\n",
       "      <td>3.15</td>\n",
       "      <td>7.5</td>\n",
       "      <td>162</td>\n",
       "      <td>5100</td>\n",
       "      <td>17</td>\n",
       "      <td>22</td>\n",
       "      <td>18420</td>\n",
       "    </tr>\n",
       "    <tr>\n",
       "      <th>199</th>\n",
       "      <td>-1</td>\n",
       "      <td>74</td>\n",
       "      <td>volvo</td>\n",
       "      <td>gas</td>\n",
       "      <td>turbo</td>\n",
       "      <td>four</td>\n",
       "      <td>wagon</td>\n",
       "      <td>rwd</td>\n",
       "      <td>front</td>\n",
       "      <td>104.3</td>\n",
       "      <td>...</td>\n",
       "      <td>130</td>\n",
       "      <td>mpfi</td>\n",
       "      <td>3.62</td>\n",
       "      <td>3.15</td>\n",
       "      <td>7.5</td>\n",
       "      <td>162</td>\n",
       "      <td>5100</td>\n",
       "      <td>17</td>\n",
       "      <td>22</td>\n",
       "      <td>18950</td>\n",
       "    </tr>\n",
       "    <tr>\n",
       "      <th>200</th>\n",
       "      <td>-1</td>\n",
       "      <td>95</td>\n",
       "      <td>volvo</td>\n",
       "      <td>gas</td>\n",
       "      <td>std</td>\n",
       "      <td>four</td>\n",
       "      <td>sedan</td>\n",
       "      <td>rwd</td>\n",
       "      <td>front</td>\n",
       "      <td>109.1</td>\n",
       "      <td>...</td>\n",
       "      <td>141</td>\n",
       "      <td>mpfi</td>\n",
       "      <td>3.78</td>\n",
       "      <td>3.15</td>\n",
       "      <td>9.5</td>\n",
       "      <td>114</td>\n",
       "      <td>5400</td>\n",
       "      <td>23</td>\n",
       "      <td>28</td>\n",
       "      <td>16845</td>\n",
       "    </tr>\n",
       "    <tr>\n",
       "      <th>201</th>\n",
       "      <td>-1</td>\n",
       "      <td>95</td>\n",
       "      <td>volvo</td>\n",
       "      <td>gas</td>\n",
       "      <td>turbo</td>\n",
       "      <td>four</td>\n",
       "      <td>sedan</td>\n",
       "      <td>rwd</td>\n",
       "      <td>front</td>\n",
       "      <td>109.1</td>\n",
       "      <td>...</td>\n",
       "      <td>141</td>\n",
       "      <td>mpfi</td>\n",
       "      <td>3.78</td>\n",
       "      <td>3.15</td>\n",
       "      <td>8.7</td>\n",
       "      <td>160</td>\n",
       "      <td>5300</td>\n",
       "      <td>19</td>\n",
       "      <td>25</td>\n",
       "      <td>19045</td>\n",
       "    </tr>\n",
       "    <tr>\n",
       "      <th>202</th>\n",
       "      <td>-1</td>\n",
       "      <td>95</td>\n",
       "      <td>volvo</td>\n",
       "      <td>gas</td>\n",
       "      <td>std</td>\n",
       "      <td>four</td>\n",
       "      <td>sedan</td>\n",
       "      <td>rwd</td>\n",
       "      <td>front</td>\n",
       "      <td>109.1</td>\n",
       "      <td>...</td>\n",
       "      <td>173</td>\n",
       "      <td>mpfi</td>\n",
       "      <td>3.58</td>\n",
       "      <td>2.87</td>\n",
       "      <td>8.8</td>\n",
       "      <td>134</td>\n",
       "      <td>5500</td>\n",
       "      <td>18</td>\n",
       "      <td>23</td>\n",
       "      <td>21485</td>\n",
       "    </tr>\n",
       "    <tr>\n",
       "      <th>203</th>\n",
       "      <td>-1</td>\n",
       "      <td>95</td>\n",
       "      <td>volvo</td>\n",
       "      <td>diesel</td>\n",
       "      <td>turbo</td>\n",
       "      <td>four</td>\n",
       "      <td>sedan</td>\n",
       "      <td>rwd</td>\n",
       "      <td>front</td>\n",
       "      <td>109.1</td>\n",
       "      <td>...</td>\n",
       "      <td>145</td>\n",
       "      <td>idi</td>\n",
       "      <td>3.01</td>\n",
       "      <td>3.40</td>\n",
       "      <td>23.0</td>\n",
       "      <td>106</td>\n",
       "      <td>4800</td>\n",
       "      <td>26</td>\n",
       "      <td>27</td>\n",
       "      <td>22470</td>\n",
       "    </tr>\n",
       "    <tr>\n",
       "      <th>204</th>\n",
       "      <td>-1</td>\n",
       "      <td>95</td>\n",
       "      <td>volvo</td>\n",
       "      <td>gas</td>\n",
       "      <td>turbo</td>\n",
       "      <td>four</td>\n",
       "      <td>sedan</td>\n",
       "      <td>rwd</td>\n",
       "      <td>front</td>\n",
       "      <td>109.1</td>\n",
       "      <td>...</td>\n",
       "      <td>141</td>\n",
       "      <td>mpfi</td>\n",
       "      <td>3.78</td>\n",
       "      <td>3.15</td>\n",
       "      <td>9.5</td>\n",
       "      <td>114</td>\n",
       "      <td>5400</td>\n",
       "      <td>19</td>\n",
       "      <td>25</td>\n",
       "      <td>22625</td>\n",
       "    </tr>\n",
       "  </tbody>\n",
       "</table>\n",
       "<p>10 rows × 26 columns</p>\n",
       "</div>"
      ],
      "text/plain": [
       "     0    1      2       3      4     5      6    7      8      9   ...   16  \\\n",
       "195  -1   74  volvo     gas    std  four  wagon  rwd  front  104.3  ...  141   \n",
       "196  -2  103  volvo     gas    std  four  sedan  rwd  front  104.3  ...  141   \n",
       "197  -1   74  volvo     gas    std  four  wagon  rwd  front  104.3  ...  141   \n",
       "198  -2  103  volvo     gas  turbo  four  sedan  rwd  front  104.3  ...  130   \n",
       "199  -1   74  volvo     gas  turbo  four  wagon  rwd  front  104.3  ...  130   \n",
       "200  -1   95  volvo     gas    std  four  sedan  rwd  front  109.1  ...  141   \n",
       "201  -1   95  volvo     gas  turbo  four  sedan  rwd  front  109.1  ...  141   \n",
       "202  -1   95  volvo     gas    std  four  sedan  rwd  front  109.1  ...  173   \n",
       "203  -1   95  volvo  diesel  turbo  four  sedan  rwd  front  109.1  ...  145   \n",
       "204  -1   95  volvo     gas  turbo  four  sedan  rwd  front  109.1  ...  141   \n",
       "\n",
       "       17    18    19    20   21    22  23  24     25  \n",
       "195  mpfi  3.78  3.15   9.5  114  5400  23  28  13415  \n",
       "196  mpfi  3.78  3.15   9.5  114  5400  24  28  15985  \n",
       "197  mpfi  3.78  3.15   9.5  114  5400  24  28  16515  \n",
       "198  mpfi  3.62  3.15   7.5  162  5100  17  22  18420  \n",
       "199  mpfi  3.62  3.15   7.5  162  5100  17  22  18950  \n",
       "200  mpfi  3.78  3.15   9.5  114  5400  23  28  16845  \n",
       "201  mpfi  3.78  3.15   8.7  160  5300  19  25  19045  \n",
       "202  mpfi  3.58  2.87   8.8  134  5500  18  23  21485  \n",
       "203   idi  3.01  3.40  23.0  106  4800  26  27  22470  \n",
       "204  mpfi  3.78  3.15   9.5  114  5400  19  25  22625  \n",
       "\n",
       "[10 rows x 26 columns]"
      ]
     },
     "execution_count": 5,
     "metadata": {},
     "output_type": "execute_result"
    }
   ],
   "source": [
    "df.tail(10)"
   ]
  },
  {
   "cell_type": "code",
   "execution_count": 6,
   "id": "b074f5ae",
   "metadata": {
    "execution": {
     "iopub.execute_input": "2022-01-26T01:26:55.906571Z",
     "iopub.status.busy": "2022-01-26T01:26:55.905848Z",
     "iopub.status.idle": "2022-01-26T01:26:55.908637Z",
     "shell.execute_reply": "2022-01-26T01:26:55.909229Z",
     "shell.execute_reply.started": "2022-01-25T20:46:34.081834Z"
    },
    "papermill": {
     "duration": 0.189218,
     "end_time": "2022-01-26T01:26:55.909388",
     "exception": false,
     "start_time": "2022-01-26T01:26:55.720170",
     "status": "completed"
    },
    "tags": []
   },
   "outputs": [],
   "source": [
    "#Take a look at our dataset. Pandas automatically set the header with an integer starting from 0.\n",
    "#To better describe our data, we can introduce a header.\n",
    "#Thus, we have to add headers manually.\n"
   ]
  },
  {
   "cell_type": "code",
   "execution_count": 7,
   "id": "5d6704fa",
   "metadata": {
    "execution": {
     "iopub.execute_input": "2022-01-26T01:26:56.278714Z",
     "iopub.status.busy": "2022-01-26T01:26:56.278109Z",
     "iopub.status.idle": "2022-01-26T01:26:56.284491Z",
     "shell.execute_reply": "2022-01-26T01:26:56.284993Z",
     "shell.execute_reply.started": "2022-01-25T20:46:34.088966Z"
    },
    "papermill": {
     "duration": 0.194149,
     "end_time": "2022-01-26T01:26:56.285172",
     "exception": false,
     "start_time": "2022-01-26T01:26:56.091023",
     "status": "completed"
    },
    "tags": []
   },
   "outputs": [
    {
     "name": "stdout",
     "output_type": "stream",
     "text": [
      "headers\n",
      " ['symboling', 'normalized-losses', 'make', 'fuel-type', 'aspiration', 'num-of-doors', 'body-style', 'drive-wheels', 'engine-location', 'wheel-base', 'length', 'width', 'height', 'curb-weight', 'engine-type', 'num-of-cylinders', 'engine-size', 'fuel-system', 'bore', 'stroke', 'compression-ratio', 'horsepower', 'peak-rpm', 'city-mpg', 'highway-mpg', 'price']\n"
     ]
    }
   ],
   "source": [
    "#First, we create a list \"headers\" that include all column names in order\n",
    "\n",
    "headers = [\"symboling\",\"normalized-losses\",\"make\",\"fuel-type\",\"aspiration\", \"num-of-doors\",\"body-style\",\n",
    "         \"drive-wheels\",\"engine-location\",\"wheel-base\", \"length\",\"width\",\"height\",\"curb-weight\",\"engine-type\",\n",
    "         \"num-of-cylinders\", \"engine-size\",\"fuel-system\",\"bore\",\"stroke\",\"compression-ratio\",\"horsepower\",\n",
    "         \"peak-rpm\",\"city-mpg\",\"highway-mpg\",\"price\"]\n",
    "\n",
    "print(\"headers\\n\", headers)"
   ]
  },
  {
   "cell_type": "code",
   "execution_count": 8,
   "id": "ce4be6d5",
   "metadata": {
    "execution": {
     "iopub.execute_input": "2022-01-26T01:26:56.656967Z",
     "iopub.status.busy": "2022-01-26T01:26:56.656032Z",
     "iopub.status.idle": "2022-01-26T01:26:56.683313Z",
     "shell.execute_reply": "2022-01-26T01:26:56.683789Z",
     "shell.execute_reply.started": "2022-01-25T20:46:34.100821Z"
    },
    "papermill": {
     "duration": 0.213623,
     "end_time": "2022-01-26T01:26:56.683998",
     "exception": false,
     "start_time": "2022-01-26T01:26:56.470375",
     "status": "completed"
    },
    "tags": []
   },
   "outputs": [
    {
     "data": {
      "text/html": [
       "<div>\n",
       "<style scoped>\n",
       "    .dataframe tbody tr th:only-of-type {\n",
       "        vertical-align: middle;\n",
       "    }\n",
       "\n",
       "    .dataframe tbody tr th {\n",
       "        vertical-align: top;\n",
       "    }\n",
       "\n",
       "    .dataframe thead th {\n",
       "        text-align: right;\n",
       "    }\n",
       "</style>\n",
       "<table border=\"1\" class=\"dataframe\">\n",
       "  <thead>\n",
       "    <tr style=\"text-align: right;\">\n",
       "      <th></th>\n",
       "      <th>symboling</th>\n",
       "      <th>normalized-losses</th>\n",
       "      <th>make</th>\n",
       "      <th>fuel-type</th>\n",
       "      <th>aspiration</th>\n",
       "      <th>num-of-doors</th>\n",
       "      <th>body-style</th>\n",
       "      <th>drive-wheels</th>\n",
       "      <th>engine-location</th>\n",
       "      <th>wheel-base</th>\n",
       "      <th>...</th>\n",
       "      <th>engine-size</th>\n",
       "      <th>fuel-system</th>\n",
       "      <th>bore</th>\n",
       "      <th>stroke</th>\n",
       "      <th>compression-ratio</th>\n",
       "      <th>horsepower</th>\n",
       "      <th>peak-rpm</th>\n",
       "      <th>city-mpg</th>\n",
       "      <th>highway-mpg</th>\n",
       "      <th>price</th>\n",
       "    </tr>\n",
       "  </thead>\n",
       "  <tbody>\n",
       "    <tr>\n",
       "      <th>0</th>\n",
       "      <td>3</td>\n",
       "      <td>?</td>\n",
       "      <td>alfa-romero</td>\n",
       "      <td>gas</td>\n",
       "      <td>std</td>\n",
       "      <td>two</td>\n",
       "      <td>convertible</td>\n",
       "      <td>rwd</td>\n",
       "      <td>front</td>\n",
       "      <td>88.6</td>\n",
       "      <td>...</td>\n",
       "      <td>130</td>\n",
       "      <td>mpfi</td>\n",
       "      <td>3.47</td>\n",
       "      <td>2.68</td>\n",
       "      <td>9.0</td>\n",
       "      <td>111</td>\n",
       "      <td>5000</td>\n",
       "      <td>21</td>\n",
       "      <td>27</td>\n",
       "      <td>13495</td>\n",
       "    </tr>\n",
       "    <tr>\n",
       "      <th>1</th>\n",
       "      <td>3</td>\n",
       "      <td>?</td>\n",
       "      <td>alfa-romero</td>\n",
       "      <td>gas</td>\n",
       "      <td>std</td>\n",
       "      <td>two</td>\n",
       "      <td>convertible</td>\n",
       "      <td>rwd</td>\n",
       "      <td>front</td>\n",
       "      <td>88.6</td>\n",
       "      <td>...</td>\n",
       "      <td>130</td>\n",
       "      <td>mpfi</td>\n",
       "      <td>3.47</td>\n",
       "      <td>2.68</td>\n",
       "      <td>9.0</td>\n",
       "      <td>111</td>\n",
       "      <td>5000</td>\n",
       "      <td>21</td>\n",
       "      <td>27</td>\n",
       "      <td>16500</td>\n",
       "    </tr>\n",
       "    <tr>\n",
       "      <th>2</th>\n",
       "      <td>1</td>\n",
       "      <td>?</td>\n",
       "      <td>alfa-romero</td>\n",
       "      <td>gas</td>\n",
       "      <td>std</td>\n",
       "      <td>two</td>\n",
       "      <td>hatchback</td>\n",
       "      <td>rwd</td>\n",
       "      <td>front</td>\n",
       "      <td>94.5</td>\n",
       "      <td>...</td>\n",
       "      <td>152</td>\n",
       "      <td>mpfi</td>\n",
       "      <td>2.68</td>\n",
       "      <td>3.47</td>\n",
       "      <td>9.0</td>\n",
       "      <td>154</td>\n",
       "      <td>5000</td>\n",
       "      <td>19</td>\n",
       "      <td>26</td>\n",
       "      <td>16500</td>\n",
       "    </tr>\n",
       "    <tr>\n",
       "      <th>3</th>\n",
       "      <td>2</td>\n",
       "      <td>164</td>\n",
       "      <td>audi</td>\n",
       "      <td>gas</td>\n",
       "      <td>std</td>\n",
       "      <td>four</td>\n",
       "      <td>sedan</td>\n",
       "      <td>fwd</td>\n",
       "      <td>front</td>\n",
       "      <td>99.8</td>\n",
       "      <td>...</td>\n",
       "      <td>109</td>\n",
       "      <td>mpfi</td>\n",
       "      <td>3.19</td>\n",
       "      <td>3.40</td>\n",
       "      <td>10.0</td>\n",
       "      <td>102</td>\n",
       "      <td>5500</td>\n",
       "      <td>24</td>\n",
       "      <td>30</td>\n",
       "      <td>13950</td>\n",
       "    </tr>\n",
       "    <tr>\n",
       "      <th>4</th>\n",
       "      <td>2</td>\n",
       "      <td>164</td>\n",
       "      <td>audi</td>\n",
       "      <td>gas</td>\n",
       "      <td>std</td>\n",
       "      <td>four</td>\n",
       "      <td>sedan</td>\n",
       "      <td>4wd</td>\n",
       "      <td>front</td>\n",
       "      <td>99.4</td>\n",
       "      <td>...</td>\n",
       "      <td>136</td>\n",
       "      <td>mpfi</td>\n",
       "      <td>3.19</td>\n",
       "      <td>3.40</td>\n",
       "      <td>8.0</td>\n",
       "      <td>115</td>\n",
       "      <td>5500</td>\n",
       "      <td>18</td>\n",
       "      <td>22</td>\n",
       "      <td>17450</td>\n",
       "    </tr>\n",
       "    <tr>\n",
       "      <th>5</th>\n",
       "      <td>2</td>\n",
       "      <td>?</td>\n",
       "      <td>audi</td>\n",
       "      <td>gas</td>\n",
       "      <td>std</td>\n",
       "      <td>two</td>\n",
       "      <td>sedan</td>\n",
       "      <td>fwd</td>\n",
       "      <td>front</td>\n",
       "      <td>99.8</td>\n",
       "      <td>...</td>\n",
       "      <td>136</td>\n",
       "      <td>mpfi</td>\n",
       "      <td>3.19</td>\n",
       "      <td>3.40</td>\n",
       "      <td>8.5</td>\n",
       "      <td>110</td>\n",
       "      <td>5500</td>\n",
       "      <td>19</td>\n",
       "      <td>25</td>\n",
       "      <td>15250</td>\n",
       "    </tr>\n",
       "    <tr>\n",
       "      <th>6</th>\n",
       "      <td>1</td>\n",
       "      <td>158</td>\n",
       "      <td>audi</td>\n",
       "      <td>gas</td>\n",
       "      <td>std</td>\n",
       "      <td>four</td>\n",
       "      <td>sedan</td>\n",
       "      <td>fwd</td>\n",
       "      <td>front</td>\n",
       "      <td>105.8</td>\n",
       "      <td>...</td>\n",
       "      <td>136</td>\n",
       "      <td>mpfi</td>\n",
       "      <td>3.19</td>\n",
       "      <td>3.40</td>\n",
       "      <td>8.5</td>\n",
       "      <td>110</td>\n",
       "      <td>5500</td>\n",
       "      <td>19</td>\n",
       "      <td>25</td>\n",
       "      <td>17710</td>\n",
       "    </tr>\n",
       "    <tr>\n",
       "      <th>7</th>\n",
       "      <td>1</td>\n",
       "      <td>?</td>\n",
       "      <td>audi</td>\n",
       "      <td>gas</td>\n",
       "      <td>std</td>\n",
       "      <td>four</td>\n",
       "      <td>wagon</td>\n",
       "      <td>fwd</td>\n",
       "      <td>front</td>\n",
       "      <td>105.8</td>\n",
       "      <td>...</td>\n",
       "      <td>136</td>\n",
       "      <td>mpfi</td>\n",
       "      <td>3.19</td>\n",
       "      <td>3.40</td>\n",
       "      <td>8.5</td>\n",
       "      <td>110</td>\n",
       "      <td>5500</td>\n",
       "      <td>19</td>\n",
       "      <td>25</td>\n",
       "      <td>18920</td>\n",
       "    </tr>\n",
       "    <tr>\n",
       "      <th>8</th>\n",
       "      <td>1</td>\n",
       "      <td>158</td>\n",
       "      <td>audi</td>\n",
       "      <td>gas</td>\n",
       "      <td>turbo</td>\n",
       "      <td>four</td>\n",
       "      <td>sedan</td>\n",
       "      <td>fwd</td>\n",
       "      <td>front</td>\n",
       "      <td>105.8</td>\n",
       "      <td>...</td>\n",
       "      <td>131</td>\n",
       "      <td>mpfi</td>\n",
       "      <td>3.13</td>\n",
       "      <td>3.40</td>\n",
       "      <td>8.3</td>\n",
       "      <td>140</td>\n",
       "      <td>5500</td>\n",
       "      <td>17</td>\n",
       "      <td>20</td>\n",
       "      <td>23875</td>\n",
       "    </tr>\n",
       "    <tr>\n",
       "      <th>9</th>\n",
       "      <td>0</td>\n",
       "      <td>?</td>\n",
       "      <td>audi</td>\n",
       "      <td>gas</td>\n",
       "      <td>turbo</td>\n",
       "      <td>two</td>\n",
       "      <td>hatchback</td>\n",
       "      <td>4wd</td>\n",
       "      <td>front</td>\n",
       "      <td>99.5</td>\n",
       "      <td>...</td>\n",
       "      <td>131</td>\n",
       "      <td>mpfi</td>\n",
       "      <td>3.13</td>\n",
       "      <td>3.40</td>\n",
       "      <td>7.0</td>\n",
       "      <td>160</td>\n",
       "      <td>5500</td>\n",
       "      <td>16</td>\n",
       "      <td>22</td>\n",
       "      <td>?</td>\n",
       "    </tr>\n",
       "  </tbody>\n",
       "</table>\n",
       "<p>10 rows × 26 columns</p>\n",
       "</div>"
      ],
      "text/plain": [
       "   symboling normalized-losses         make fuel-type aspiration num-of-doors  \\\n",
       "0          3                 ?  alfa-romero       gas        std          two   \n",
       "1          3                 ?  alfa-romero       gas        std          two   \n",
       "2          1                 ?  alfa-romero       gas        std          two   \n",
       "3          2               164         audi       gas        std         four   \n",
       "4          2               164         audi       gas        std         four   \n",
       "5          2                 ?         audi       gas        std          two   \n",
       "6          1               158         audi       gas        std         four   \n",
       "7          1                 ?         audi       gas        std         four   \n",
       "8          1               158         audi       gas      turbo         four   \n",
       "9          0                 ?         audi       gas      turbo          two   \n",
       "\n",
       "    body-style drive-wheels engine-location  wheel-base  ...  engine-size  \\\n",
       "0  convertible          rwd           front        88.6  ...          130   \n",
       "1  convertible          rwd           front        88.6  ...          130   \n",
       "2    hatchback          rwd           front        94.5  ...          152   \n",
       "3        sedan          fwd           front        99.8  ...          109   \n",
       "4        sedan          4wd           front        99.4  ...          136   \n",
       "5        sedan          fwd           front        99.8  ...          136   \n",
       "6        sedan          fwd           front       105.8  ...          136   \n",
       "7        wagon          fwd           front       105.8  ...          136   \n",
       "8        sedan          fwd           front       105.8  ...          131   \n",
       "9    hatchback          4wd           front        99.5  ...          131   \n",
       "\n",
       "   fuel-system  bore  stroke compression-ratio horsepower  peak-rpm city-mpg  \\\n",
       "0         mpfi  3.47    2.68               9.0        111      5000       21   \n",
       "1         mpfi  3.47    2.68               9.0        111      5000       21   \n",
       "2         mpfi  2.68    3.47               9.0        154      5000       19   \n",
       "3         mpfi  3.19    3.40              10.0        102      5500       24   \n",
       "4         mpfi  3.19    3.40               8.0        115      5500       18   \n",
       "5         mpfi  3.19    3.40               8.5        110      5500       19   \n",
       "6         mpfi  3.19    3.40               8.5        110      5500       19   \n",
       "7         mpfi  3.19    3.40               8.5        110      5500       19   \n",
       "8         mpfi  3.13    3.40               8.3        140      5500       17   \n",
       "9         mpfi  3.13    3.40               7.0        160      5500       16   \n",
       "\n",
       "  highway-mpg  price  \n",
       "0          27  13495  \n",
       "1          27  16500  \n",
       "2          26  16500  \n",
       "3          30  13950  \n",
       "4          22  17450  \n",
       "5          25  15250  \n",
       "6          25  17710  \n",
       "7          25  18920  \n",
       "8          20  23875  \n",
       "9          22      ?  \n",
       "\n",
       "[10 rows x 26 columns]"
      ]
     },
     "execution_count": 8,
     "metadata": {},
     "output_type": "execute_result"
    }
   ],
   "source": [
    "#Then, we use <code>dataframe.columns = headers to replace the headers with the list we created\n",
    "\n",
    "df.columns = headers\n",
    "df.head(10)"
   ]
  },
  {
   "cell_type": "code",
   "execution_count": 9,
   "id": "faf96657",
   "metadata": {
    "execution": {
     "iopub.execute_input": "2022-01-26T01:26:57.054796Z",
     "iopub.status.busy": "2022-01-26T01:26:57.054190Z",
     "iopub.status.idle": "2022-01-26T01:26:57.081438Z",
     "shell.execute_reply": "2022-01-26T01:26:57.080888Z",
     "shell.execute_reply.started": "2022-01-25T20:46:34.142044Z"
    },
    "papermill": {
     "duration": 0.213809,
     "end_time": "2022-01-26T01:26:57.081574",
     "exception": false,
     "start_time": "2022-01-26T01:26:56.867765",
     "status": "completed"
    },
    "tags": []
   },
   "outputs": [
    {
     "data": {
      "text/html": [
       "<div>\n",
       "<style scoped>\n",
       "    .dataframe tbody tr th:only-of-type {\n",
       "        vertical-align: middle;\n",
       "    }\n",
       "\n",
       "    .dataframe tbody tr th {\n",
       "        vertical-align: top;\n",
       "    }\n",
       "\n",
       "    .dataframe thead th {\n",
       "        text-align: right;\n",
       "    }\n",
       "</style>\n",
       "<table border=\"1\" class=\"dataframe\">\n",
       "  <thead>\n",
       "    <tr style=\"text-align: right;\">\n",
       "      <th></th>\n",
       "      <th>symboling</th>\n",
       "      <th>normalized-losses</th>\n",
       "      <th>make</th>\n",
       "      <th>fuel-type</th>\n",
       "      <th>aspiration</th>\n",
       "      <th>num-of-doors</th>\n",
       "      <th>body-style</th>\n",
       "      <th>drive-wheels</th>\n",
       "      <th>engine-location</th>\n",
       "      <th>wheel-base</th>\n",
       "      <th>...</th>\n",
       "      <th>engine-size</th>\n",
       "      <th>fuel-system</th>\n",
       "      <th>bore</th>\n",
       "      <th>stroke</th>\n",
       "      <th>compression-ratio</th>\n",
       "      <th>horsepower</th>\n",
       "      <th>peak-rpm</th>\n",
       "      <th>city-mpg</th>\n",
       "      <th>highway-mpg</th>\n",
       "      <th>price</th>\n",
       "    </tr>\n",
       "  </thead>\n",
       "  <tbody>\n",
       "    <tr>\n",
       "      <th>0</th>\n",
       "      <td>3</td>\n",
       "      <td>NaN</td>\n",
       "      <td>alfa-romero</td>\n",
       "      <td>gas</td>\n",
       "      <td>std</td>\n",
       "      <td>two</td>\n",
       "      <td>convertible</td>\n",
       "      <td>rwd</td>\n",
       "      <td>front</td>\n",
       "      <td>88.6</td>\n",
       "      <td>...</td>\n",
       "      <td>130</td>\n",
       "      <td>mpfi</td>\n",
       "      <td>3.47</td>\n",
       "      <td>2.68</td>\n",
       "      <td>9.0</td>\n",
       "      <td>111</td>\n",
       "      <td>5000</td>\n",
       "      <td>21</td>\n",
       "      <td>27</td>\n",
       "      <td>13495</td>\n",
       "    </tr>\n",
       "    <tr>\n",
       "      <th>1</th>\n",
       "      <td>3</td>\n",
       "      <td>NaN</td>\n",
       "      <td>alfa-romero</td>\n",
       "      <td>gas</td>\n",
       "      <td>std</td>\n",
       "      <td>two</td>\n",
       "      <td>convertible</td>\n",
       "      <td>rwd</td>\n",
       "      <td>front</td>\n",
       "      <td>88.6</td>\n",
       "      <td>...</td>\n",
       "      <td>130</td>\n",
       "      <td>mpfi</td>\n",
       "      <td>3.47</td>\n",
       "      <td>2.68</td>\n",
       "      <td>9.0</td>\n",
       "      <td>111</td>\n",
       "      <td>5000</td>\n",
       "      <td>21</td>\n",
       "      <td>27</td>\n",
       "      <td>16500</td>\n",
       "    </tr>\n",
       "    <tr>\n",
       "      <th>2</th>\n",
       "      <td>1</td>\n",
       "      <td>NaN</td>\n",
       "      <td>alfa-romero</td>\n",
       "      <td>gas</td>\n",
       "      <td>std</td>\n",
       "      <td>two</td>\n",
       "      <td>hatchback</td>\n",
       "      <td>rwd</td>\n",
       "      <td>front</td>\n",
       "      <td>94.5</td>\n",
       "      <td>...</td>\n",
       "      <td>152</td>\n",
       "      <td>mpfi</td>\n",
       "      <td>2.68</td>\n",
       "      <td>3.47</td>\n",
       "      <td>9.0</td>\n",
       "      <td>154</td>\n",
       "      <td>5000</td>\n",
       "      <td>19</td>\n",
       "      <td>26</td>\n",
       "      <td>16500</td>\n",
       "    </tr>\n",
       "    <tr>\n",
       "      <th>3</th>\n",
       "      <td>2</td>\n",
       "      <td>164</td>\n",
       "      <td>audi</td>\n",
       "      <td>gas</td>\n",
       "      <td>std</td>\n",
       "      <td>four</td>\n",
       "      <td>sedan</td>\n",
       "      <td>fwd</td>\n",
       "      <td>front</td>\n",
       "      <td>99.8</td>\n",
       "      <td>...</td>\n",
       "      <td>109</td>\n",
       "      <td>mpfi</td>\n",
       "      <td>3.19</td>\n",
       "      <td>3.40</td>\n",
       "      <td>10.0</td>\n",
       "      <td>102</td>\n",
       "      <td>5500</td>\n",
       "      <td>24</td>\n",
       "      <td>30</td>\n",
       "      <td>13950</td>\n",
       "    </tr>\n",
       "    <tr>\n",
       "      <th>4</th>\n",
       "      <td>2</td>\n",
       "      <td>164</td>\n",
       "      <td>audi</td>\n",
       "      <td>gas</td>\n",
       "      <td>std</td>\n",
       "      <td>four</td>\n",
       "      <td>sedan</td>\n",
       "      <td>4wd</td>\n",
       "      <td>front</td>\n",
       "      <td>99.4</td>\n",
       "      <td>...</td>\n",
       "      <td>136</td>\n",
       "      <td>mpfi</td>\n",
       "      <td>3.19</td>\n",
       "      <td>3.40</td>\n",
       "      <td>8.0</td>\n",
       "      <td>115</td>\n",
       "      <td>5500</td>\n",
       "      <td>18</td>\n",
       "      <td>22</td>\n",
       "      <td>17450</td>\n",
       "    </tr>\n",
       "  </tbody>\n",
       "</table>\n",
       "<p>5 rows × 26 columns</p>\n",
       "</div>"
      ],
      "text/plain": [
       "   symboling normalized-losses         make fuel-type aspiration num-of-doors  \\\n",
       "0          3               NaN  alfa-romero       gas        std          two   \n",
       "1          3               NaN  alfa-romero       gas        std          two   \n",
       "2          1               NaN  alfa-romero       gas        std          two   \n",
       "3          2               164         audi       gas        std         four   \n",
       "4          2               164         audi       gas        std         four   \n",
       "\n",
       "    body-style drive-wheels engine-location  wheel-base  ...  engine-size  \\\n",
       "0  convertible          rwd           front        88.6  ...          130   \n",
       "1  convertible          rwd           front        88.6  ...          130   \n",
       "2    hatchback          rwd           front        94.5  ...          152   \n",
       "3        sedan          fwd           front        99.8  ...          109   \n",
       "4        sedan          4wd           front        99.4  ...          136   \n",
       "\n",
       "   fuel-system  bore  stroke compression-ratio horsepower  peak-rpm city-mpg  \\\n",
       "0         mpfi  3.47    2.68               9.0        111      5000       21   \n",
       "1         mpfi  3.47    2.68               9.0        111      5000       21   \n",
       "2         mpfi  2.68    3.47               9.0        154      5000       19   \n",
       "3         mpfi  3.19    3.40              10.0        102      5500       24   \n",
       "4         mpfi  3.19    3.40               8.0        115      5500       18   \n",
       "\n",
       "  highway-mpg  price  \n",
       "0          27  13495  \n",
       "1          27  16500  \n",
       "2          26  16500  \n",
       "3          30  13950  \n",
       "4          22  17450  \n",
       "\n",
       "[5 rows x 26 columns]"
      ]
     },
     "execution_count": 9,
     "metadata": {},
     "output_type": "execute_result"
    }
   ],
   "source": [
    "#as we see \" ? \" indicates \" missing values \"\n",
    "#We need to replace the \"?\" symbol with NaN so the dropna() can remove the missing values:\n",
    "df1=df.replace('?',np.NaN)\n",
    "df1.head()"
   ]
  },
  {
   "cell_type": "code",
   "execution_count": 10,
   "id": "0c1973b1",
   "metadata": {
    "execution": {
     "iopub.execute_input": "2022-01-26T01:26:57.455280Z",
     "iopub.status.busy": "2022-01-26T01:26:57.454618Z",
     "iopub.status.idle": "2022-01-26T01:26:57.457440Z",
     "shell.execute_reply": "2022-01-26T01:26:57.458005Z",
     "shell.execute_reply.started": "2022-01-25T20:46:34.182132Z"
    },
    "papermill": {
     "duration": 0.191308,
     "end_time": "2022-01-26T01:26:57.458194",
     "exception": false,
     "start_time": "2022-01-26T01:26:57.266886",
     "status": "completed"
    },
    "tags": []
   },
   "outputs": [],
   "source": [
    "#Now, we have successfully read the raw dataset and added the correct headers into the dataframe"
   ]
  },
  {
   "cell_type": "code",
   "execution_count": 11,
   "id": "9b0552c6",
   "metadata": {
    "execution": {
     "iopub.execute_input": "2022-01-26T01:26:57.830635Z",
     "iopub.status.busy": "2022-01-26T01:26:57.830023Z",
     "iopub.status.idle": "2022-01-26T01:26:57.832877Z",
     "shell.execute_reply": "2022-01-26T01:26:57.833475Z",
     "shell.execute_reply.started": "2022-01-25T20:46:34.189186Z"
    },
    "papermill": {
     "duration": 0.190985,
     "end_time": "2022-01-26T01:26:57.833635",
     "exception": false,
     "start_time": "2022-01-26T01:26:57.642650",
     "status": "completed"
    },
    "tags": []
   },
   "outputs": [],
   "source": [
    "#Basic Insight of Dataset\n",
    "\n",
    "#After reading data into Pandas dataframe, it is time for us to explore the dataset.\n",
    "\n",
    "#There are several ways to obtain essential insights of the data\n",
    "#to help us better understand our dataset."
   ]
  },
  {
   "cell_type": "code",
   "execution_count": 12,
   "id": "77355df6",
   "metadata": {
    "execution": {
     "iopub.execute_input": "2022-01-26T01:26:58.210571Z",
     "iopub.status.busy": "2022-01-26T01:26:58.209917Z",
     "iopub.status.idle": "2022-01-26T01:26:58.213653Z",
     "shell.execute_reply": "2022-01-26T01:26:58.213158Z",
     "shell.execute_reply.started": "2022-01-25T20:46:34.201582Z"
    },
    "papermill": {
     "duration": 0.194889,
     "end_time": "2022-01-26T01:26:58.213793",
     "exception": false,
     "start_time": "2022-01-26T01:26:58.018904",
     "status": "completed"
    },
    "tags": []
   },
   "outputs": [],
   "source": [
    "# Data has a variety of types.\n",
    "\n",
    "#The main types stored in Pandas dataframes are object, float, int, bool and datetime64"
   ]
  },
  {
   "cell_type": "code",
   "execution_count": 13,
   "id": "2cf541b6",
   "metadata": {
    "execution": {
     "iopub.execute_input": "2022-01-26T01:26:58.591641Z",
     "iopub.status.busy": "2022-01-26T01:26:58.591006Z",
     "iopub.status.idle": "2022-01-26T01:26:58.596934Z",
     "shell.execute_reply": "2022-01-26T01:26:58.597489Z",
     "shell.execute_reply.started": "2022-01-25T20:46:34.213873Z"
    },
    "papermill": {
     "duration": 0.193303,
     "end_time": "2022-01-26T01:26:58.597645",
     "exception": false,
     "start_time": "2022-01-26T01:26:58.404342",
     "status": "completed"
    },
    "tags": []
   },
   "outputs": [
    {
     "data": {
      "text/plain": [
       "symboling              int64\n",
       "normalized-losses     object\n",
       "make                  object\n",
       "fuel-type             object\n",
       "aspiration            object\n",
       "num-of-doors          object\n",
       "body-style            object\n",
       "drive-wheels          object\n",
       "engine-location       object\n",
       "wheel-base           float64\n",
       "length               float64\n",
       "width                float64\n",
       "height               float64\n",
       "curb-weight            int64\n",
       "engine-type           object\n",
       "num-of-cylinders      object\n",
       "engine-size            int64\n",
       "fuel-system           object\n",
       "bore                  object\n",
       "stroke                object\n",
       "compression-ratio    float64\n",
       "horsepower            object\n",
       "peak-rpm              object\n",
       "city-mpg               int64\n",
       "highway-mpg            int64\n",
       "price                 object\n",
       "dtype: object"
      ]
     },
     "execution_count": 13,
     "metadata": {},
     "output_type": "execute_result"
    }
   ],
   "source": [
    "df.dtypes"
   ]
  },
  {
   "cell_type": "code",
   "execution_count": 14,
   "id": "9d43bf5d",
   "metadata": {
    "execution": {
     "iopub.execute_input": "2022-01-26T01:26:58.969111Z",
     "iopub.status.busy": "2022-01-26T01:26:58.968293Z",
     "iopub.status.idle": "2022-01-26T01:26:58.970738Z",
     "shell.execute_reply": "2022-01-26T01:26:58.971343Z",
     "shell.execute_reply.started": "2022-01-25T20:46:34.233725Z"
    },
    "papermill": {
     "duration": 0.189581,
     "end_time": "2022-01-26T01:26:58.971512",
     "exception": false,
     "start_time": "2022-01-26T01:26:58.781931",
     "status": "completed"
    },
    "tags": []
   },
   "outputs": [],
   "source": [
    "#Describe\n",
    "\n",
    "#If we would like to get a statistical summary of each column \n",
    "# count, column mean value, column standard deviation, we use the describe method"
   ]
  },
  {
   "cell_type": "code",
   "execution_count": 15,
   "id": "470034b6",
   "metadata": {
    "execution": {
     "iopub.execute_input": "2022-01-26T01:26:59.344004Z",
     "iopub.status.busy": "2022-01-26T01:26:59.343381Z",
     "iopub.status.idle": "2022-01-26T01:26:59.382036Z",
     "shell.execute_reply": "2022-01-26T01:26:59.382490Z",
     "shell.execute_reply.started": "2022-01-25T20:46:34.240126Z"
    },
    "papermill": {
     "duration": 0.226069,
     "end_time": "2022-01-26T01:26:59.382673",
     "exception": false,
     "start_time": "2022-01-26T01:26:59.156604",
     "status": "completed"
    },
    "tags": []
   },
   "outputs": [
    {
     "data": {
      "text/html": [
       "<div>\n",
       "<style scoped>\n",
       "    .dataframe tbody tr th:only-of-type {\n",
       "        vertical-align: middle;\n",
       "    }\n",
       "\n",
       "    .dataframe tbody tr th {\n",
       "        vertical-align: top;\n",
       "    }\n",
       "\n",
       "    .dataframe thead th {\n",
       "        text-align: right;\n",
       "    }\n",
       "</style>\n",
       "<table border=\"1\" class=\"dataframe\">\n",
       "  <thead>\n",
       "    <tr style=\"text-align: right;\">\n",
       "      <th></th>\n",
       "      <th>symboling</th>\n",
       "      <th>wheel-base</th>\n",
       "      <th>length</th>\n",
       "      <th>width</th>\n",
       "      <th>height</th>\n",
       "      <th>curb-weight</th>\n",
       "      <th>engine-size</th>\n",
       "      <th>compression-ratio</th>\n",
       "      <th>city-mpg</th>\n",
       "      <th>highway-mpg</th>\n",
       "    </tr>\n",
       "  </thead>\n",
       "  <tbody>\n",
       "    <tr>\n",
       "      <th>count</th>\n",
       "      <td>205.000000</td>\n",
       "      <td>205.000000</td>\n",
       "      <td>205.000000</td>\n",
       "      <td>205.000000</td>\n",
       "      <td>205.000000</td>\n",
       "      <td>205.000000</td>\n",
       "      <td>205.000000</td>\n",
       "      <td>205.000000</td>\n",
       "      <td>205.000000</td>\n",
       "      <td>205.000000</td>\n",
       "    </tr>\n",
       "    <tr>\n",
       "      <th>mean</th>\n",
       "      <td>0.834146</td>\n",
       "      <td>98.756585</td>\n",
       "      <td>174.049268</td>\n",
       "      <td>65.907805</td>\n",
       "      <td>53.724878</td>\n",
       "      <td>2555.565854</td>\n",
       "      <td>126.907317</td>\n",
       "      <td>10.142537</td>\n",
       "      <td>25.219512</td>\n",
       "      <td>30.751220</td>\n",
       "    </tr>\n",
       "    <tr>\n",
       "      <th>std</th>\n",
       "      <td>1.245307</td>\n",
       "      <td>6.021776</td>\n",
       "      <td>12.337289</td>\n",
       "      <td>2.145204</td>\n",
       "      <td>2.443522</td>\n",
       "      <td>520.680204</td>\n",
       "      <td>41.642693</td>\n",
       "      <td>3.972040</td>\n",
       "      <td>6.542142</td>\n",
       "      <td>6.886443</td>\n",
       "    </tr>\n",
       "    <tr>\n",
       "      <th>min</th>\n",
       "      <td>-2.000000</td>\n",
       "      <td>86.600000</td>\n",
       "      <td>141.100000</td>\n",
       "      <td>60.300000</td>\n",
       "      <td>47.800000</td>\n",
       "      <td>1488.000000</td>\n",
       "      <td>61.000000</td>\n",
       "      <td>7.000000</td>\n",
       "      <td>13.000000</td>\n",
       "      <td>16.000000</td>\n",
       "    </tr>\n",
       "    <tr>\n",
       "      <th>25%</th>\n",
       "      <td>0.000000</td>\n",
       "      <td>94.500000</td>\n",
       "      <td>166.300000</td>\n",
       "      <td>64.100000</td>\n",
       "      <td>52.000000</td>\n",
       "      <td>2145.000000</td>\n",
       "      <td>97.000000</td>\n",
       "      <td>8.600000</td>\n",
       "      <td>19.000000</td>\n",
       "      <td>25.000000</td>\n",
       "    </tr>\n",
       "    <tr>\n",
       "      <th>50%</th>\n",
       "      <td>1.000000</td>\n",
       "      <td>97.000000</td>\n",
       "      <td>173.200000</td>\n",
       "      <td>65.500000</td>\n",
       "      <td>54.100000</td>\n",
       "      <td>2414.000000</td>\n",
       "      <td>120.000000</td>\n",
       "      <td>9.000000</td>\n",
       "      <td>24.000000</td>\n",
       "      <td>30.000000</td>\n",
       "    </tr>\n",
       "    <tr>\n",
       "      <th>75%</th>\n",
       "      <td>2.000000</td>\n",
       "      <td>102.400000</td>\n",
       "      <td>183.100000</td>\n",
       "      <td>66.900000</td>\n",
       "      <td>55.500000</td>\n",
       "      <td>2935.000000</td>\n",
       "      <td>141.000000</td>\n",
       "      <td>9.400000</td>\n",
       "      <td>30.000000</td>\n",
       "      <td>34.000000</td>\n",
       "    </tr>\n",
       "    <tr>\n",
       "      <th>max</th>\n",
       "      <td>3.000000</td>\n",
       "      <td>120.900000</td>\n",
       "      <td>208.100000</td>\n",
       "      <td>72.300000</td>\n",
       "      <td>59.800000</td>\n",
       "      <td>4066.000000</td>\n",
       "      <td>326.000000</td>\n",
       "      <td>23.000000</td>\n",
       "      <td>49.000000</td>\n",
       "      <td>54.000000</td>\n",
       "    </tr>\n",
       "  </tbody>\n",
       "</table>\n",
       "</div>"
      ],
      "text/plain": [
       "        symboling  wheel-base      length       width      height  \\\n",
       "count  205.000000  205.000000  205.000000  205.000000  205.000000   \n",
       "mean     0.834146   98.756585  174.049268   65.907805   53.724878   \n",
       "std      1.245307    6.021776   12.337289    2.145204    2.443522   \n",
       "min     -2.000000   86.600000  141.100000   60.300000   47.800000   \n",
       "25%      0.000000   94.500000  166.300000   64.100000   52.000000   \n",
       "50%      1.000000   97.000000  173.200000   65.500000   54.100000   \n",
       "75%      2.000000  102.400000  183.100000   66.900000   55.500000   \n",
       "max      3.000000  120.900000  208.100000   72.300000   59.800000   \n",
       "\n",
       "       curb-weight  engine-size  compression-ratio    city-mpg  highway-mpg  \n",
       "count   205.000000   205.000000         205.000000  205.000000   205.000000  \n",
       "mean   2555.565854   126.907317          10.142537   25.219512    30.751220  \n",
       "std     520.680204    41.642693           3.972040    6.542142     6.886443  \n",
       "min    1488.000000    61.000000           7.000000   13.000000    16.000000  \n",
       "25%    2145.000000    97.000000           8.600000   19.000000    25.000000  \n",
       "50%    2414.000000   120.000000           9.000000   24.000000    30.000000  \n",
       "75%    2935.000000   141.000000           9.400000   30.000000    34.000000  \n",
       "max    4066.000000   326.000000          23.000000   49.000000    54.000000  "
      ]
     },
     "execution_count": 15,
     "metadata": {},
     "output_type": "execute_result"
    }
   ],
   "source": [
    "#This method will provide various summary statistics, excluding NaN (Not a Number) values.\n",
    "#This shows the statistical summary of all numeric-typed (int, float) columns\n",
    "\n",
    "df.describe()"
   ]
  },
  {
   "cell_type": "code",
   "execution_count": 16,
   "id": "55dfe57e",
   "metadata": {
    "execution": {
     "iopub.execute_input": "2022-01-26T01:26:59.761568Z",
     "iopub.status.busy": "2022-01-26T01:26:59.760586Z",
     "iopub.status.idle": "2022-01-26T01:26:59.830319Z",
     "shell.execute_reply": "2022-01-26T01:26:59.829801Z",
     "shell.execute_reply.started": "2022-01-25T20:46:34.292924Z"
    },
    "papermill": {
     "duration": 0.259627,
     "end_time": "2022-01-26T01:26:59.830465",
     "exception": false,
     "start_time": "2022-01-26T01:26:59.570838",
     "status": "completed"
    },
    "tags": []
   },
   "outputs": [
    {
     "data": {
      "text/html": [
       "<div>\n",
       "<style scoped>\n",
       "    .dataframe tbody tr th:only-of-type {\n",
       "        vertical-align: middle;\n",
       "    }\n",
       "\n",
       "    .dataframe tbody tr th {\n",
       "        vertical-align: top;\n",
       "    }\n",
       "\n",
       "    .dataframe thead th {\n",
       "        text-align: right;\n",
       "    }\n",
       "</style>\n",
       "<table border=\"1\" class=\"dataframe\">\n",
       "  <thead>\n",
       "    <tr style=\"text-align: right;\">\n",
       "      <th></th>\n",
       "      <th>symboling</th>\n",
       "      <th>normalized-losses</th>\n",
       "      <th>make</th>\n",
       "      <th>fuel-type</th>\n",
       "      <th>aspiration</th>\n",
       "      <th>num-of-doors</th>\n",
       "      <th>body-style</th>\n",
       "      <th>drive-wheels</th>\n",
       "      <th>engine-location</th>\n",
       "      <th>wheel-base</th>\n",
       "      <th>...</th>\n",
       "      <th>engine-size</th>\n",
       "      <th>fuel-system</th>\n",
       "      <th>bore</th>\n",
       "      <th>stroke</th>\n",
       "      <th>compression-ratio</th>\n",
       "      <th>horsepower</th>\n",
       "      <th>peak-rpm</th>\n",
       "      <th>city-mpg</th>\n",
       "      <th>highway-mpg</th>\n",
       "      <th>price</th>\n",
       "    </tr>\n",
       "  </thead>\n",
       "  <tbody>\n",
       "    <tr>\n",
       "      <th>count</th>\n",
       "      <td>205.000000</td>\n",
       "      <td>205</td>\n",
       "      <td>205</td>\n",
       "      <td>205</td>\n",
       "      <td>205</td>\n",
       "      <td>205</td>\n",
       "      <td>205</td>\n",
       "      <td>205</td>\n",
       "      <td>205</td>\n",
       "      <td>205.000000</td>\n",
       "      <td>...</td>\n",
       "      <td>205.000000</td>\n",
       "      <td>205</td>\n",
       "      <td>205</td>\n",
       "      <td>205</td>\n",
       "      <td>205.000000</td>\n",
       "      <td>205</td>\n",
       "      <td>205</td>\n",
       "      <td>205.000000</td>\n",
       "      <td>205.000000</td>\n",
       "      <td>205</td>\n",
       "    </tr>\n",
       "    <tr>\n",
       "      <th>unique</th>\n",
       "      <td>NaN</td>\n",
       "      <td>52</td>\n",
       "      <td>22</td>\n",
       "      <td>2</td>\n",
       "      <td>2</td>\n",
       "      <td>3</td>\n",
       "      <td>5</td>\n",
       "      <td>3</td>\n",
       "      <td>2</td>\n",
       "      <td>NaN</td>\n",
       "      <td>...</td>\n",
       "      <td>NaN</td>\n",
       "      <td>8</td>\n",
       "      <td>39</td>\n",
       "      <td>37</td>\n",
       "      <td>NaN</td>\n",
       "      <td>60</td>\n",
       "      <td>24</td>\n",
       "      <td>NaN</td>\n",
       "      <td>NaN</td>\n",
       "      <td>187</td>\n",
       "    </tr>\n",
       "    <tr>\n",
       "      <th>top</th>\n",
       "      <td>NaN</td>\n",
       "      <td>?</td>\n",
       "      <td>toyota</td>\n",
       "      <td>gas</td>\n",
       "      <td>std</td>\n",
       "      <td>four</td>\n",
       "      <td>sedan</td>\n",
       "      <td>fwd</td>\n",
       "      <td>front</td>\n",
       "      <td>NaN</td>\n",
       "      <td>...</td>\n",
       "      <td>NaN</td>\n",
       "      <td>mpfi</td>\n",
       "      <td>3.62</td>\n",
       "      <td>3.40</td>\n",
       "      <td>NaN</td>\n",
       "      <td>68</td>\n",
       "      <td>5500</td>\n",
       "      <td>NaN</td>\n",
       "      <td>NaN</td>\n",
       "      <td>?</td>\n",
       "    </tr>\n",
       "    <tr>\n",
       "      <th>freq</th>\n",
       "      <td>NaN</td>\n",
       "      <td>41</td>\n",
       "      <td>32</td>\n",
       "      <td>185</td>\n",
       "      <td>168</td>\n",
       "      <td>114</td>\n",
       "      <td>96</td>\n",
       "      <td>120</td>\n",
       "      <td>202</td>\n",
       "      <td>NaN</td>\n",
       "      <td>...</td>\n",
       "      <td>NaN</td>\n",
       "      <td>94</td>\n",
       "      <td>23</td>\n",
       "      <td>20</td>\n",
       "      <td>NaN</td>\n",
       "      <td>19</td>\n",
       "      <td>37</td>\n",
       "      <td>NaN</td>\n",
       "      <td>NaN</td>\n",
       "      <td>4</td>\n",
       "    </tr>\n",
       "    <tr>\n",
       "      <th>mean</th>\n",
       "      <td>0.834146</td>\n",
       "      <td>NaN</td>\n",
       "      <td>NaN</td>\n",
       "      <td>NaN</td>\n",
       "      <td>NaN</td>\n",
       "      <td>NaN</td>\n",
       "      <td>NaN</td>\n",
       "      <td>NaN</td>\n",
       "      <td>NaN</td>\n",
       "      <td>98.756585</td>\n",
       "      <td>...</td>\n",
       "      <td>126.907317</td>\n",
       "      <td>NaN</td>\n",
       "      <td>NaN</td>\n",
       "      <td>NaN</td>\n",
       "      <td>10.142537</td>\n",
       "      <td>NaN</td>\n",
       "      <td>NaN</td>\n",
       "      <td>25.219512</td>\n",
       "      <td>30.751220</td>\n",
       "      <td>NaN</td>\n",
       "    </tr>\n",
       "    <tr>\n",
       "      <th>std</th>\n",
       "      <td>1.245307</td>\n",
       "      <td>NaN</td>\n",
       "      <td>NaN</td>\n",
       "      <td>NaN</td>\n",
       "      <td>NaN</td>\n",
       "      <td>NaN</td>\n",
       "      <td>NaN</td>\n",
       "      <td>NaN</td>\n",
       "      <td>NaN</td>\n",
       "      <td>6.021776</td>\n",
       "      <td>...</td>\n",
       "      <td>41.642693</td>\n",
       "      <td>NaN</td>\n",
       "      <td>NaN</td>\n",
       "      <td>NaN</td>\n",
       "      <td>3.972040</td>\n",
       "      <td>NaN</td>\n",
       "      <td>NaN</td>\n",
       "      <td>6.542142</td>\n",
       "      <td>6.886443</td>\n",
       "      <td>NaN</td>\n",
       "    </tr>\n",
       "    <tr>\n",
       "      <th>min</th>\n",
       "      <td>-2.000000</td>\n",
       "      <td>NaN</td>\n",
       "      <td>NaN</td>\n",
       "      <td>NaN</td>\n",
       "      <td>NaN</td>\n",
       "      <td>NaN</td>\n",
       "      <td>NaN</td>\n",
       "      <td>NaN</td>\n",
       "      <td>NaN</td>\n",
       "      <td>86.600000</td>\n",
       "      <td>...</td>\n",
       "      <td>61.000000</td>\n",
       "      <td>NaN</td>\n",
       "      <td>NaN</td>\n",
       "      <td>NaN</td>\n",
       "      <td>7.000000</td>\n",
       "      <td>NaN</td>\n",
       "      <td>NaN</td>\n",
       "      <td>13.000000</td>\n",
       "      <td>16.000000</td>\n",
       "      <td>NaN</td>\n",
       "    </tr>\n",
       "    <tr>\n",
       "      <th>25%</th>\n",
       "      <td>0.000000</td>\n",
       "      <td>NaN</td>\n",
       "      <td>NaN</td>\n",
       "      <td>NaN</td>\n",
       "      <td>NaN</td>\n",
       "      <td>NaN</td>\n",
       "      <td>NaN</td>\n",
       "      <td>NaN</td>\n",
       "      <td>NaN</td>\n",
       "      <td>94.500000</td>\n",
       "      <td>...</td>\n",
       "      <td>97.000000</td>\n",
       "      <td>NaN</td>\n",
       "      <td>NaN</td>\n",
       "      <td>NaN</td>\n",
       "      <td>8.600000</td>\n",
       "      <td>NaN</td>\n",
       "      <td>NaN</td>\n",
       "      <td>19.000000</td>\n",
       "      <td>25.000000</td>\n",
       "      <td>NaN</td>\n",
       "    </tr>\n",
       "    <tr>\n",
       "      <th>50%</th>\n",
       "      <td>1.000000</td>\n",
       "      <td>NaN</td>\n",
       "      <td>NaN</td>\n",
       "      <td>NaN</td>\n",
       "      <td>NaN</td>\n",
       "      <td>NaN</td>\n",
       "      <td>NaN</td>\n",
       "      <td>NaN</td>\n",
       "      <td>NaN</td>\n",
       "      <td>97.000000</td>\n",
       "      <td>...</td>\n",
       "      <td>120.000000</td>\n",
       "      <td>NaN</td>\n",
       "      <td>NaN</td>\n",
       "      <td>NaN</td>\n",
       "      <td>9.000000</td>\n",
       "      <td>NaN</td>\n",
       "      <td>NaN</td>\n",
       "      <td>24.000000</td>\n",
       "      <td>30.000000</td>\n",
       "      <td>NaN</td>\n",
       "    </tr>\n",
       "    <tr>\n",
       "      <th>75%</th>\n",
       "      <td>2.000000</td>\n",
       "      <td>NaN</td>\n",
       "      <td>NaN</td>\n",
       "      <td>NaN</td>\n",
       "      <td>NaN</td>\n",
       "      <td>NaN</td>\n",
       "      <td>NaN</td>\n",
       "      <td>NaN</td>\n",
       "      <td>NaN</td>\n",
       "      <td>102.400000</td>\n",
       "      <td>...</td>\n",
       "      <td>141.000000</td>\n",
       "      <td>NaN</td>\n",
       "      <td>NaN</td>\n",
       "      <td>NaN</td>\n",
       "      <td>9.400000</td>\n",
       "      <td>NaN</td>\n",
       "      <td>NaN</td>\n",
       "      <td>30.000000</td>\n",
       "      <td>34.000000</td>\n",
       "      <td>NaN</td>\n",
       "    </tr>\n",
       "    <tr>\n",
       "      <th>max</th>\n",
       "      <td>3.000000</td>\n",
       "      <td>NaN</td>\n",
       "      <td>NaN</td>\n",
       "      <td>NaN</td>\n",
       "      <td>NaN</td>\n",
       "      <td>NaN</td>\n",
       "      <td>NaN</td>\n",
       "      <td>NaN</td>\n",
       "      <td>NaN</td>\n",
       "      <td>120.900000</td>\n",
       "      <td>...</td>\n",
       "      <td>326.000000</td>\n",
       "      <td>NaN</td>\n",
       "      <td>NaN</td>\n",
       "      <td>NaN</td>\n",
       "      <td>23.000000</td>\n",
       "      <td>NaN</td>\n",
       "      <td>NaN</td>\n",
       "      <td>49.000000</td>\n",
       "      <td>54.000000</td>\n",
       "      <td>NaN</td>\n",
       "    </tr>\n",
       "  </tbody>\n",
       "</table>\n",
       "<p>11 rows × 26 columns</p>\n",
       "</div>"
      ],
      "text/plain": [
       "         symboling normalized-losses    make fuel-type aspiration  \\\n",
       "count   205.000000               205     205       205        205   \n",
       "unique         NaN                52      22         2          2   \n",
       "top            NaN                 ?  toyota       gas        std   \n",
       "freq           NaN                41      32       185        168   \n",
       "mean      0.834146               NaN     NaN       NaN        NaN   \n",
       "std       1.245307               NaN     NaN       NaN        NaN   \n",
       "min      -2.000000               NaN     NaN       NaN        NaN   \n",
       "25%       0.000000               NaN     NaN       NaN        NaN   \n",
       "50%       1.000000               NaN     NaN       NaN        NaN   \n",
       "75%       2.000000               NaN     NaN       NaN        NaN   \n",
       "max       3.000000               NaN     NaN       NaN        NaN   \n",
       "\n",
       "       num-of-doors body-style drive-wheels engine-location  wheel-base  ...  \\\n",
       "count           205        205          205             205  205.000000  ...   \n",
       "unique            3          5            3               2         NaN  ...   \n",
       "top            four      sedan          fwd           front         NaN  ...   \n",
       "freq            114         96          120             202         NaN  ...   \n",
       "mean            NaN        NaN          NaN             NaN   98.756585  ...   \n",
       "std             NaN        NaN          NaN             NaN    6.021776  ...   \n",
       "min             NaN        NaN          NaN             NaN   86.600000  ...   \n",
       "25%             NaN        NaN          NaN             NaN   94.500000  ...   \n",
       "50%             NaN        NaN          NaN             NaN   97.000000  ...   \n",
       "75%             NaN        NaN          NaN             NaN  102.400000  ...   \n",
       "max             NaN        NaN          NaN             NaN  120.900000  ...   \n",
       "\n",
       "        engine-size  fuel-system  bore  stroke compression-ratio horsepower  \\\n",
       "count    205.000000          205   205     205        205.000000        205   \n",
       "unique          NaN            8    39      37               NaN         60   \n",
       "top             NaN         mpfi  3.62    3.40               NaN         68   \n",
       "freq            NaN           94    23      20               NaN         19   \n",
       "mean     126.907317          NaN   NaN     NaN         10.142537        NaN   \n",
       "std       41.642693          NaN   NaN     NaN          3.972040        NaN   \n",
       "min       61.000000          NaN   NaN     NaN          7.000000        NaN   \n",
       "25%       97.000000          NaN   NaN     NaN          8.600000        NaN   \n",
       "50%      120.000000          NaN   NaN     NaN          9.000000        NaN   \n",
       "75%      141.000000          NaN   NaN     NaN          9.400000        NaN   \n",
       "max      326.000000          NaN   NaN     NaN         23.000000        NaN   \n",
       "\n",
       "        peak-rpm    city-mpg highway-mpg price  \n",
       "count        205  205.000000  205.000000   205  \n",
       "unique        24         NaN         NaN   187  \n",
       "top         5500         NaN         NaN     ?  \n",
       "freq          37         NaN         NaN     4  \n",
       "mean         NaN   25.219512   30.751220   NaN  \n",
       "std          NaN    6.542142    6.886443   NaN  \n",
       "min          NaN   13.000000   16.000000   NaN  \n",
       "25%          NaN   19.000000   25.000000   NaN  \n",
       "50%          NaN   24.000000   30.000000   NaN  \n",
       "75%          NaN   30.000000   34.000000   NaN  \n",
       "max          NaN   49.000000   54.000000   NaN  \n",
       "\n",
       "[11 rows x 26 columns]"
      ]
     },
     "execution_count": 16,
     "metadata": {},
     "output_type": "execute_result"
    }
   ],
   "source": [
    "#You can add an argument include = \"all\" inside the bracket\n",
    "\n",
    "df.describe(include=\"all\")"
   ]
  },
  {
   "cell_type": "code",
   "execution_count": 17,
   "id": "8fbe8024",
   "metadata": {
    "execution": {
     "iopub.execute_input": "2022-01-26T01:27:00.215638Z",
     "iopub.status.busy": "2022-01-26T01:27:00.214652Z",
     "iopub.status.idle": "2022-01-26T01:27:00.217136Z",
     "shell.execute_reply": "2022-01-26T01:27:00.216654Z",
     "shell.execute_reply.started": "2022-01-25T20:46:34.369604Z"
    },
    "papermill": {
     "duration": 0.197427,
     "end_time": "2022-01-26T01:27:00.217273",
     "exception": false,
     "start_time": "2022-01-26T01:27:00.019846",
     "status": "completed"
    },
    "tags": []
   },
   "outputs": [],
   "source": [
    "# Now it provides the statistical summary of all the columns, including object-typed attributes.\n",
    "\n",
    "#We can now see how many unique values there,\n",
    "#which one is the top value and the frequency of top value in the object-typed columns.\n",
    "\n",
    "#Some values in the table above show as \"NaN\".\n",
    "#This is because those numbers are not available regarding a particular column type."
   ]
  },
  {
   "cell_type": "code",
   "execution_count": 18,
   "id": "0024925d",
   "metadata": {
    "execution": {
     "iopub.execute_input": "2022-01-26T01:27:00.593467Z",
     "iopub.status.busy": "2022-01-26T01:27:00.592843Z",
     "iopub.status.idle": "2022-01-26T01:27:00.607677Z",
     "shell.execute_reply": "2022-01-26T01:27:00.608317Z",
     "shell.execute_reply.started": "2022-01-25T20:46:34.376025Z"
    },
    "papermill": {
     "duration": 0.204941,
     "end_time": "2022-01-26T01:27:00.608486",
     "exception": false,
     "start_time": "2022-01-26T01:27:00.403545",
     "status": "completed"
    },
    "tags": []
   },
   "outputs": [
    {
     "data": {
      "text/html": [
       "<div>\n",
       "<style scoped>\n",
       "    .dataframe tbody tr th:only-of-type {\n",
       "        vertical-align: middle;\n",
       "    }\n",
       "\n",
       "    .dataframe tbody tr th {\n",
       "        vertical-align: top;\n",
       "    }\n",
       "\n",
       "    .dataframe thead th {\n",
       "        text-align: right;\n",
       "    }\n",
       "</style>\n",
       "<table border=\"1\" class=\"dataframe\">\n",
       "  <thead>\n",
       "    <tr style=\"text-align: right;\">\n",
       "      <th></th>\n",
       "      <th>length</th>\n",
       "      <th>compression-ratio</th>\n",
       "    </tr>\n",
       "  </thead>\n",
       "  <tbody>\n",
       "    <tr>\n",
       "      <th>count</th>\n",
       "      <td>205.000000</td>\n",
       "      <td>205.000000</td>\n",
       "    </tr>\n",
       "    <tr>\n",
       "      <th>mean</th>\n",
       "      <td>174.049268</td>\n",
       "      <td>10.142537</td>\n",
       "    </tr>\n",
       "    <tr>\n",
       "      <th>std</th>\n",
       "      <td>12.337289</td>\n",
       "      <td>3.972040</td>\n",
       "    </tr>\n",
       "    <tr>\n",
       "      <th>min</th>\n",
       "      <td>141.100000</td>\n",
       "      <td>7.000000</td>\n",
       "    </tr>\n",
       "    <tr>\n",
       "      <th>25%</th>\n",
       "      <td>166.300000</td>\n",
       "      <td>8.600000</td>\n",
       "    </tr>\n",
       "    <tr>\n",
       "      <th>50%</th>\n",
       "      <td>173.200000</td>\n",
       "      <td>9.000000</td>\n",
       "    </tr>\n",
       "    <tr>\n",
       "      <th>75%</th>\n",
       "      <td>183.100000</td>\n",
       "      <td>9.400000</td>\n",
       "    </tr>\n",
       "    <tr>\n",
       "      <th>max</th>\n",
       "      <td>208.100000</td>\n",
       "      <td>23.000000</td>\n",
       "    </tr>\n",
       "  </tbody>\n",
       "</table>\n",
       "</div>"
      ],
      "text/plain": [
       "           length  compression-ratio\n",
       "count  205.000000         205.000000\n",
       "mean   174.049268          10.142537\n",
       "std     12.337289           3.972040\n",
       "min    141.100000           7.000000\n",
       "25%    166.300000           8.600000\n",
       "50%    173.200000           9.000000\n",
       "75%    183.100000           9.400000\n",
       "max    208.100000          23.000000"
      ]
     },
     "execution_count": 18,
     "metadata": {},
     "output_type": "execute_result"
    }
   ],
   "source": [
    "#we can Apply the  method\".describe()\" to the columns 'length' and 'compression-ratio'\n",
    "#of a dataframe by indicating the name of each column as follows:\n",
    "\n",
    "df[['length', 'compression-ratio']].describe()"
   ]
  },
  {
   "cell_type": "code",
   "execution_count": 19,
   "id": "2a3857bb",
   "metadata": {
    "execution": {
     "iopub.execute_input": "2022-01-26T01:27:00.991670Z",
     "iopub.status.busy": "2022-01-26T01:27:00.991096Z",
     "iopub.status.idle": "2022-01-26T01:27:01.005599Z",
     "shell.execute_reply": "2022-01-26T01:27:01.006107Z",
     "shell.execute_reply.started": "2022-01-25T20:46:34.403037Z"
    },
    "papermill": {
     "duration": 0.205155,
     "end_time": "2022-01-26T01:27:01.006280",
     "exception": false,
     "start_time": "2022-01-26T01:27:00.801125",
     "status": "completed"
    },
    "tags": []
   },
   "outputs": [
    {
     "name": "stdout",
     "output_type": "stream",
     "text": [
      "<class 'pandas.core.frame.DataFrame'>\n",
      "RangeIndex: 205 entries, 0 to 204\n",
      "Data columns (total 26 columns):\n",
      " #   Column             Non-Null Count  Dtype  \n",
      "---  ------             --------------  -----  \n",
      " 0   symboling          205 non-null    int64  \n",
      " 1   normalized-losses  205 non-null    object \n",
      " 2   make               205 non-null    object \n",
      " 3   fuel-type          205 non-null    object \n",
      " 4   aspiration         205 non-null    object \n",
      " 5   num-of-doors       205 non-null    object \n",
      " 6   body-style         205 non-null    object \n",
      " 7   drive-wheels       205 non-null    object \n",
      " 8   engine-location    205 non-null    object \n",
      " 9   wheel-base         205 non-null    float64\n",
      " 10  length             205 non-null    float64\n",
      " 11  width              205 non-null    float64\n",
      " 12  height             205 non-null    float64\n",
      " 13  curb-weight        205 non-null    int64  \n",
      " 14  engine-type        205 non-null    object \n",
      " 15  num-of-cylinders   205 non-null    object \n",
      " 16  engine-size        205 non-null    int64  \n",
      " 17  fuel-system        205 non-null    object \n",
      " 18  bore               205 non-null    object \n",
      " 19  stroke             205 non-null    object \n",
      " 20  compression-ratio  205 non-null    float64\n",
      " 21  horsepower         205 non-null    object \n",
      " 22  peak-rpm           205 non-null    object \n",
      " 23  city-mpg           205 non-null    int64  \n",
      " 24  highway-mpg        205 non-null    int64  \n",
      " 25  price              205 non-null    object \n",
      "dtypes: float64(5), int64(5), object(16)\n",
      "memory usage: 41.8+ KB\n"
     ]
    }
   ],
   "source": [
    "#Info\n",
    "\n",
    "#Another method we can use to check dataset is:\n",
    "\n",
    "df.info()"
   ]
  },
  {
   "cell_type": "code",
   "execution_count": 20,
   "id": "ef1a1cd9",
   "metadata": {
    "execution": {
     "iopub.execute_input": "2022-01-26T01:27:01.385680Z",
     "iopub.status.busy": "2022-01-26T01:27:01.385089Z",
     "iopub.status.idle": "2022-01-26T01:27:01.387759Z",
     "shell.execute_reply": "2022-01-26T01:27:01.388384Z",
     "shell.execute_reply.started": "2022-01-25T20:46:34.425468Z"
    },
    "papermill": {
     "duration": 0.193184,
     "end_time": "2022-01-26T01:27:01.388541",
     "exception": false,
     "start_time": "2022-01-26T01:27:01.195357",
     "status": "completed"
    },
    "tags": []
   },
   "outputs": [],
   "source": [
    "#This method prints information about a DataFrame\n",
    "#including the index dtype and columns, non-null values and memory usage.\n"
   ]
  },
  {
   "cell_type": "code",
   "execution_count": 21,
   "id": "78133ead",
   "metadata": {
    "execution": {
     "iopub.execute_input": "2022-01-26T01:27:01.768834Z",
     "iopub.status.busy": "2022-01-26T01:27:01.768234Z",
     "iopub.status.idle": "2022-01-26T01:27:01.770903Z",
     "shell.execute_reply": "2022-01-26T01:27:01.771475Z",
     "shell.execute_reply.started": "2022-01-25T20:46:34.435588Z"
    },
    "papermill": {
     "duration": 0.19344,
     "end_time": "2022-01-26T01:27:01.771641",
     "exception": false,
     "start_time": "2022-01-26T01:27:01.578201",
     "status": "completed"
    },
    "tags": []
   },
   "outputs": [],
   "source": [
    "# data wrangling : \n",
    "\n",
    "#is the process of converting data from the initial format\n",
    "#to a format that may be better for analysis.\n"
   ]
  },
  {
   "cell_type": "code",
   "execution_count": 22,
   "id": "4f071425",
   "metadata": {
    "execution": {
     "iopub.execute_input": "2022-01-26T01:27:02.150225Z",
     "iopub.status.busy": "2022-01-26T01:27:02.149573Z",
     "iopub.status.idle": "2022-01-26T01:27:02.176045Z",
     "shell.execute_reply": "2022-01-26T01:27:02.176640Z",
     "shell.execute_reply.started": "2022-01-25T20:46:34.447356Z"
    },
    "papermill": {
     "duration": 0.217369,
     "end_time": "2022-01-26T01:27:02.176801",
     "exception": false,
     "start_time": "2022-01-26T01:27:01.959432",
     "status": "completed"
    },
    "tags": []
   },
   "outputs": [
    {
     "data": {
      "text/html": [
       "<div>\n",
       "<style scoped>\n",
       "    .dataframe tbody tr th:only-of-type {\n",
       "        vertical-align: middle;\n",
       "    }\n",
       "\n",
       "    .dataframe tbody tr th {\n",
       "        vertical-align: top;\n",
       "    }\n",
       "\n",
       "    .dataframe thead th {\n",
       "        text-align: right;\n",
       "    }\n",
       "</style>\n",
       "<table border=\"1\" class=\"dataframe\">\n",
       "  <thead>\n",
       "    <tr style=\"text-align: right;\">\n",
       "      <th></th>\n",
       "      <th>symboling</th>\n",
       "      <th>normalized-losses</th>\n",
       "      <th>make</th>\n",
       "      <th>fuel-type</th>\n",
       "      <th>aspiration</th>\n",
       "      <th>num-of-doors</th>\n",
       "      <th>body-style</th>\n",
       "      <th>drive-wheels</th>\n",
       "      <th>engine-location</th>\n",
       "      <th>wheel-base</th>\n",
       "      <th>...</th>\n",
       "      <th>engine-size</th>\n",
       "      <th>fuel-system</th>\n",
       "      <th>bore</th>\n",
       "      <th>stroke</th>\n",
       "      <th>compression-ratio</th>\n",
       "      <th>horsepower</th>\n",
       "      <th>peak-rpm</th>\n",
       "      <th>city-mpg</th>\n",
       "      <th>highway-mpg</th>\n",
       "      <th>price</th>\n",
       "    </tr>\n",
       "  </thead>\n",
       "  <tbody>\n",
       "    <tr>\n",
       "      <th>0</th>\n",
       "      <td>3</td>\n",
       "      <td>NaN</td>\n",
       "      <td>alfa-romero</td>\n",
       "      <td>gas</td>\n",
       "      <td>std</td>\n",
       "      <td>two</td>\n",
       "      <td>convertible</td>\n",
       "      <td>rwd</td>\n",
       "      <td>front</td>\n",
       "      <td>88.6</td>\n",
       "      <td>...</td>\n",
       "      <td>130</td>\n",
       "      <td>mpfi</td>\n",
       "      <td>3.47</td>\n",
       "      <td>2.68</td>\n",
       "      <td>9.0</td>\n",
       "      <td>111</td>\n",
       "      <td>5000</td>\n",
       "      <td>21</td>\n",
       "      <td>27</td>\n",
       "      <td>13495</td>\n",
       "    </tr>\n",
       "    <tr>\n",
       "      <th>1</th>\n",
       "      <td>3</td>\n",
       "      <td>NaN</td>\n",
       "      <td>alfa-romero</td>\n",
       "      <td>gas</td>\n",
       "      <td>std</td>\n",
       "      <td>two</td>\n",
       "      <td>convertible</td>\n",
       "      <td>rwd</td>\n",
       "      <td>front</td>\n",
       "      <td>88.6</td>\n",
       "      <td>...</td>\n",
       "      <td>130</td>\n",
       "      <td>mpfi</td>\n",
       "      <td>3.47</td>\n",
       "      <td>2.68</td>\n",
       "      <td>9.0</td>\n",
       "      <td>111</td>\n",
       "      <td>5000</td>\n",
       "      <td>21</td>\n",
       "      <td>27</td>\n",
       "      <td>16500</td>\n",
       "    </tr>\n",
       "    <tr>\n",
       "      <th>2</th>\n",
       "      <td>1</td>\n",
       "      <td>NaN</td>\n",
       "      <td>alfa-romero</td>\n",
       "      <td>gas</td>\n",
       "      <td>std</td>\n",
       "      <td>two</td>\n",
       "      <td>hatchback</td>\n",
       "      <td>rwd</td>\n",
       "      <td>front</td>\n",
       "      <td>94.5</td>\n",
       "      <td>...</td>\n",
       "      <td>152</td>\n",
       "      <td>mpfi</td>\n",
       "      <td>2.68</td>\n",
       "      <td>3.47</td>\n",
       "      <td>9.0</td>\n",
       "      <td>154</td>\n",
       "      <td>5000</td>\n",
       "      <td>19</td>\n",
       "      <td>26</td>\n",
       "      <td>16500</td>\n",
       "    </tr>\n",
       "    <tr>\n",
       "      <th>3</th>\n",
       "      <td>2</td>\n",
       "      <td>164</td>\n",
       "      <td>audi</td>\n",
       "      <td>gas</td>\n",
       "      <td>std</td>\n",
       "      <td>four</td>\n",
       "      <td>sedan</td>\n",
       "      <td>fwd</td>\n",
       "      <td>front</td>\n",
       "      <td>99.8</td>\n",
       "      <td>...</td>\n",
       "      <td>109</td>\n",
       "      <td>mpfi</td>\n",
       "      <td>3.19</td>\n",
       "      <td>3.40</td>\n",
       "      <td>10.0</td>\n",
       "      <td>102</td>\n",
       "      <td>5500</td>\n",
       "      <td>24</td>\n",
       "      <td>30</td>\n",
       "      <td>13950</td>\n",
       "    </tr>\n",
       "    <tr>\n",
       "      <th>4</th>\n",
       "      <td>2</td>\n",
       "      <td>164</td>\n",
       "      <td>audi</td>\n",
       "      <td>gas</td>\n",
       "      <td>std</td>\n",
       "      <td>four</td>\n",
       "      <td>sedan</td>\n",
       "      <td>4wd</td>\n",
       "      <td>front</td>\n",
       "      <td>99.4</td>\n",
       "      <td>...</td>\n",
       "      <td>136</td>\n",
       "      <td>mpfi</td>\n",
       "      <td>3.19</td>\n",
       "      <td>3.40</td>\n",
       "      <td>8.0</td>\n",
       "      <td>115</td>\n",
       "      <td>5500</td>\n",
       "      <td>18</td>\n",
       "      <td>22</td>\n",
       "      <td>17450</td>\n",
       "    </tr>\n",
       "    <tr>\n",
       "      <th>5</th>\n",
       "      <td>2</td>\n",
       "      <td>NaN</td>\n",
       "      <td>audi</td>\n",
       "      <td>gas</td>\n",
       "      <td>std</td>\n",
       "      <td>two</td>\n",
       "      <td>sedan</td>\n",
       "      <td>fwd</td>\n",
       "      <td>front</td>\n",
       "      <td>99.8</td>\n",
       "      <td>...</td>\n",
       "      <td>136</td>\n",
       "      <td>mpfi</td>\n",
       "      <td>3.19</td>\n",
       "      <td>3.40</td>\n",
       "      <td>8.5</td>\n",
       "      <td>110</td>\n",
       "      <td>5500</td>\n",
       "      <td>19</td>\n",
       "      <td>25</td>\n",
       "      <td>15250</td>\n",
       "    </tr>\n",
       "    <tr>\n",
       "      <th>6</th>\n",
       "      <td>1</td>\n",
       "      <td>158</td>\n",
       "      <td>audi</td>\n",
       "      <td>gas</td>\n",
       "      <td>std</td>\n",
       "      <td>four</td>\n",
       "      <td>sedan</td>\n",
       "      <td>fwd</td>\n",
       "      <td>front</td>\n",
       "      <td>105.8</td>\n",
       "      <td>...</td>\n",
       "      <td>136</td>\n",
       "      <td>mpfi</td>\n",
       "      <td>3.19</td>\n",
       "      <td>3.40</td>\n",
       "      <td>8.5</td>\n",
       "      <td>110</td>\n",
       "      <td>5500</td>\n",
       "      <td>19</td>\n",
       "      <td>25</td>\n",
       "      <td>17710</td>\n",
       "    </tr>\n",
       "    <tr>\n",
       "      <th>7</th>\n",
       "      <td>1</td>\n",
       "      <td>NaN</td>\n",
       "      <td>audi</td>\n",
       "      <td>gas</td>\n",
       "      <td>std</td>\n",
       "      <td>four</td>\n",
       "      <td>wagon</td>\n",
       "      <td>fwd</td>\n",
       "      <td>front</td>\n",
       "      <td>105.8</td>\n",
       "      <td>...</td>\n",
       "      <td>136</td>\n",
       "      <td>mpfi</td>\n",
       "      <td>3.19</td>\n",
       "      <td>3.40</td>\n",
       "      <td>8.5</td>\n",
       "      <td>110</td>\n",
       "      <td>5500</td>\n",
       "      <td>19</td>\n",
       "      <td>25</td>\n",
       "      <td>18920</td>\n",
       "    </tr>\n",
       "    <tr>\n",
       "      <th>8</th>\n",
       "      <td>1</td>\n",
       "      <td>158</td>\n",
       "      <td>audi</td>\n",
       "      <td>gas</td>\n",
       "      <td>turbo</td>\n",
       "      <td>four</td>\n",
       "      <td>sedan</td>\n",
       "      <td>fwd</td>\n",
       "      <td>front</td>\n",
       "      <td>105.8</td>\n",
       "      <td>...</td>\n",
       "      <td>131</td>\n",
       "      <td>mpfi</td>\n",
       "      <td>3.13</td>\n",
       "      <td>3.40</td>\n",
       "      <td>8.3</td>\n",
       "      <td>140</td>\n",
       "      <td>5500</td>\n",
       "      <td>17</td>\n",
       "      <td>20</td>\n",
       "      <td>23875</td>\n",
       "    </tr>\n",
       "    <tr>\n",
       "      <th>9</th>\n",
       "      <td>0</td>\n",
       "      <td>NaN</td>\n",
       "      <td>audi</td>\n",
       "      <td>gas</td>\n",
       "      <td>turbo</td>\n",
       "      <td>two</td>\n",
       "      <td>hatchback</td>\n",
       "      <td>4wd</td>\n",
       "      <td>front</td>\n",
       "      <td>99.5</td>\n",
       "      <td>...</td>\n",
       "      <td>131</td>\n",
       "      <td>mpfi</td>\n",
       "      <td>3.13</td>\n",
       "      <td>3.40</td>\n",
       "      <td>7.0</td>\n",
       "      <td>160</td>\n",
       "      <td>5500</td>\n",
       "      <td>16</td>\n",
       "      <td>22</td>\n",
       "      <td>NaN</td>\n",
       "    </tr>\n",
       "  </tbody>\n",
       "</table>\n",
       "<p>10 rows × 26 columns</p>\n",
       "</div>"
      ],
      "text/plain": [
       "   symboling normalized-losses         make fuel-type aspiration num-of-doors  \\\n",
       "0          3               NaN  alfa-romero       gas        std          two   \n",
       "1          3               NaN  alfa-romero       gas        std          two   \n",
       "2          1               NaN  alfa-romero       gas        std          two   \n",
       "3          2               164         audi       gas        std         four   \n",
       "4          2               164         audi       gas        std         four   \n",
       "5          2               NaN         audi       gas        std          two   \n",
       "6          1               158         audi       gas        std         four   \n",
       "7          1               NaN         audi       gas        std         four   \n",
       "8          1               158         audi       gas      turbo         four   \n",
       "9          0               NaN         audi       gas      turbo          two   \n",
       "\n",
       "    body-style drive-wheels engine-location  wheel-base  ...  engine-size  \\\n",
       "0  convertible          rwd           front        88.6  ...          130   \n",
       "1  convertible          rwd           front        88.6  ...          130   \n",
       "2    hatchback          rwd           front        94.5  ...          152   \n",
       "3        sedan          fwd           front        99.8  ...          109   \n",
       "4        sedan          4wd           front        99.4  ...          136   \n",
       "5        sedan          fwd           front        99.8  ...          136   \n",
       "6        sedan          fwd           front       105.8  ...          136   \n",
       "7        wagon          fwd           front       105.8  ...          136   \n",
       "8        sedan          fwd           front       105.8  ...          131   \n",
       "9    hatchback          4wd           front        99.5  ...          131   \n",
       "\n",
       "   fuel-system  bore  stroke compression-ratio horsepower  peak-rpm city-mpg  \\\n",
       "0         mpfi  3.47    2.68               9.0        111      5000       21   \n",
       "1         mpfi  3.47    2.68               9.0        111      5000       21   \n",
       "2         mpfi  2.68    3.47               9.0        154      5000       19   \n",
       "3         mpfi  3.19    3.40              10.0        102      5500       24   \n",
       "4         mpfi  3.19    3.40               8.0        115      5500       18   \n",
       "5         mpfi  3.19    3.40               8.5        110      5500       19   \n",
       "6         mpfi  3.19    3.40               8.5        110      5500       19   \n",
       "7         mpfi  3.19    3.40               8.5        110      5500       19   \n",
       "8         mpfi  3.13    3.40               8.3        140      5500       17   \n",
       "9         mpfi  3.13    3.40               7.0        160      5500       16   \n",
       "\n",
       "  highway-mpg  price  \n",
       "0          27  13495  \n",
       "1          27  16500  \n",
       "2          26  16500  \n",
       "3          30  13950  \n",
       "4          22  17450  \n",
       "5          25  15250  \n",
       "6          25  17710  \n",
       "7          25  18920  \n",
       "8          20  23875  \n",
       "9          22    NaN  \n",
       "\n",
       "[10 rows x 26 columns]"
      ]
     },
     "execution_count": 22,
     "metadata": {},
     "output_type": "execute_result"
    }
   ],
   "source": [
    "df1.head(10)"
   ]
  },
  {
   "cell_type": "code",
   "execution_count": 23,
   "id": "ae6623e0",
   "metadata": {
    "execution": {
     "iopub.execute_input": "2022-01-26T01:27:02.559595Z",
     "iopub.status.busy": "2022-01-26T01:27:02.558821Z",
     "iopub.status.idle": "2022-01-26T01:27:02.585057Z",
     "shell.execute_reply": "2022-01-26T01:27:02.585569Z",
     "shell.execute_reply.started": "2022-01-25T20:46:34.484573Z"
    },
    "papermill": {
     "duration": 0.220467,
     "end_time": "2022-01-26T01:27:02.585732",
     "exception": false,
     "start_time": "2022-01-26T01:27:02.365265",
     "status": "completed"
    },
    "tags": []
   },
   "outputs": [
    {
     "data": {
      "text/html": [
       "<div>\n",
       "<style scoped>\n",
       "    .dataframe tbody tr th:only-of-type {\n",
       "        vertical-align: middle;\n",
       "    }\n",
       "\n",
       "    .dataframe tbody tr th {\n",
       "        vertical-align: top;\n",
       "    }\n",
       "\n",
       "    .dataframe thead th {\n",
       "        text-align: right;\n",
       "    }\n",
       "</style>\n",
       "<table border=\"1\" class=\"dataframe\">\n",
       "  <thead>\n",
       "    <tr style=\"text-align: right;\">\n",
       "      <th></th>\n",
       "      <th>symboling</th>\n",
       "      <th>normalized-losses</th>\n",
       "      <th>make</th>\n",
       "      <th>fuel-type</th>\n",
       "      <th>aspiration</th>\n",
       "      <th>num-of-doors</th>\n",
       "      <th>body-style</th>\n",
       "      <th>drive-wheels</th>\n",
       "      <th>engine-location</th>\n",
       "      <th>wheel-base</th>\n",
       "      <th>...</th>\n",
       "      <th>engine-size</th>\n",
       "      <th>fuel-system</th>\n",
       "      <th>bore</th>\n",
       "      <th>stroke</th>\n",
       "      <th>compression-ratio</th>\n",
       "      <th>horsepower</th>\n",
       "      <th>peak-rpm</th>\n",
       "      <th>city-mpg</th>\n",
       "      <th>highway-mpg</th>\n",
       "      <th>price</th>\n",
       "    </tr>\n",
       "  </thead>\n",
       "  <tbody>\n",
       "    <tr>\n",
       "      <th>0</th>\n",
       "      <td>3</td>\n",
       "      <td>NaN</td>\n",
       "      <td>alfa-romero</td>\n",
       "      <td>gas</td>\n",
       "      <td>std</td>\n",
       "      <td>two</td>\n",
       "      <td>convertible</td>\n",
       "      <td>rwd</td>\n",
       "      <td>front</td>\n",
       "      <td>88.6</td>\n",
       "      <td>...</td>\n",
       "      <td>130</td>\n",
       "      <td>mpfi</td>\n",
       "      <td>3.47</td>\n",
       "      <td>2.68</td>\n",
       "      <td>9.0</td>\n",
       "      <td>111</td>\n",
       "      <td>5000</td>\n",
       "      <td>21</td>\n",
       "      <td>27</td>\n",
       "      <td>13495</td>\n",
       "    </tr>\n",
       "    <tr>\n",
       "      <th>1</th>\n",
       "      <td>3</td>\n",
       "      <td>NaN</td>\n",
       "      <td>alfa-romero</td>\n",
       "      <td>gas</td>\n",
       "      <td>std</td>\n",
       "      <td>two</td>\n",
       "      <td>convertible</td>\n",
       "      <td>rwd</td>\n",
       "      <td>front</td>\n",
       "      <td>88.6</td>\n",
       "      <td>...</td>\n",
       "      <td>130</td>\n",
       "      <td>mpfi</td>\n",
       "      <td>3.47</td>\n",
       "      <td>2.68</td>\n",
       "      <td>9.0</td>\n",
       "      <td>111</td>\n",
       "      <td>5000</td>\n",
       "      <td>21</td>\n",
       "      <td>27</td>\n",
       "      <td>16500</td>\n",
       "    </tr>\n",
       "    <tr>\n",
       "      <th>2</th>\n",
       "      <td>1</td>\n",
       "      <td>NaN</td>\n",
       "      <td>alfa-romero</td>\n",
       "      <td>gas</td>\n",
       "      <td>std</td>\n",
       "      <td>two</td>\n",
       "      <td>hatchback</td>\n",
       "      <td>rwd</td>\n",
       "      <td>front</td>\n",
       "      <td>94.5</td>\n",
       "      <td>...</td>\n",
       "      <td>152</td>\n",
       "      <td>mpfi</td>\n",
       "      <td>2.68</td>\n",
       "      <td>3.47</td>\n",
       "      <td>9.0</td>\n",
       "      <td>154</td>\n",
       "      <td>5000</td>\n",
       "      <td>19</td>\n",
       "      <td>26</td>\n",
       "      <td>16500</td>\n",
       "    </tr>\n",
       "    <tr>\n",
       "      <th>3</th>\n",
       "      <td>2</td>\n",
       "      <td>164</td>\n",
       "      <td>audi</td>\n",
       "      <td>gas</td>\n",
       "      <td>std</td>\n",
       "      <td>four</td>\n",
       "      <td>sedan</td>\n",
       "      <td>fwd</td>\n",
       "      <td>front</td>\n",
       "      <td>99.8</td>\n",
       "      <td>...</td>\n",
       "      <td>109</td>\n",
       "      <td>mpfi</td>\n",
       "      <td>3.19</td>\n",
       "      <td>3.40</td>\n",
       "      <td>10.0</td>\n",
       "      <td>102</td>\n",
       "      <td>5500</td>\n",
       "      <td>24</td>\n",
       "      <td>30</td>\n",
       "      <td>13950</td>\n",
       "    </tr>\n",
       "    <tr>\n",
       "      <th>4</th>\n",
       "      <td>2</td>\n",
       "      <td>164</td>\n",
       "      <td>audi</td>\n",
       "      <td>gas</td>\n",
       "      <td>std</td>\n",
       "      <td>four</td>\n",
       "      <td>sedan</td>\n",
       "      <td>4wd</td>\n",
       "      <td>front</td>\n",
       "      <td>99.4</td>\n",
       "      <td>...</td>\n",
       "      <td>136</td>\n",
       "      <td>mpfi</td>\n",
       "      <td>3.19</td>\n",
       "      <td>3.40</td>\n",
       "      <td>8.0</td>\n",
       "      <td>115</td>\n",
       "      <td>5500</td>\n",
       "      <td>18</td>\n",
       "      <td>22</td>\n",
       "      <td>17450</td>\n",
       "    </tr>\n",
       "    <tr>\n",
       "      <th>5</th>\n",
       "      <td>2</td>\n",
       "      <td>NaN</td>\n",
       "      <td>audi</td>\n",
       "      <td>gas</td>\n",
       "      <td>std</td>\n",
       "      <td>two</td>\n",
       "      <td>sedan</td>\n",
       "      <td>fwd</td>\n",
       "      <td>front</td>\n",
       "      <td>99.8</td>\n",
       "      <td>...</td>\n",
       "      <td>136</td>\n",
       "      <td>mpfi</td>\n",
       "      <td>3.19</td>\n",
       "      <td>3.40</td>\n",
       "      <td>8.5</td>\n",
       "      <td>110</td>\n",
       "      <td>5500</td>\n",
       "      <td>19</td>\n",
       "      <td>25</td>\n",
       "      <td>15250</td>\n",
       "    </tr>\n",
       "    <tr>\n",
       "      <th>6</th>\n",
       "      <td>1</td>\n",
       "      <td>158</td>\n",
       "      <td>audi</td>\n",
       "      <td>gas</td>\n",
       "      <td>std</td>\n",
       "      <td>four</td>\n",
       "      <td>sedan</td>\n",
       "      <td>fwd</td>\n",
       "      <td>front</td>\n",
       "      <td>105.8</td>\n",
       "      <td>...</td>\n",
       "      <td>136</td>\n",
       "      <td>mpfi</td>\n",
       "      <td>3.19</td>\n",
       "      <td>3.40</td>\n",
       "      <td>8.5</td>\n",
       "      <td>110</td>\n",
       "      <td>5500</td>\n",
       "      <td>19</td>\n",
       "      <td>25</td>\n",
       "      <td>17710</td>\n",
       "    </tr>\n",
       "    <tr>\n",
       "      <th>7</th>\n",
       "      <td>1</td>\n",
       "      <td>NaN</td>\n",
       "      <td>audi</td>\n",
       "      <td>gas</td>\n",
       "      <td>std</td>\n",
       "      <td>four</td>\n",
       "      <td>wagon</td>\n",
       "      <td>fwd</td>\n",
       "      <td>front</td>\n",
       "      <td>105.8</td>\n",
       "      <td>...</td>\n",
       "      <td>136</td>\n",
       "      <td>mpfi</td>\n",
       "      <td>3.19</td>\n",
       "      <td>3.40</td>\n",
       "      <td>8.5</td>\n",
       "      <td>110</td>\n",
       "      <td>5500</td>\n",
       "      <td>19</td>\n",
       "      <td>25</td>\n",
       "      <td>18920</td>\n",
       "    </tr>\n",
       "    <tr>\n",
       "      <th>8</th>\n",
       "      <td>1</td>\n",
       "      <td>158</td>\n",
       "      <td>audi</td>\n",
       "      <td>gas</td>\n",
       "      <td>turbo</td>\n",
       "      <td>four</td>\n",
       "      <td>sedan</td>\n",
       "      <td>fwd</td>\n",
       "      <td>front</td>\n",
       "      <td>105.8</td>\n",
       "      <td>...</td>\n",
       "      <td>131</td>\n",
       "      <td>mpfi</td>\n",
       "      <td>3.13</td>\n",
       "      <td>3.40</td>\n",
       "      <td>8.3</td>\n",
       "      <td>140</td>\n",
       "      <td>5500</td>\n",
       "      <td>17</td>\n",
       "      <td>20</td>\n",
       "      <td>23875</td>\n",
       "    </tr>\n",
       "    <tr>\n",
       "      <th>9</th>\n",
       "      <td>0</td>\n",
       "      <td>NaN</td>\n",
       "      <td>audi</td>\n",
       "      <td>gas</td>\n",
       "      <td>turbo</td>\n",
       "      <td>two</td>\n",
       "      <td>hatchback</td>\n",
       "      <td>4wd</td>\n",
       "      <td>front</td>\n",
       "      <td>99.5</td>\n",
       "      <td>...</td>\n",
       "      <td>131</td>\n",
       "      <td>mpfi</td>\n",
       "      <td>3.13</td>\n",
       "      <td>3.40</td>\n",
       "      <td>7.0</td>\n",
       "      <td>160</td>\n",
       "      <td>5500</td>\n",
       "      <td>16</td>\n",
       "      <td>22</td>\n",
       "      <td>NaN</td>\n",
       "    </tr>\n",
       "  </tbody>\n",
       "</table>\n",
       "<p>10 rows × 26 columns</p>\n",
       "</div>"
      ],
      "text/plain": [
       "   symboling normalized-losses         make fuel-type aspiration num-of-doors  \\\n",
       "0          3               NaN  alfa-romero       gas        std          two   \n",
       "1          3               NaN  alfa-romero       gas        std          two   \n",
       "2          1               NaN  alfa-romero       gas        std          two   \n",
       "3          2               164         audi       gas        std         four   \n",
       "4          2               164         audi       gas        std         four   \n",
       "5          2               NaN         audi       gas        std          two   \n",
       "6          1               158         audi       gas        std         four   \n",
       "7          1               NaN         audi       gas        std         four   \n",
       "8          1               158         audi       gas      turbo         four   \n",
       "9          0               NaN         audi       gas      turbo          two   \n",
       "\n",
       "    body-style drive-wheels engine-location  wheel-base  ...  engine-size  \\\n",
       "0  convertible          rwd           front        88.6  ...          130   \n",
       "1  convertible          rwd           front        88.6  ...          130   \n",
       "2    hatchback          rwd           front        94.5  ...          152   \n",
       "3        sedan          fwd           front        99.8  ...          109   \n",
       "4        sedan          4wd           front        99.4  ...          136   \n",
       "5        sedan          fwd           front        99.8  ...          136   \n",
       "6        sedan          fwd           front       105.8  ...          136   \n",
       "7        wagon          fwd           front       105.8  ...          136   \n",
       "8        sedan          fwd           front       105.8  ...          131   \n",
       "9    hatchback          4wd           front        99.5  ...          131   \n",
       "\n",
       "   fuel-system  bore  stroke compression-ratio horsepower  peak-rpm city-mpg  \\\n",
       "0         mpfi  3.47    2.68               9.0        111      5000       21   \n",
       "1         mpfi  3.47    2.68               9.0        111      5000       21   \n",
       "2         mpfi  2.68    3.47               9.0        154      5000       19   \n",
       "3         mpfi  3.19    3.40              10.0        102      5500       24   \n",
       "4         mpfi  3.19    3.40               8.0        115      5500       18   \n",
       "5         mpfi  3.19    3.40               8.5        110      5500       19   \n",
       "6         mpfi  3.19    3.40               8.5        110      5500       19   \n",
       "7         mpfi  3.19    3.40               8.5        110      5500       19   \n",
       "8         mpfi  3.13    3.40               8.3        140      5500       17   \n",
       "9         mpfi  3.13    3.40               7.0        160      5500       16   \n",
       "\n",
       "  highway-mpg  price  \n",
       "0          27  13495  \n",
       "1          27  16500  \n",
       "2          26  16500  \n",
       "3          30  13950  \n",
       "4          22  17450  \n",
       "5          25  15250  \n",
       "6          25  17710  \n",
       "7          25  18920  \n",
       "8          20  23875  \n",
       "9          22    NaN  \n",
       "\n",
       "[10 rows x 26 columns]"
      ]
     },
     "execution_count": 23,
     "metadata": {},
     "output_type": "execute_result"
    }
   ],
   "source": [
    "df=df1\n",
    "\n",
    "df.head(10)"
   ]
  },
  {
   "cell_type": "code",
   "execution_count": 24,
   "id": "65d13372",
   "metadata": {
    "execution": {
     "iopub.execute_input": "2022-01-26T01:27:02.969186Z",
     "iopub.status.busy": "2022-01-26T01:27:02.968545Z",
     "iopub.status.idle": "2022-01-26T01:27:02.971282Z",
     "shell.execute_reply": "2022-01-26T01:27:02.971788Z",
     "shell.execute_reply.started": "2022-01-25T20:46:34.515874Z"
    },
    "papermill": {
     "duration": 0.196136,
     "end_time": "2022-01-26T01:27:02.971979",
     "exception": false,
     "start_time": "2022-01-26T01:27:02.775843",
     "status": "completed"
    },
    "tags": []
   },
   "outputs": [],
   "source": [
    "#we have alot of \" missing values ( NaN) \" \n",
    "\n",
    "#Steps for working with missing data:\n",
    "\n",
    "#  1 - Identify missing data\n",
    "#  2 - Deal with missing data\n",
    "#  3 - Correct data format\n"
   ]
  },
  {
   "cell_type": "code",
   "execution_count": 25,
   "id": "8e845169",
   "metadata": {
    "execution": {
     "iopub.execute_input": "2022-01-26T01:27:03.357024Z",
     "iopub.status.busy": "2022-01-26T01:27:03.356379Z",
     "iopub.status.idle": "2022-01-26T01:27:03.367639Z",
     "shell.execute_reply": "2022-01-26T01:27:03.367140Z",
     "shell.execute_reply.started": "2022-01-25T20:46:34.522495Z"
    },
    "papermill": {
     "duration": 0.204237,
     "end_time": "2022-01-26T01:27:03.367778",
     "exception": false,
     "start_time": "2022-01-26T01:27:03.163541",
     "status": "completed"
    },
    "tags": []
   },
   "outputs": [
    {
     "data": {
      "text/plain": [
       "symboling             0\n",
       "normalized-losses    41\n",
       "make                  0\n",
       "fuel-type             0\n",
       "aspiration            0\n",
       "num-of-doors          2\n",
       "body-style            0\n",
       "drive-wheels          0\n",
       "engine-location       0\n",
       "wheel-base            0\n",
       "length                0\n",
       "width                 0\n",
       "height                0\n",
       "curb-weight           0\n",
       "engine-type           0\n",
       "num-of-cylinders      0\n",
       "engine-size           0\n",
       "fuel-system           0\n",
       "bore                  4\n",
       "stroke                4\n",
       "compression-ratio     0\n",
       "horsepower            2\n",
       "peak-rpm              2\n",
       "city-mpg              0\n",
       "highway-mpg           0\n",
       "price                 4\n",
       "dtype: int64"
      ]
     },
     "execution_count": 25,
     "metadata": {},
     "output_type": "execute_result"
    }
   ],
   "source": [
    "#How many missing data points do we have?\n",
    "\n",
    "missing_values_count = df.isnull().sum()\n",
    "missing_values_count"
   ]
  },
  {
   "cell_type": "code",
   "execution_count": 26,
   "id": "fcfea32e",
   "metadata": {
    "execution": {
     "iopub.execute_input": "2022-01-26T01:27:03.753901Z",
     "iopub.status.busy": "2022-01-26T01:27:03.753214Z",
     "iopub.status.idle": "2022-01-26T01:27:03.789222Z",
     "shell.execute_reply": "2022-01-26T01:27:03.790184Z",
     "shell.execute_reply.started": "2022-01-25T20:46:34.541063Z"
    },
    "papermill": {
     "duration": 0.230852,
     "end_time": "2022-01-26T01:27:03.790452",
     "exception": false,
     "start_time": "2022-01-26T01:27:03.559600",
     "status": "completed"
    },
    "tags": []
   },
   "outputs": [
    {
     "data": {
      "text/html": [
       "<div>\n",
       "<style scoped>\n",
       "    .dataframe tbody tr th:only-of-type {\n",
       "        vertical-align: middle;\n",
       "    }\n",
       "\n",
       "    .dataframe tbody tr th {\n",
       "        vertical-align: top;\n",
       "    }\n",
       "\n",
       "    .dataframe thead th {\n",
       "        text-align: right;\n",
       "    }\n",
       "</style>\n",
       "<table border=\"1\" class=\"dataframe\">\n",
       "  <thead>\n",
       "    <tr style=\"text-align: right;\">\n",
       "      <th></th>\n",
       "      <th>symboling</th>\n",
       "      <th>normalized-losses</th>\n",
       "      <th>make</th>\n",
       "      <th>fuel-type</th>\n",
       "      <th>aspiration</th>\n",
       "      <th>num-of-doors</th>\n",
       "      <th>body-style</th>\n",
       "      <th>drive-wheels</th>\n",
       "      <th>engine-location</th>\n",
       "      <th>wheel-base</th>\n",
       "      <th>...</th>\n",
       "      <th>engine-size</th>\n",
       "      <th>fuel-system</th>\n",
       "      <th>bore</th>\n",
       "      <th>stroke</th>\n",
       "      <th>compression-ratio</th>\n",
       "      <th>horsepower</th>\n",
       "      <th>peak-rpm</th>\n",
       "      <th>city-mpg</th>\n",
       "      <th>highway-mpg</th>\n",
       "      <th>price</th>\n",
       "    </tr>\n",
       "  </thead>\n",
       "  <tbody>\n",
       "    <tr>\n",
       "      <th>0</th>\n",
       "      <td>False</td>\n",
       "      <td>True</td>\n",
       "      <td>False</td>\n",
       "      <td>False</td>\n",
       "      <td>False</td>\n",
       "      <td>False</td>\n",
       "      <td>False</td>\n",
       "      <td>False</td>\n",
       "      <td>False</td>\n",
       "      <td>False</td>\n",
       "      <td>...</td>\n",
       "      <td>False</td>\n",
       "      <td>False</td>\n",
       "      <td>False</td>\n",
       "      <td>False</td>\n",
       "      <td>False</td>\n",
       "      <td>False</td>\n",
       "      <td>False</td>\n",
       "      <td>False</td>\n",
       "      <td>False</td>\n",
       "      <td>False</td>\n",
       "    </tr>\n",
       "    <tr>\n",
       "      <th>1</th>\n",
       "      <td>False</td>\n",
       "      <td>True</td>\n",
       "      <td>False</td>\n",
       "      <td>False</td>\n",
       "      <td>False</td>\n",
       "      <td>False</td>\n",
       "      <td>False</td>\n",
       "      <td>False</td>\n",
       "      <td>False</td>\n",
       "      <td>False</td>\n",
       "      <td>...</td>\n",
       "      <td>False</td>\n",
       "      <td>False</td>\n",
       "      <td>False</td>\n",
       "      <td>False</td>\n",
       "      <td>False</td>\n",
       "      <td>False</td>\n",
       "      <td>False</td>\n",
       "      <td>False</td>\n",
       "      <td>False</td>\n",
       "      <td>False</td>\n",
       "    </tr>\n",
       "    <tr>\n",
       "      <th>2</th>\n",
       "      <td>False</td>\n",
       "      <td>True</td>\n",
       "      <td>False</td>\n",
       "      <td>False</td>\n",
       "      <td>False</td>\n",
       "      <td>False</td>\n",
       "      <td>False</td>\n",
       "      <td>False</td>\n",
       "      <td>False</td>\n",
       "      <td>False</td>\n",
       "      <td>...</td>\n",
       "      <td>False</td>\n",
       "      <td>False</td>\n",
       "      <td>False</td>\n",
       "      <td>False</td>\n",
       "      <td>False</td>\n",
       "      <td>False</td>\n",
       "      <td>False</td>\n",
       "      <td>False</td>\n",
       "      <td>False</td>\n",
       "      <td>False</td>\n",
       "    </tr>\n",
       "    <tr>\n",
       "      <th>3</th>\n",
       "      <td>False</td>\n",
       "      <td>False</td>\n",
       "      <td>False</td>\n",
       "      <td>False</td>\n",
       "      <td>False</td>\n",
       "      <td>False</td>\n",
       "      <td>False</td>\n",
       "      <td>False</td>\n",
       "      <td>False</td>\n",
       "      <td>False</td>\n",
       "      <td>...</td>\n",
       "      <td>False</td>\n",
       "      <td>False</td>\n",
       "      <td>False</td>\n",
       "      <td>False</td>\n",
       "      <td>False</td>\n",
       "      <td>False</td>\n",
       "      <td>False</td>\n",
       "      <td>False</td>\n",
       "      <td>False</td>\n",
       "      <td>False</td>\n",
       "    </tr>\n",
       "    <tr>\n",
       "      <th>4</th>\n",
       "      <td>False</td>\n",
       "      <td>False</td>\n",
       "      <td>False</td>\n",
       "      <td>False</td>\n",
       "      <td>False</td>\n",
       "      <td>False</td>\n",
       "      <td>False</td>\n",
       "      <td>False</td>\n",
       "      <td>False</td>\n",
       "      <td>False</td>\n",
       "      <td>...</td>\n",
       "      <td>False</td>\n",
       "      <td>False</td>\n",
       "      <td>False</td>\n",
       "      <td>False</td>\n",
       "      <td>False</td>\n",
       "      <td>False</td>\n",
       "      <td>False</td>\n",
       "      <td>False</td>\n",
       "      <td>False</td>\n",
       "      <td>False</td>\n",
       "    </tr>\n",
       "  </tbody>\n",
       "</table>\n",
       "<p>5 rows × 26 columns</p>\n",
       "</div>"
      ],
      "text/plain": [
       "   symboling  normalized-losses   make  fuel-type  aspiration  num-of-doors  \\\n",
       "0      False               True  False      False       False         False   \n",
       "1      False               True  False      False       False         False   \n",
       "2      False               True  False      False       False         False   \n",
       "3      False              False  False      False       False         False   \n",
       "4      False              False  False      False       False         False   \n",
       "\n",
       "   body-style  drive-wheels  engine-location  wheel-base  ...  engine-size  \\\n",
       "0       False         False            False       False  ...        False   \n",
       "1       False         False            False       False  ...        False   \n",
       "2       False         False            False       False  ...        False   \n",
       "3       False         False            False       False  ...        False   \n",
       "4       False         False            False       False  ...        False   \n",
       "\n",
       "   fuel-system   bore  stroke  compression-ratio  horsepower  peak-rpm  \\\n",
       "0        False  False   False              False       False     False   \n",
       "1        False  False   False              False       False     False   \n",
       "2        False  False   False              False       False     False   \n",
       "3        False  False   False              False       False     False   \n",
       "4        False  False   False              False       False     False   \n",
       "\n",
       "   city-mpg  highway-mpg  price  \n",
       "0     False        False  False  \n",
       "1     False        False  False  \n",
       "2     False        False  False  \n",
       "3     False        False  False  \n",
       "4     False        False  False  \n",
       "\n",
       "[5 rows x 26 columns]"
      ]
     },
     "execution_count": 26,
     "metadata": {},
     "output_type": "execute_result"
    }
   ],
   "source": [
    "missing_data = df.isnull()\n",
    "missing_data.head(5)"
   ]
  },
  {
   "cell_type": "code",
   "execution_count": 27,
   "id": "2465cf7b",
   "metadata": {
    "execution": {
     "iopub.execute_input": "2022-01-26T01:27:04.197590Z",
     "iopub.status.busy": "2022-01-26T01:27:04.196916Z",
     "iopub.status.idle": "2022-01-26T01:27:04.239003Z",
     "shell.execute_reply": "2022-01-26T01:27:04.238334Z",
     "shell.execute_reply.started": "2022-01-25T20:46:34.575626Z"
    },
    "papermill": {
     "duration": 0.238481,
     "end_time": "2022-01-26T01:27:04.239156",
     "exception": false,
     "start_time": "2022-01-26T01:27:04.000675",
     "status": "completed"
    },
    "tags": []
   },
   "outputs": [
    {
     "name": "stdout",
     "output_type": "stream",
     "text": [
      "symboling\n",
      "False    205\n",
      "Name: symboling, dtype: int64\n",
      "\n",
      "normalized-losses\n",
      "False    164\n",
      "True      41\n",
      "Name: normalized-losses, dtype: int64\n",
      "\n",
      "make\n",
      "False    205\n",
      "Name: make, dtype: int64\n",
      "\n",
      "fuel-type\n",
      "False    205\n",
      "Name: fuel-type, dtype: int64\n",
      "\n",
      "aspiration\n",
      "False    205\n",
      "Name: aspiration, dtype: int64\n",
      "\n",
      "num-of-doors\n",
      "False    203\n",
      "True       2\n",
      "Name: num-of-doors, dtype: int64\n",
      "\n",
      "body-style\n",
      "False    205\n",
      "Name: body-style, dtype: int64\n",
      "\n",
      "drive-wheels\n",
      "False    205\n",
      "Name: drive-wheels, dtype: int64\n",
      "\n",
      "engine-location\n",
      "False    205\n",
      "Name: engine-location, dtype: int64\n",
      "\n",
      "wheel-base\n",
      "False    205\n",
      "Name: wheel-base, dtype: int64\n",
      "\n",
      "length\n",
      "False    205\n",
      "Name: length, dtype: int64\n",
      "\n",
      "width\n",
      "False    205\n",
      "Name: width, dtype: int64\n",
      "\n",
      "height\n",
      "False    205\n",
      "Name: height, dtype: int64\n",
      "\n",
      "curb-weight\n",
      "False    205\n",
      "Name: curb-weight, dtype: int64\n",
      "\n",
      "engine-type\n",
      "False    205\n",
      "Name: engine-type, dtype: int64\n",
      "\n",
      "num-of-cylinders\n",
      "False    205\n",
      "Name: num-of-cylinders, dtype: int64\n",
      "\n",
      "engine-size\n",
      "False    205\n",
      "Name: engine-size, dtype: int64\n",
      "\n",
      "fuel-system\n",
      "False    205\n",
      "Name: fuel-system, dtype: int64\n",
      "\n",
      "bore\n",
      "False    201\n",
      "True       4\n",
      "Name: bore, dtype: int64\n",
      "\n",
      "stroke\n",
      "False    201\n",
      "True       4\n",
      "Name: stroke, dtype: int64\n",
      "\n",
      "compression-ratio\n",
      "False    205\n",
      "Name: compression-ratio, dtype: int64\n",
      "\n",
      "horsepower\n",
      "False    203\n",
      "True       2\n",
      "Name: horsepower, dtype: int64\n",
      "\n",
      "peak-rpm\n",
      "False    203\n",
      "True       2\n",
      "Name: peak-rpm, dtype: int64\n",
      "\n",
      "city-mpg\n",
      "False    205\n",
      "Name: city-mpg, dtype: int64\n",
      "\n",
      "highway-mpg\n",
      "False    205\n",
      "Name: highway-mpg, dtype: int64\n",
      "\n",
      "price\n",
      "False    201\n",
      "True       4\n",
      "Name: price, dtype: int64\n",
      "\n"
     ]
    }
   ],
   "source": [
    "#another way to Count missing values in each column\n",
    "#Using a for loop \n",
    "#\"True\" represents a missing value and \"False\" means the value is present in the dataset\n",
    "\n",
    "for column in missing_data.columns.values.tolist():\n",
    "    print(column)\n",
    "    print (missing_data[column].value_counts())\n",
    "    print(\"\")"
   ]
  },
  {
   "cell_type": "code",
   "execution_count": 28,
   "id": "8485e736",
   "metadata": {
    "execution": {
     "iopub.execute_input": "2022-01-26T01:27:04.632275Z",
     "iopub.status.busy": "2022-01-26T01:27:04.631482Z",
     "iopub.status.idle": "2022-01-26T01:27:04.634190Z",
     "shell.execute_reply": "2022-01-26T01:27:04.634653Z",
     "shell.execute_reply.started": "2022-01-25T20:46:34.619606Z"
    },
    "papermill": {
     "duration": 0.201704,
     "end_time": "2022-01-26T01:27:04.634837",
     "exception": false,
     "start_time": "2022-01-26T01:27:04.433133",
     "status": "completed"
    },
    "tags": []
   },
   "outputs": [
    {
     "data": {
      "text/plain": [
       "59"
      ]
     },
     "execution_count": 28,
     "metadata": {},
     "output_type": "execute_result"
    }
   ],
   "source": [
    "#total missing values\n",
    "total_missing = missing_values_count.sum()\n",
    "total_missing"
   ]
  },
  {
   "cell_type": "code",
   "execution_count": 29,
   "id": "2997d92d",
   "metadata": {
    "execution": {
     "iopub.execute_input": "2022-01-26T01:27:05.029323Z",
     "iopub.status.busy": "2022-01-26T01:27:05.025781Z",
     "iopub.status.idle": "2022-01-26T01:27:05.033371Z",
     "shell.execute_reply": "2022-01-26T01:27:05.034076Z",
     "shell.execute_reply.started": "2022-01-25T20:46:34.629496Z"
    },
    "papermill": {
     "duration": 0.207503,
     "end_time": "2022-01-26T01:27:05.034301",
     "exception": false,
     "start_time": "2022-01-26T01:27:04.826798",
     "status": "completed"
    },
    "tags": []
   },
   "outputs": [
    {
     "name": "stdout",
     "output_type": "stream",
     "text": [
      "total cells :  5330\n",
      "total missing :  59\n",
      "percentage of missing values :  1.1069418386491556\n"
     ]
    }
   ],
   "source": [
    "#we need to know (the percentage % of \"missing data points\" according to all data cells)\n",
    "\n",
    "missing_values_count = df.isnull().sum()\n",
    "#count of missing values in each column\n",
    "\n",
    "total_cells = np.product(df.shape)\n",
    "#calculate the total numbers of cells\n",
    "\n",
    "total_missing = missing_values_count.sum()\n",
    "#calculate the total numbers of \" missing data\" of all dataset\n",
    "\n",
    "percent_missing = (total_missing/total_cells) * 100\n",
    "#calculate the % of \" missing\"\n",
    "\n",
    "print(\"total cells : \",total_cells)\n",
    "print(\"total missing : \",total_missing)\n",
    "print(\"percentage of missing values : \",percent_missing)"
   ]
  },
  {
   "cell_type": "code",
   "execution_count": 30,
   "id": "1c1a667f",
   "metadata": {
    "execution": {
     "iopub.execute_input": "2022-01-26T01:27:05.420909Z",
     "iopub.status.busy": "2022-01-26T01:27:05.419423Z",
     "iopub.status.idle": "2022-01-26T01:27:05.423496Z",
     "shell.execute_reply": "2022-01-26T01:27:05.422876Z",
     "shell.execute_reply.started": "2022-01-25T20:46:34.646019Z"
    },
    "papermill": {
     "duration": 0.197199,
     "end_time": "2022-01-26T01:27:05.423637",
     "exception": false,
     "start_time": "2022-01-26T01:27:05.226438",
     "status": "completed"
    },
    "tags": []
   },
   "outputs": [],
   "source": [
    "#How to deal with missing data?\n",
    "\n",
    "    # 1 - ( Drop data )\n",
    "    \n",
    "       #  Drop the whole row\n",
    "# or \n",
    "       #  Drop the whole column\n",
    "    \n",
    "   # 2 -  ( Replace data )\n",
    "\n",
    "       # Replace it by mean\n",
    "    \n",
    "      # Replace it by frequency\n",
    "        \n",
    "     # Replace it based on other functions\n"
   ]
  },
  {
   "cell_type": "code",
   "execution_count": 31,
   "id": "b2bc37a0",
   "metadata": {
    "execution": {
     "iopub.execute_input": "2022-01-26T01:27:05.814744Z",
     "iopub.status.busy": "2022-01-26T01:27:05.813770Z",
     "iopub.status.idle": "2022-01-26T01:27:05.816591Z",
     "shell.execute_reply": "2022-01-26T01:27:05.815992Z",
     "shell.execute_reply.started": "2022-01-25T20:46:34.659498Z"
    },
    "papermill": {
     "duration": 0.198864,
     "end_time": "2022-01-26T01:27:05.816728",
     "exception": false,
     "start_time": "2022-01-26T01:27:05.617864",
     "status": "completed"
    },
    "tags": []
   },
   "outputs": [],
   "source": [
    "# we need to ask ourself important questions\n",
    "\n",
    "# Which are missing because they don't exist? \n",
    "   # if \" not exist \" >> keep it as \" NaN\"\n",
    "\n",
    "# Which are missing because they weren't recorded?\n",
    "   # replace it or remove it"
   ]
  },
  {
   "cell_type": "code",
   "execution_count": 32,
   "id": "61015f70",
   "metadata": {
    "execution": {
     "iopub.execute_input": "2022-01-26T01:27:06.207140Z",
     "iopub.status.busy": "2022-01-26T01:27:06.206433Z",
     "iopub.status.idle": "2022-01-26T01:27:06.208053Z",
     "shell.execute_reply": "2022-01-26T01:27:06.208488Z",
     "shell.execute_reply.started": "2022-01-25T20:46:34.670030Z"
    },
    "papermill": {
     "duration": 0.199143,
     "end_time": "2022-01-26T01:27:06.208646",
     "exception": false,
     "start_time": "2022-01-26T01:27:06.009503",
     "status": "completed"
    },
    "tags": []
   },
   "outputs": [],
   "source": [
    "#Replace by mean:\n",
    "\n",
    " #   \"normalized-losses\": 37 missing data, replace them with mean\n",
    " #   \"stroke\": 4 missing data, replace them with mean\n",
    " #  \"bore\": 4 missing data, replace them with mean\n",
    " #   \"horsepower\": 2 missing data, replace them with mean\n",
    " #   \"peak-rpm\": 2 missing data, replace them with mean\n"
   ]
  },
  {
   "cell_type": "code",
   "execution_count": 33,
   "id": "7f97ce97",
   "metadata": {
    "execution": {
     "iopub.execute_input": "2022-01-26T01:27:06.600068Z",
     "iopub.status.busy": "2022-01-26T01:27:06.599349Z",
     "iopub.status.idle": "2022-01-26T01:27:06.608093Z",
     "shell.execute_reply": "2022-01-26T01:27:06.609029Z",
     "shell.execute_reply.started": "2022-01-25T20:46:34.681208Z"
    },
    "papermill": {
     "duration": 0.207134,
     "end_time": "2022-01-26T01:27:06.609335",
     "exception": false,
     "start_time": "2022-01-26T01:27:06.402201",
     "status": "completed"
    },
    "tags": []
   },
   "outputs": [
    {
     "name": "stdout",
     "output_type": "stream",
     "text": [
      "Average of normalized-losses: 122.0\n"
     ]
    },
    {
     "data": {
      "text/plain": [
       "0      122.0\n",
       "1      122.0\n",
       "2      122.0\n",
       "3        164\n",
       "4        164\n",
       "       ...  \n",
       "200       95\n",
       "201       95\n",
       "202       95\n",
       "203       95\n",
       "204       95\n",
       "Name: normalized-losses, Length: 205, dtype: object"
      ]
     },
     "execution_count": 33,
     "metadata": {},
     "output_type": "execute_result"
    }
   ],
   "source": [
    "avg_norm_loss = df[\"normalized-losses\"].astype(\"float\").mean(axis=0)\n",
    "\n",
    "print(\"Average of normalized-losses:\", avg_norm_loss)\n",
    "\n",
    "df[\"normalized-losses\"].replace(np.nan, avg_norm_loss, inplace=True)\n",
    "\n",
    "df[\"normalized-losses\"]"
   ]
  },
  {
   "cell_type": "code",
   "execution_count": 34,
   "id": "555f9d0e",
   "metadata": {
    "execution": {
     "iopub.execute_input": "2022-01-26T01:27:06.998526Z",
     "iopub.status.busy": "2022-01-26T01:27:06.997862Z",
     "iopub.status.idle": "2022-01-26T01:27:07.011525Z",
     "shell.execute_reply": "2022-01-26T01:27:07.011993Z",
     "shell.execute_reply.started": "2022-01-25T20:46:34.700585Z"
    },
    "papermill": {
     "duration": 0.210115,
     "end_time": "2022-01-26T01:27:07.012167",
     "exception": false,
     "start_time": "2022-01-26T01:27:06.802052",
     "status": "completed"
    },
    "tags": []
   },
   "outputs": [
    {
     "name": "stdout",
     "output_type": "stream",
     "text": [
      "Average of bore: 3.3297512437810957\n",
      "Average of stroke: 3.2554228855721337\n",
      "Average horsepower: 104.25615763546799\n",
      "Average peak rpm: 5125.369458128079\n"
     ]
    }
   ],
   "source": [
    "avg_bore=df['bore'].astype('float').mean(axis=0)\n",
    "print(\"Average of bore:\", avg_bore)\n",
    "df[\"bore\"].replace(np.nan, avg_bore, inplace=True)\n",
    "\n",
    "\n",
    "avg_stroke = df[\"stroke\"].astype(\"float\").mean(axis = 0)\n",
    "print(\"Average of stroke:\", avg_stroke)\n",
    "df[\"stroke\"].replace(np.nan, avg_stroke, inplace = True)\n",
    "\n",
    "\n",
    "avg_horsepower = df['horsepower'].astype('float').mean(axis=0)\n",
    "print(\"Average horsepower:\", avg_horsepower)\n",
    "df['horsepower'].replace(np.nan, avg_horsepower, inplace=True)\n",
    "\n",
    "\n",
    "avg_peakrpm=df['peak-rpm'].astype('float').mean(axis=0)\n",
    "print(\"Average peak rpm:\", avg_peakrpm)\n",
    "df['peak-rpm'].replace(np.nan, avg_peakrpm, inplace=True)\n"
   ]
  },
  {
   "cell_type": "code",
   "execution_count": 35,
   "id": "c6bfc847",
   "metadata": {
    "execution": {
     "iopub.execute_input": "2022-01-26T01:27:07.447949Z",
     "iopub.status.busy": "2022-01-26T01:27:07.447323Z",
     "iopub.status.idle": "2022-01-26T01:27:07.451723Z",
     "shell.execute_reply": "2022-01-26T01:27:07.452371Z",
     "shell.execute_reply.started": "2022-01-25T20:46:34.716939Z"
    },
    "papermill": {
     "duration": 0.227307,
     "end_time": "2022-01-26T01:27:07.452559",
     "exception": false,
     "start_time": "2022-01-26T01:27:07.225252",
     "status": "completed"
    },
    "tags": []
   },
   "outputs": [],
   "source": [
    "# Replace by frequency:\n",
    "\n",
    "# \"num-of-doors\": 2 missing data, replace them with \"four\".\n",
    "\n",
    "#Reason: \n",
    "   # 84% sedans is four doors. Since four doors is most frequent, it is most likely to occur\n"
   ]
  },
  {
   "cell_type": "code",
   "execution_count": 36,
   "id": "619a46f8",
   "metadata": {
    "execution": {
     "iopub.execute_input": "2022-01-26T01:27:07.879739Z",
     "iopub.status.busy": "2022-01-26T01:27:07.878998Z",
     "iopub.status.idle": "2022-01-26T01:27:07.886530Z",
     "shell.execute_reply": "2022-01-26T01:27:07.887232Z",
     "shell.execute_reply.started": "2022-01-25T20:46:34.725511Z"
    },
    "papermill": {
     "duration": 0.229104,
     "end_time": "2022-01-26T01:27:07.887449",
     "exception": false,
     "start_time": "2022-01-26T01:27:07.658345",
     "status": "completed"
    },
    "tags": []
   },
   "outputs": [
    {
     "data": {
      "text/plain": [
       "four    114\n",
       "two      89\n",
       "Name: num-of-doors, dtype: int64"
      ]
     },
     "execution_count": 36,
     "metadata": {},
     "output_type": "execute_result"
    }
   ],
   "source": [
    "df['num-of-doors'].value_counts()\n",
    " #We can see that four doors are the most common type."
   ]
  },
  {
   "cell_type": "code",
   "execution_count": 37,
   "id": "0cee96f5",
   "metadata": {
    "execution": {
     "iopub.execute_input": "2022-01-26T01:27:08.310787Z",
     "iopub.status.busy": "2022-01-26T01:27:08.309750Z",
     "iopub.status.idle": "2022-01-26T01:27:08.314407Z",
     "shell.execute_reply": "2022-01-26T01:27:08.314997Z",
     "shell.execute_reply.started": "2022-01-25T20:46:34.741408Z"
    },
    "papermill": {
     "duration": 0.218451,
     "end_time": "2022-01-26T01:27:08.315195",
     "exception": false,
     "start_time": "2022-01-26T01:27:08.096744",
     "status": "completed"
    },
    "tags": []
   },
   "outputs": [
    {
     "data": {
      "text/plain": [
       "'four'"
      ]
     },
     "execution_count": 37,
     "metadata": {},
     "output_type": "execute_result"
    }
   ],
   "source": [
    "# We can also use the\n",
    "  # \".idxmax()\" method to calculate the most common type automatically:\n",
    "\n",
    "df['num-of-doors'].value_counts().idxmax()"
   ]
  },
  {
   "cell_type": "code",
   "execution_count": 38,
   "id": "f59405c5",
   "metadata": {
    "execution": {
     "iopub.execute_input": "2022-01-26T01:27:08.719868Z",
     "iopub.status.busy": "2022-01-26T01:27:08.718818Z",
     "iopub.status.idle": "2022-01-26T01:27:08.723294Z",
     "shell.execute_reply": "2022-01-26T01:27:08.723835Z",
     "shell.execute_reply.started": "2022-01-25T20:46:34.756367Z"
    },
    "papermill": {
     "duration": 0.213004,
     "end_time": "2022-01-26T01:27:08.724055",
     "exception": false,
     "start_time": "2022-01-26T01:27:08.511051",
     "status": "completed"
    },
    "tags": []
   },
   "outputs": [],
   "source": [
    "#replace the missing 'num-of-doors' values by the most frequent \n",
    "\n",
    "df[\"num-of-doors\"].replace(np.nan, \"four\", inplace=True)"
   ]
  },
  {
   "cell_type": "code",
   "execution_count": 39,
   "id": "69bd7458",
   "metadata": {
    "execution": {
     "iopub.execute_input": "2022-01-26T01:27:09.135136Z",
     "iopub.status.busy": "2022-01-26T01:27:09.134318Z",
     "iopub.status.idle": "2022-01-26T01:27:09.175114Z",
     "shell.execute_reply": "2022-01-26T01:27:09.175619Z",
     "shell.execute_reply.started": "2022-01-25T20:46:34.769970Z"
    },
    "papermill": {
     "duration": 0.249045,
     "end_time": "2022-01-26T01:27:09.175809",
     "exception": false,
     "start_time": "2022-01-26T01:27:08.926764",
     "status": "completed"
    },
    "tags": []
   },
   "outputs": [
    {
     "data": {
      "text/html": [
       "<div>\n",
       "<style scoped>\n",
       "    .dataframe tbody tr th:only-of-type {\n",
       "        vertical-align: middle;\n",
       "    }\n",
       "\n",
       "    .dataframe tbody tr th {\n",
       "        vertical-align: top;\n",
       "    }\n",
       "\n",
       "    .dataframe thead th {\n",
       "        text-align: right;\n",
       "    }\n",
       "</style>\n",
       "<table border=\"1\" class=\"dataframe\">\n",
       "  <thead>\n",
       "    <tr style=\"text-align: right;\">\n",
       "      <th></th>\n",
       "      <th>symboling</th>\n",
       "      <th>normalized-losses</th>\n",
       "      <th>make</th>\n",
       "      <th>fuel-type</th>\n",
       "      <th>aspiration</th>\n",
       "      <th>num-of-doors</th>\n",
       "      <th>body-style</th>\n",
       "      <th>drive-wheels</th>\n",
       "      <th>engine-location</th>\n",
       "      <th>wheel-base</th>\n",
       "      <th>...</th>\n",
       "      <th>engine-size</th>\n",
       "      <th>fuel-system</th>\n",
       "      <th>bore</th>\n",
       "      <th>stroke</th>\n",
       "      <th>compression-ratio</th>\n",
       "      <th>horsepower</th>\n",
       "      <th>peak-rpm</th>\n",
       "      <th>city-mpg</th>\n",
       "      <th>highway-mpg</th>\n",
       "      <th>price</th>\n",
       "    </tr>\n",
       "  </thead>\n",
       "  <tbody>\n",
       "    <tr>\n",
       "      <th>0</th>\n",
       "      <td>3</td>\n",
       "      <td>122.0</td>\n",
       "      <td>alfa-romero</td>\n",
       "      <td>gas</td>\n",
       "      <td>std</td>\n",
       "      <td>two</td>\n",
       "      <td>convertible</td>\n",
       "      <td>rwd</td>\n",
       "      <td>front</td>\n",
       "      <td>88.6</td>\n",
       "      <td>...</td>\n",
       "      <td>130</td>\n",
       "      <td>mpfi</td>\n",
       "      <td>3.47</td>\n",
       "      <td>2.68</td>\n",
       "      <td>9.0</td>\n",
       "      <td>111</td>\n",
       "      <td>5000</td>\n",
       "      <td>21</td>\n",
       "      <td>27</td>\n",
       "      <td>13495</td>\n",
       "    </tr>\n",
       "    <tr>\n",
       "      <th>1</th>\n",
       "      <td>3</td>\n",
       "      <td>122.0</td>\n",
       "      <td>alfa-romero</td>\n",
       "      <td>gas</td>\n",
       "      <td>std</td>\n",
       "      <td>two</td>\n",
       "      <td>convertible</td>\n",
       "      <td>rwd</td>\n",
       "      <td>front</td>\n",
       "      <td>88.6</td>\n",
       "      <td>...</td>\n",
       "      <td>130</td>\n",
       "      <td>mpfi</td>\n",
       "      <td>3.47</td>\n",
       "      <td>2.68</td>\n",
       "      <td>9.0</td>\n",
       "      <td>111</td>\n",
       "      <td>5000</td>\n",
       "      <td>21</td>\n",
       "      <td>27</td>\n",
       "      <td>16500</td>\n",
       "    </tr>\n",
       "    <tr>\n",
       "      <th>2</th>\n",
       "      <td>1</td>\n",
       "      <td>122.0</td>\n",
       "      <td>alfa-romero</td>\n",
       "      <td>gas</td>\n",
       "      <td>std</td>\n",
       "      <td>two</td>\n",
       "      <td>hatchback</td>\n",
       "      <td>rwd</td>\n",
       "      <td>front</td>\n",
       "      <td>94.5</td>\n",
       "      <td>...</td>\n",
       "      <td>152</td>\n",
       "      <td>mpfi</td>\n",
       "      <td>2.68</td>\n",
       "      <td>3.47</td>\n",
       "      <td>9.0</td>\n",
       "      <td>154</td>\n",
       "      <td>5000</td>\n",
       "      <td>19</td>\n",
       "      <td>26</td>\n",
       "      <td>16500</td>\n",
       "    </tr>\n",
       "    <tr>\n",
       "      <th>3</th>\n",
       "      <td>2</td>\n",
       "      <td>164</td>\n",
       "      <td>audi</td>\n",
       "      <td>gas</td>\n",
       "      <td>std</td>\n",
       "      <td>four</td>\n",
       "      <td>sedan</td>\n",
       "      <td>fwd</td>\n",
       "      <td>front</td>\n",
       "      <td>99.8</td>\n",
       "      <td>...</td>\n",
       "      <td>109</td>\n",
       "      <td>mpfi</td>\n",
       "      <td>3.19</td>\n",
       "      <td>3.40</td>\n",
       "      <td>10.0</td>\n",
       "      <td>102</td>\n",
       "      <td>5500</td>\n",
       "      <td>24</td>\n",
       "      <td>30</td>\n",
       "      <td>13950</td>\n",
       "    </tr>\n",
       "    <tr>\n",
       "      <th>4</th>\n",
       "      <td>2</td>\n",
       "      <td>164</td>\n",
       "      <td>audi</td>\n",
       "      <td>gas</td>\n",
       "      <td>std</td>\n",
       "      <td>four</td>\n",
       "      <td>sedan</td>\n",
       "      <td>4wd</td>\n",
       "      <td>front</td>\n",
       "      <td>99.4</td>\n",
       "      <td>...</td>\n",
       "      <td>136</td>\n",
       "      <td>mpfi</td>\n",
       "      <td>3.19</td>\n",
       "      <td>3.40</td>\n",
       "      <td>8.0</td>\n",
       "      <td>115</td>\n",
       "      <td>5500</td>\n",
       "      <td>18</td>\n",
       "      <td>22</td>\n",
       "      <td>17450</td>\n",
       "    </tr>\n",
       "    <tr>\n",
       "      <th>5</th>\n",
       "      <td>2</td>\n",
       "      <td>122.0</td>\n",
       "      <td>audi</td>\n",
       "      <td>gas</td>\n",
       "      <td>std</td>\n",
       "      <td>two</td>\n",
       "      <td>sedan</td>\n",
       "      <td>fwd</td>\n",
       "      <td>front</td>\n",
       "      <td>99.8</td>\n",
       "      <td>...</td>\n",
       "      <td>136</td>\n",
       "      <td>mpfi</td>\n",
       "      <td>3.19</td>\n",
       "      <td>3.40</td>\n",
       "      <td>8.5</td>\n",
       "      <td>110</td>\n",
       "      <td>5500</td>\n",
       "      <td>19</td>\n",
       "      <td>25</td>\n",
       "      <td>15250</td>\n",
       "    </tr>\n",
       "    <tr>\n",
       "      <th>6</th>\n",
       "      <td>1</td>\n",
       "      <td>158</td>\n",
       "      <td>audi</td>\n",
       "      <td>gas</td>\n",
       "      <td>std</td>\n",
       "      <td>four</td>\n",
       "      <td>sedan</td>\n",
       "      <td>fwd</td>\n",
       "      <td>front</td>\n",
       "      <td>105.8</td>\n",
       "      <td>...</td>\n",
       "      <td>136</td>\n",
       "      <td>mpfi</td>\n",
       "      <td>3.19</td>\n",
       "      <td>3.40</td>\n",
       "      <td>8.5</td>\n",
       "      <td>110</td>\n",
       "      <td>5500</td>\n",
       "      <td>19</td>\n",
       "      <td>25</td>\n",
       "      <td>17710</td>\n",
       "    </tr>\n",
       "    <tr>\n",
       "      <th>7</th>\n",
       "      <td>1</td>\n",
       "      <td>122.0</td>\n",
       "      <td>audi</td>\n",
       "      <td>gas</td>\n",
       "      <td>std</td>\n",
       "      <td>four</td>\n",
       "      <td>wagon</td>\n",
       "      <td>fwd</td>\n",
       "      <td>front</td>\n",
       "      <td>105.8</td>\n",
       "      <td>...</td>\n",
       "      <td>136</td>\n",
       "      <td>mpfi</td>\n",
       "      <td>3.19</td>\n",
       "      <td>3.40</td>\n",
       "      <td>8.5</td>\n",
       "      <td>110</td>\n",
       "      <td>5500</td>\n",
       "      <td>19</td>\n",
       "      <td>25</td>\n",
       "      <td>18920</td>\n",
       "    </tr>\n",
       "    <tr>\n",
       "      <th>8</th>\n",
       "      <td>1</td>\n",
       "      <td>158</td>\n",
       "      <td>audi</td>\n",
       "      <td>gas</td>\n",
       "      <td>turbo</td>\n",
       "      <td>four</td>\n",
       "      <td>sedan</td>\n",
       "      <td>fwd</td>\n",
       "      <td>front</td>\n",
       "      <td>105.8</td>\n",
       "      <td>...</td>\n",
       "      <td>131</td>\n",
       "      <td>mpfi</td>\n",
       "      <td>3.13</td>\n",
       "      <td>3.40</td>\n",
       "      <td>8.3</td>\n",
       "      <td>140</td>\n",
       "      <td>5500</td>\n",
       "      <td>17</td>\n",
       "      <td>20</td>\n",
       "      <td>23875</td>\n",
       "    </tr>\n",
       "    <tr>\n",
       "      <th>10</th>\n",
       "      <td>2</td>\n",
       "      <td>192</td>\n",
       "      <td>bmw</td>\n",
       "      <td>gas</td>\n",
       "      <td>std</td>\n",
       "      <td>two</td>\n",
       "      <td>sedan</td>\n",
       "      <td>rwd</td>\n",
       "      <td>front</td>\n",
       "      <td>101.2</td>\n",
       "      <td>...</td>\n",
       "      <td>108</td>\n",
       "      <td>mpfi</td>\n",
       "      <td>3.50</td>\n",
       "      <td>2.80</td>\n",
       "      <td>8.8</td>\n",
       "      <td>101</td>\n",
       "      <td>5800</td>\n",
       "      <td>23</td>\n",
       "      <td>29</td>\n",
       "      <td>16430</td>\n",
       "    </tr>\n",
       "    <tr>\n",
       "      <th>11</th>\n",
       "      <td>0</td>\n",
       "      <td>192</td>\n",
       "      <td>bmw</td>\n",
       "      <td>gas</td>\n",
       "      <td>std</td>\n",
       "      <td>four</td>\n",
       "      <td>sedan</td>\n",
       "      <td>rwd</td>\n",
       "      <td>front</td>\n",
       "      <td>101.2</td>\n",
       "      <td>...</td>\n",
       "      <td>108</td>\n",
       "      <td>mpfi</td>\n",
       "      <td>3.50</td>\n",
       "      <td>2.80</td>\n",
       "      <td>8.8</td>\n",
       "      <td>101</td>\n",
       "      <td>5800</td>\n",
       "      <td>23</td>\n",
       "      <td>29</td>\n",
       "      <td>16925</td>\n",
       "    </tr>\n",
       "    <tr>\n",
       "      <th>12</th>\n",
       "      <td>0</td>\n",
       "      <td>188</td>\n",
       "      <td>bmw</td>\n",
       "      <td>gas</td>\n",
       "      <td>std</td>\n",
       "      <td>two</td>\n",
       "      <td>sedan</td>\n",
       "      <td>rwd</td>\n",
       "      <td>front</td>\n",
       "      <td>101.2</td>\n",
       "      <td>...</td>\n",
       "      <td>164</td>\n",
       "      <td>mpfi</td>\n",
       "      <td>3.31</td>\n",
       "      <td>3.19</td>\n",
       "      <td>9.0</td>\n",
       "      <td>121</td>\n",
       "      <td>4250</td>\n",
       "      <td>21</td>\n",
       "      <td>28</td>\n",
       "      <td>20970</td>\n",
       "    </tr>\n",
       "    <tr>\n",
       "      <th>13</th>\n",
       "      <td>0</td>\n",
       "      <td>188</td>\n",
       "      <td>bmw</td>\n",
       "      <td>gas</td>\n",
       "      <td>std</td>\n",
       "      <td>four</td>\n",
       "      <td>sedan</td>\n",
       "      <td>rwd</td>\n",
       "      <td>front</td>\n",
       "      <td>101.2</td>\n",
       "      <td>...</td>\n",
       "      <td>164</td>\n",
       "      <td>mpfi</td>\n",
       "      <td>3.31</td>\n",
       "      <td>3.19</td>\n",
       "      <td>9.0</td>\n",
       "      <td>121</td>\n",
       "      <td>4250</td>\n",
       "      <td>21</td>\n",
       "      <td>28</td>\n",
       "      <td>21105</td>\n",
       "    </tr>\n",
       "    <tr>\n",
       "      <th>14</th>\n",
       "      <td>1</td>\n",
       "      <td>122.0</td>\n",
       "      <td>bmw</td>\n",
       "      <td>gas</td>\n",
       "      <td>std</td>\n",
       "      <td>four</td>\n",
       "      <td>sedan</td>\n",
       "      <td>rwd</td>\n",
       "      <td>front</td>\n",
       "      <td>103.5</td>\n",
       "      <td>...</td>\n",
       "      <td>164</td>\n",
       "      <td>mpfi</td>\n",
       "      <td>3.31</td>\n",
       "      <td>3.19</td>\n",
       "      <td>9.0</td>\n",
       "      <td>121</td>\n",
       "      <td>4250</td>\n",
       "      <td>20</td>\n",
       "      <td>25</td>\n",
       "      <td>24565</td>\n",
       "    </tr>\n",
       "    <tr>\n",
       "      <th>15</th>\n",
       "      <td>0</td>\n",
       "      <td>122.0</td>\n",
       "      <td>bmw</td>\n",
       "      <td>gas</td>\n",
       "      <td>std</td>\n",
       "      <td>four</td>\n",
       "      <td>sedan</td>\n",
       "      <td>rwd</td>\n",
       "      <td>front</td>\n",
       "      <td>103.5</td>\n",
       "      <td>...</td>\n",
       "      <td>209</td>\n",
       "      <td>mpfi</td>\n",
       "      <td>3.62</td>\n",
       "      <td>3.39</td>\n",
       "      <td>8.0</td>\n",
       "      <td>182</td>\n",
       "      <td>5400</td>\n",
       "      <td>16</td>\n",
       "      <td>22</td>\n",
       "      <td>30760</td>\n",
       "    </tr>\n",
       "    <tr>\n",
       "      <th>16</th>\n",
       "      <td>0</td>\n",
       "      <td>122.0</td>\n",
       "      <td>bmw</td>\n",
       "      <td>gas</td>\n",
       "      <td>std</td>\n",
       "      <td>two</td>\n",
       "      <td>sedan</td>\n",
       "      <td>rwd</td>\n",
       "      <td>front</td>\n",
       "      <td>103.5</td>\n",
       "      <td>...</td>\n",
       "      <td>209</td>\n",
       "      <td>mpfi</td>\n",
       "      <td>3.62</td>\n",
       "      <td>3.39</td>\n",
       "      <td>8.0</td>\n",
       "      <td>182</td>\n",
       "      <td>5400</td>\n",
       "      <td>16</td>\n",
       "      <td>22</td>\n",
       "      <td>41315</td>\n",
       "    </tr>\n",
       "    <tr>\n",
       "      <th>17</th>\n",
       "      <td>0</td>\n",
       "      <td>122.0</td>\n",
       "      <td>bmw</td>\n",
       "      <td>gas</td>\n",
       "      <td>std</td>\n",
       "      <td>four</td>\n",
       "      <td>sedan</td>\n",
       "      <td>rwd</td>\n",
       "      <td>front</td>\n",
       "      <td>110.0</td>\n",
       "      <td>...</td>\n",
       "      <td>209</td>\n",
       "      <td>mpfi</td>\n",
       "      <td>3.62</td>\n",
       "      <td>3.39</td>\n",
       "      <td>8.0</td>\n",
       "      <td>182</td>\n",
       "      <td>5400</td>\n",
       "      <td>15</td>\n",
       "      <td>20</td>\n",
       "      <td>36880</td>\n",
       "    </tr>\n",
       "    <tr>\n",
       "      <th>18</th>\n",
       "      <td>2</td>\n",
       "      <td>121</td>\n",
       "      <td>chevrolet</td>\n",
       "      <td>gas</td>\n",
       "      <td>std</td>\n",
       "      <td>two</td>\n",
       "      <td>hatchback</td>\n",
       "      <td>fwd</td>\n",
       "      <td>front</td>\n",
       "      <td>88.4</td>\n",
       "      <td>...</td>\n",
       "      <td>61</td>\n",
       "      <td>2bbl</td>\n",
       "      <td>2.91</td>\n",
       "      <td>3.03</td>\n",
       "      <td>9.5</td>\n",
       "      <td>48</td>\n",
       "      <td>5100</td>\n",
       "      <td>47</td>\n",
       "      <td>53</td>\n",
       "      <td>5151</td>\n",
       "    </tr>\n",
       "    <tr>\n",
       "      <th>19</th>\n",
       "      <td>1</td>\n",
       "      <td>98</td>\n",
       "      <td>chevrolet</td>\n",
       "      <td>gas</td>\n",
       "      <td>std</td>\n",
       "      <td>two</td>\n",
       "      <td>hatchback</td>\n",
       "      <td>fwd</td>\n",
       "      <td>front</td>\n",
       "      <td>94.5</td>\n",
       "      <td>...</td>\n",
       "      <td>90</td>\n",
       "      <td>2bbl</td>\n",
       "      <td>3.03</td>\n",
       "      <td>3.11</td>\n",
       "      <td>9.6</td>\n",
       "      <td>70</td>\n",
       "      <td>5400</td>\n",
       "      <td>38</td>\n",
       "      <td>43</td>\n",
       "      <td>6295</td>\n",
       "    </tr>\n",
       "    <tr>\n",
       "      <th>20</th>\n",
       "      <td>0</td>\n",
       "      <td>81</td>\n",
       "      <td>chevrolet</td>\n",
       "      <td>gas</td>\n",
       "      <td>std</td>\n",
       "      <td>four</td>\n",
       "      <td>sedan</td>\n",
       "      <td>fwd</td>\n",
       "      <td>front</td>\n",
       "      <td>94.5</td>\n",
       "      <td>...</td>\n",
       "      <td>90</td>\n",
       "      <td>2bbl</td>\n",
       "      <td>3.03</td>\n",
       "      <td>3.11</td>\n",
       "      <td>9.6</td>\n",
       "      <td>70</td>\n",
       "      <td>5400</td>\n",
       "      <td>38</td>\n",
       "      <td>43</td>\n",
       "      <td>6575</td>\n",
       "    </tr>\n",
       "  </tbody>\n",
       "</table>\n",
       "<p>20 rows × 26 columns</p>\n",
       "</div>"
      ],
      "text/plain": [
       "    symboling normalized-losses         make fuel-type aspiration  \\\n",
       "0           3             122.0  alfa-romero       gas        std   \n",
       "1           3             122.0  alfa-romero       gas        std   \n",
       "2           1             122.0  alfa-romero       gas        std   \n",
       "3           2               164         audi       gas        std   \n",
       "4           2               164         audi       gas        std   \n",
       "5           2             122.0         audi       gas        std   \n",
       "6           1               158         audi       gas        std   \n",
       "7           1             122.0         audi       gas        std   \n",
       "8           1               158         audi       gas      turbo   \n",
       "10          2               192          bmw       gas        std   \n",
       "11          0               192          bmw       gas        std   \n",
       "12          0               188          bmw       gas        std   \n",
       "13          0               188          bmw       gas        std   \n",
       "14          1             122.0          bmw       gas        std   \n",
       "15          0             122.0          bmw       gas        std   \n",
       "16          0             122.0          bmw       gas        std   \n",
       "17          0             122.0          bmw       gas        std   \n",
       "18          2               121    chevrolet       gas        std   \n",
       "19          1                98    chevrolet       gas        std   \n",
       "20          0                81    chevrolet       gas        std   \n",
       "\n",
       "   num-of-doors   body-style drive-wheels engine-location  wheel-base  ...  \\\n",
       "0           two  convertible          rwd           front        88.6  ...   \n",
       "1           two  convertible          rwd           front        88.6  ...   \n",
       "2           two    hatchback          rwd           front        94.5  ...   \n",
       "3          four        sedan          fwd           front        99.8  ...   \n",
       "4          four        sedan          4wd           front        99.4  ...   \n",
       "5           two        sedan          fwd           front        99.8  ...   \n",
       "6          four        sedan          fwd           front       105.8  ...   \n",
       "7          four        wagon          fwd           front       105.8  ...   \n",
       "8          four        sedan          fwd           front       105.8  ...   \n",
       "10          two        sedan          rwd           front       101.2  ...   \n",
       "11         four        sedan          rwd           front       101.2  ...   \n",
       "12          two        sedan          rwd           front       101.2  ...   \n",
       "13         four        sedan          rwd           front       101.2  ...   \n",
       "14         four        sedan          rwd           front       103.5  ...   \n",
       "15         four        sedan          rwd           front       103.5  ...   \n",
       "16          two        sedan          rwd           front       103.5  ...   \n",
       "17         four        sedan          rwd           front       110.0  ...   \n",
       "18          two    hatchback          fwd           front        88.4  ...   \n",
       "19          two    hatchback          fwd           front        94.5  ...   \n",
       "20         four        sedan          fwd           front        94.5  ...   \n",
       "\n",
       "    engine-size  fuel-system  bore  stroke compression-ratio horsepower  \\\n",
       "0           130         mpfi  3.47    2.68               9.0        111   \n",
       "1           130         mpfi  3.47    2.68               9.0        111   \n",
       "2           152         mpfi  2.68    3.47               9.0        154   \n",
       "3           109         mpfi  3.19    3.40              10.0        102   \n",
       "4           136         mpfi  3.19    3.40               8.0        115   \n",
       "5           136         mpfi  3.19    3.40               8.5        110   \n",
       "6           136         mpfi  3.19    3.40               8.5        110   \n",
       "7           136         mpfi  3.19    3.40               8.5        110   \n",
       "8           131         mpfi  3.13    3.40               8.3        140   \n",
       "10          108         mpfi  3.50    2.80               8.8        101   \n",
       "11          108         mpfi  3.50    2.80               8.8        101   \n",
       "12          164         mpfi  3.31    3.19               9.0        121   \n",
       "13          164         mpfi  3.31    3.19               9.0        121   \n",
       "14          164         mpfi  3.31    3.19               9.0        121   \n",
       "15          209         mpfi  3.62    3.39               8.0        182   \n",
       "16          209         mpfi  3.62    3.39               8.0        182   \n",
       "17          209         mpfi  3.62    3.39               8.0        182   \n",
       "18           61         2bbl  2.91    3.03               9.5         48   \n",
       "19           90         2bbl  3.03    3.11               9.6         70   \n",
       "20           90         2bbl  3.03    3.11               9.6         70   \n",
       "\n",
       "    peak-rpm city-mpg highway-mpg  price  \n",
       "0       5000       21          27  13495  \n",
       "1       5000       21          27  16500  \n",
       "2       5000       19          26  16500  \n",
       "3       5500       24          30  13950  \n",
       "4       5500       18          22  17450  \n",
       "5       5500       19          25  15250  \n",
       "6       5500       19          25  17710  \n",
       "7       5500       19          25  18920  \n",
       "8       5500       17          20  23875  \n",
       "10      5800       23          29  16430  \n",
       "11      5800       23          29  16925  \n",
       "12      4250       21          28  20970  \n",
       "13      4250       21          28  21105  \n",
       "14      4250       20          25  24565  \n",
       "15      5400       16          22  30760  \n",
       "16      5400       16          22  41315  \n",
       "17      5400       15          20  36880  \n",
       "18      5100       47          53   5151  \n",
       "19      5400       38          43   6295  \n",
       "20      5400       38          43   6575  \n",
       "\n",
       "[20 rows x 26 columns]"
      ]
     },
     "execution_count": 39,
     "metadata": {},
     "output_type": "execute_result"
    }
   ],
   "source": [
    "# Finally \n",
    "  # let's drop all rows that do not have price data from ['price'] column\n",
    "    \n",
    "df.dropna(subset=[\"price\"], axis=0, inplace=True)\n",
    "\n",
    "df.head(20)"
   ]
  },
  {
   "cell_type": "code",
   "execution_count": 40,
   "id": "e92169e5",
   "metadata": {
    "execution": {
     "iopub.execute_input": "2022-01-26T01:27:09.582602Z",
     "iopub.status.busy": "2022-01-26T01:27:09.581933Z",
     "iopub.status.idle": "2022-01-26T01:27:09.583724Z",
     "shell.execute_reply": "2022-01-26T01:27:09.584387Z",
     "shell.execute_reply.started": "2022-01-25T20:46:34.825607Z"
    },
    "papermill": {
     "duration": 0.203798,
     "end_time": "2022-01-26T01:27:09.584559",
     "exception": false,
     "start_time": "2022-01-26T01:27:09.380761",
     "status": "completed"
    },
    "tags": []
   },
   "outputs": [],
   "source": [
    "# as we see the indecies is wrong due to removing rows from [price] column\n",
    "\n",
    "# # reset index, because we droped two rows\n",
    "\n",
    "df.reset_index(drop=True, inplace=True)"
   ]
  },
  {
   "cell_type": "code",
   "execution_count": 41,
   "id": "639cf66f",
   "metadata": {
    "execution": {
     "iopub.execute_input": "2022-01-26T01:27:09.999234Z",
     "iopub.status.busy": "2022-01-26T01:27:09.998582Z",
     "iopub.status.idle": "2022-01-26T01:27:10.013873Z",
     "shell.execute_reply": "2022-01-26T01:27:10.014479Z",
     "shell.execute_reply.started": "2022-01-25T20:46:34.832285Z"
    },
    "papermill": {
     "duration": 0.234338,
     "end_time": "2022-01-26T01:27:10.014663",
     "exception": false,
     "start_time": "2022-01-26T01:27:09.780325",
     "status": "completed"
    },
    "tags": []
   },
   "outputs": [
    {
     "data": {
      "text/html": [
       "<div>\n",
       "<style scoped>\n",
       "    .dataframe tbody tr th:only-of-type {\n",
       "        vertical-align: middle;\n",
       "    }\n",
       "\n",
       "    .dataframe tbody tr th {\n",
       "        vertical-align: top;\n",
       "    }\n",
       "\n",
       "    .dataframe thead th {\n",
       "        text-align: right;\n",
       "    }\n",
       "</style>\n",
       "<table border=\"1\" class=\"dataframe\">\n",
       "  <thead>\n",
       "    <tr style=\"text-align: right;\">\n",
       "      <th></th>\n",
       "      <th>symboling</th>\n",
       "      <th>normalized-losses</th>\n",
       "      <th>make</th>\n",
       "      <th>fuel-type</th>\n",
       "      <th>aspiration</th>\n",
       "      <th>num-of-doors</th>\n",
       "      <th>body-style</th>\n",
       "      <th>drive-wheels</th>\n",
       "      <th>engine-location</th>\n",
       "      <th>wheel-base</th>\n",
       "      <th>...</th>\n",
       "      <th>engine-size</th>\n",
       "      <th>fuel-system</th>\n",
       "      <th>bore</th>\n",
       "      <th>stroke</th>\n",
       "      <th>compression-ratio</th>\n",
       "      <th>horsepower</th>\n",
       "      <th>peak-rpm</th>\n",
       "      <th>city-mpg</th>\n",
       "      <th>highway-mpg</th>\n",
       "      <th>price</th>\n",
       "    </tr>\n",
       "  </thead>\n",
       "  <tbody>\n",
       "    <tr>\n",
       "      <th>0</th>\n",
       "      <td>3</td>\n",
       "      <td>122.0</td>\n",
       "      <td>alfa-romero</td>\n",
       "      <td>gas</td>\n",
       "      <td>std</td>\n",
       "      <td>two</td>\n",
       "      <td>convertible</td>\n",
       "      <td>rwd</td>\n",
       "      <td>front</td>\n",
       "      <td>88.6</td>\n",
       "      <td>...</td>\n",
       "      <td>130</td>\n",
       "      <td>mpfi</td>\n",
       "      <td>3.47</td>\n",
       "      <td>2.68</td>\n",
       "      <td>9.0</td>\n",
       "      <td>111</td>\n",
       "      <td>5000</td>\n",
       "      <td>21</td>\n",
       "      <td>27</td>\n",
       "      <td>13495</td>\n",
       "    </tr>\n",
       "    <tr>\n",
       "      <th>1</th>\n",
       "      <td>3</td>\n",
       "      <td>122.0</td>\n",
       "      <td>alfa-romero</td>\n",
       "      <td>gas</td>\n",
       "      <td>std</td>\n",
       "      <td>two</td>\n",
       "      <td>convertible</td>\n",
       "      <td>rwd</td>\n",
       "      <td>front</td>\n",
       "      <td>88.6</td>\n",
       "      <td>...</td>\n",
       "      <td>130</td>\n",
       "      <td>mpfi</td>\n",
       "      <td>3.47</td>\n",
       "      <td>2.68</td>\n",
       "      <td>9.0</td>\n",
       "      <td>111</td>\n",
       "      <td>5000</td>\n",
       "      <td>21</td>\n",
       "      <td>27</td>\n",
       "      <td>16500</td>\n",
       "    </tr>\n",
       "    <tr>\n",
       "      <th>2</th>\n",
       "      <td>1</td>\n",
       "      <td>122.0</td>\n",
       "      <td>alfa-romero</td>\n",
       "      <td>gas</td>\n",
       "      <td>std</td>\n",
       "      <td>two</td>\n",
       "      <td>hatchback</td>\n",
       "      <td>rwd</td>\n",
       "      <td>front</td>\n",
       "      <td>94.5</td>\n",
       "      <td>...</td>\n",
       "      <td>152</td>\n",
       "      <td>mpfi</td>\n",
       "      <td>2.68</td>\n",
       "      <td>3.47</td>\n",
       "      <td>9.0</td>\n",
       "      <td>154</td>\n",
       "      <td>5000</td>\n",
       "      <td>19</td>\n",
       "      <td>26</td>\n",
       "      <td>16500</td>\n",
       "    </tr>\n",
       "    <tr>\n",
       "      <th>3</th>\n",
       "      <td>2</td>\n",
       "      <td>164</td>\n",
       "      <td>audi</td>\n",
       "      <td>gas</td>\n",
       "      <td>std</td>\n",
       "      <td>four</td>\n",
       "      <td>sedan</td>\n",
       "      <td>fwd</td>\n",
       "      <td>front</td>\n",
       "      <td>99.8</td>\n",
       "      <td>...</td>\n",
       "      <td>109</td>\n",
       "      <td>mpfi</td>\n",
       "      <td>3.19</td>\n",
       "      <td>3.40</td>\n",
       "      <td>10.0</td>\n",
       "      <td>102</td>\n",
       "      <td>5500</td>\n",
       "      <td>24</td>\n",
       "      <td>30</td>\n",
       "      <td>13950</td>\n",
       "    </tr>\n",
       "    <tr>\n",
       "      <th>4</th>\n",
       "      <td>2</td>\n",
       "      <td>164</td>\n",
       "      <td>audi</td>\n",
       "      <td>gas</td>\n",
       "      <td>std</td>\n",
       "      <td>four</td>\n",
       "      <td>sedan</td>\n",
       "      <td>4wd</td>\n",
       "      <td>front</td>\n",
       "      <td>99.4</td>\n",
       "      <td>...</td>\n",
       "      <td>136</td>\n",
       "      <td>mpfi</td>\n",
       "      <td>3.19</td>\n",
       "      <td>3.40</td>\n",
       "      <td>8.0</td>\n",
       "      <td>115</td>\n",
       "      <td>5500</td>\n",
       "      <td>18</td>\n",
       "      <td>22</td>\n",
       "      <td>17450</td>\n",
       "    </tr>\n",
       "    <tr>\n",
       "      <th>5</th>\n",
       "      <td>2</td>\n",
       "      <td>122.0</td>\n",
       "      <td>audi</td>\n",
       "      <td>gas</td>\n",
       "      <td>std</td>\n",
       "      <td>two</td>\n",
       "      <td>sedan</td>\n",
       "      <td>fwd</td>\n",
       "      <td>front</td>\n",
       "      <td>99.8</td>\n",
       "      <td>...</td>\n",
       "      <td>136</td>\n",
       "      <td>mpfi</td>\n",
       "      <td>3.19</td>\n",
       "      <td>3.40</td>\n",
       "      <td>8.5</td>\n",
       "      <td>110</td>\n",
       "      <td>5500</td>\n",
       "      <td>19</td>\n",
       "      <td>25</td>\n",
       "      <td>15250</td>\n",
       "    </tr>\n",
       "    <tr>\n",
       "      <th>6</th>\n",
       "      <td>1</td>\n",
       "      <td>158</td>\n",
       "      <td>audi</td>\n",
       "      <td>gas</td>\n",
       "      <td>std</td>\n",
       "      <td>four</td>\n",
       "      <td>sedan</td>\n",
       "      <td>fwd</td>\n",
       "      <td>front</td>\n",
       "      <td>105.8</td>\n",
       "      <td>...</td>\n",
       "      <td>136</td>\n",
       "      <td>mpfi</td>\n",
       "      <td>3.19</td>\n",
       "      <td>3.40</td>\n",
       "      <td>8.5</td>\n",
       "      <td>110</td>\n",
       "      <td>5500</td>\n",
       "      <td>19</td>\n",
       "      <td>25</td>\n",
       "      <td>17710</td>\n",
       "    </tr>\n",
       "    <tr>\n",
       "      <th>7</th>\n",
       "      <td>1</td>\n",
       "      <td>122.0</td>\n",
       "      <td>audi</td>\n",
       "      <td>gas</td>\n",
       "      <td>std</td>\n",
       "      <td>four</td>\n",
       "      <td>wagon</td>\n",
       "      <td>fwd</td>\n",
       "      <td>front</td>\n",
       "      <td>105.8</td>\n",
       "      <td>...</td>\n",
       "      <td>136</td>\n",
       "      <td>mpfi</td>\n",
       "      <td>3.19</td>\n",
       "      <td>3.40</td>\n",
       "      <td>8.5</td>\n",
       "      <td>110</td>\n",
       "      <td>5500</td>\n",
       "      <td>19</td>\n",
       "      <td>25</td>\n",
       "      <td>18920</td>\n",
       "    </tr>\n",
       "    <tr>\n",
       "      <th>8</th>\n",
       "      <td>1</td>\n",
       "      <td>158</td>\n",
       "      <td>audi</td>\n",
       "      <td>gas</td>\n",
       "      <td>turbo</td>\n",
       "      <td>four</td>\n",
       "      <td>sedan</td>\n",
       "      <td>fwd</td>\n",
       "      <td>front</td>\n",
       "      <td>105.8</td>\n",
       "      <td>...</td>\n",
       "      <td>131</td>\n",
       "      <td>mpfi</td>\n",
       "      <td>3.13</td>\n",
       "      <td>3.40</td>\n",
       "      <td>8.3</td>\n",
       "      <td>140</td>\n",
       "      <td>5500</td>\n",
       "      <td>17</td>\n",
       "      <td>20</td>\n",
       "      <td>23875</td>\n",
       "    </tr>\n",
       "    <tr>\n",
       "      <th>9</th>\n",
       "      <td>2</td>\n",
       "      <td>192</td>\n",
       "      <td>bmw</td>\n",
       "      <td>gas</td>\n",
       "      <td>std</td>\n",
       "      <td>two</td>\n",
       "      <td>sedan</td>\n",
       "      <td>rwd</td>\n",
       "      <td>front</td>\n",
       "      <td>101.2</td>\n",
       "      <td>...</td>\n",
       "      <td>108</td>\n",
       "      <td>mpfi</td>\n",
       "      <td>3.50</td>\n",
       "      <td>2.80</td>\n",
       "      <td>8.8</td>\n",
       "      <td>101</td>\n",
       "      <td>5800</td>\n",
       "      <td>23</td>\n",
       "      <td>29</td>\n",
       "      <td>16430</td>\n",
       "    </tr>\n",
       "    <tr>\n",
       "      <th>10</th>\n",
       "      <td>0</td>\n",
       "      <td>192</td>\n",
       "      <td>bmw</td>\n",
       "      <td>gas</td>\n",
       "      <td>std</td>\n",
       "      <td>four</td>\n",
       "      <td>sedan</td>\n",
       "      <td>rwd</td>\n",
       "      <td>front</td>\n",
       "      <td>101.2</td>\n",
       "      <td>...</td>\n",
       "      <td>108</td>\n",
       "      <td>mpfi</td>\n",
       "      <td>3.50</td>\n",
       "      <td>2.80</td>\n",
       "      <td>8.8</td>\n",
       "      <td>101</td>\n",
       "      <td>5800</td>\n",
       "      <td>23</td>\n",
       "      <td>29</td>\n",
       "      <td>16925</td>\n",
       "    </tr>\n",
       "    <tr>\n",
       "      <th>11</th>\n",
       "      <td>0</td>\n",
       "      <td>188</td>\n",
       "      <td>bmw</td>\n",
       "      <td>gas</td>\n",
       "      <td>std</td>\n",
       "      <td>two</td>\n",
       "      <td>sedan</td>\n",
       "      <td>rwd</td>\n",
       "      <td>front</td>\n",
       "      <td>101.2</td>\n",
       "      <td>...</td>\n",
       "      <td>164</td>\n",
       "      <td>mpfi</td>\n",
       "      <td>3.31</td>\n",
       "      <td>3.19</td>\n",
       "      <td>9.0</td>\n",
       "      <td>121</td>\n",
       "      <td>4250</td>\n",
       "      <td>21</td>\n",
       "      <td>28</td>\n",
       "      <td>20970</td>\n",
       "    </tr>\n",
       "    <tr>\n",
       "      <th>12</th>\n",
       "      <td>0</td>\n",
       "      <td>188</td>\n",
       "      <td>bmw</td>\n",
       "      <td>gas</td>\n",
       "      <td>std</td>\n",
       "      <td>four</td>\n",
       "      <td>sedan</td>\n",
       "      <td>rwd</td>\n",
       "      <td>front</td>\n",
       "      <td>101.2</td>\n",
       "      <td>...</td>\n",
       "      <td>164</td>\n",
       "      <td>mpfi</td>\n",
       "      <td>3.31</td>\n",
       "      <td>3.19</td>\n",
       "      <td>9.0</td>\n",
       "      <td>121</td>\n",
       "      <td>4250</td>\n",
       "      <td>21</td>\n",
       "      <td>28</td>\n",
       "      <td>21105</td>\n",
       "    </tr>\n",
       "    <tr>\n",
       "      <th>13</th>\n",
       "      <td>1</td>\n",
       "      <td>122.0</td>\n",
       "      <td>bmw</td>\n",
       "      <td>gas</td>\n",
       "      <td>std</td>\n",
       "      <td>four</td>\n",
       "      <td>sedan</td>\n",
       "      <td>rwd</td>\n",
       "      <td>front</td>\n",
       "      <td>103.5</td>\n",
       "      <td>...</td>\n",
       "      <td>164</td>\n",
       "      <td>mpfi</td>\n",
       "      <td>3.31</td>\n",
       "      <td>3.19</td>\n",
       "      <td>9.0</td>\n",
       "      <td>121</td>\n",
       "      <td>4250</td>\n",
       "      <td>20</td>\n",
       "      <td>25</td>\n",
       "      <td>24565</td>\n",
       "    </tr>\n",
       "    <tr>\n",
       "      <th>14</th>\n",
       "      <td>0</td>\n",
       "      <td>122.0</td>\n",
       "      <td>bmw</td>\n",
       "      <td>gas</td>\n",
       "      <td>std</td>\n",
       "      <td>four</td>\n",
       "      <td>sedan</td>\n",
       "      <td>rwd</td>\n",
       "      <td>front</td>\n",
       "      <td>103.5</td>\n",
       "      <td>...</td>\n",
       "      <td>209</td>\n",
       "      <td>mpfi</td>\n",
       "      <td>3.62</td>\n",
       "      <td>3.39</td>\n",
       "      <td>8.0</td>\n",
       "      <td>182</td>\n",
       "      <td>5400</td>\n",
       "      <td>16</td>\n",
       "      <td>22</td>\n",
       "      <td>30760</td>\n",
       "    </tr>\n",
       "    <tr>\n",
       "      <th>15</th>\n",
       "      <td>0</td>\n",
       "      <td>122.0</td>\n",
       "      <td>bmw</td>\n",
       "      <td>gas</td>\n",
       "      <td>std</td>\n",
       "      <td>two</td>\n",
       "      <td>sedan</td>\n",
       "      <td>rwd</td>\n",
       "      <td>front</td>\n",
       "      <td>103.5</td>\n",
       "      <td>...</td>\n",
       "      <td>209</td>\n",
       "      <td>mpfi</td>\n",
       "      <td>3.62</td>\n",
       "      <td>3.39</td>\n",
       "      <td>8.0</td>\n",
       "      <td>182</td>\n",
       "      <td>5400</td>\n",
       "      <td>16</td>\n",
       "      <td>22</td>\n",
       "      <td>41315</td>\n",
       "    </tr>\n",
       "    <tr>\n",
       "      <th>16</th>\n",
       "      <td>0</td>\n",
       "      <td>122.0</td>\n",
       "      <td>bmw</td>\n",
       "      <td>gas</td>\n",
       "      <td>std</td>\n",
       "      <td>four</td>\n",
       "      <td>sedan</td>\n",
       "      <td>rwd</td>\n",
       "      <td>front</td>\n",
       "      <td>110.0</td>\n",
       "      <td>...</td>\n",
       "      <td>209</td>\n",
       "      <td>mpfi</td>\n",
       "      <td>3.62</td>\n",
       "      <td>3.39</td>\n",
       "      <td>8.0</td>\n",
       "      <td>182</td>\n",
       "      <td>5400</td>\n",
       "      <td>15</td>\n",
       "      <td>20</td>\n",
       "      <td>36880</td>\n",
       "    </tr>\n",
       "    <tr>\n",
       "      <th>17</th>\n",
       "      <td>2</td>\n",
       "      <td>121</td>\n",
       "      <td>chevrolet</td>\n",
       "      <td>gas</td>\n",
       "      <td>std</td>\n",
       "      <td>two</td>\n",
       "      <td>hatchback</td>\n",
       "      <td>fwd</td>\n",
       "      <td>front</td>\n",
       "      <td>88.4</td>\n",
       "      <td>...</td>\n",
       "      <td>61</td>\n",
       "      <td>2bbl</td>\n",
       "      <td>2.91</td>\n",
       "      <td>3.03</td>\n",
       "      <td>9.5</td>\n",
       "      <td>48</td>\n",
       "      <td>5100</td>\n",
       "      <td>47</td>\n",
       "      <td>53</td>\n",
       "      <td>5151</td>\n",
       "    </tr>\n",
       "    <tr>\n",
       "      <th>18</th>\n",
       "      <td>1</td>\n",
       "      <td>98</td>\n",
       "      <td>chevrolet</td>\n",
       "      <td>gas</td>\n",
       "      <td>std</td>\n",
       "      <td>two</td>\n",
       "      <td>hatchback</td>\n",
       "      <td>fwd</td>\n",
       "      <td>front</td>\n",
       "      <td>94.5</td>\n",
       "      <td>...</td>\n",
       "      <td>90</td>\n",
       "      <td>2bbl</td>\n",
       "      <td>3.03</td>\n",
       "      <td>3.11</td>\n",
       "      <td>9.6</td>\n",
       "      <td>70</td>\n",
       "      <td>5400</td>\n",
       "      <td>38</td>\n",
       "      <td>43</td>\n",
       "      <td>6295</td>\n",
       "    </tr>\n",
       "    <tr>\n",
       "      <th>19</th>\n",
       "      <td>0</td>\n",
       "      <td>81</td>\n",
       "      <td>chevrolet</td>\n",
       "      <td>gas</td>\n",
       "      <td>std</td>\n",
       "      <td>four</td>\n",
       "      <td>sedan</td>\n",
       "      <td>fwd</td>\n",
       "      <td>front</td>\n",
       "      <td>94.5</td>\n",
       "      <td>...</td>\n",
       "      <td>90</td>\n",
       "      <td>2bbl</td>\n",
       "      <td>3.03</td>\n",
       "      <td>3.11</td>\n",
       "      <td>9.6</td>\n",
       "      <td>70</td>\n",
       "      <td>5400</td>\n",
       "      <td>38</td>\n",
       "      <td>43</td>\n",
       "      <td>6575</td>\n",
       "    </tr>\n",
       "  </tbody>\n",
       "</table>\n",
       "<p>20 rows × 26 columns</p>\n",
       "</div>"
      ],
      "text/plain": [
       "    symboling normalized-losses         make fuel-type aspiration  \\\n",
       "0           3             122.0  alfa-romero       gas        std   \n",
       "1           3             122.0  alfa-romero       gas        std   \n",
       "2           1             122.0  alfa-romero       gas        std   \n",
       "3           2               164         audi       gas        std   \n",
       "4           2               164         audi       gas        std   \n",
       "5           2             122.0         audi       gas        std   \n",
       "6           1               158         audi       gas        std   \n",
       "7           1             122.0         audi       gas        std   \n",
       "8           1               158         audi       gas      turbo   \n",
       "9           2               192          bmw       gas        std   \n",
       "10          0               192          bmw       gas        std   \n",
       "11          0               188          bmw       gas        std   \n",
       "12          0               188          bmw       gas        std   \n",
       "13          1             122.0          bmw       gas        std   \n",
       "14          0             122.0          bmw       gas        std   \n",
       "15          0             122.0          bmw       gas        std   \n",
       "16          0             122.0          bmw       gas        std   \n",
       "17          2               121    chevrolet       gas        std   \n",
       "18          1                98    chevrolet       gas        std   \n",
       "19          0                81    chevrolet       gas        std   \n",
       "\n",
       "   num-of-doors   body-style drive-wheels engine-location  wheel-base  ...  \\\n",
       "0           two  convertible          rwd           front        88.6  ...   \n",
       "1           two  convertible          rwd           front        88.6  ...   \n",
       "2           two    hatchback          rwd           front        94.5  ...   \n",
       "3          four        sedan          fwd           front        99.8  ...   \n",
       "4          four        sedan          4wd           front        99.4  ...   \n",
       "5           two        sedan          fwd           front        99.8  ...   \n",
       "6          four        sedan          fwd           front       105.8  ...   \n",
       "7          four        wagon          fwd           front       105.8  ...   \n",
       "8          four        sedan          fwd           front       105.8  ...   \n",
       "9           two        sedan          rwd           front       101.2  ...   \n",
       "10         four        sedan          rwd           front       101.2  ...   \n",
       "11          two        sedan          rwd           front       101.2  ...   \n",
       "12         four        sedan          rwd           front       101.2  ...   \n",
       "13         four        sedan          rwd           front       103.5  ...   \n",
       "14         four        sedan          rwd           front       103.5  ...   \n",
       "15          two        sedan          rwd           front       103.5  ...   \n",
       "16         four        sedan          rwd           front       110.0  ...   \n",
       "17          two    hatchback          fwd           front        88.4  ...   \n",
       "18          two    hatchback          fwd           front        94.5  ...   \n",
       "19         four        sedan          fwd           front        94.5  ...   \n",
       "\n",
       "    engine-size  fuel-system  bore  stroke compression-ratio horsepower  \\\n",
       "0           130         mpfi  3.47    2.68               9.0        111   \n",
       "1           130         mpfi  3.47    2.68               9.0        111   \n",
       "2           152         mpfi  2.68    3.47               9.0        154   \n",
       "3           109         mpfi  3.19    3.40              10.0        102   \n",
       "4           136         mpfi  3.19    3.40               8.0        115   \n",
       "5           136         mpfi  3.19    3.40               8.5        110   \n",
       "6           136         mpfi  3.19    3.40               8.5        110   \n",
       "7           136         mpfi  3.19    3.40               8.5        110   \n",
       "8           131         mpfi  3.13    3.40               8.3        140   \n",
       "9           108         mpfi  3.50    2.80               8.8        101   \n",
       "10          108         mpfi  3.50    2.80               8.8        101   \n",
       "11          164         mpfi  3.31    3.19               9.0        121   \n",
       "12          164         mpfi  3.31    3.19               9.0        121   \n",
       "13          164         mpfi  3.31    3.19               9.0        121   \n",
       "14          209         mpfi  3.62    3.39               8.0        182   \n",
       "15          209         mpfi  3.62    3.39               8.0        182   \n",
       "16          209         mpfi  3.62    3.39               8.0        182   \n",
       "17           61         2bbl  2.91    3.03               9.5         48   \n",
       "18           90         2bbl  3.03    3.11               9.6         70   \n",
       "19           90         2bbl  3.03    3.11               9.6         70   \n",
       "\n",
       "    peak-rpm city-mpg highway-mpg  price  \n",
       "0       5000       21          27  13495  \n",
       "1       5000       21          27  16500  \n",
       "2       5000       19          26  16500  \n",
       "3       5500       24          30  13950  \n",
       "4       5500       18          22  17450  \n",
       "5       5500       19          25  15250  \n",
       "6       5500       19          25  17710  \n",
       "7       5500       19          25  18920  \n",
       "8       5500       17          20  23875  \n",
       "9       5800       23          29  16430  \n",
       "10      5800       23          29  16925  \n",
       "11      4250       21          28  20970  \n",
       "12      4250       21          28  21105  \n",
       "13      4250       20          25  24565  \n",
       "14      5400       16          22  30760  \n",
       "15      5400       16          22  41315  \n",
       "16      5400       15          20  36880  \n",
       "17      5100       47          53   5151  \n",
       "18      5400       38          43   6295  \n",
       "19      5400       38          43   6575  \n",
       "\n",
       "[20 rows x 26 columns]"
      ]
     },
     "execution_count": 41,
     "metadata": {},
     "output_type": "execute_result"
    }
   ],
   "source": [
    "df.head(20)"
   ]
  },
  {
   "cell_type": "code",
   "execution_count": 42,
   "id": "131b48e5",
   "metadata": {
    "execution": {
     "iopub.execute_input": "2022-01-26T01:27:10.412539Z",
     "iopub.status.busy": "2022-01-26T01:27:10.411835Z",
     "iopub.status.idle": "2022-01-26T01:27:10.414987Z",
     "shell.execute_reply": "2022-01-26T01:27:10.415473Z",
     "shell.execute_reply.started": "2022-01-25T20:46:34.878844Z"
    },
    "papermill": {
     "duration": 0.203627,
     "end_time": "2022-01-26T01:27:10.415645",
     "exception": false,
     "start_time": "2022-01-26T01:27:10.212018",
     "status": "completed"
    },
    "tags": []
   },
   "outputs": [],
   "source": [
    "# Correct data format\n",
    "\n",
    "\n",
    "# The last step in data cleaning is :\n",
    "\n",
    " #checking and making sure that all data is in the correct format (int, float, text or other).\n",
    "\n",
    "#  we use:\n",
    "\n",
    "  #   .dtype() to check the data type\n",
    "\n",
    " #   .astype() to change the data type\n"
   ]
  },
  {
   "cell_type": "code",
   "execution_count": 43,
   "id": "d7d1675d",
   "metadata": {
    "execution": {
     "iopub.execute_input": "2022-01-26T01:27:10.822179Z",
     "iopub.status.busy": "2022-01-26T01:27:10.819579Z",
     "iopub.status.idle": "2022-01-26T01:27:10.826358Z",
     "shell.execute_reply": "2022-01-26T01:27:10.826917Z",
     "shell.execute_reply.started": "2022-01-25T20:46:34.884212Z"
    },
    "papermill": {
     "duration": 0.211901,
     "end_time": "2022-01-26T01:27:10.827128",
     "exception": false,
     "start_time": "2022-01-26T01:27:10.615227",
     "status": "completed"
    },
    "tags": []
   },
   "outputs": [
    {
     "data": {
      "text/plain": [
       "symboling              int64\n",
       "normalized-losses     object\n",
       "make                  object\n",
       "fuel-type             object\n",
       "aspiration            object\n",
       "num-of-doors          object\n",
       "body-style            object\n",
       "drive-wheels          object\n",
       "engine-location       object\n",
       "wheel-base           float64\n",
       "length               float64\n",
       "width                float64\n",
       "height               float64\n",
       "curb-weight            int64\n",
       "engine-type           object\n",
       "num-of-cylinders      object\n",
       "engine-size            int64\n",
       "fuel-system           object\n",
       "bore                  object\n",
       "stroke                object\n",
       "compression-ratio    float64\n",
       "horsepower            object\n",
       "peak-rpm              object\n",
       "city-mpg               int64\n",
       "highway-mpg            int64\n",
       "price                 object\n",
       "dtype: object"
      ]
     },
     "execution_count": 43,
     "metadata": {},
     "output_type": "execute_result"
    }
   ],
   "source": [
    "df.dtypes"
   ]
  },
  {
   "cell_type": "code",
   "execution_count": 44,
   "id": "46d8513b",
   "metadata": {
    "execution": {
     "iopub.execute_input": "2022-01-26T01:27:11.223131Z",
     "iopub.status.busy": "2022-01-26T01:27:11.221668Z",
     "iopub.status.idle": "2022-01-26T01:27:11.225772Z",
     "shell.execute_reply": "2022-01-26T01:27:11.225312Z",
     "shell.execute_reply.started": "2022-01-25T20:46:34.899539Z"
    },
    "papermill": {
     "duration": 0.203116,
     "end_time": "2022-01-26T01:27:11.225903",
     "exception": false,
     "start_time": "2022-01-26T01:27:11.022787",
     "status": "completed"
    },
    "tags": []
   },
   "outputs": [],
   "source": [
    "# As we can see above \n",
    "\n",
    "# some columns are not of the correct data type\n",
    "\n",
    "# Numerical variables should have type 'float' or 'int'\n",
    "\n",
    "# variables with strings such as categories should have type 'object'\n",
    "\n",
    "# For example,\n",
    "\n",
    "# 'bore' and 'stroke' variables are numerical values that describe the engines\n",
    "\n",
    "# so, \n",
    "  # we should expect them to be of the type 'float' or 'int'\n",
    "    \n",
    "# however,\n",
    "   # they are shown as type 'object'\n",
    "    \n",
    "#We have to convert data types into a proper format for each column using the \"astype()\" method"
   ]
  },
  {
   "cell_type": "code",
   "execution_count": 45,
   "id": "336f0a33",
   "metadata": {
    "execution": {
     "iopub.execute_input": "2022-01-26T01:27:11.630205Z",
     "iopub.status.busy": "2022-01-26T01:27:11.629607Z",
     "iopub.status.idle": "2022-01-26T01:27:11.634435Z",
     "shell.execute_reply": "2022-01-26T01:27:11.633826Z",
     "shell.execute_reply.started": "2022-01-25T20:46:34.909188Z"
    },
    "papermill": {
     "duration": 0.21152,
     "end_time": "2022-01-26T01:27:11.634563",
     "exception": false,
     "start_time": "2022-01-26T01:27:11.423043",
     "status": "completed"
    },
    "tags": []
   },
   "outputs": [],
   "source": [
    "df[[\"bore\", \"stroke\"]] = df[[\"bore\", \"stroke\"]].astype(\"float\")\n",
    "\n",
    "df[[\"normalized-losses\"]] = df[[\"normalized-losses\"]].astype(\"int\")\n",
    "\n",
    "df[[\"price\"]] = df[[\"price\"]].astype(\"float\")\n",
    "\n",
    "df[[\"peak-rpm\"]] = df[[\"peak-rpm\"]].astype(\"float\")"
   ]
  },
  {
   "cell_type": "code",
   "execution_count": 46,
   "id": "149a5631",
   "metadata": {
    "execution": {
     "iopub.execute_input": "2022-01-26T01:27:12.036497Z",
     "iopub.status.busy": "2022-01-26T01:27:12.035663Z",
     "iopub.status.idle": "2022-01-26T01:27:12.039380Z",
     "shell.execute_reply": "2022-01-26T01:27:12.039809Z",
     "shell.execute_reply.started": "2022-01-25T20:46:34.931233Z"
    },
    "papermill": {
     "duration": 0.206695,
     "end_time": "2022-01-26T01:27:12.040006",
     "exception": false,
     "start_time": "2022-01-26T01:27:11.833311",
     "status": "completed"
    },
    "tags": []
   },
   "outputs": [
    {
     "data": {
      "text/plain": [
       "symboling              int64\n",
       "normalized-losses      int64\n",
       "make                  object\n",
       "fuel-type             object\n",
       "aspiration            object\n",
       "num-of-doors          object\n",
       "body-style            object\n",
       "drive-wheels          object\n",
       "engine-location       object\n",
       "wheel-base           float64\n",
       "length               float64\n",
       "width                float64\n",
       "height               float64\n",
       "curb-weight            int64\n",
       "engine-type           object\n",
       "num-of-cylinders      object\n",
       "engine-size            int64\n",
       "fuel-system           object\n",
       "bore                 float64\n",
       "stroke               float64\n",
       "compression-ratio    float64\n",
       "horsepower            object\n",
       "peak-rpm             float64\n",
       "city-mpg               int64\n",
       "highway-mpg            int64\n",
       "price                float64\n",
       "dtype: object"
      ]
     },
     "execution_count": 46,
     "metadata": {},
     "output_type": "execute_result"
    }
   ],
   "source": [
    "df.dtypes"
   ]
  },
  {
   "cell_type": "code",
   "execution_count": 47,
   "id": "bb22d30f",
   "metadata": {
    "execution": {
     "iopub.execute_input": "2022-01-26T01:27:12.436567Z",
     "iopub.status.busy": "2022-01-26T01:27:12.435952Z",
     "iopub.status.idle": "2022-01-26T01:27:12.438831Z",
     "shell.execute_reply": "2022-01-26T01:27:12.438253Z",
     "shell.execute_reply.started": "2022-01-25T20:46:34.945110Z"
    },
    "papermill": {
     "duration": 0.203514,
     "end_time": "2022-01-26T01:27:12.438990",
     "exception": false,
     "start_time": "2022-01-26T01:27:12.235476",
     "status": "completed"
    },
    "tags": []
   },
   "outputs": [],
   "source": [
    "# Now \n",
    " # we have finally obtained the cleaned dataset with :\n",
    "    # no missing values with all data in its proper format.\n"
   ]
  },
  {
   "cell_type": "code",
   "execution_count": 48,
   "id": "318653ce",
   "metadata": {
    "execution": {
     "iopub.execute_input": "2022-01-26T01:27:12.838132Z",
     "iopub.status.busy": "2022-01-26T01:27:12.837513Z",
     "iopub.status.idle": "2022-01-26T01:27:12.839810Z",
     "shell.execute_reply": "2022-01-26T01:27:12.839263Z",
     "shell.execute_reply.started": "2022-01-25T20:46:34.956933Z"
    },
    "papermill": {
     "duration": 0.203712,
     "end_time": "2022-01-26T01:27:12.839970",
     "exception": false,
     "start_time": "2022-01-26T01:27:12.636258",
     "status": "completed"
    },
    "tags": []
   },
   "outputs": [],
   "source": [
    "# Data Standardization\n",
    "\n",
    "# Data is usually collected from different agencies in different formats.\n",
    " #(Data standardization is also a term for a particular type of data normalization\n",
    "    # where we subtract the mean and divide by the standard deviation.)\n",
    "\n",
    "# Standardization is \n",
    "   # the process of transforming data into a common format \n",
    "    # allowing the researcher to make the meaningful comparison.\n",
    "\n",
    "# Example on our dataset\n",
    "\n",
    " # Transform mpg to L/100km:\n",
    "\n",
    "# In our dataset, \n",
    " #the fuel consumption columns \"city-mpg\" and \"highway-mpg\" \n",
    "    #are represented by mpg (miles per gallon) unit\n",
    "    # Assume we are developing an application in a country\n",
    "    # that accepts the fuel consumption with L/100km standard.\n",
    "\n",
    "# We will need to apply data transformation to transform mpg into L/100km.\n",
    "\n",
    "# The formula for unit conversion is:\n",
    "\n",
    "# L/100km = 235 / mpg "
   ]
  },
  {
   "cell_type": "code",
   "execution_count": 49,
   "id": "de80e133",
   "metadata": {
    "execution": {
     "iopub.execute_input": "2022-01-26T01:27:13.238202Z",
     "iopub.status.busy": "2022-01-26T01:27:13.237561Z",
     "iopub.status.idle": "2022-01-26T01:27:13.262248Z",
     "shell.execute_reply": "2022-01-26T01:27:13.262827Z",
     "shell.execute_reply.started": "2022-01-25T20:46:34.968228Z"
    },
    "papermill": {
     "duration": 0.226516,
     "end_time": "2022-01-26T01:27:13.263006",
     "exception": false,
     "start_time": "2022-01-26T01:27:13.036490",
     "status": "completed"
    },
    "tags": []
   },
   "outputs": [
    {
     "data": {
      "text/html": [
       "<div>\n",
       "<style scoped>\n",
       "    .dataframe tbody tr th:only-of-type {\n",
       "        vertical-align: middle;\n",
       "    }\n",
       "\n",
       "    .dataframe tbody tr th {\n",
       "        vertical-align: top;\n",
       "    }\n",
       "\n",
       "    .dataframe thead th {\n",
       "        text-align: right;\n",
       "    }\n",
       "</style>\n",
       "<table border=\"1\" class=\"dataframe\">\n",
       "  <thead>\n",
       "    <tr style=\"text-align: right;\">\n",
       "      <th></th>\n",
       "      <th>symboling</th>\n",
       "      <th>normalized-losses</th>\n",
       "      <th>make</th>\n",
       "      <th>fuel-type</th>\n",
       "      <th>aspiration</th>\n",
       "      <th>num-of-doors</th>\n",
       "      <th>body-style</th>\n",
       "      <th>drive-wheels</th>\n",
       "      <th>engine-location</th>\n",
       "      <th>wheel-base</th>\n",
       "      <th>...</th>\n",
       "      <th>fuel-system</th>\n",
       "      <th>bore</th>\n",
       "      <th>stroke</th>\n",
       "      <th>compression-ratio</th>\n",
       "      <th>horsepower</th>\n",
       "      <th>peak-rpm</th>\n",
       "      <th>city-mpg</th>\n",
       "      <th>highway-mpg</th>\n",
       "      <th>price</th>\n",
       "      <th>city-L/100km</th>\n",
       "    </tr>\n",
       "  </thead>\n",
       "  <tbody>\n",
       "    <tr>\n",
       "      <th>0</th>\n",
       "      <td>3</td>\n",
       "      <td>122</td>\n",
       "      <td>alfa-romero</td>\n",
       "      <td>gas</td>\n",
       "      <td>std</td>\n",
       "      <td>two</td>\n",
       "      <td>convertible</td>\n",
       "      <td>rwd</td>\n",
       "      <td>front</td>\n",
       "      <td>88.6</td>\n",
       "      <td>...</td>\n",
       "      <td>mpfi</td>\n",
       "      <td>3.47</td>\n",
       "      <td>2.68</td>\n",
       "      <td>9.0</td>\n",
       "      <td>111</td>\n",
       "      <td>5000.0</td>\n",
       "      <td>21</td>\n",
       "      <td>27</td>\n",
       "      <td>13495.0</td>\n",
       "      <td>11.190476</td>\n",
       "    </tr>\n",
       "    <tr>\n",
       "      <th>1</th>\n",
       "      <td>3</td>\n",
       "      <td>122</td>\n",
       "      <td>alfa-romero</td>\n",
       "      <td>gas</td>\n",
       "      <td>std</td>\n",
       "      <td>two</td>\n",
       "      <td>convertible</td>\n",
       "      <td>rwd</td>\n",
       "      <td>front</td>\n",
       "      <td>88.6</td>\n",
       "      <td>...</td>\n",
       "      <td>mpfi</td>\n",
       "      <td>3.47</td>\n",
       "      <td>2.68</td>\n",
       "      <td>9.0</td>\n",
       "      <td>111</td>\n",
       "      <td>5000.0</td>\n",
       "      <td>21</td>\n",
       "      <td>27</td>\n",
       "      <td>16500.0</td>\n",
       "      <td>11.190476</td>\n",
       "    </tr>\n",
       "    <tr>\n",
       "      <th>2</th>\n",
       "      <td>1</td>\n",
       "      <td>122</td>\n",
       "      <td>alfa-romero</td>\n",
       "      <td>gas</td>\n",
       "      <td>std</td>\n",
       "      <td>two</td>\n",
       "      <td>hatchback</td>\n",
       "      <td>rwd</td>\n",
       "      <td>front</td>\n",
       "      <td>94.5</td>\n",
       "      <td>...</td>\n",
       "      <td>mpfi</td>\n",
       "      <td>2.68</td>\n",
       "      <td>3.47</td>\n",
       "      <td>9.0</td>\n",
       "      <td>154</td>\n",
       "      <td>5000.0</td>\n",
       "      <td>19</td>\n",
       "      <td>26</td>\n",
       "      <td>16500.0</td>\n",
       "      <td>12.368421</td>\n",
       "    </tr>\n",
       "    <tr>\n",
       "      <th>3</th>\n",
       "      <td>2</td>\n",
       "      <td>164</td>\n",
       "      <td>audi</td>\n",
       "      <td>gas</td>\n",
       "      <td>std</td>\n",
       "      <td>four</td>\n",
       "      <td>sedan</td>\n",
       "      <td>fwd</td>\n",
       "      <td>front</td>\n",
       "      <td>99.8</td>\n",
       "      <td>...</td>\n",
       "      <td>mpfi</td>\n",
       "      <td>3.19</td>\n",
       "      <td>3.40</td>\n",
       "      <td>10.0</td>\n",
       "      <td>102</td>\n",
       "      <td>5500.0</td>\n",
       "      <td>24</td>\n",
       "      <td>30</td>\n",
       "      <td>13950.0</td>\n",
       "      <td>9.791667</td>\n",
       "    </tr>\n",
       "    <tr>\n",
       "      <th>4</th>\n",
       "      <td>2</td>\n",
       "      <td>164</td>\n",
       "      <td>audi</td>\n",
       "      <td>gas</td>\n",
       "      <td>std</td>\n",
       "      <td>four</td>\n",
       "      <td>sedan</td>\n",
       "      <td>4wd</td>\n",
       "      <td>front</td>\n",
       "      <td>99.4</td>\n",
       "      <td>...</td>\n",
       "      <td>mpfi</td>\n",
       "      <td>3.19</td>\n",
       "      <td>3.40</td>\n",
       "      <td>8.0</td>\n",
       "      <td>115</td>\n",
       "      <td>5500.0</td>\n",
       "      <td>18</td>\n",
       "      <td>22</td>\n",
       "      <td>17450.0</td>\n",
       "      <td>13.055556</td>\n",
       "    </tr>\n",
       "  </tbody>\n",
       "</table>\n",
       "<p>5 rows × 27 columns</p>\n",
       "</div>"
      ],
      "text/plain": [
       "   symboling  normalized-losses         make fuel-type aspiration  \\\n",
       "0          3                122  alfa-romero       gas        std   \n",
       "1          3                122  alfa-romero       gas        std   \n",
       "2          1                122  alfa-romero       gas        std   \n",
       "3          2                164         audi       gas        std   \n",
       "4          2                164         audi       gas        std   \n",
       "\n",
       "  num-of-doors   body-style drive-wheels engine-location  wheel-base  ...  \\\n",
       "0          two  convertible          rwd           front        88.6  ...   \n",
       "1          two  convertible          rwd           front        88.6  ...   \n",
       "2          two    hatchback          rwd           front        94.5  ...   \n",
       "3         four        sedan          fwd           front        99.8  ...   \n",
       "4         four        sedan          4wd           front        99.4  ...   \n",
       "\n",
       "   fuel-system  bore  stroke  compression-ratio horsepower peak-rpm  city-mpg  \\\n",
       "0         mpfi  3.47    2.68                9.0        111   5000.0        21   \n",
       "1         mpfi  3.47    2.68                9.0        111   5000.0        21   \n",
       "2         mpfi  2.68    3.47                9.0        154   5000.0        19   \n",
       "3         mpfi  3.19    3.40               10.0        102   5500.0        24   \n",
       "4         mpfi  3.19    3.40                8.0        115   5500.0        18   \n",
       "\n",
       "  highway-mpg    price  city-L/100km  \n",
       "0          27  13495.0     11.190476  \n",
       "1          27  16500.0     11.190476  \n",
       "2          26  16500.0     12.368421  \n",
       "3          30  13950.0      9.791667  \n",
       "4          22  17450.0     13.055556  \n",
       "\n",
       "[5 rows x 27 columns]"
      ]
     },
     "execution_count": 49,
     "metadata": {},
     "output_type": "execute_result"
    }
   ],
   "source": [
    "# Convert mpg to L/100km by mathematical operation (235 divided by mpg)\n",
    "df['city-L/100km'] = 235/df[\"city-mpg\"]\n",
    "\n",
    "# check your transformed data \n",
    "df.head()"
   ]
  },
  {
   "cell_type": "code",
   "execution_count": 50,
   "id": "121ae1f4",
   "metadata": {
    "execution": {
     "iopub.execute_input": "2022-01-26T01:27:13.658912Z",
     "iopub.status.busy": "2022-01-26T01:27:13.658280Z",
     "iopub.status.idle": "2022-01-26T01:27:13.685546Z",
     "shell.execute_reply": "2022-01-26T01:27:13.686074Z",
     "shell.execute_reply.started": "2022-01-25T20:46:35.004952Z"
    },
    "papermill": {
     "duration": 0.226647,
     "end_time": "2022-01-26T01:27:13.686241",
     "exception": false,
     "start_time": "2022-01-26T01:27:13.459594",
     "status": "completed"
    },
    "tags": []
   },
   "outputs": [
    {
     "data": {
      "text/html": [
       "<div>\n",
       "<style scoped>\n",
       "    .dataframe tbody tr th:only-of-type {\n",
       "        vertical-align: middle;\n",
       "    }\n",
       "\n",
       "    .dataframe tbody tr th {\n",
       "        vertical-align: top;\n",
       "    }\n",
       "\n",
       "    .dataframe thead th {\n",
       "        text-align: right;\n",
       "    }\n",
       "</style>\n",
       "<table border=\"1\" class=\"dataframe\">\n",
       "  <thead>\n",
       "    <tr style=\"text-align: right;\">\n",
       "      <th></th>\n",
       "      <th>symboling</th>\n",
       "      <th>normalized-losses</th>\n",
       "      <th>make</th>\n",
       "      <th>fuel-type</th>\n",
       "      <th>aspiration</th>\n",
       "      <th>num-of-doors</th>\n",
       "      <th>body-style</th>\n",
       "      <th>drive-wheels</th>\n",
       "      <th>engine-location</th>\n",
       "      <th>wheel-base</th>\n",
       "      <th>...</th>\n",
       "      <th>fuel-system</th>\n",
       "      <th>bore</th>\n",
       "      <th>stroke</th>\n",
       "      <th>compression-ratio</th>\n",
       "      <th>horsepower</th>\n",
       "      <th>peak-rpm</th>\n",
       "      <th>city-mpg</th>\n",
       "      <th>highway-mpg</th>\n",
       "      <th>price</th>\n",
       "      <th>city-L/100km</th>\n",
       "    </tr>\n",
       "  </thead>\n",
       "  <tbody>\n",
       "    <tr>\n",
       "      <th>0</th>\n",
       "      <td>3</td>\n",
       "      <td>122</td>\n",
       "      <td>alfa-romero</td>\n",
       "      <td>gas</td>\n",
       "      <td>std</td>\n",
       "      <td>two</td>\n",
       "      <td>convertible</td>\n",
       "      <td>rwd</td>\n",
       "      <td>front</td>\n",
       "      <td>88.6</td>\n",
       "      <td>...</td>\n",
       "      <td>mpfi</td>\n",
       "      <td>3.47</td>\n",
       "      <td>2.68</td>\n",
       "      <td>9.0</td>\n",
       "      <td>111</td>\n",
       "      <td>5000.0</td>\n",
       "      <td>21</td>\n",
       "      <td>8.703704</td>\n",
       "      <td>13495.0</td>\n",
       "      <td>11.190476</td>\n",
       "    </tr>\n",
       "    <tr>\n",
       "      <th>1</th>\n",
       "      <td>3</td>\n",
       "      <td>122</td>\n",
       "      <td>alfa-romero</td>\n",
       "      <td>gas</td>\n",
       "      <td>std</td>\n",
       "      <td>two</td>\n",
       "      <td>convertible</td>\n",
       "      <td>rwd</td>\n",
       "      <td>front</td>\n",
       "      <td>88.6</td>\n",
       "      <td>...</td>\n",
       "      <td>mpfi</td>\n",
       "      <td>3.47</td>\n",
       "      <td>2.68</td>\n",
       "      <td>9.0</td>\n",
       "      <td>111</td>\n",
       "      <td>5000.0</td>\n",
       "      <td>21</td>\n",
       "      <td>8.703704</td>\n",
       "      <td>16500.0</td>\n",
       "      <td>11.190476</td>\n",
       "    </tr>\n",
       "    <tr>\n",
       "      <th>2</th>\n",
       "      <td>1</td>\n",
       "      <td>122</td>\n",
       "      <td>alfa-romero</td>\n",
       "      <td>gas</td>\n",
       "      <td>std</td>\n",
       "      <td>two</td>\n",
       "      <td>hatchback</td>\n",
       "      <td>rwd</td>\n",
       "      <td>front</td>\n",
       "      <td>94.5</td>\n",
       "      <td>...</td>\n",
       "      <td>mpfi</td>\n",
       "      <td>2.68</td>\n",
       "      <td>3.47</td>\n",
       "      <td>9.0</td>\n",
       "      <td>154</td>\n",
       "      <td>5000.0</td>\n",
       "      <td>19</td>\n",
       "      <td>9.038462</td>\n",
       "      <td>16500.0</td>\n",
       "      <td>12.368421</td>\n",
       "    </tr>\n",
       "    <tr>\n",
       "      <th>3</th>\n",
       "      <td>2</td>\n",
       "      <td>164</td>\n",
       "      <td>audi</td>\n",
       "      <td>gas</td>\n",
       "      <td>std</td>\n",
       "      <td>four</td>\n",
       "      <td>sedan</td>\n",
       "      <td>fwd</td>\n",
       "      <td>front</td>\n",
       "      <td>99.8</td>\n",
       "      <td>...</td>\n",
       "      <td>mpfi</td>\n",
       "      <td>3.19</td>\n",
       "      <td>3.40</td>\n",
       "      <td>10.0</td>\n",
       "      <td>102</td>\n",
       "      <td>5500.0</td>\n",
       "      <td>24</td>\n",
       "      <td>7.833333</td>\n",
       "      <td>13950.0</td>\n",
       "      <td>9.791667</td>\n",
       "    </tr>\n",
       "    <tr>\n",
       "      <th>4</th>\n",
       "      <td>2</td>\n",
       "      <td>164</td>\n",
       "      <td>audi</td>\n",
       "      <td>gas</td>\n",
       "      <td>std</td>\n",
       "      <td>four</td>\n",
       "      <td>sedan</td>\n",
       "      <td>4wd</td>\n",
       "      <td>front</td>\n",
       "      <td>99.4</td>\n",
       "      <td>...</td>\n",
       "      <td>mpfi</td>\n",
       "      <td>3.19</td>\n",
       "      <td>3.40</td>\n",
       "      <td>8.0</td>\n",
       "      <td>115</td>\n",
       "      <td>5500.0</td>\n",
       "      <td>18</td>\n",
       "      <td>10.681818</td>\n",
       "      <td>17450.0</td>\n",
       "      <td>13.055556</td>\n",
       "    </tr>\n",
       "  </tbody>\n",
       "</table>\n",
       "<p>5 rows × 27 columns</p>\n",
       "</div>"
      ],
      "text/plain": [
       "   symboling  normalized-losses         make fuel-type aspiration  \\\n",
       "0          3                122  alfa-romero       gas        std   \n",
       "1          3                122  alfa-romero       gas        std   \n",
       "2          1                122  alfa-romero       gas        std   \n",
       "3          2                164         audi       gas        std   \n",
       "4          2                164         audi       gas        std   \n",
       "\n",
       "  num-of-doors   body-style drive-wheels engine-location  wheel-base  ...  \\\n",
       "0          two  convertible          rwd           front        88.6  ...   \n",
       "1          two  convertible          rwd           front        88.6  ...   \n",
       "2          two    hatchback          rwd           front        94.5  ...   \n",
       "3         four        sedan          fwd           front        99.8  ...   \n",
       "4         four        sedan          4wd           front        99.4  ...   \n",
       "\n",
       "   fuel-system  bore  stroke  compression-ratio horsepower peak-rpm  city-mpg  \\\n",
       "0         mpfi  3.47    2.68                9.0        111   5000.0        21   \n",
       "1         mpfi  3.47    2.68                9.0        111   5000.0        21   \n",
       "2         mpfi  2.68    3.47                9.0        154   5000.0        19   \n",
       "3         mpfi  3.19    3.40               10.0        102   5500.0        24   \n",
       "4         mpfi  3.19    3.40                8.0        115   5500.0        18   \n",
       "\n",
       "  highway-mpg    price  city-L/100km  \n",
       "0    8.703704  13495.0     11.190476  \n",
       "1    8.703704  16500.0     11.190476  \n",
       "2    9.038462  16500.0     12.368421  \n",
       "3    7.833333  13950.0      9.791667  \n",
       "4   10.681818  17450.0     13.055556  \n",
       "\n",
       "[5 rows x 27 columns]"
      ]
     },
     "execution_count": 50,
     "metadata": {},
     "output_type": "execute_result"
    }
   ],
   "source": [
    "# transform mpg to L/100km in the column of \"highway-mpg\" \n",
    "\n",
    "df[\"highway-mpg\"] = 235/df[\"highway-mpg\"]\n",
    "\n",
    "# change the name of column to \"highway-L/100km\"\n",
    "\n",
    "df.rename(columns={'\"highway-mpg\"':'highway-L/100km'}, inplace=True)\n",
    "\n",
    "\n",
    "df.head()"
   ]
  },
  {
   "cell_type": "code",
   "execution_count": 51,
   "id": "67eb3a47",
   "metadata": {
    "execution": {
     "iopub.execute_input": "2022-01-26T01:27:14.091931Z",
     "iopub.status.busy": "2022-01-26T01:27:14.090109Z",
     "iopub.status.idle": "2022-01-26T01:27:14.094547Z",
     "shell.execute_reply": "2022-01-26T01:27:14.094011Z",
     "shell.execute_reply.started": "2022-01-25T20:46:35.038127Z"
    },
    "papermill": {
     "duration": 0.208362,
     "end_time": "2022-01-26T01:27:14.094684",
     "exception": false,
     "start_time": "2022-01-26T01:27:13.886322",
     "status": "completed"
    },
    "tags": []
   },
   "outputs": [],
   "source": [
    "# Data Normalization\n",
    "\n",
    "\n",
    "# Normalization \n",
    " #is the process of transforming values of several variables into a similar range.\n",
    "    # Typical normalizations include scaling the variable \n",
    "    # so the variable average is 0, \n",
    "    # scaling the variable so the variance is 1, \n",
    "    # or scaling the variable so the variable values range from 0 to 1.\n",
    "\n",
    "# Example\n",
    "\n",
    "# To demonstrate normalization, let's say we want to scale the columns \"length\", \"width\" and \"height\".\n",
    "\n",
    "# Target: would like to normalize those variables so their value ranges from 0 to 1\n",
    "\n",
    "# Approach: replace original value by (original value)/(maximum value)\n"
   ]
  },
  {
   "cell_type": "code",
   "execution_count": 52,
   "id": "df710fd1",
   "metadata": {
    "execution": {
     "iopub.execute_input": "2022-01-26T01:27:14.492666Z",
     "iopub.status.busy": "2022-01-26T01:27:14.492096Z",
     "iopub.status.idle": "2022-01-26T01:27:14.497524Z",
     "shell.execute_reply": "2022-01-26T01:27:14.498079Z",
     "shell.execute_reply.started": "2022-01-25T20:46:35.044606Z"
    },
    "papermill": {
     "duration": 0.205889,
     "end_time": "2022-01-26T01:27:14.498238",
     "exception": false,
     "start_time": "2022-01-26T01:27:14.292349",
     "status": "completed"
    },
    "tags": []
   },
   "outputs": [],
   "source": [
    "# replace (original value) by (original value)/(maximum value)\n",
    "\n",
    "df['length'] = df['length']/df['length'].max()\n",
    "\n",
    "df['width'] = df['width']/df['width'].max()\n",
    "\n",
    "df['height'] = df['height']/df['height'].max()\n"
   ]
  },
  {
   "cell_type": "code",
   "execution_count": 53,
   "id": "6bca6648",
   "metadata": {
    "execution": {
     "iopub.execute_input": "2022-01-26T01:27:14.926397Z",
     "iopub.status.busy": "2022-01-26T01:27:14.925690Z",
     "iopub.status.idle": "2022-01-26T01:27:14.935936Z",
     "shell.execute_reply": "2022-01-26T01:27:14.936747Z",
     "shell.execute_reply.started": "2022-01-25T20:46:35.058334Z"
    },
    "papermill": {
     "duration": 0.241713,
     "end_time": "2022-01-26T01:27:14.936941",
     "exception": false,
     "start_time": "2022-01-26T01:27:14.695228",
     "status": "completed"
    },
    "tags": []
   },
   "outputs": [
    {
     "data": {
      "text/html": [
       "<div>\n",
       "<style scoped>\n",
       "    .dataframe tbody tr th:only-of-type {\n",
       "        vertical-align: middle;\n",
       "    }\n",
       "\n",
       "    .dataframe tbody tr th {\n",
       "        vertical-align: top;\n",
       "    }\n",
       "\n",
       "    .dataframe thead th {\n",
       "        text-align: right;\n",
       "    }\n",
       "</style>\n",
       "<table border=\"1\" class=\"dataframe\">\n",
       "  <thead>\n",
       "    <tr style=\"text-align: right;\">\n",
       "      <th></th>\n",
       "      <th>length</th>\n",
       "      <th>width</th>\n",
       "      <th>height</th>\n",
       "    </tr>\n",
       "  </thead>\n",
       "  <tbody>\n",
       "    <tr>\n",
       "      <th>0</th>\n",
       "      <td>0.811148</td>\n",
       "      <td>0.890278</td>\n",
       "      <td>0.816054</td>\n",
       "    </tr>\n",
       "    <tr>\n",
       "      <th>1</th>\n",
       "      <td>0.811148</td>\n",
       "      <td>0.890278</td>\n",
       "      <td>0.816054</td>\n",
       "    </tr>\n",
       "    <tr>\n",
       "      <th>2</th>\n",
       "      <td>0.822681</td>\n",
       "      <td>0.909722</td>\n",
       "      <td>0.876254</td>\n",
       "    </tr>\n",
       "    <tr>\n",
       "      <th>3</th>\n",
       "      <td>0.848630</td>\n",
       "      <td>0.919444</td>\n",
       "      <td>0.908027</td>\n",
       "    </tr>\n",
       "    <tr>\n",
       "      <th>4</th>\n",
       "      <td>0.848630</td>\n",
       "      <td>0.922222</td>\n",
       "      <td>0.908027</td>\n",
       "    </tr>\n",
       "  </tbody>\n",
       "</table>\n",
       "</div>"
      ],
      "text/plain": [
       "     length     width    height\n",
       "0  0.811148  0.890278  0.816054\n",
       "1  0.811148  0.890278  0.816054\n",
       "2  0.822681  0.909722  0.876254\n",
       "3  0.848630  0.919444  0.908027\n",
       "4  0.848630  0.922222  0.908027"
      ]
     },
     "execution_count": 53,
     "metadata": {},
     "output_type": "execute_result"
    }
   ],
   "source": [
    "df[[\"length\",\"width\",\"height\"]].head()\n",
    "\n",
    "# Here we can see we've \n",
    " #normalized \"length\", \"width\" and \"height\" in the range of [0,1].\n"
   ]
  },
  {
   "cell_type": "code",
   "execution_count": 54,
   "id": "b4a149d9",
   "metadata": {
    "execution": {
     "iopub.execute_input": "2022-01-26T01:27:15.340866Z",
     "iopub.status.busy": "2022-01-26T01:27:15.340246Z",
     "iopub.status.idle": "2022-01-26T01:27:15.343364Z",
     "shell.execute_reply": "2022-01-26T01:27:15.343980Z",
     "shell.execute_reply.started": "2022-01-25T20:46:35.105152Z"
    },
    "papermill": {
     "duration": 0.206252,
     "end_time": "2022-01-26T01:27:15.344143",
     "exception": false,
     "start_time": "2022-01-26T01:27:15.137891",
     "status": "completed"
    },
    "tags": []
   },
   "outputs": [],
   "source": [
    "# Binning\n",
    "\n",
    "\n",
    "# Binning is a process of transforming continuous numerical variables\n",
    "# into discrete categorical 'bins' for grouped analysis.\n",
    "\n",
    "# Example:\n",
    "\n",
    "# In our dataset, \"horsepower\" is a real valued variable \n",
    "# ranging from 48 to 288 and it has 59 unique values. \n",
    "\n",
    "# What if we only care about the price difference between cars \n",
    "  # with \n",
    "    # high horsepower\n",
    "    # medium horsepower \n",
    "    # little horsepower (3 types)\n",
    "    \n",
    "    # Can we rearrange them into three ‘bins' to simplify analysis?\n",
    "\n",
    "# We will use the pandas method 'cut' to segment the 'horsepower' column into 3 bins.\n"
   ]
  },
  {
   "cell_type": "code",
   "execution_count": 55,
   "id": "1ecf37f9",
   "metadata": {
    "execution": {
     "iopub.execute_input": "2022-01-26T01:27:15.742981Z",
     "iopub.status.busy": "2022-01-26T01:27:15.742387Z",
     "iopub.status.idle": "2022-01-26T01:27:15.746593Z",
     "shell.execute_reply": "2022-01-26T01:27:15.747187Z",
     "shell.execute_reply.started": "2022-01-25T20:46:35.112144Z"
    },
    "papermill": {
     "duration": 0.205689,
     "end_time": "2022-01-26T01:27:15.747343",
     "exception": false,
     "start_time": "2022-01-26T01:27:15.541654",
     "status": "completed"
    },
    "tags": []
   },
   "outputs": [],
   "source": [
    "# 1st Convert data to correct format:\n",
    "\n",
    "df[\"horsepower\"]=df[\"horsepower\"].astype(int, copy=True)\n"
   ]
  },
  {
   "cell_type": "code",
   "execution_count": 56,
   "id": "1d1419a2",
   "metadata": {
    "execution": {
     "iopub.execute_input": "2022-01-26T01:27:16.150449Z",
     "iopub.status.busy": "2022-01-26T01:27:16.149777Z",
     "iopub.status.idle": "2022-01-26T01:27:16.396527Z",
     "shell.execute_reply": "2022-01-26T01:27:16.396027Z",
     "shell.execute_reply.started": "2022-01-25T20:46:35.125410Z"
    },
    "papermill": {
     "duration": 0.448216,
     "end_time": "2022-01-26T01:27:16.396672",
     "exception": false,
     "start_time": "2022-01-26T01:27:15.948456",
     "status": "completed"
    },
    "tags": []
   },
   "outputs": [
    {
     "data": {
      "text/plain": [
       "Text(0.5, 1.0, 'horsepower bins')"
      ]
     },
     "execution_count": 56,
     "metadata": {},
     "output_type": "execute_result"
    },
    {
     "data": {
      "image/png": "[encoded data removed]",
      "text/plain": [
       "<Figure size 432x288 with 1 Axes>"
      ]
     },
     "metadata": {
      "needs_background": "light"
     },
     "output_type": "display_data"
    }
   ],
   "source": [
    "# Let's plot the histogram of horsepower to see what the distribution of horsepower looks like.\n",
    "\n",
    "%matplotlib inline\n",
    "\n",
    "import matplotlib as plt\n",
    "\n",
    "from matplotlib import pyplot\n",
    "\n",
    "plt.pyplot.hist(df[\"horsepower\"])\n",
    "\n",
    "\n",
    "\n",
    "# set x/y labels and plot title\n",
    "\n",
    "plt.pyplot.xlabel(\"horsepower\")\n",
    "\n",
    "plt.pyplot.ylabel(\"count\")\n",
    "\n",
    "plt.pyplot.title(\"horsepower bins\")"
   ]
  },
  {
   "cell_type": "code",
   "execution_count": 57,
   "id": "f529bbb5",
   "metadata": {
    "execution": {
     "iopub.execute_input": "2022-01-26T01:27:16.799629Z",
     "iopub.status.busy": "2022-01-26T01:27:16.798946Z",
     "iopub.status.idle": "2022-01-26T01:27:16.805363Z",
     "shell.execute_reply": "2022-01-26T01:27:16.806067Z",
     "shell.execute_reply.started": "2022-01-25T20:46:35.498047Z"
    },
    "papermill": {
     "duration": 0.209345,
     "end_time": "2022-01-26T01:27:16.806232",
     "exception": false,
     "start_time": "2022-01-26T01:27:16.596887",
     "status": "completed"
    },
    "tags": []
   },
   "outputs": [
    {
     "data": {
      "text/plain": [
       "array([ 48.        , 119.33333333, 190.66666667, 262.        ])"
      ]
     },
     "execution_count": 57,
     "metadata": {},
     "output_type": "execute_result"
    }
   ],
   "source": [
    "# We need only 3 bins of equal size bandwidth \n",
    "\n",
    "# so we use\n",
    "  # numpy's linspace(start_value, end_value, numbers_generated function\n",
    "\n",
    "\n",
    "# Since we want to include the minimum value of horsepower, set start_value = min(df[\"horsepower\"]).\n",
    "\n",
    "# Since we want to include the maximum value of horsepower, end_value = max(df[\"horsepower\"]).\n",
    "\n",
    "# Since we are building 3 bins of equal length, there should be 4 dividers,\n",
    "   \n",
    "     # so\n",
    "         # numbers_generated = 4\n",
    "\n",
    "            \n",
    "bins = np.linspace(min(df[\"horsepower\"]), max(df[\"horsepower\"]), 4)\n",
    "bins"
   ]
  },
  {
   "cell_type": "code",
   "execution_count": 58,
   "id": "dc06f767",
   "metadata": {
    "execution": {
     "iopub.execute_input": "2022-01-26T01:27:17.208578Z",
     "iopub.status.busy": "2022-01-26T01:27:17.207976Z",
     "iopub.status.idle": "2022-01-26T01:27:17.211082Z",
     "shell.execute_reply": "2022-01-26T01:27:17.211646Z",
     "shell.execute_reply.started": "2022-01-25T20:46:35.509353Z"
    },
    "papermill": {
     "duration": 0.205944,
     "end_time": "2022-01-26T01:27:17.211818",
     "exception": false,
     "start_time": "2022-01-26T01:27:17.005874",
     "status": "completed"
    },
    "tags": []
   },
   "outputs": [],
   "source": [
    "group_names = ['Low', 'Medium', 'High']"
   ]
  },
  {
   "cell_type": "code",
   "execution_count": 59,
   "id": "0ec6220e",
   "metadata": {
    "execution": {
     "iopub.execute_input": "2022-01-26T01:27:17.677464Z",
     "iopub.status.busy": "2022-01-26T01:27:17.676820Z",
     "iopub.status.idle": "2022-01-26T01:27:17.692443Z",
     "shell.execute_reply": "2022-01-26T01:27:17.691921Z",
     "shell.execute_reply.started": "2022-01-25T20:46:35.518499Z"
    },
    "papermill": {
     "duration": 0.219512,
     "end_time": "2022-01-26T01:27:17.692581",
     "exception": false,
     "start_time": "2022-01-26T01:27:17.473069",
     "status": "completed"
    },
    "tags": []
   },
   "outputs": [
    {
     "data": {
      "text/html": [
       "<div>\n",
       "<style scoped>\n",
       "    .dataframe tbody tr th:only-of-type {\n",
       "        vertical-align: middle;\n",
       "    }\n",
       "\n",
       "    .dataframe tbody tr th {\n",
       "        vertical-align: top;\n",
       "    }\n",
       "\n",
       "    .dataframe thead th {\n",
       "        text-align: right;\n",
       "    }\n",
       "</style>\n",
       "<table border=\"1\" class=\"dataframe\">\n",
       "  <thead>\n",
       "    <tr style=\"text-align: right;\">\n",
       "      <th></th>\n",
       "      <th>horsepower</th>\n",
       "      <th>horsepower-binned</th>\n",
       "    </tr>\n",
       "  </thead>\n",
       "  <tbody>\n",
       "    <tr>\n",
       "      <th>0</th>\n",
       "      <td>111</td>\n",
       "      <td>Low</td>\n",
       "    </tr>\n",
       "    <tr>\n",
       "      <th>1</th>\n",
       "      <td>111</td>\n",
       "      <td>Low</td>\n",
       "    </tr>\n",
       "    <tr>\n",
       "      <th>2</th>\n",
       "      <td>154</td>\n",
       "      <td>Medium</td>\n",
       "    </tr>\n",
       "    <tr>\n",
       "      <th>3</th>\n",
       "      <td>102</td>\n",
       "      <td>Low</td>\n",
       "    </tr>\n",
       "    <tr>\n",
       "      <th>4</th>\n",
       "      <td>115</td>\n",
       "      <td>Low</td>\n",
       "    </tr>\n",
       "    <tr>\n",
       "      <th>5</th>\n",
       "      <td>110</td>\n",
       "      <td>Low</td>\n",
       "    </tr>\n",
       "    <tr>\n",
       "      <th>6</th>\n",
       "      <td>110</td>\n",
       "      <td>Low</td>\n",
       "    </tr>\n",
       "    <tr>\n",
       "      <th>7</th>\n",
       "      <td>110</td>\n",
       "      <td>Low</td>\n",
       "    </tr>\n",
       "    <tr>\n",
       "      <th>8</th>\n",
       "      <td>140</td>\n",
       "      <td>Medium</td>\n",
       "    </tr>\n",
       "    <tr>\n",
       "      <th>9</th>\n",
       "      <td>101</td>\n",
       "      <td>Low</td>\n",
       "    </tr>\n",
       "    <tr>\n",
       "      <th>10</th>\n",
       "      <td>101</td>\n",
       "      <td>Low</td>\n",
       "    </tr>\n",
       "    <tr>\n",
       "      <th>11</th>\n",
       "      <td>121</td>\n",
       "      <td>Medium</td>\n",
       "    </tr>\n",
       "    <tr>\n",
       "      <th>12</th>\n",
       "      <td>121</td>\n",
       "      <td>Medium</td>\n",
       "    </tr>\n",
       "    <tr>\n",
       "      <th>13</th>\n",
       "      <td>121</td>\n",
       "      <td>Medium</td>\n",
       "    </tr>\n",
       "    <tr>\n",
       "      <th>14</th>\n",
       "      <td>182</td>\n",
       "      <td>Medium</td>\n",
       "    </tr>\n",
       "    <tr>\n",
       "      <th>15</th>\n",
       "      <td>182</td>\n",
       "      <td>Medium</td>\n",
       "    </tr>\n",
       "    <tr>\n",
       "      <th>16</th>\n",
       "      <td>182</td>\n",
       "      <td>Medium</td>\n",
       "    </tr>\n",
       "    <tr>\n",
       "      <th>17</th>\n",
       "      <td>48</td>\n",
       "      <td>Low</td>\n",
       "    </tr>\n",
       "    <tr>\n",
       "      <th>18</th>\n",
       "      <td>70</td>\n",
       "      <td>Low</td>\n",
       "    </tr>\n",
       "    <tr>\n",
       "      <th>19</th>\n",
       "      <td>70</td>\n",
       "      <td>Low</td>\n",
       "    </tr>\n",
       "  </tbody>\n",
       "</table>\n",
       "</div>"
      ],
      "text/plain": [
       "    horsepower horsepower-binned\n",
       "0          111               Low\n",
       "1          111               Low\n",
       "2          154            Medium\n",
       "3          102               Low\n",
       "4          115               Low\n",
       "5          110               Low\n",
       "6          110               Low\n",
       "7          110               Low\n",
       "8          140            Medium\n",
       "9          101               Low\n",
       "10         101               Low\n",
       "11         121            Medium\n",
       "12         121            Medium\n",
       "13         121            Medium\n",
       "14         182            Medium\n",
       "15         182            Medium\n",
       "16         182            Medium\n",
       "17          48               Low\n",
       "18          70               Low\n",
       "19          70               Low"
      ]
     },
     "execution_count": 59,
     "metadata": {},
     "output_type": "execute_result"
    }
   ],
   "source": [
    "# We apply the function \"cut\" to determine what each value of df['horsepower'] belongs to\n",
    "\n",
    "\n",
    "df['horsepower-binned'] = pd.cut(df['horsepower'], bins, labels=group_names, include_lowest=True )\n",
    "\n",
    "\n",
    "df[['horsepower','horsepower-binned']].head(20)"
   ]
  },
  {
   "cell_type": "code",
   "execution_count": 60,
   "id": "009d47ac",
   "metadata": {
    "execution": {
     "iopub.execute_input": "2022-01-26T01:27:18.105782Z",
     "iopub.status.busy": "2022-01-26T01:27:18.104916Z",
     "iopub.status.idle": "2022-01-26T01:27:18.108154Z",
     "shell.execute_reply": "2022-01-26T01:27:18.108653Z",
     "shell.execute_reply.started": "2022-01-25T20:46:35.541148Z"
    },
    "papermill": {
     "duration": 0.213119,
     "end_time": "2022-01-26T01:27:18.108818",
     "exception": false,
     "start_time": "2022-01-26T01:27:17.895699",
     "status": "completed"
    },
    "tags": []
   },
   "outputs": [
    {
     "data": {
      "text/plain": [
       "Low       153\n",
       "Medium     43\n",
       "High        5\n",
       "Name: horsepower-binned, dtype: int64"
      ]
     },
     "execution_count": 60,
     "metadata": {},
     "output_type": "execute_result"
    }
   ],
   "source": [
    "# Let's see the number of vehicles in each bin:\n",
    "\n",
    "df[\"horsepower-binned\"].value_counts()"
   ]
  },
  {
   "cell_type": "code",
   "execution_count": 61,
   "id": "b9f70be6",
   "metadata": {
    "execution": {
     "iopub.execute_input": "2022-01-26T01:27:18.515292Z",
     "iopub.status.busy": "2022-01-26T01:27:18.514355Z",
     "iopub.status.idle": "2022-01-26T01:27:18.807344Z",
     "shell.execute_reply": "2022-01-26T01:27:18.807829Z",
     "shell.execute_reply.started": "2022-01-25T20:46:35.552002Z"
    },
    "papermill": {
     "duration": 0.497942,
     "end_time": "2022-01-26T01:27:18.808009",
     "exception": false,
     "start_time": "2022-01-26T01:27:18.310067",
     "status": "completed"
    },
    "tags": []
   },
   "outputs": [
    {
     "data": {
      "text/plain": [
       "Text(0.5, 1.0, 'horsepower bins')"
      ]
     },
     "execution_count": 61,
     "metadata": {},
     "output_type": "execute_result"
    },
    {
     "data": {
      "image/png": "[encoded data removed]",
      "text/plain": [
       "<Figure size 432x288 with 1 Axes>"
      ]
     },
     "metadata": {
      "needs_background": "light"
     },
     "output_type": "display_data"
    }
   ],
   "source": [
    "# Let's plot the distribution of each bin:\n",
    "\n",
    "%matplotlib inline\n",
    "\n",
    "import matplotlib as plt\n",
    "\n",
    "from matplotlib import pyplot\n",
    "\n",
    "pyplot.bar(group_names, df[\"horsepower-binned\"].value_counts())\n",
    "\n",
    "\n",
    "\n",
    "# set x/y labels and plot title\n",
    "\n",
    "plt.pyplot.xlabel(\"horsepower\")\n",
    "\n",
    "plt.pyplot.ylabel(\"count\")\n",
    "\n",
    "plt.pyplot.title(\"horsepower bins\")"
   ]
  },
  {
   "cell_type": "code",
   "execution_count": 62,
   "id": "27637855",
   "metadata": {
    "execution": {
     "iopub.execute_input": "2022-01-26T01:27:19.217746Z",
     "iopub.status.busy": "2022-01-26T01:27:19.216736Z",
     "iopub.status.idle": "2022-01-26T01:27:19.219968Z",
     "shell.execute_reply": "2022-01-26T01:27:19.220481Z",
     "shell.execute_reply.started": "2022-01-25T20:46:35.756387Z"
    },
    "papermill": {
     "duration": 0.210385,
     "end_time": "2022-01-26T01:27:19.220654",
     "exception": false,
     "start_time": "2022-01-26T01:27:19.010269",
     "status": "completed"
    },
    "tags": []
   },
   "outputs": [],
   "source": [
    "# We successfully narrowed down the intervals from 59 to 3"
   ]
  },
  {
   "cell_type": "code",
   "execution_count": 63,
   "id": "9e89414c",
   "metadata": {
    "execution": {
     "iopub.execute_input": "2022-01-26T01:27:19.632330Z",
     "iopub.status.busy": "2022-01-26T01:27:19.631350Z",
     "iopub.status.idle": "2022-01-26T01:27:19.845291Z",
     "shell.execute_reply": "2022-01-26T01:27:19.844462Z",
     "shell.execute_reply.started": "2022-01-25T20:46:35.761772Z"
    },
    "papermill": {
     "duration": 0.419995,
     "end_time": "2022-01-26T01:27:19.845464",
     "exception": false,
     "start_time": "2022-01-26T01:27:19.425469",
     "status": "completed"
    },
    "tags": []
   },
   "outputs": [
    {
     "data": {
      "text/plain": [
       "Text(0.5, 1.0, 'horsepower bins')"
      ]
     },
     "execution_count": 63,
     "metadata": {},
     "output_type": "execute_result"
    },
    {
     "data": {
      "image/png": "[encoded data removed]",
      "text/plain": [
       "<Figure size 432x288 with 1 Axes>"
      ]
     },
     "metadata": {
      "needs_background": "light"
     },
     "output_type": "display_data"
    }
   ],
   "source": [
    "# Bins Visualization\n",
    "\n",
    "# Normally, a histogram is used to visualize the distribution of bins we created above.\n",
    "\n",
    "%matplotlib inline\n",
    "\n",
    "import matplotlib as plt\n",
    "\n",
    "from matplotlib import pyplot\n",
    "\n",
    "\n",
    "\n",
    "\n",
    "\n",
    "# draw historgram of attribute \"horsepower\" with bins = 3\n",
    "\n",
    "plt.pyplot.hist(df[\"horsepower\"], bins = 3)\n",
    "\n",
    "\n",
    "\n",
    "# set x/y labels and plot title\n",
    "\n",
    "plt.pyplot.xlabel(\"horsepower\")\n",
    "\n",
    "plt.pyplot.ylabel(\"count\")\n",
    "\n",
    "plt.pyplot.title(\"horsepower bins\")"
   ]
  },
  {
   "cell_type": "code",
   "execution_count": 64,
   "id": "6759c56d",
   "metadata": {
    "execution": {
     "iopub.execute_input": "2022-01-26T01:27:20.259728Z",
     "iopub.status.busy": "2022-01-26T01:27:20.258816Z",
     "iopub.status.idle": "2022-01-26T01:27:20.261471Z",
     "shell.execute_reply": "2022-01-26T01:27:20.260958Z",
     "shell.execute_reply.started": "2022-01-25T20:46:36.001334Z"
    },
    "papermill": {
     "duration": 0.211928,
     "end_time": "2022-01-26T01:27:20.261611",
     "exception": false,
     "start_time": "2022-01-26T01:27:20.049683",
     "status": "completed"
    },
    "tags": []
   },
   "outputs": [],
   "source": [
    "# The plot above shows the binning result for the attribute \"horsepower\"."
   ]
  },
  {
   "cell_type": "code",
   "execution_count": 65,
   "id": "7625189b",
   "metadata": {
    "execution": {
     "iopub.execute_input": "2022-01-26T01:27:20.673525Z",
     "iopub.status.busy": "2022-01-26T01:27:20.672521Z",
     "iopub.status.idle": "2022-01-26T01:27:20.676698Z",
     "shell.execute_reply": "2022-01-26T01:27:20.677166Z",
     "shell.execute_reply.started": "2022-01-25T20:46:36.006078Z"
    },
    "papermill": {
     "duration": 0.211613,
     "end_time": "2022-01-26T01:27:20.677345",
     "exception": false,
     "start_time": "2022-01-26T01:27:20.465732",
     "status": "completed"
    },
    "tags": []
   },
   "outputs": [],
   "source": [
    "# Indicator Variable (or Dummy Variable)\n",
    "\n",
    "# is a numerical variable used to label categories.\n",
    "\n",
    "# They are called 'dummies' because the numbers themselves don't have inherent meaning.\n",
    "\n",
    "# Why we use indicator variables?\n",
    "\n",
    "# We use indicator variables \n",
    " # so we can use categorical variables for regression analysis in the later modules.\n",
    "\n",
    "    # Example\n",
    "\n",
    "# We see the column \"fuel-type\" has two unique values: \"gas\" or \"diesel\". \n",
    "\n",
    "# Regression doesn't understand words, only numbers. \n",
    "\n",
    "# To use this attribute in regression analysis, we convert \"fuel-type\" to indicator variables.\n",
    "\n",
    "# We will use pandas' method 'get_dummies'\n",
    "\n",
    " # to assign numerical values to different categories of fuel type"
   ]
  },
  {
   "cell_type": "code",
   "execution_count": 66,
   "id": "fae65399",
   "metadata": {
    "execution": {
     "iopub.execute_input": "2022-01-26T01:27:21.102210Z",
     "iopub.status.busy": "2022-01-26T01:27:21.101498Z",
     "iopub.status.idle": "2022-01-26T01:27:21.104063Z",
     "shell.execute_reply": "2022-01-26T01:27:21.104542Z",
     "shell.execute_reply.started": "2022-01-25T20:46:36.018269Z"
    },
    "papermill": {
     "duration": 0.219942,
     "end_time": "2022-01-26T01:27:21.104719",
     "exception": false,
     "start_time": "2022-01-26T01:27:20.884777",
     "status": "completed"
    },
    "tags": []
   },
   "outputs": [
    {
     "data": {
      "text/html": [
       "<div>\n",
       "<style scoped>\n",
       "    .dataframe tbody tr th:only-of-type {\n",
       "        vertical-align: middle;\n",
       "    }\n",
       "\n",
       "    .dataframe tbody tr th {\n",
       "        vertical-align: top;\n",
       "    }\n",
       "\n",
       "    .dataframe thead th {\n",
       "        text-align: right;\n",
       "    }\n",
       "</style>\n",
       "<table border=\"1\" class=\"dataframe\">\n",
       "  <thead>\n",
       "    <tr style=\"text-align: right;\">\n",
       "      <th></th>\n",
       "      <th>diesel</th>\n",
       "      <th>gas</th>\n",
       "    </tr>\n",
       "  </thead>\n",
       "  <tbody>\n",
       "    <tr>\n",
       "      <th>0</th>\n",
       "      <td>0</td>\n",
       "      <td>1</td>\n",
       "    </tr>\n",
       "    <tr>\n",
       "      <th>1</th>\n",
       "      <td>0</td>\n",
       "      <td>1</td>\n",
       "    </tr>\n",
       "    <tr>\n",
       "      <th>2</th>\n",
       "      <td>0</td>\n",
       "      <td>1</td>\n",
       "    </tr>\n",
       "    <tr>\n",
       "      <th>3</th>\n",
       "      <td>0</td>\n",
       "      <td>1</td>\n",
       "    </tr>\n",
       "    <tr>\n",
       "      <th>4</th>\n",
       "      <td>0</td>\n",
       "      <td>1</td>\n",
       "    </tr>\n",
       "  </tbody>\n",
       "</table>\n",
       "</div>"
      ],
      "text/plain": [
       "   diesel  gas\n",
       "0       0    1\n",
       "1       0    1\n",
       "2       0    1\n",
       "3       0    1\n",
       "4       0    1"
      ]
     },
     "execution_count": 66,
     "metadata": {},
     "output_type": "execute_result"
    }
   ],
   "source": [
    "dummy_variable_1 = pd.get_dummies(df[\"fuel-type\"])\n",
    "dummy_variable_1.head()"
   ]
  },
  {
   "cell_type": "code",
   "execution_count": 67,
   "id": "6ae39556",
   "metadata": {
    "execution": {
     "iopub.execute_input": "2022-01-26T01:27:21.518695Z",
     "iopub.status.busy": "2022-01-26T01:27:21.518094Z",
     "iopub.status.idle": "2022-01-26T01:27:21.527090Z",
     "shell.execute_reply": "2022-01-26T01:27:21.527571Z",
     "shell.execute_reply.started": "2022-01-25T20:46:36.035186Z"
    },
    "papermill": {
     "duration": 0.21818,
     "end_time": "2022-01-26T01:27:21.527733",
     "exception": false,
     "start_time": "2022-01-26T01:27:21.309553",
     "status": "completed"
    },
    "tags": []
   },
   "outputs": [
    {
     "data": {
      "text/html": [
       "<div>\n",
       "<style scoped>\n",
       "    .dataframe tbody tr th:only-of-type {\n",
       "        vertical-align: middle;\n",
       "    }\n",
       "\n",
       "    .dataframe tbody tr th {\n",
       "        vertical-align: top;\n",
       "    }\n",
       "\n",
       "    .dataframe thead th {\n",
       "        text-align: right;\n",
       "    }\n",
       "</style>\n",
       "<table border=\"1\" class=\"dataframe\">\n",
       "  <thead>\n",
       "    <tr style=\"text-align: right;\">\n",
       "      <th></th>\n",
       "      <th>fuel-type-diesel</th>\n",
       "      <th>fuel-type-gas</th>\n",
       "    </tr>\n",
       "  </thead>\n",
       "  <tbody>\n",
       "    <tr>\n",
       "      <th>0</th>\n",
       "      <td>0</td>\n",
       "      <td>1</td>\n",
       "    </tr>\n",
       "    <tr>\n",
       "      <th>1</th>\n",
       "      <td>0</td>\n",
       "      <td>1</td>\n",
       "    </tr>\n",
       "    <tr>\n",
       "      <th>2</th>\n",
       "      <td>0</td>\n",
       "      <td>1</td>\n",
       "    </tr>\n",
       "    <tr>\n",
       "      <th>3</th>\n",
       "      <td>0</td>\n",
       "      <td>1</td>\n",
       "    </tr>\n",
       "    <tr>\n",
       "      <th>4</th>\n",
       "      <td>0</td>\n",
       "      <td>1</td>\n",
       "    </tr>\n",
       "  </tbody>\n",
       "</table>\n",
       "</div>"
      ],
      "text/plain": [
       "   fuel-type-diesel  fuel-type-gas\n",
       "0                 0              1\n",
       "1                 0              1\n",
       "2                 0              1\n",
       "3                 0              1\n",
       "4                 0              1"
      ]
     },
     "execution_count": 67,
     "metadata": {},
     "output_type": "execute_result"
    }
   ],
   "source": [
    "# Change the column names for clarity:\n",
    "\n",
    "dummy_variable_1.rename(columns={'gas':'fuel-type-gas', 'diesel':'fuel-type-diesel'}, inplace=True)\n",
    "\n",
    "dummy_variable_1.head()"
   ]
  },
  {
   "cell_type": "code",
   "execution_count": 68,
   "id": "7b2a61e5",
   "metadata": {
    "execution": {
     "iopub.execute_input": "2022-01-26T01:27:21.942631Z",
     "iopub.status.busy": "2022-01-26T01:27:21.941631Z",
     "iopub.status.idle": "2022-01-26T01:27:21.970514Z",
     "shell.execute_reply": "2022-01-26T01:27:21.971020Z",
     "shell.execute_reply.started": "2022-01-25T20:46:36.050648Z"
    },
    "papermill": {
     "duration": 0.238093,
     "end_time": "2022-01-26T01:27:21.971218",
     "exception": false,
     "start_time": "2022-01-26T01:27:21.733125",
     "status": "completed"
    },
    "tags": []
   },
   "outputs": [
    {
     "data": {
      "text/html": [
       "<div>\n",
       "<style scoped>\n",
       "    .dataframe tbody tr th:only-of-type {\n",
       "        vertical-align: middle;\n",
       "    }\n",
       "\n",
       "    .dataframe tbody tr th {\n",
       "        vertical-align: top;\n",
       "    }\n",
       "\n",
       "    .dataframe thead th {\n",
       "        text-align: right;\n",
       "    }\n",
       "</style>\n",
       "<table border=\"1\" class=\"dataframe\">\n",
       "  <thead>\n",
       "    <tr style=\"text-align: right;\">\n",
       "      <th></th>\n",
       "      <th>symboling</th>\n",
       "      <th>normalized-losses</th>\n",
       "      <th>make</th>\n",
       "      <th>aspiration</th>\n",
       "      <th>num-of-doors</th>\n",
       "      <th>body-style</th>\n",
       "      <th>drive-wheels</th>\n",
       "      <th>engine-location</th>\n",
       "      <th>wheel-base</th>\n",
       "      <th>length</th>\n",
       "      <th>...</th>\n",
       "      <th>compression-ratio</th>\n",
       "      <th>horsepower</th>\n",
       "      <th>peak-rpm</th>\n",
       "      <th>city-mpg</th>\n",
       "      <th>highway-mpg</th>\n",
       "      <th>price</th>\n",
       "      <th>city-L/100km</th>\n",
       "      <th>horsepower-binned</th>\n",
       "      <th>fuel-type-diesel</th>\n",
       "      <th>fuel-type-gas</th>\n",
       "    </tr>\n",
       "  </thead>\n",
       "  <tbody>\n",
       "    <tr>\n",
       "      <th>0</th>\n",
       "      <td>3</td>\n",
       "      <td>122</td>\n",
       "      <td>alfa-romero</td>\n",
       "      <td>std</td>\n",
       "      <td>two</td>\n",
       "      <td>convertible</td>\n",
       "      <td>rwd</td>\n",
       "      <td>front</td>\n",
       "      <td>88.6</td>\n",
       "      <td>0.811148</td>\n",
       "      <td>...</td>\n",
       "      <td>9.0</td>\n",
       "      <td>111</td>\n",
       "      <td>5000.0</td>\n",
       "      <td>21</td>\n",
       "      <td>8.703704</td>\n",
       "      <td>13495.0</td>\n",
       "      <td>11.190476</td>\n",
       "      <td>Low</td>\n",
       "      <td>0</td>\n",
       "      <td>1</td>\n",
       "    </tr>\n",
       "    <tr>\n",
       "      <th>1</th>\n",
       "      <td>3</td>\n",
       "      <td>122</td>\n",
       "      <td>alfa-romero</td>\n",
       "      <td>std</td>\n",
       "      <td>two</td>\n",
       "      <td>convertible</td>\n",
       "      <td>rwd</td>\n",
       "      <td>front</td>\n",
       "      <td>88.6</td>\n",
       "      <td>0.811148</td>\n",
       "      <td>...</td>\n",
       "      <td>9.0</td>\n",
       "      <td>111</td>\n",
       "      <td>5000.0</td>\n",
       "      <td>21</td>\n",
       "      <td>8.703704</td>\n",
       "      <td>16500.0</td>\n",
       "      <td>11.190476</td>\n",
       "      <td>Low</td>\n",
       "      <td>0</td>\n",
       "      <td>1</td>\n",
       "    </tr>\n",
       "    <tr>\n",
       "      <th>2</th>\n",
       "      <td>1</td>\n",
       "      <td>122</td>\n",
       "      <td>alfa-romero</td>\n",
       "      <td>std</td>\n",
       "      <td>two</td>\n",
       "      <td>hatchback</td>\n",
       "      <td>rwd</td>\n",
       "      <td>front</td>\n",
       "      <td>94.5</td>\n",
       "      <td>0.822681</td>\n",
       "      <td>...</td>\n",
       "      <td>9.0</td>\n",
       "      <td>154</td>\n",
       "      <td>5000.0</td>\n",
       "      <td>19</td>\n",
       "      <td>9.038462</td>\n",
       "      <td>16500.0</td>\n",
       "      <td>12.368421</td>\n",
       "      <td>Medium</td>\n",
       "      <td>0</td>\n",
       "      <td>1</td>\n",
       "    </tr>\n",
       "    <tr>\n",
       "      <th>3</th>\n",
       "      <td>2</td>\n",
       "      <td>164</td>\n",
       "      <td>audi</td>\n",
       "      <td>std</td>\n",
       "      <td>four</td>\n",
       "      <td>sedan</td>\n",
       "      <td>fwd</td>\n",
       "      <td>front</td>\n",
       "      <td>99.8</td>\n",
       "      <td>0.848630</td>\n",
       "      <td>...</td>\n",
       "      <td>10.0</td>\n",
       "      <td>102</td>\n",
       "      <td>5500.0</td>\n",
       "      <td>24</td>\n",
       "      <td>7.833333</td>\n",
       "      <td>13950.0</td>\n",
       "      <td>9.791667</td>\n",
       "      <td>Low</td>\n",
       "      <td>0</td>\n",
       "      <td>1</td>\n",
       "    </tr>\n",
       "    <tr>\n",
       "      <th>4</th>\n",
       "      <td>2</td>\n",
       "      <td>164</td>\n",
       "      <td>audi</td>\n",
       "      <td>std</td>\n",
       "      <td>four</td>\n",
       "      <td>sedan</td>\n",
       "      <td>4wd</td>\n",
       "      <td>front</td>\n",
       "      <td>99.4</td>\n",
       "      <td>0.848630</td>\n",
       "      <td>...</td>\n",
       "      <td>8.0</td>\n",
       "      <td>115</td>\n",
       "      <td>5500.0</td>\n",
       "      <td>18</td>\n",
       "      <td>10.681818</td>\n",
       "      <td>17450.0</td>\n",
       "      <td>13.055556</td>\n",
       "      <td>Low</td>\n",
       "      <td>0</td>\n",
       "      <td>1</td>\n",
       "    </tr>\n",
       "  </tbody>\n",
       "</table>\n",
       "<p>5 rows × 29 columns</p>\n",
       "</div>"
      ],
      "text/plain": [
       "   symboling  normalized-losses         make aspiration num-of-doors  \\\n",
       "0          3                122  alfa-romero        std          two   \n",
       "1          3                122  alfa-romero        std          two   \n",
       "2          1                122  alfa-romero        std          two   \n",
       "3          2                164         audi        std         four   \n",
       "4          2                164         audi        std         four   \n",
       "\n",
       "    body-style drive-wheels engine-location  wheel-base    length  ...  \\\n",
       "0  convertible          rwd           front        88.6  0.811148  ...   \n",
       "1  convertible          rwd           front        88.6  0.811148  ...   \n",
       "2    hatchback          rwd           front        94.5  0.822681  ...   \n",
       "3        sedan          fwd           front        99.8  0.848630  ...   \n",
       "4        sedan          4wd           front        99.4  0.848630  ...   \n",
       "\n",
       "   compression-ratio  horsepower  peak-rpm city-mpg highway-mpg    price  \\\n",
       "0                9.0         111    5000.0       21    8.703704  13495.0   \n",
       "1                9.0         111    5000.0       21    8.703704  16500.0   \n",
       "2                9.0         154    5000.0       19    9.038462  16500.0   \n",
       "3               10.0         102    5500.0       24    7.833333  13950.0   \n",
       "4                8.0         115    5500.0       18   10.681818  17450.0   \n",
       "\n",
       "  city-L/100km  horsepower-binned  fuel-type-diesel  fuel-type-gas  \n",
       "0    11.190476                Low                 0              1  \n",
       "1    11.190476                Low                 0              1  \n",
       "2    12.368421             Medium                 0              1  \n",
       "3     9.791667                Low                 0              1  \n",
       "4    13.055556                Low                 0              1  \n",
       "\n",
       "[5 rows x 29 columns]"
      ]
     },
     "execution_count": 68,
     "metadata": {},
     "output_type": "execute_result"
    }
   ],
   "source": [
    "# In the dataframe, column 'fuel-type' has values for 'gas' and 'diesel' as 0s and 1s now.\n",
    "\n",
    "# merge data frame \"df\" and \"dummy_variable_1\" \n",
    "\n",
    "df = pd.concat([df, dummy_variable_1], axis=1)\n",
    "\n",
    "\n",
    "\n",
    "# drop original column \"fuel-type\" from \"df\"\n",
    "\n",
    "df.drop(\"fuel-type\", axis = 1, inplace=True)\n",
    "\n",
    "df.head()"
   ]
  },
  {
   "cell_type": "code",
   "execution_count": 69,
   "id": "17d9ac43",
   "metadata": {
    "execution": {
     "iopub.execute_input": "2022-01-26T01:27:22.385229Z",
     "iopub.status.busy": "2022-01-26T01:27:22.384526Z",
     "iopub.status.idle": "2022-01-26T01:27:22.388523Z",
     "shell.execute_reply": "2022-01-26T01:27:22.387897Z",
     "shell.execute_reply.started": "2022-01-25T20:46:36.148776Z"
    },
    "papermill": {
     "duration": 0.211692,
     "end_time": "2022-01-26T01:27:22.388658",
     "exception": false,
     "start_time": "2022-01-26T01:27:22.176966",
     "status": "completed"
    },
    "tags": []
   },
   "outputs": [],
   "source": [
    "# The last two columns are now \n",
    " #the indicator variable representation of the fuel-type variable. They're all 0s and 1s now.\n"
   ]
  },
  {
   "cell_type": "code",
   "execution_count": 70,
   "id": "cf3283f4",
   "metadata": {
    "execution": {
     "iopub.execute_input": "2022-01-26T01:27:22.805504Z",
     "iopub.status.busy": "2022-01-26T01:27:22.804673Z",
     "iopub.status.idle": "2022-01-26T01:27:22.811981Z",
     "shell.execute_reply": "2022-01-26T01:27:22.812515Z",
     "shell.execute_reply.started": "2022-01-25T20:46:36.155217Z"
    },
    "papermill": {
     "duration": 0.218027,
     "end_time": "2022-01-26T01:27:22.812679",
     "exception": false,
     "start_time": "2022-01-26T01:27:22.594652",
     "status": "completed"
    },
    "tags": []
   },
   "outputs": [
    {
     "data": {
      "text/html": [
       "<div>\n",
       "<style scoped>\n",
       "    .dataframe tbody tr th:only-of-type {\n",
       "        vertical-align: middle;\n",
       "    }\n",
       "\n",
       "    .dataframe tbody tr th {\n",
       "        vertical-align: top;\n",
       "    }\n",
       "\n",
       "    .dataframe thead th {\n",
       "        text-align: right;\n",
       "    }\n",
       "</style>\n",
       "<table border=\"1\" class=\"dataframe\">\n",
       "  <thead>\n",
       "    <tr style=\"text-align: right;\">\n",
       "      <th></th>\n",
       "      <th>aspiration-std</th>\n",
       "      <th>aspiration-turbo</th>\n",
       "    </tr>\n",
       "  </thead>\n",
       "  <tbody>\n",
       "    <tr>\n",
       "      <th>0</th>\n",
       "      <td>1</td>\n",
       "      <td>0</td>\n",
       "    </tr>\n",
       "    <tr>\n",
       "      <th>1</th>\n",
       "      <td>1</td>\n",
       "      <td>0</td>\n",
       "    </tr>\n",
       "    <tr>\n",
       "      <th>2</th>\n",
       "      <td>1</td>\n",
       "      <td>0</td>\n",
       "    </tr>\n",
       "    <tr>\n",
       "      <th>3</th>\n",
       "      <td>1</td>\n",
       "      <td>0</td>\n",
       "    </tr>\n",
       "    <tr>\n",
       "      <th>4</th>\n",
       "      <td>1</td>\n",
       "      <td>0</td>\n",
       "    </tr>\n",
       "  </tbody>\n",
       "</table>\n",
       "</div>"
      ],
      "text/plain": [
       "   aspiration-std  aspiration-turbo\n",
       "0               1                 0\n",
       "1               1                 0\n",
       "2               1                 0\n",
       "3               1                 0\n",
       "4               1                 0"
      ]
     },
     "execution_count": 70,
     "metadata": {},
     "output_type": "execute_result"
    }
   ],
   "source": [
    "# Similar to before, create an indicator variable for the column \"aspiration\"\n",
    "\n",
    " \n",
    "\n",
    "dummy_variable_2 = pd.get_dummies(df['aspiration'])\n",
    "\n",
    "dummy_variable_2.rename(columns={'std':'aspiration-std', 'turbo': 'aspiration-turbo'}, inplace=True)\n",
    "\n",
    "dummy_variable_2.head()"
   ]
  },
  {
   "cell_type": "code",
   "execution_count": 71,
   "id": "e100dad7",
   "metadata": {
    "execution": {
     "iopub.execute_input": "2022-01-26T01:27:23.228132Z",
     "iopub.status.busy": "2022-01-26T01:27:23.227520Z",
     "iopub.status.idle": "2022-01-26T01:27:23.254022Z",
     "shell.execute_reply": "2022-01-26T01:27:23.254494Z",
     "shell.execute_reply.started": "2022-01-25T20:46:36.173011Z"
    },
    "papermill": {
     "duration": 0.234467,
     "end_time": "2022-01-26T01:27:23.254645",
     "exception": false,
     "start_time": "2022-01-26T01:27:23.020178",
     "status": "completed"
    },
    "tags": []
   },
   "outputs": [
    {
     "data": {
      "text/html": [
       "<div>\n",
       "<style scoped>\n",
       "    .dataframe tbody tr th:only-of-type {\n",
       "        vertical-align: middle;\n",
       "    }\n",
       "\n",
       "    .dataframe tbody tr th {\n",
       "        vertical-align: top;\n",
       "    }\n",
       "\n",
       "    .dataframe thead th {\n",
       "        text-align: right;\n",
       "    }\n",
       "</style>\n",
       "<table border=\"1\" class=\"dataframe\">\n",
       "  <thead>\n",
       "    <tr style=\"text-align: right;\">\n",
       "      <th></th>\n",
       "      <th>symboling</th>\n",
       "      <th>normalized-losses</th>\n",
       "      <th>make</th>\n",
       "      <th>num-of-doors</th>\n",
       "      <th>body-style</th>\n",
       "      <th>drive-wheels</th>\n",
       "      <th>engine-location</th>\n",
       "      <th>wheel-base</th>\n",
       "      <th>length</th>\n",
       "      <th>width</th>\n",
       "      <th>...</th>\n",
       "      <th>peak-rpm</th>\n",
       "      <th>city-mpg</th>\n",
       "      <th>highway-mpg</th>\n",
       "      <th>price</th>\n",
       "      <th>city-L/100km</th>\n",
       "      <th>horsepower-binned</th>\n",
       "      <th>fuel-type-diesel</th>\n",
       "      <th>fuel-type-gas</th>\n",
       "      <th>aspiration-std</th>\n",
       "      <th>aspiration-turbo</th>\n",
       "    </tr>\n",
       "  </thead>\n",
       "  <tbody>\n",
       "    <tr>\n",
       "      <th>0</th>\n",
       "      <td>3</td>\n",
       "      <td>122</td>\n",
       "      <td>alfa-romero</td>\n",
       "      <td>two</td>\n",
       "      <td>convertible</td>\n",
       "      <td>rwd</td>\n",
       "      <td>front</td>\n",
       "      <td>88.6</td>\n",
       "      <td>0.811148</td>\n",
       "      <td>0.890278</td>\n",
       "      <td>...</td>\n",
       "      <td>5000.0</td>\n",
       "      <td>21</td>\n",
       "      <td>8.703704</td>\n",
       "      <td>13495.0</td>\n",
       "      <td>11.190476</td>\n",
       "      <td>Low</td>\n",
       "      <td>0</td>\n",
       "      <td>1</td>\n",
       "      <td>1</td>\n",
       "      <td>0</td>\n",
       "    </tr>\n",
       "    <tr>\n",
       "      <th>1</th>\n",
       "      <td>3</td>\n",
       "      <td>122</td>\n",
       "      <td>alfa-romero</td>\n",
       "      <td>two</td>\n",
       "      <td>convertible</td>\n",
       "      <td>rwd</td>\n",
       "      <td>front</td>\n",
       "      <td>88.6</td>\n",
       "      <td>0.811148</td>\n",
       "      <td>0.890278</td>\n",
       "      <td>...</td>\n",
       "      <td>5000.0</td>\n",
       "      <td>21</td>\n",
       "      <td>8.703704</td>\n",
       "      <td>16500.0</td>\n",
       "      <td>11.190476</td>\n",
       "      <td>Low</td>\n",
       "      <td>0</td>\n",
       "      <td>1</td>\n",
       "      <td>1</td>\n",
       "      <td>0</td>\n",
       "    </tr>\n",
       "    <tr>\n",
       "      <th>2</th>\n",
       "      <td>1</td>\n",
       "      <td>122</td>\n",
       "      <td>alfa-romero</td>\n",
       "      <td>two</td>\n",
       "      <td>hatchback</td>\n",
       "      <td>rwd</td>\n",
       "      <td>front</td>\n",
       "      <td>94.5</td>\n",
       "      <td>0.822681</td>\n",
       "      <td>0.909722</td>\n",
       "      <td>...</td>\n",
       "      <td>5000.0</td>\n",
       "      <td>19</td>\n",
       "      <td>9.038462</td>\n",
       "      <td>16500.0</td>\n",
       "      <td>12.368421</td>\n",
       "      <td>Medium</td>\n",
       "      <td>0</td>\n",
       "      <td>1</td>\n",
       "      <td>1</td>\n",
       "      <td>0</td>\n",
       "    </tr>\n",
       "    <tr>\n",
       "      <th>3</th>\n",
       "      <td>2</td>\n",
       "      <td>164</td>\n",
       "      <td>audi</td>\n",
       "      <td>four</td>\n",
       "      <td>sedan</td>\n",
       "      <td>fwd</td>\n",
       "      <td>front</td>\n",
       "      <td>99.8</td>\n",
       "      <td>0.848630</td>\n",
       "      <td>0.919444</td>\n",
       "      <td>...</td>\n",
       "      <td>5500.0</td>\n",
       "      <td>24</td>\n",
       "      <td>7.833333</td>\n",
       "      <td>13950.0</td>\n",
       "      <td>9.791667</td>\n",
       "      <td>Low</td>\n",
       "      <td>0</td>\n",
       "      <td>1</td>\n",
       "      <td>1</td>\n",
       "      <td>0</td>\n",
       "    </tr>\n",
       "    <tr>\n",
       "      <th>4</th>\n",
       "      <td>2</td>\n",
       "      <td>164</td>\n",
       "      <td>audi</td>\n",
       "      <td>four</td>\n",
       "      <td>sedan</td>\n",
       "      <td>4wd</td>\n",
       "      <td>front</td>\n",
       "      <td>99.4</td>\n",
       "      <td>0.848630</td>\n",
       "      <td>0.922222</td>\n",
       "      <td>...</td>\n",
       "      <td>5500.0</td>\n",
       "      <td>18</td>\n",
       "      <td>10.681818</td>\n",
       "      <td>17450.0</td>\n",
       "      <td>13.055556</td>\n",
       "      <td>Low</td>\n",
       "      <td>0</td>\n",
       "      <td>1</td>\n",
       "      <td>1</td>\n",
       "      <td>0</td>\n",
       "    </tr>\n",
       "  </tbody>\n",
       "</table>\n",
       "<p>5 rows × 30 columns</p>\n",
       "</div>"
      ],
      "text/plain": [
       "   symboling  normalized-losses         make num-of-doors   body-style  \\\n",
       "0          3                122  alfa-romero          two  convertible   \n",
       "1          3                122  alfa-romero          two  convertible   \n",
       "2          1                122  alfa-romero          two    hatchback   \n",
       "3          2                164         audi         four        sedan   \n",
       "4          2                164         audi         four        sedan   \n",
       "\n",
       "  drive-wheels engine-location  wheel-base    length     width  ...  peak-rpm  \\\n",
       "0          rwd           front        88.6  0.811148  0.890278  ...    5000.0   \n",
       "1          rwd           front        88.6  0.811148  0.890278  ...    5000.0   \n",
       "2          rwd           front        94.5  0.822681  0.909722  ...    5000.0   \n",
       "3          fwd           front        99.8  0.848630  0.919444  ...    5500.0   \n",
       "4          4wd           front        99.4  0.848630  0.922222  ...    5500.0   \n",
       "\n",
       "   city-mpg highway-mpg    price  city-L/100km horsepower-binned  \\\n",
       "0        21    8.703704  13495.0     11.190476               Low   \n",
       "1        21    8.703704  16500.0     11.190476               Low   \n",
       "2        19    9.038462  16500.0     12.368421            Medium   \n",
       "3        24    7.833333  13950.0      9.791667               Low   \n",
       "4        18   10.681818  17450.0     13.055556               Low   \n",
       "\n",
       "   fuel-type-diesel  fuel-type-gas  aspiration-std  aspiration-turbo  \n",
       "0                 0              1               1                 0  \n",
       "1                 0              1               1                 0  \n",
       "2                 0              1               1                 0  \n",
       "3                 0              1               1                 0  \n",
       "4                 0              1               1                 0  \n",
       "\n",
       "[5 rows x 30 columns]"
      ]
     },
     "execution_count": 71,
     "metadata": {},
     "output_type": "execute_result"
    }
   ],
   "source": [
    "# Merge the new dataframe to the original dataframe, then drop the column 'aspiration'.\n",
    "\n",
    "\n",
    "\n",
    "df = pd.concat([df, dummy_variable_2], axis=1)\n",
    "\n",
    "df.drop('aspiration', axis = 1, inplace=True)\n",
    "\n",
    "df.head()"
   ]
  },
  {
   "cell_type": "code",
   "execution_count": 72,
   "id": "58bc42ca",
   "metadata": {
    "execution": {
     "iopub.execute_input": "2022-01-26T01:27:23.667052Z",
     "iopub.status.busy": "2022-01-26T01:27:23.666424Z",
     "iopub.status.idle": "2022-01-26T01:27:23.678720Z",
     "shell.execute_reply": "2022-01-26T01:27:23.678249Z",
     "shell.execute_reply.started": "2022-01-25T20:46:36.212392Z"
    },
    "papermill": {
     "duration": 0.218684,
     "end_time": "2022-01-26T01:27:23.678850",
     "exception": false,
     "start_time": "2022-01-26T01:27:23.460166",
     "status": "completed"
    },
    "tags": []
   },
   "outputs": [],
   "source": [
    "#Save the new csv:\n",
    "\n",
    "df.to_csv('clean_df.csv')"
   ]
  },
  {
   "cell_type": "code",
   "execution_count": 73,
   "id": "f0672d57",
   "metadata": {
    "execution": {
     "iopub.execute_input": "2022-01-26T01:27:24.100736Z",
     "iopub.status.busy": "2022-01-26T01:27:24.098444Z",
     "iopub.status.idle": "2022-01-26T01:27:24.931503Z",
     "shell.execute_reply": "2022-01-26T01:27:24.930881Z",
     "shell.execute_reply.started": "2022-01-25T20:53:31.460234Z"
    },
    "papermill": {
     "duration": 1.045518,
     "end_time": "2022-01-26T01:27:24.931663",
     "exception": false,
     "start_time": "2022-01-26T01:27:23.886145",
     "status": "completed"
    },
    "tags": []
   },
   "outputs": [],
   "source": [
    "# Analyzing Individual Feature Patterns Using Visualization\n",
    "\n",
    "# Don't forget about \"%matplotlib inline\" to plot in a Jupyter notebook.\n",
    "\n",
    "import matplotlib.pyplot as plt\n",
    "\n",
    "import seaborn as sns\n",
    "\n",
    "%matplotlib inline "
   ]
  },
  {
   "cell_type": "code",
   "execution_count": 74,
   "id": "57a7bde9",
   "metadata": {
    "execution": {
     "iopub.execute_input": "2022-01-26T01:27:25.348490Z",
     "iopub.status.busy": "2022-01-26T01:27:25.347649Z",
     "iopub.status.idle": "2022-01-26T01:27:25.350588Z",
     "shell.execute_reply": "2022-01-26T01:27:25.351231Z",
     "shell.execute_reply.started": "2022-01-25T20:55:33.629101Z"
    },
    "papermill": {
     "duration": 0.211748,
     "end_time": "2022-01-26T01:27:25.351397",
     "exception": false,
     "start_time": "2022-01-26T01:27:25.139649",
     "status": "completed"
    },
    "tags": []
   },
   "outputs": [],
   "source": [
    "# How to choose the right visualization method?\n",
    "\n",
    "# When visualizing individual variables\n",
    "\n",
    "# it is important to first understand what type of variable you are dealing with\n",
    "\n",
    "#This will help us find the right visualization method for that variable.\n"
   ]
  },
  {
   "cell_type": "code",
   "execution_count": 75,
   "id": "1be8e6b7",
   "metadata": {
    "execution": {
     "iopub.execute_input": "2022-01-26T01:27:25.772913Z",
     "iopub.status.busy": "2022-01-26T01:27:25.771851Z",
     "iopub.status.idle": "2022-01-26T01:27:25.818377Z",
     "shell.execute_reply": "2022-01-26T01:27:25.817460Z",
     "shell.execute_reply.started": "2022-01-25T20:56:36.508439Z"
    },
    "papermill": {
     "duration": 0.259908,
     "end_time": "2022-01-26T01:27:25.818570",
     "exception": false,
     "start_time": "2022-01-26T01:27:25.558662",
     "status": "completed"
    },
    "tags": []
   },
   "outputs": [
    {
     "data": {
      "text/html": [
       "<div>\n",
       "<style scoped>\n",
       "    .dataframe tbody tr th:only-of-type {\n",
       "        vertical-align: middle;\n",
       "    }\n",
       "\n",
       "    .dataframe tbody tr th {\n",
       "        vertical-align: top;\n",
       "    }\n",
       "\n",
       "    .dataframe thead th {\n",
       "        text-align: right;\n",
       "    }\n",
       "</style>\n",
       "<table border=\"1\" class=\"dataframe\">\n",
       "  <thead>\n",
       "    <tr style=\"text-align: right;\">\n",
       "      <th></th>\n",
       "      <th>symboling</th>\n",
       "      <th>normalized-losses</th>\n",
       "      <th>wheel-base</th>\n",
       "      <th>length</th>\n",
       "      <th>width</th>\n",
       "      <th>height</th>\n",
       "      <th>curb-weight</th>\n",
       "      <th>engine-size</th>\n",
       "      <th>bore</th>\n",
       "      <th>stroke</th>\n",
       "      <th>...</th>\n",
       "      <th>horsepower</th>\n",
       "      <th>peak-rpm</th>\n",
       "      <th>city-mpg</th>\n",
       "      <th>highway-mpg</th>\n",
       "      <th>price</th>\n",
       "      <th>city-L/100km</th>\n",
       "      <th>fuel-type-diesel</th>\n",
       "      <th>fuel-type-gas</th>\n",
       "      <th>aspiration-std</th>\n",
       "      <th>aspiration-turbo</th>\n",
       "    </tr>\n",
       "  </thead>\n",
       "  <tbody>\n",
       "    <tr>\n",
       "      <th>symboling</th>\n",
       "      <td>1.000000</td>\n",
       "      <td>0.466264</td>\n",
       "      <td>-0.535987</td>\n",
       "      <td>-0.365404</td>\n",
       "      <td>-0.242423</td>\n",
       "      <td>-0.550160</td>\n",
       "      <td>-0.233118</td>\n",
       "      <td>-0.110581</td>\n",
       "      <td>-0.140019</td>\n",
       "      <td>-0.008153</td>\n",
       "      <td>...</td>\n",
       "      <td>0.075810</td>\n",
       "      <td>0.279740</td>\n",
       "      <td>-0.035527</td>\n",
       "      <td>-0.029807</td>\n",
       "      <td>-0.082391</td>\n",
       "      <td>0.066171</td>\n",
       "      <td>-0.196735</td>\n",
       "      <td>0.196735</td>\n",
       "      <td>0.054615</td>\n",
       "      <td>-0.054615</td>\n",
       "    </tr>\n",
       "    <tr>\n",
       "      <th>normalized-losses</th>\n",
       "      <td>0.466264</td>\n",
       "      <td>1.000000</td>\n",
       "      <td>-0.056661</td>\n",
       "      <td>0.019424</td>\n",
       "      <td>0.086802</td>\n",
       "      <td>-0.373737</td>\n",
       "      <td>0.099404</td>\n",
       "      <td>0.112360</td>\n",
       "      <td>-0.029862</td>\n",
       "      <td>0.055045</td>\n",
       "      <td>...</td>\n",
       "      <td>0.217300</td>\n",
       "      <td>0.239543</td>\n",
       "      <td>-0.225016</td>\n",
       "      <td>0.181189</td>\n",
       "      <td>0.133999</td>\n",
       "      <td>0.238567</td>\n",
       "      <td>-0.101546</td>\n",
       "      <td>0.101546</td>\n",
       "      <td>0.006911</td>\n",
       "      <td>-0.006911</td>\n",
       "    </tr>\n",
       "    <tr>\n",
       "      <th>wheel-base</th>\n",
       "      <td>-0.535987</td>\n",
       "      <td>-0.056661</td>\n",
       "      <td>1.000000</td>\n",
       "      <td>0.876024</td>\n",
       "      <td>0.814507</td>\n",
       "      <td>0.590742</td>\n",
       "      <td>0.782097</td>\n",
       "      <td>0.572027</td>\n",
       "      <td>0.493244</td>\n",
       "      <td>0.158018</td>\n",
       "      <td>...</td>\n",
       "      <td>0.371178</td>\n",
       "      <td>-0.360305</td>\n",
       "      <td>-0.470606</td>\n",
       "      <td>0.577576</td>\n",
       "      <td>0.584642</td>\n",
       "      <td>0.476153</td>\n",
       "      <td>0.307237</td>\n",
       "      <td>-0.307237</td>\n",
       "      <td>-0.256889</td>\n",
       "      <td>0.256889</td>\n",
       "    </tr>\n",
       "    <tr>\n",
       "      <th>length</th>\n",
       "      <td>-0.365404</td>\n",
       "      <td>0.019424</td>\n",
       "      <td>0.876024</td>\n",
       "      <td>1.000000</td>\n",
       "      <td>0.857170</td>\n",
       "      <td>0.492063</td>\n",
       "      <td>0.880665</td>\n",
       "      <td>0.685025</td>\n",
       "      <td>0.608971</td>\n",
       "      <td>0.123952</td>\n",
       "      <td>...</td>\n",
       "      <td>0.579795</td>\n",
       "      <td>-0.285970</td>\n",
       "      <td>-0.665192</td>\n",
       "      <td>0.707108</td>\n",
       "      <td>0.690628</td>\n",
       "      <td>0.657373</td>\n",
       "      <td>0.211187</td>\n",
       "      <td>-0.211187</td>\n",
       "      <td>-0.230085</td>\n",
       "      <td>0.230085</td>\n",
       "    </tr>\n",
       "    <tr>\n",
       "      <th>width</th>\n",
       "      <td>-0.242423</td>\n",
       "      <td>0.086802</td>\n",
       "      <td>0.814507</td>\n",
       "      <td>0.857170</td>\n",
       "      <td>1.000000</td>\n",
       "      <td>0.306002</td>\n",
       "      <td>0.866201</td>\n",
       "      <td>0.729436</td>\n",
       "      <td>0.544885</td>\n",
       "      <td>0.188822</td>\n",
       "      <td>...</td>\n",
       "      <td>0.615056</td>\n",
       "      <td>-0.245800</td>\n",
       "      <td>-0.633531</td>\n",
       "      <td>0.736728</td>\n",
       "      <td>0.751265</td>\n",
       "      <td>0.673363</td>\n",
       "      <td>0.244356</td>\n",
       "      <td>-0.244356</td>\n",
       "      <td>-0.305732</td>\n",
       "      <td>0.305732</td>\n",
       "    </tr>\n",
       "    <tr>\n",
       "      <th>height</th>\n",
       "      <td>-0.550160</td>\n",
       "      <td>-0.373737</td>\n",
       "      <td>0.590742</td>\n",
       "      <td>0.492063</td>\n",
       "      <td>0.306002</td>\n",
       "      <td>1.000000</td>\n",
       "      <td>0.307581</td>\n",
       "      <td>0.074694</td>\n",
       "      <td>0.180449</td>\n",
       "      <td>-0.060663</td>\n",
       "      <td>...</td>\n",
       "      <td>-0.087001</td>\n",
       "      <td>-0.309974</td>\n",
       "      <td>-0.049800</td>\n",
       "      <td>0.084301</td>\n",
       "      <td>0.135486</td>\n",
       "      <td>0.003811</td>\n",
       "      <td>0.281578</td>\n",
       "      <td>-0.281578</td>\n",
       "      <td>-0.090336</td>\n",
       "      <td>0.090336</td>\n",
       "    </tr>\n",
       "    <tr>\n",
       "      <th>curb-weight</th>\n",
       "      <td>-0.233118</td>\n",
       "      <td>0.099404</td>\n",
       "      <td>0.782097</td>\n",
       "      <td>0.880665</td>\n",
       "      <td>0.866201</td>\n",
       "      <td>0.307581</td>\n",
       "      <td>1.000000</td>\n",
       "      <td>0.849072</td>\n",
       "      <td>0.644060</td>\n",
       "      <td>0.167438</td>\n",
       "      <td>...</td>\n",
       "      <td>0.757981</td>\n",
       "      <td>-0.279361</td>\n",
       "      <td>-0.749543</td>\n",
       "      <td>0.836921</td>\n",
       "      <td>0.834415</td>\n",
       "      <td>0.785353</td>\n",
       "      <td>0.221046</td>\n",
       "      <td>-0.221046</td>\n",
       "      <td>-0.321955</td>\n",
       "      <td>0.321955</td>\n",
       "    </tr>\n",
       "    <tr>\n",
       "      <th>engine-size</th>\n",
       "      <td>-0.110581</td>\n",
       "      <td>0.112360</td>\n",
       "      <td>0.572027</td>\n",
       "      <td>0.685025</td>\n",
       "      <td>0.729436</td>\n",
       "      <td>0.074694</td>\n",
       "      <td>0.849072</td>\n",
       "      <td>1.000000</td>\n",
       "      <td>0.572609</td>\n",
       "      <td>0.205928</td>\n",
       "      <td>...</td>\n",
       "      <td>0.822668</td>\n",
       "      <td>-0.256733</td>\n",
       "      <td>-0.650546</td>\n",
       "      <td>0.783465</td>\n",
       "      <td>0.872335</td>\n",
       "      <td>0.745059</td>\n",
       "      <td>0.070779</td>\n",
       "      <td>-0.070779</td>\n",
       "      <td>-0.110040</td>\n",
       "      <td>0.110040</td>\n",
       "    </tr>\n",
       "    <tr>\n",
       "      <th>bore</th>\n",
       "      <td>-0.140019</td>\n",
       "      <td>-0.029862</td>\n",
       "      <td>0.493244</td>\n",
       "      <td>0.608971</td>\n",
       "      <td>0.544885</td>\n",
       "      <td>0.180449</td>\n",
       "      <td>0.644060</td>\n",
       "      <td>0.572609</td>\n",
       "      <td>1.000000</td>\n",
       "      <td>-0.055390</td>\n",
       "      <td>...</td>\n",
       "      <td>0.566903</td>\n",
       "      <td>-0.267392</td>\n",
       "      <td>-0.582027</td>\n",
       "      <td>0.559112</td>\n",
       "      <td>0.543155</td>\n",
       "      <td>0.554610</td>\n",
       "      <td>0.054458</td>\n",
       "      <td>-0.054458</td>\n",
       "      <td>-0.227816</td>\n",
       "      <td>0.227816</td>\n",
       "    </tr>\n",
       "    <tr>\n",
       "      <th>stroke</th>\n",
       "      <td>-0.008153</td>\n",
       "      <td>0.055045</td>\n",
       "      <td>0.158018</td>\n",
       "      <td>0.123952</td>\n",
       "      <td>0.188822</td>\n",
       "      <td>-0.060663</td>\n",
       "      <td>0.167438</td>\n",
       "      <td>0.205928</td>\n",
       "      <td>-0.055390</td>\n",
       "      <td>1.000000</td>\n",
       "      <td>...</td>\n",
       "      <td>0.098128</td>\n",
       "      <td>-0.063561</td>\n",
       "      <td>-0.033956</td>\n",
       "      <td>0.047089</td>\n",
       "      <td>0.082269</td>\n",
       "      <td>0.036133</td>\n",
       "      <td>0.241064</td>\n",
       "      <td>-0.241064</td>\n",
       "      <td>-0.218233</td>\n",
       "      <td>0.218233</td>\n",
       "    </tr>\n",
       "    <tr>\n",
       "      <th>compression-ratio</th>\n",
       "      <td>-0.182196</td>\n",
       "      <td>-0.114713</td>\n",
       "      <td>0.250313</td>\n",
       "      <td>0.159733</td>\n",
       "      <td>0.189867</td>\n",
       "      <td>0.259737</td>\n",
       "      <td>0.156433</td>\n",
       "      <td>0.028889</td>\n",
       "      <td>0.001263</td>\n",
       "      <td>0.187871</td>\n",
       "      <td>...</td>\n",
       "      <td>-0.214489</td>\n",
       "      <td>-0.435780</td>\n",
       "      <td>0.331425</td>\n",
       "      <td>-0.223361</td>\n",
       "      <td>0.071107</td>\n",
       "      <td>-0.299372</td>\n",
       "      <td>0.985231</td>\n",
       "      <td>-0.985231</td>\n",
       "      <td>-0.307522</td>\n",
       "      <td>0.307522</td>\n",
       "    </tr>\n",
       "    <tr>\n",
       "      <th>horsepower</th>\n",
       "      <td>0.075810</td>\n",
       "      <td>0.217300</td>\n",
       "      <td>0.371178</td>\n",
       "      <td>0.579795</td>\n",
       "      <td>0.615056</td>\n",
       "      <td>-0.087001</td>\n",
       "      <td>0.757981</td>\n",
       "      <td>0.822668</td>\n",
       "      <td>0.566903</td>\n",
       "      <td>0.098128</td>\n",
       "      <td>...</td>\n",
       "      <td>1.000000</td>\n",
       "      <td>0.107884</td>\n",
       "      <td>-0.822192</td>\n",
       "      <td>0.840627</td>\n",
       "      <td>0.809607</td>\n",
       "      <td>0.889482</td>\n",
       "      <td>-0.169030</td>\n",
       "      <td>0.169030</td>\n",
       "      <td>-0.251159</td>\n",
       "      <td>0.251159</td>\n",
       "    </tr>\n",
       "    <tr>\n",
       "      <th>peak-rpm</th>\n",
       "      <td>0.279740</td>\n",
       "      <td>0.239543</td>\n",
       "      <td>-0.360305</td>\n",
       "      <td>-0.285970</td>\n",
       "      <td>-0.245800</td>\n",
       "      <td>-0.309974</td>\n",
       "      <td>-0.279361</td>\n",
       "      <td>-0.256733</td>\n",
       "      <td>-0.267392</td>\n",
       "      <td>-0.063561</td>\n",
       "      <td>...</td>\n",
       "      <td>0.107884</td>\n",
       "      <td>1.000000</td>\n",
       "      <td>-0.115413</td>\n",
       "      <td>0.017694</td>\n",
       "      <td>-0.101616</td>\n",
       "      <td>0.115830</td>\n",
       "      <td>-0.475812</td>\n",
       "      <td>0.475812</td>\n",
       "      <td>0.190057</td>\n",
       "      <td>-0.190057</td>\n",
       "    </tr>\n",
       "    <tr>\n",
       "      <th>city-mpg</th>\n",
       "      <td>-0.035527</td>\n",
       "      <td>-0.225016</td>\n",
       "      <td>-0.470606</td>\n",
       "      <td>-0.665192</td>\n",
       "      <td>-0.633531</td>\n",
       "      <td>-0.049800</td>\n",
       "      <td>-0.749543</td>\n",
       "      <td>-0.650546</td>\n",
       "      <td>-0.582027</td>\n",
       "      <td>-0.033956</td>\n",
       "      <td>...</td>\n",
       "      <td>-0.822192</td>\n",
       "      <td>-0.115413</td>\n",
       "      <td>1.000000</td>\n",
       "      <td>-0.909024</td>\n",
       "      <td>-0.686571</td>\n",
       "      <td>-0.949713</td>\n",
       "      <td>0.265676</td>\n",
       "      <td>-0.265676</td>\n",
       "      <td>0.189237</td>\n",
       "      <td>-0.189237</td>\n",
       "    </tr>\n",
       "    <tr>\n",
       "      <th>highway-mpg</th>\n",
       "      <td>-0.029807</td>\n",
       "      <td>0.181189</td>\n",
       "      <td>0.577576</td>\n",
       "      <td>0.707108</td>\n",
       "      <td>0.736728</td>\n",
       "      <td>0.084301</td>\n",
       "      <td>0.836921</td>\n",
       "      <td>0.783465</td>\n",
       "      <td>0.559112</td>\n",
       "      <td>0.047089</td>\n",
       "      <td>...</td>\n",
       "      <td>0.840627</td>\n",
       "      <td>0.017694</td>\n",
       "      <td>-0.909024</td>\n",
       "      <td>1.000000</td>\n",
       "      <td>0.801118</td>\n",
       "      <td>0.958306</td>\n",
       "      <td>-0.158091</td>\n",
       "      <td>0.158091</td>\n",
       "      <td>-0.210720</td>\n",
       "      <td>0.210720</td>\n",
       "    </tr>\n",
       "    <tr>\n",
       "      <th>price</th>\n",
       "      <td>-0.082391</td>\n",
       "      <td>0.133999</td>\n",
       "      <td>0.584642</td>\n",
       "      <td>0.690628</td>\n",
       "      <td>0.751265</td>\n",
       "      <td>0.135486</td>\n",
       "      <td>0.834415</td>\n",
       "      <td>0.872335</td>\n",
       "      <td>0.543155</td>\n",
       "      <td>0.082269</td>\n",
       "      <td>...</td>\n",
       "      <td>0.809607</td>\n",
       "      <td>-0.101616</td>\n",
       "      <td>-0.686571</td>\n",
       "      <td>0.801118</td>\n",
       "      <td>1.000000</td>\n",
       "      <td>0.789898</td>\n",
       "      <td>0.110326</td>\n",
       "      <td>-0.110326</td>\n",
       "      <td>-0.179578</td>\n",
       "      <td>0.179578</td>\n",
       "    </tr>\n",
       "    <tr>\n",
       "      <th>city-L/100km</th>\n",
       "      <td>0.066171</td>\n",
       "      <td>0.238567</td>\n",
       "      <td>0.476153</td>\n",
       "      <td>0.657373</td>\n",
       "      <td>0.673363</td>\n",
       "      <td>0.003811</td>\n",
       "      <td>0.785353</td>\n",
       "      <td>0.745059</td>\n",
       "      <td>0.554610</td>\n",
       "      <td>0.036133</td>\n",
       "      <td>...</td>\n",
       "      <td>0.889482</td>\n",
       "      <td>0.115830</td>\n",
       "      <td>-0.949713</td>\n",
       "      <td>0.958306</td>\n",
       "      <td>0.789898</td>\n",
       "      <td>1.000000</td>\n",
       "      <td>-0.241282</td>\n",
       "      <td>0.241282</td>\n",
       "      <td>-0.157578</td>\n",
       "      <td>0.157578</td>\n",
       "    </tr>\n",
       "    <tr>\n",
       "      <th>fuel-type-diesel</th>\n",
       "      <td>-0.196735</td>\n",
       "      <td>-0.101546</td>\n",
       "      <td>0.307237</td>\n",
       "      <td>0.211187</td>\n",
       "      <td>0.244356</td>\n",
       "      <td>0.281578</td>\n",
       "      <td>0.221046</td>\n",
       "      <td>0.070779</td>\n",
       "      <td>0.054458</td>\n",
       "      <td>0.241064</td>\n",
       "      <td>...</td>\n",
       "      <td>-0.169030</td>\n",
       "      <td>-0.475812</td>\n",
       "      <td>0.265676</td>\n",
       "      <td>-0.158091</td>\n",
       "      <td>0.110326</td>\n",
       "      <td>-0.241282</td>\n",
       "      <td>1.000000</td>\n",
       "      <td>-1.000000</td>\n",
       "      <td>-0.408228</td>\n",
       "      <td>0.408228</td>\n",
       "    </tr>\n",
       "    <tr>\n",
       "      <th>fuel-type-gas</th>\n",
       "      <td>0.196735</td>\n",
       "      <td>0.101546</td>\n",
       "      <td>-0.307237</td>\n",
       "      <td>-0.211187</td>\n",
       "      <td>-0.244356</td>\n",
       "      <td>-0.281578</td>\n",
       "      <td>-0.221046</td>\n",
       "      <td>-0.070779</td>\n",
       "      <td>-0.054458</td>\n",
       "      <td>-0.241064</td>\n",
       "      <td>...</td>\n",
       "      <td>0.169030</td>\n",
       "      <td>0.475812</td>\n",
       "      <td>-0.265676</td>\n",
       "      <td>0.158091</td>\n",
       "      <td>-0.110326</td>\n",
       "      <td>0.241282</td>\n",
       "      <td>-1.000000</td>\n",
       "      <td>1.000000</td>\n",
       "      <td>0.408228</td>\n",
       "      <td>-0.408228</td>\n",
       "    </tr>\n",
       "    <tr>\n",
       "      <th>aspiration-std</th>\n",
       "      <td>0.054615</td>\n",
       "      <td>0.006911</td>\n",
       "      <td>-0.256889</td>\n",
       "      <td>-0.230085</td>\n",
       "      <td>-0.305732</td>\n",
       "      <td>-0.090336</td>\n",
       "      <td>-0.321955</td>\n",
       "      <td>-0.110040</td>\n",
       "      <td>-0.227816</td>\n",
       "      <td>-0.218233</td>\n",
       "      <td>...</td>\n",
       "      <td>-0.251159</td>\n",
       "      <td>0.190057</td>\n",
       "      <td>0.189237</td>\n",
       "      <td>-0.210720</td>\n",
       "      <td>-0.179578</td>\n",
       "      <td>-0.157578</td>\n",
       "      <td>-0.408228</td>\n",
       "      <td>0.408228</td>\n",
       "      <td>1.000000</td>\n",
       "      <td>-1.000000</td>\n",
       "    </tr>\n",
       "    <tr>\n",
       "      <th>aspiration-turbo</th>\n",
       "      <td>-0.054615</td>\n",
       "      <td>-0.006911</td>\n",
       "      <td>0.256889</td>\n",
       "      <td>0.230085</td>\n",
       "      <td>0.305732</td>\n",
       "      <td>0.090336</td>\n",
       "      <td>0.321955</td>\n",
       "      <td>0.110040</td>\n",
       "      <td>0.227816</td>\n",
       "      <td>0.218233</td>\n",
       "      <td>...</td>\n",
       "      <td>0.251159</td>\n",
       "      <td>-0.190057</td>\n",
       "      <td>-0.189237</td>\n",
       "      <td>0.210720</td>\n",
       "      <td>0.179578</td>\n",
       "      <td>0.157578</td>\n",
       "      <td>0.408228</td>\n",
       "      <td>-0.408228</td>\n",
       "      <td>-1.000000</td>\n",
       "      <td>1.000000</td>\n",
       "    </tr>\n",
       "  </tbody>\n",
       "</table>\n",
       "<p>21 rows × 21 columns</p>\n",
       "</div>"
      ],
      "text/plain": [
       "                   symboling  normalized-losses  wheel-base    length  \\\n",
       "symboling           1.000000           0.466264   -0.535987 -0.365404   \n",
       "normalized-losses   0.466264           1.000000   -0.056661  0.019424   \n",
       "wheel-base         -0.535987          -0.056661    1.000000  0.876024   \n",
       "length             -0.365404           0.019424    0.876024  1.000000   \n",
       "width              -0.242423           0.086802    0.814507  0.857170   \n",
       "height             -0.550160          -0.373737    0.590742  0.492063   \n",
       "curb-weight        -0.233118           0.099404    0.782097  0.880665   \n",
       "engine-size        -0.110581           0.112360    0.572027  0.685025   \n",
       "bore               -0.140019          -0.029862    0.493244  0.608971   \n",
       "stroke             -0.008153           0.055045    0.158018  0.123952   \n",
       "compression-ratio  -0.182196          -0.114713    0.250313  0.159733   \n",
       "horsepower          0.075810           0.217300    0.371178  0.579795   \n",
       "peak-rpm            0.279740           0.239543   -0.360305 -0.285970   \n",
       "city-mpg           -0.035527          -0.225016   -0.470606 -0.665192   \n",
       "highway-mpg        -0.029807           0.181189    0.577576  0.707108   \n",
       "price              -0.082391           0.133999    0.584642  0.690628   \n",
       "city-L/100km        0.066171           0.238567    0.476153  0.657373   \n",
       "fuel-type-diesel   -0.196735          -0.101546    0.307237  0.211187   \n",
       "fuel-type-gas       0.196735           0.101546   -0.307237 -0.211187   \n",
       "aspiration-std      0.054615           0.006911   -0.256889 -0.230085   \n",
       "aspiration-turbo   -0.054615          -0.006911    0.256889  0.230085   \n",
       "\n",
       "                      width    height  curb-weight  engine-size      bore  \\\n",
       "symboling         -0.242423 -0.550160    -0.233118    -0.110581 -0.140019   \n",
       "normalized-losses  0.086802 -0.373737     0.099404     0.112360 -0.029862   \n",
       "wheel-base         0.814507  0.590742     0.782097     0.572027  0.493244   \n",
       "length             0.857170  0.492063     0.880665     0.685025  0.608971   \n",
       "width              1.000000  0.306002     0.866201     0.729436  0.544885   \n",
       "height             0.306002  1.000000     0.307581     0.074694  0.180449   \n",
       "curb-weight        0.866201  0.307581     1.000000     0.849072  0.644060   \n",
       "engine-size        0.729436  0.074694     0.849072     1.000000  0.572609   \n",
       "bore               0.544885  0.180449     0.644060     0.572609  1.000000   \n",
       "stroke             0.188822 -0.060663     0.167438     0.205928 -0.055390   \n",
       "compression-ratio  0.189867  0.259737     0.156433     0.028889  0.001263   \n",
       "horsepower         0.615056 -0.087001     0.757981     0.822668  0.566903   \n",
       "peak-rpm          -0.245800 -0.309974    -0.279361    -0.256733 -0.267392   \n",
       "city-mpg          -0.633531 -0.049800    -0.749543    -0.650546 -0.582027   \n",
       "highway-mpg        0.736728  0.084301     0.836921     0.783465  0.559112   \n",
       "price              0.751265  0.135486     0.834415     0.872335  0.543155   \n",
       "city-L/100km       0.673363  0.003811     0.785353     0.745059  0.554610   \n",
       "fuel-type-diesel   0.244356  0.281578     0.221046     0.070779  0.054458   \n",
       "fuel-type-gas     -0.244356 -0.281578    -0.221046    -0.070779 -0.054458   \n",
       "aspiration-std    -0.305732 -0.090336    -0.321955    -0.110040 -0.227816   \n",
       "aspiration-turbo   0.305732  0.090336     0.321955     0.110040  0.227816   \n",
       "\n",
       "                     stroke  ...  horsepower  peak-rpm  city-mpg  highway-mpg  \\\n",
       "symboling         -0.008153  ...    0.075810  0.279740 -0.035527    -0.029807   \n",
       "normalized-losses  0.055045  ...    0.217300  0.239543 -0.225016     0.181189   \n",
       "wheel-base         0.158018  ...    0.371178 -0.360305 -0.470606     0.577576   \n",
       "length             0.123952  ...    0.579795 -0.285970 -0.665192     0.707108   \n",
       "width              0.188822  ...    0.615056 -0.245800 -0.633531     0.736728   \n",
       "height            -0.060663  ...   -0.087001 -0.309974 -0.049800     0.084301   \n",
       "curb-weight        0.167438  ...    0.757981 -0.279361 -0.749543     0.836921   \n",
       "engine-size        0.205928  ...    0.822668 -0.256733 -0.650546     0.783465   \n",
       "bore              -0.055390  ...    0.566903 -0.267392 -0.582027     0.559112   \n",
       "stroke             1.000000  ...    0.098128 -0.063561 -0.033956     0.047089   \n",
       "compression-ratio  0.187871  ...   -0.214489 -0.435780  0.331425    -0.223361   \n",
       "horsepower         0.098128  ...    1.000000  0.107884 -0.822192     0.840627   \n",
       "peak-rpm          -0.063561  ...    0.107884  1.000000 -0.115413     0.017694   \n",
       "city-mpg          -0.033956  ...   -0.822192 -0.115413  1.000000    -0.909024   \n",
       "highway-mpg        0.047089  ...    0.840627  0.017694 -0.909024     1.000000   \n",
       "price              0.082269  ...    0.809607 -0.101616 -0.686571     0.801118   \n",
       "city-L/100km       0.036133  ...    0.889482  0.115830 -0.949713     0.958306   \n",
       "fuel-type-diesel   0.241064  ...   -0.169030 -0.475812  0.265676    -0.158091   \n",
       "fuel-type-gas     -0.241064  ...    0.169030  0.475812 -0.265676     0.158091   \n",
       "aspiration-std    -0.218233  ...   -0.251159  0.190057  0.189237    -0.210720   \n",
       "aspiration-turbo   0.218233  ...    0.251159 -0.190057 -0.189237     0.210720   \n",
       "\n",
       "                      price  city-L/100km  fuel-type-diesel  fuel-type-gas  \\\n",
       "symboling         -0.082391      0.066171         -0.196735       0.196735   \n",
       "normalized-losses  0.133999      0.238567         -0.101546       0.101546   \n",
       "wheel-base         0.584642      0.476153          0.307237      -0.307237   \n",
       "length             0.690628      0.657373          0.211187      -0.211187   \n",
       "width              0.751265      0.673363          0.244356      -0.244356   \n",
       "height             0.135486      0.003811          0.281578      -0.281578   \n",
       "curb-weight        0.834415      0.785353          0.221046      -0.221046   \n",
       "engine-size        0.872335      0.745059          0.070779      -0.070779   \n",
       "bore               0.543155      0.554610          0.054458      -0.054458   \n",
       "stroke             0.082269      0.036133          0.241064      -0.241064   \n",
       "compression-ratio  0.071107     -0.299372          0.985231      -0.985231   \n",
       "horsepower         0.809607      0.889482         -0.169030       0.169030   \n",
       "peak-rpm          -0.101616      0.115830         -0.475812       0.475812   \n",
       "city-mpg          -0.686571     -0.949713          0.265676      -0.265676   \n",
       "highway-mpg        0.801118      0.958306         -0.158091       0.158091   \n",
       "price              1.000000      0.789898          0.110326      -0.110326   \n",
       "city-L/100km       0.789898      1.000000         -0.241282       0.241282   \n",
       "fuel-type-diesel   0.110326     -0.241282          1.000000      -1.000000   \n",
       "fuel-type-gas     -0.110326      0.241282         -1.000000       1.000000   \n",
       "aspiration-std    -0.179578     -0.157578         -0.408228       0.408228   \n",
       "aspiration-turbo   0.179578      0.157578          0.408228      -0.408228   \n",
       "\n",
       "                   aspiration-std  aspiration-turbo  \n",
       "symboling                0.054615         -0.054615  \n",
       "normalized-losses        0.006911         -0.006911  \n",
       "wheel-base              -0.256889          0.256889  \n",
       "length                  -0.230085          0.230085  \n",
       "width                   -0.305732          0.305732  \n",
       "height                  -0.090336          0.090336  \n",
       "curb-weight             -0.321955          0.321955  \n",
       "engine-size             -0.110040          0.110040  \n",
       "bore                    -0.227816          0.227816  \n",
       "stroke                  -0.218233          0.218233  \n",
       "compression-ratio       -0.307522          0.307522  \n",
       "horsepower              -0.251159          0.251159  \n",
       "peak-rpm                 0.190057         -0.190057  \n",
       "city-mpg                 0.189237         -0.189237  \n",
       "highway-mpg             -0.210720          0.210720  \n",
       "price                   -0.179578          0.179578  \n",
       "city-L/100km            -0.157578          0.157578  \n",
       "fuel-type-diesel        -0.408228          0.408228  \n",
       "fuel-type-gas            0.408228         -0.408228  \n",
       "aspiration-std           1.000000         -1.000000  \n",
       "aspiration-turbo        -1.000000          1.000000  \n",
       "\n",
       "[21 rows x 21 columns]"
      ]
     },
     "execution_count": 75,
     "metadata": {},
     "output_type": "execute_result"
    }
   ],
   "source": [
    "# we can calculate the correlation between variables \n",
    "\n",
    "# of type \"int64\" or \"float64\" using the method \"corr\":\n",
    "\n",
    "df.corr()"
   ]
  },
  {
   "cell_type": "code",
   "execution_count": 76,
   "id": "6e33351c",
   "metadata": {
    "execution": {
     "iopub.execute_input": "2022-01-26T01:27:26.259161Z",
     "iopub.status.busy": "2022-01-26T01:27:26.255734Z",
     "iopub.status.idle": "2022-01-26T01:27:26.264927Z",
     "shell.execute_reply": "2022-01-26T01:27:26.265533Z",
     "shell.execute_reply.started": "2022-01-25T20:57:35.132634Z"
    },
    "papermill": {
     "duration": 0.223797,
     "end_time": "2022-01-26T01:27:26.265702",
     "exception": false,
     "start_time": "2022-01-26T01:27:26.041905",
     "status": "completed"
    },
    "tags": []
   },
   "outputs": [
    {
     "data": {
      "text/html": [
       "<div>\n",
       "<style scoped>\n",
       "    .dataframe tbody tr th:only-of-type {\n",
       "        vertical-align: middle;\n",
       "    }\n",
       "\n",
       "    .dataframe tbody tr th {\n",
       "        vertical-align: top;\n",
       "    }\n",
       "\n",
       "    .dataframe thead th {\n",
       "        text-align: right;\n",
       "    }\n",
       "</style>\n",
       "<table border=\"1\" class=\"dataframe\">\n",
       "  <thead>\n",
       "    <tr style=\"text-align: right;\">\n",
       "      <th></th>\n",
       "      <th>bore</th>\n",
       "      <th>stroke</th>\n",
       "      <th>compression-ratio</th>\n",
       "      <th>horsepower</th>\n",
       "    </tr>\n",
       "  </thead>\n",
       "  <tbody>\n",
       "    <tr>\n",
       "      <th>bore</th>\n",
       "      <td>1.000000</td>\n",
       "      <td>-0.055390</td>\n",
       "      <td>0.001263</td>\n",
       "      <td>0.566903</td>\n",
       "    </tr>\n",
       "    <tr>\n",
       "      <th>stroke</th>\n",
       "      <td>-0.055390</td>\n",
       "      <td>1.000000</td>\n",
       "      <td>0.187871</td>\n",
       "      <td>0.098128</td>\n",
       "    </tr>\n",
       "    <tr>\n",
       "      <th>compression-ratio</th>\n",
       "      <td>0.001263</td>\n",
       "      <td>0.187871</td>\n",
       "      <td>1.000000</td>\n",
       "      <td>-0.214489</td>\n",
       "    </tr>\n",
       "    <tr>\n",
       "      <th>horsepower</th>\n",
       "      <td>0.566903</td>\n",
       "      <td>0.098128</td>\n",
       "      <td>-0.214489</td>\n",
       "      <td>1.000000</td>\n",
       "    </tr>\n",
       "  </tbody>\n",
       "</table>\n",
       "</div>"
      ],
      "text/plain": [
       "                       bore    stroke  compression-ratio  horsepower\n",
       "bore               1.000000 -0.055390           0.001263    0.566903\n",
       "stroke            -0.055390  1.000000           0.187871    0.098128\n",
       "compression-ratio  0.001263  0.187871           1.000000   -0.214489\n",
       "horsepower         0.566903  0.098128          -0.214489    1.000000"
      ]
     },
     "execution_count": 76,
     "metadata": {},
     "output_type": "execute_result"
    }
   ],
   "source": [
    "\n",
    "df[['bore', 'stroke', 'compression-ratio', 'horsepower']].corr()"
   ]
  },
  {
   "cell_type": "code",
   "execution_count": 77,
   "id": "61ce62af",
   "metadata": {
    "execution": {
     "iopub.execute_input": "2022-01-26T01:27:26.705973Z",
     "iopub.status.busy": "2022-01-26T01:27:26.705336Z",
     "iopub.status.idle": "2022-01-26T01:27:27.049411Z",
     "shell.execute_reply": "2022-01-26T01:27:27.048777Z",
     "shell.execute_reply.started": "2022-01-25T21:01:01.358336Z"
    },
    "papermill": {
     "duration": 0.574231,
     "end_time": "2022-01-26T01:27:27.049558",
     "exception": false,
     "start_time": "2022-01-26T01:27:26.475327",
     "status": "completed"
    },
    "tags": []
   },
   "outputs": [
    {
     "data": {
      "text/html": [
       "<div>\n",
       "<style scoped>\n",
       "    .dataframe tbody tr th:only-of-type {\n",
       "        vertical-align: middle;\n",
       "    }\n",
       "\n",
       "    .dataframe tbody tr th {\n",
       "        vertical-align: top;\n",
       "    }\n",
       "\n",
       "    .dataframe thead th {\n",
       "        text-align: right;\n",
       "    }\n",
       "</style>\n",
       "<table border=\"1\" class=\"dataframe\">\n",
       "  <thead>\n",
       "    <tr style=\"text-align: right;\">\n",
       "      <th></th>\n",
       "      <th>symboling</th>\n",
       "      <th>normalized-losses</th>\n",
       "      <th>make</th>\n",
       "      <th>num-of-doors</th>\n",
       "      <th>body-style</th>\n",
       "      <th>drive-wheels</th>\n",
       "      <th>engine-location</th>\n",
       "      <th>wheel-base</th>\n",
       "      <th>length</th>\n",
       "      <th>width</th>\n",
       "      <th>...</th>\n",
       "      <th>peak-rpm</th>\n",
       "      <th>city-mpg</th>\n",
       "      <th>highway-mpg</th>\n",
       "      <th>price</th>\n",
       "      <th>city-L/100km</th>\n",
       "      <th>horsepower-binned</th>\n",
       "      <th>fuel-type-diesel</th>\n",
       "      <th>fuel-type-gas</th>\n",
       "      <th>aspiration-std</th>\n",
       "      <th>aspiration-turbo</th>\n",
       "    </tr>\n",
       "  </thead>\n",
       "  <tbody>\n",
       "    <tr>\n",
       "      <th>0</th>\n",
       "      <td>3</td>\n",
       "      <td>122</td>\n",
       "      <td>alfa-romero</td>\n",
       "      <td>two</td>\n",
       "      <td>convertible</td>\n",
       "      <td>rwd</td>\n",
       "      <td>front</td>\n",
       "      <td>88.6</td>\n",
       "      <td>0.811148</td>\n",
       "      <td>0.890278</td>\n",
       "      <td>...</td>\n",
       "      <td>5000.0</td>\n",
       "      <td>21</td>\n",
       "      <td>8.703704</td>\n",
       "      <td>13495.0</td>\n",
       "      <td>11.190476</td>\n",
       "      <td>Low</td>\n",
       "      <td>0</td>\n",
       "      <td>1</td>\n",
       "      <td>1</td>\n",
       "      <td>0</td>\n",
       "    </tr>\n",
       "    <tr>\n",
       "      <th>1</th>\n",
       "      <td>3</td>\n",
       "      <td>122</td>\n",
       "      <td>alfa-romero</td>\n",
       "      <td>two</td>\n",
       "      <td>convertible</td>\n",
       "      <td>rwd</td>\n",
       "      <td>front</td>\n",
       "      <td>88.6</td>\n",
       "      <td>0.811148</td>\n",
       "      <td>0.890278</td>\n",
       "      <td>...</td>\n",
       "      <td>5000.0</td>\n",
       "      <td>21</td>\n",
       "      <td>8.703704</td>\n",
       "      <td>16500.0</td>\n",
       "      <td>11.190476</td>\n",
       "      <td>Low</td>\n",
       "      <td>0</td>\n",
       "      <td>1</td>\n",
       "      <td>1</td>\n",
       "      <td>0</td>\n",
       "    </tr>\n",
       "    <tr>\n",
       "      <th>2</th>\n",
       "      <td>1</td>\n",
       "      <td>122</td>\n",
       "      <td>alfa-romero</td>\n",
       "      <td>two</td>\n",
       "      <td>hatchback</td>\n",
       "      <td>rwd</td>\n",
       "      <td>front</td>\n",
       "      <td>94.5</td>\n",
       "      <td>0.822681</td>\n",
       "      <td>0.909722</td>\n",
       "      <td>...</td>\n",
       "      <td>5000.0</td>\n",
       "      <td>19</td>\n",
       "      <td>9.038462</td>\n",
       "      <td>16500.0</td>\n",
       "      <td>12.368421</td>\n",
       "      <td>Medium</td>\n",
       "      <td>0</td>\n",
       "      <td>1</td>\n",
       "      <td>1</td>\n",
       "      <td>0</td>\n",
       "    </tr>\n",
       "    <tr>\n",
       "      <th>3</th>\n",
       "      <td>2</td>\n",
       "      <td>164</td>\n",
       "      <td>audi</td>\n",
       "      <td>four</td>\n",
       "      <td>sedan</td>\n",
       "      <td>fwd</td>\n",
       "      <td>front</td>\n",
       "      <td>99.8</td>\n",
       "      <td>0.848630</td>\n",
       "      <td>0.919444</td>\n",
       "      <td>...</td>\n",
       "      <td>5500.0</td>\n",
       "      <td>24</td>\n",
       "      <td>7.833333</td>\n",
       "      <td>13950.0</td>\n",
       "      <td>9.791667</td>\n",
       "      <td>Low</td>\n",
       "      <td>0</td>\n",
       "      <td>1</td>\n",
       "      <td>1</td>\n",
       "      <td>0</td>\n",
       "    </tr>\n",
       "    <tr>\n",
       "      <th>4</th>\n",
       "      <td>2</td>\n",
       "      <td>164</td>\n",
       "      <td>audi</td>\n",
       "      <td>four</td>\n",
       "      <td>sedan</td>\n",
       "      <td>4wd</td>\n",
       "      <td>front</td>\n",
       "      <td>99.4</td>\n",
       "      <td>0.848630</td>\n",
       "      <td>0.922222</td>\n",
       "      <td>...</td>\n",
       "      <td>5500.0</td>\n",
       "      <td>18</td>\n",
       "      <td>10.681818</td>\n",
       "      <td>17450.0</td>\n",
       "      <td>13.055556</td>\n",
       "      <td>Low</td>\n",
       "      <td>0</td>\n",
       "      <td>1</td>\n",
       "      <td>1</td>\n",
       "      <td>0</td>\n",
       "    </tr>\n",
       "  </tbody>\n",
       "</table>\n",
       "<p>5 rows × 30 columns</p>\n",
       "</div>"
      ],
      "text/plain": [
       "   symboling  normalized-losses         make num-of-doors   body-style  \\\n",
       "0          3                122  alfa-romero          two  convertible   \n",
       "1          3                122  alfa-romero          two  convertible   \n",
       "2          1                122  alfa-romero          two    hatchback   \n",
       "3          2                164         audi         four        sedan   \n",
       "4          2                164         audi         four        sedan   \n",
       "\n",
       "  drive-wheels engine-location  wheel-base    length     width  ...  peak-rpm  \\\n",
       "0          rwd           front        88.6  0.811148  0.890278  ...    5000.0   \n",
       "1          rwd           front        88.6  0.811148  0.890278  ...    5000.0   \n",
       "2          rwd           front        94.5  0.822681  0.909722  ...    5000.0   \n",
       "3          fwd           front        99.8  0.848630  0.919444  ...    5500.0   \n",
       "4          4wd           front        99.4  0.848630  0.922222  ...    5500.0   \n",
       "\n",
       "   city-mpg highway-mpg    price  city-L/100km horsepower-binned  \\\n",
       "0        21    8.703704  13495.0     11.190476               Low   \n",
       "1        21    8.703704  16500.0     11.190476               Low   \n",
       "2        19    9.038462  16500.0     12.368421            Medium   \n",
       "3        24    7.833333  13950.0      9.791667               Low   \n",
       "4        18   10.681818  17450.0     13.055556               Low   \n",
       "\n",
       "   fuel-type-diesel  fuel-type-gas  aspiration-std  aspiration-turbo  \n",
       "0                 0              1               1                 0  \n",
       "1                 0              1               1                 0  \n",
       "2                 0              1               1                 0  \n",
       "3                 0              1               1                 0  \n",
       "4                 0              1               1                 0  \n",
       "\n",
       "[5 rows x 30 columns]"
      ]
     },
     "execution_count": 77,
     "metadata": {},
     "output_type": "execute_result"
    },
    {
     "data": {
      "image/png": "[encoded data removed]",
      "text/plain": [
       "<Figure size 432x288 with 1 Axes>"
      ]
     },
     "metadata": {
      "needs_background": "light"
     },
     "output_type": "display_data"
    }
   ],
   "source": [
    "# Continuous Numerical Variables:\n",
    "\n",
    "# are variables that may contain any value within some range. \n",
    "\n",
    "# They can be of type \"int64\" or \"float64\". \n",
    "\n",
    "# A great way to visualize these variables is by using [scatterplots] with fitted lines.\n",
    "\n",
    "# In order to start understanding the (linear) relationship\n",
    "\n",
    "# between an individual variable and the price, \n",
    "\n",
    "# we can use \"regplot\" which plots the scatterplot plus the fitted regression line for the data.\n",
    "\n",
    "\n",
    "# Let's find the scatterplot of \"engine-size\" and \"price\".\n",
    "\n",
    "# Engine size as potential predictor variable of price\n",
    "\n",
    "sns.regplot(x=\"engine-size\", y=\"price\", data=df)\n",
    "\n",
    "plt.ylim(0,)\n",
    "\n",
    "df.head()"
   ]
  },
  {
   "cell_type": "code",
   "execution_count": 78,
   "id": "f37eb0d4",
   "metadata": {
    "execution": {
     "iopub.execute_input": "2022-01-26T01:27:27.474101Z",
     "iopub.status.busy": "2022-01-26T01:27:27.472535Z",
     "iopub.status.idle": "2022-01-26T01:27:27.476465Z",
     "shell.execute_reply": "2022-01-26T01:27:27.475795Z",
     "shell.execute_reply.started": "2022-01-25T21:03:46.790516Z"
    },
    "papermill": {
     "duration": 0.218259,
     "end_time": "2022-01-26T01:27:27.476611",
     "exception": false,
     "start_time": "2022-01-26T01:27:27.258352",
     "status": "completed"
    },
    "tags": []
   },
   "outputs": [],
   "source": [
    "# Positive Linear Relationship\n",
    "\n",
    "# As the engine-size goes up, the price goes up: \n",
    "\n",
    "# this indicates a positive direct correlation between these two variables. \n",
    "\n",
    "# Engine size seems like a pretty good predictor of price \n",
    "\n",
    "# since the regression line is almost a perfect diagonal line.\n"
   ]
  },
  {
   "cell_type": "code",
   "execution_count": 79,
   "id": "9becb440",
   "metadata": {
    "execution": {
     "iopub.execute_input": "2022-01-26T01:27:27.909218Z",
     "iopub.status.busy": "2022-01-26T01:27:27.908119Z",
     "iopub.status.idle": "2022-01-26T01:27:27.911652Z",
     "shell.execute_reply": "2022-01-26T01:27:27.912147Z",
     "shell.execute_reply.started": "2022-01-25T21:04:19.410573Z"
    },
    "papermill": {
     "duration": 0.225628,
     "end_time": "2022-01-26T01:27:27.912317",
     "exception": false,
     "start_time": "2022-01-26T01:27:27.686689",
     "status": "completed"
    },
    "tags": []
   },
   "outputs": [
    {
     "data": {
      "text/html": [
       "<div>\n",
       "<style scoped>\n",
       "    .dataframe tbody tr th:only-of-type {\n",
       "        vertical-align: middle;\n",
       "    }\n",
       "\n",
       "    .dataframe tbody tr th {\n",
       "        vertical-align: top;\n",
       "    }\n",
       "\n",
       "    .dataframe thead th {\n",
       "        text-align: right;\n",
       "    }\n",
       "</style>\n",
       "<table border=\"1\" class=\"dataframe\">\n",
       "  <thead>\n",
       "    <tr style=\"text-align: right;\">\n",
       "      <th></th>\n",
       "      <th>engine-size</th>\n",
       "      <th>price</th>\n",
       "    </tr>\n",
       "  </thead>\n",
       "  <tbody>\n",
       "    <tr>\n",
       "      <th>engine-size</th>\n",
       "      <td>1.000000</td>\n",
       "      <td>0.872335</td>\n",
       "    </tr>\n",
       "    <tr>\n",
       "      <th>price</th>\n",
       "      <td>0.872335</td>\n",
       "      <td>1.000000</td>\n",
       "    </tr>\n",
       "  </tbody>\n",
       "</table>\n",
       "</div>"
      ],
      "text/plain": [
       "             engine-size     price\n",
       "engine-size     1.000000  0.872335\n",
       "price           0.872335  1.000000"
      ]
     },
     "execution_count": 79,
     "metadata": {},
     "output_type": "execute_result"
    }
   ],
   "source": [
    "df[[\"engine-size\", \"price\"]].corr()"
   ]
  },
  {
   "cell_type": "code",
   "execution_count": 80,
   "id": "f44a87a8",
   "metadata": {
    "execution": {
     "iopub.execute_input": "2022-01-26T01:27:28.337833Z",
     "iopub.status.busy": "2022-01-26T01:27:28.337093Z",
     "iopub.status.idle": "2022-01-26T01:27:28.339749Z",
     "shell.execute_reply": "2022-01-26T01:27:28.339256Z",
     "shell.execute_reply.started": "2022-01-25T21:04:43.192448Z"
    },
    "papermill": {
     "duration": 0.216612,
     "end_time": "2022-01-26T01:27:28.339889",
     "exception": false,
     "start_time": "2022-01-26T01:27:28.123277",
     "status": "completed"
    },
    "tags": []
   },
   "outputs": [],
   "source": [
    "# the correlation between 'engine-size' and 'price' and see that it's approximately 0.87.\n"
   ]
  },
  {
   "cell_type": "code",
   "execution_count": 81,
   "id": "e9a260c6",
   "metadata": {
    "execution": {
     "iopub.execute_input": "2022-01-26T01:27:28.765780Z",
     "iopub.status.busy": "2022-01-26T01:27:28.765185Z",
     "iopub.status.idle": "2022-01-26T01:27:29.085170Z",
     "shell.execute_reply": "2022-01-26T01:27:29.085663Z",
     "shell.execute_reply.started": "2022-01-25T21:05:55.190752Z"
    },
    "papermill": {
     "duration": 0.533923,
     "end_time": "2022-01-26T01:27:29.085858",
     "exception": false,
     "start_time": "2022-01-26T01:27:28.551935",
     "status": "completed"
    },
    "tags": []
   },
   "outputs": [
    {
     "data": {
      "text/plain": [
       "<AxesSubplot:xlabel='highway-mpg', ylabel='price'>"
      ]
     },
     "execution_count": 81,
     "metadata": {},
     "output_type": "execute_result"
    },
    {
     "data": {
      "image/png": "[encoded data removed]",
      "text/plain": [
       "<Figure size 432x288 with 1 Axes>"
      ]
     },
     "metadata": {
      "needs_background": "light"
     },
     "output_type": "display_data"
    }
   ],
   "source": [
    "# Let's find the scatterplot of \"highway-mpg\" and \"price\".\n",
    "\n",
    "sns.regplot(x=\"highway-mpg\", y=\"price\", data=df)"
   ]
  },
  {
   "cell_type": "code",
   "execution_count": 82,
   "id": "e2854705",
   "metadata": {
    "execution": {
     "iopub.execute_input": "2022-01-26T01:27:29.513749Z",
     "iopub.status.busy": "2022-01-26T01:27:29.513148Z",
     "iopub.status.idle": "2022-01-26T01:27:29.516684Z",
     "shell.execute_reply": "2022-01-26T01:27:29.516179Z",
     "shell.execute_reply.started": "2022-01-25T21:08:13.549483Z"
    },
    "papermill": {
     "duration": 0.219668,
     "end_time": "2022-01-26T01:27:29.516840",
     "exception": false,
     "start_time": "2022-01-26T01:27:29.297172",
     "status": "completed"
    },
    "tags": []
   },
   "outputs": [],
   "source": [
    "# inverse/negative relationship\n",
    "\n",
    "# As highway-mpg goes up, the price goes down\n",
    "\n",
    "# this indicates an inverse/negative relationship between these two variables. \n",
    "\n",
    "# Highway mpg could potentially be a predictor of price.\n",
    "\n"
   ]
  },
  {
   "cell_type": "code",
   "execution_count": 83,
   "id": "a5011003",
   "metadata": {
    "execution": {
     "iopub.execute_input": "2022-01-26T01:27:29.952666Z",
     "iopub.status.busy": "2022-01-26T01:27:29.951781Z",
     "iopub.status.idle": "2022-01-26T01:27:29.955740Z",
     "shell.execute_reply": "2022-01-26T01:27:29.955103Z",
     "shell.execute_reply.started": "2022-01-25T21:08:41.299804Z"
    },
    "papermill": {
     "duration": 0.226302,
     "end_time": "2022-01-26T01:27:29.955880",
     "exception": false,
     "start_time": "2022-01-26T01:27:29.729578",
     "status": "completed"
    },
    "tags": []
   },
   "outputs": [
    {
     "data": {
      "text/html": [
       "<div>\n",
       "<style scoped>\n",
       "    .dataframe tbody tr th:only-of-type {\n",
       "        vertical-align: middle;\n",
       "    }\n",
       "\n",
       "    .dataframe tbody tr th {\n",
       "        vertical-align: top;\n",
       "    }\n",
       "\n",
       "    .dataframe thead th {\n",
       "        text-align: right;\n",
       "    }\n",
       "</style>\n",
       "<table border=\"1\" class=\"dataframe\">\n",
       "  <thead>\n",
       "    <tr style=\"text-align: right;\">\n",
       "      <th></th>\n",
       "      <th>highway-mpg</th>\n",
       "      <th>price</th>\n",
       "    </tr>\n",
       "  </thead>\n",
       "  <tbody>\n",
       "    <tr>\n",
       "      <th>highway-mpg</th>\n",
       "      <td>1.000000</td>\n",
       "      <td>0.801118</td>\n",
       "    </tr>\n",
       "    <tr>\n",
       "      <th>price</th>\n",
       "      <td>0.801118</td>\n",
       "      <td>1.000000</td>\n",
       "    </tr>\n",
       "  </tbody>\n",
       "</table>\n",
       "</div>"
      ],
      "text/plain": [
       "             highway-mpg     price\n",
       "highway-mpg     1.000000  0.801118\n",
       "price           0.801118  1.000000"
      ]
     },
     "execution_count": 83,
     "metadata": {},
     "output_type": "execute_result"
    }
   ],
   "source": [
    "df[['highway-mpg', 'price']].corr()"
   ]
  },
  {
   "cell_type": "code",
   "execution_count": 84,
   "id": "035d7b89",
   "metadata": {
    "execution": {
     "iopub.execute_input": "2022-01-26T01:27:30.387883Z",
     "iopub.status.busy": "2022-01-26T01:27:30.387284Z",
     "iopub.status.idle": "2022-01-26T01:27:30.390395Z",
     "shell.execute_reply": "2022-01-26T01:27:30.391013Z",
     "shell.execute_reply.started": "2022-01-25T21:09:08.880481Z"
    },
    "papermill": {
     "duration": 0.219581,
     "end_time": "2022-01-26T01:27:30.391174",
     "exception": false,
     "start_time": "2022-01-26T01:27:30.171593",
     "status": "completed"
    },
    "tags": []
   },
   "outputs": [],
   "source": [
    "# the correlation between 'highway-mpg' and 'price' and see it's approximately -0.704."
   ]
  },
  {
   "cell_type": "code",
   "execution_count": 85,
   "id": "a7fa7ec2",
   "metadata": {
    "execution": {
     "iopub.execute_input": "2022-01-26T01:27:30.826587Z",
     "iopub.status.busy": "2022-01-26T01:27:30.825926Z",
     "iopub.status.idle": "2022-01-26T01:27:31.166259Z",
     "shell.execute_reply": "2022-01-26T01:27:31.165678Z",
     "shell.execute_reply.started": "2022-01-25T21:13:21.697023Z"
    },
    "papermill": {
     "duration": 0.560741,
     "end_time": "2022-01-26T01:27:31.166417",
     "exception": false,
     "start_time": "2022-01-26T01:27:30.605676",
     "status": "completed"
    },
    "tags": []
   },
   "outputs": [
    {
     "data": {
      "text/plain": [
       "<AxesSubplot:xlabel='peak-rpm', ylabel='price'>"
      ]
     },
     "execution_count": 85,
     "metadata": {},
     "output_type": "execute_result"
    },
    {
     "data": {
      "image/png": "[encoded data removed]",
      "text/plain": [
       "<Figure size 432x288 with 1 Axes>"
      ]
     },
     "metadata": {
      "needs_background": "light"
     },
     "output_type": "display_data"
    }
   ],
   "source": [
    "# Let's see if \"peak-rpm\" is a predictor variable of \"price\".\n",
    "\n",
    "sns.regplot(x=\"peak-rpm\", y=\"price\", data=df)"
   ]
  },
  {
   "cell_type": "code",
   "execution_count": 86,
   "id": "54586c40",
   "metadata": {
    "execution": {
     "iopub.execute_input": "2022-01-26T01:27:31.597107Z",
     "iopub.status.busy": "2022-01-26T01:27:31.596467Z",
     "iopub.status.idle": "2022-01-26T01:27:31.599306Z",
     "shell.execute_reply": "2022-01-26T01:27:31.599841Z",
     "shell.execute_reply.started": "2022-01-25T21:13:33.677443Z"
    },
    "papermill": {
     "duration": 0.220723,
     "end_time": "2022-01-26T01:27:31.600014",
     "exception": false,
     "start_time": "2022-01-26T01:27:31.379291",
     "status": "completed"
    },
    "tags": []
   },
   "outputs": [],
   "source": [
    "# Weak Linear Relationship\n",
    "\n",
    "# Peak rpm does not seem like a good predictor of the price at all \n",
    "\n",
    "# since the regression line is close to horizontal. \n",
    "\n",
    "# Also, the data points are very scattered and far from the fitted line\n",
    "\n",
    "# showing lots of variability. Therefore, it's not a reliable variable."
   ]
  },
  {
   "cell_type": "code",
   "execution_count": 87,
   "id": "eaa7c419",
   "metadata": {
    "execution": {
     "iopub.execute_input": "2022-01-26T01:27:32.034515Z",
     "iopub.status.busy": "2022-01-26T01:27:32.033894Z",
     "iopub.status.idle": "2022-01-26T01:27:32.042897Z",
     "shell.execute_reply": "2022-01-26T01:27:32.043425Z",
     "shell.execute_reply.started": "2022-01-25T21:13:37.005555Z"
    },
    "papermill": {
     "duration": 0.229611,
     "end_time": "2022-01-26T01:27:32.043623",
     "exception": false,
     "start_time": "2022-01-26T01:27:31.814012",
     "status": "completed"
    },
    "tags": []
   },
   "outputs": [
    {
     "data": {
      "text/html": [
       "<div>\n",
       "<style scoped>\n",
       "    .dataframe tbody tr th:only-of-type {\n",
       "        vertical-align: middle;\n",
       "    }\n",
       "\n",
       "    .dataframe tbody tr th {\n",
       "        vertical-align: top;\n",
       "    }\n",
       "\n",
       "    .dataframe thead th {\n",
       "        text-align: right;\n",
       "    }\n",
       "</style>\n",
       "<table border=\"1\" class=\"dataframe\">\n",
       "  <thead>\n",
       "    <tr style=\"text-align: right;\">\n",
       "      <th></th>\n",
       "      <th>peak-rpm</th>\n",
       "      <th>price</th>\n",
       "    </tr>\n",
       "  </thead>\n",
       "  <tbody>\n",
       "    <tr>\n",
       "      <th>peak-rpm</th>\n",
       "      <td>1.000000</td>\n",
       "      <td>-0.101616</td>\n",
       "    </tr>\n",
       "    <tr>\n",
       "      <th>price</th>\n",
       "      <td>-0.101616</td>\n",
       "      <td>1.000000</td>\n",
       "    </tr>\n",
       "  </tbody>\n",
       "</table>\n",
       "</div>"
      ],
      "text/plain": [
       "          peak-rpm     price\n",
       "peak-rpm  1.000000 -0.101616\n",
       "price    -0.101616  1.000000"
      ]
     },
     "execution_count": 87,
     "metadata": {},
     "output_type": "execute_result"
    }
   ],
   "source": [
    "df[['peak-rpm','price']].corr()"
   ]
  },
  {
   "cell_type": "code",
   "execution_count": 88,
   "id": "e0c0821a",
   "metadata": {
    "execution": {
     "iopub.execute_input": "2022-01-26T01:27:32.475023Z",
     "iopub.status.busy": "2022-01-26T01:27:32.474408Z",
     "iopub.status.idle": "2022-01-26T01:27:32.477503Z",
     "shell.execute_reply": "2022-01-26T01:27:32.478037Z",
     "shell.execute_reply.started": "2022-01-25T21:13:43.617380Z"
    },
    "papermill": {
     "duration": 0.219792,
     "end_time": "2022-01-26T01:27:32.478211",
     "exception": false,
     "start_time": "2022-01-26T01:27:32.258419",
     "status": "completed"
    },
    "tags": []
   },
   "outputs": [],
   "source": [
    "# the correlation between 'peak-rpm' and 'price' and see it's approximately -0.101616."
   ]
  },
  {
   "cell_type": "code",
   "execution_count": 89,
   "id": "a4360a62",
   "metadata": {
    "execution": {
     "iopub.execute_input": "2022-01-26T01:27:32.927798Z",
     "iopub.status.busy": "2022-01-26T01:27:32.926451Z",
     "iopub.status.idle": "2022-01-26T01:27:33.252055Z",
     "shell.execute_reply": "2022-01-26T01:27:33.251347Z",
     "shell.execute_reply.started": "2022-01-25T21:15:18.569944Z"
    },
    "papermill": {
     "duration": 0.560841,
     "end_time": "2022-01-26T01:27:33.252202",
     "exception": false,
     "start_time": "2022-01-26T01:27:32.691361",
     "status": "completed"
    },
    "tags": []
   },
   "outputs": [
    {
     "data": {
      "text/plain": [
       "<AxesSubplot:xlabel='stroke', ylabel='price'>"
      ]
     },
     "execution_count": 89,
     "metadata": {},
     "output_type": "execute_result"
    },
    {
     "data": {
      "image/png": "[encoded data removed]",
      "text/plain": [
       "<Figure size 432x288 with 1 Axes>"
      ]
     },
     "metadata": {
      "needs_background": "light"
     },
     "output_type": "display_data"
    }
   ],
   "source": [
    "# # Let's see if \"peak-rpm\" is a predictor variable of \"price\"\n",
    "\n",
    "sns.regplot(x=\"stroke\", y=\"price\", data=df)"
   ]
  },
  {
   "cell_type": "code",
   "execution_count": 90,
   "id": "98a108f5",
   "metadata": {
    "execution": {
     "iopub.execute_input": "2022-01-26T01:27:33.686875Z",
     "iopub.status.busy": "2022-01-26T01:27:33.686294Z",
     "iopub.status.idle": "2022-01-26T01:27:33.688828Z",
     "shell.execute_reply": "2022-01-26T01:27:33.689384Z",
     "shell.execute_reply.started": "2022-01-25T21:15:42.558223Z"
    },
    "papermill": {
     "duration": 0.221377,
     "end_time": "2022-01-26T01:27:33.689545",
     "exception": false,
     "start_time": "2022-01-26T01:27:33.468168",
     "status": "completed"
    },
    "tags": []
   },
   "outputs": [],
   "source": [
    "# Weak Linear Relationship"
   ]
  },
  {
   "cell_type": "code",
   "execution_count": 91,
   "id": "5054bee9",
   "metadata": {
    "execution": {
     "iopub.execute_input": "2022-01-26T01:27:34.129100Z",
     "iopub.status.busy": "2022-01-26T01:27:34.127401Z",
     "iopub.status.idle": "2022-01-26T01:27:34.130830Z",
     "shell.execute_reply": "2022-01-26T01:27:34.131405Z",
     "shell.execute_reply.started": "2022-01-25T21:17:38.129630Z"
    },
    "papermill": {
     "duration": 0.2248,
     "end_time": "2022-01-26T01:27:34.131585",
     "exception": false,
     "start_time": "2022-01-26T01:27:33.906785",
     "status": "completed"
    },
    "tags": []
   },
   "outputs": [],
   "source": [
    "# Categorical Variables\n",
    "\n",
    "# These are variables that describe a 'characteristic' of a data unit\n",
    "\n",
    "# and are selected from a small group of categories. \n",
    "\n",
    "# The categorical variables can have the type \"object\" or \"int64\". \n",
    "\n",
    "# A good way to visualize categorical variables is by using boxplots."
   ]
  },
  {
   "cell_type": "code",
   "execution_count": 92,
   "id": "54426fcb",
   "metadata": {
    "execution": {
     "iopub.execute_input": "2022-01-26T01:27:34.568248Z",
     "iopub.status.busy": "2022-01-26T01:27:34.567287Z",
     "iopub.status.idle": "2022-01-26T01:27:34.830449Z",
     "shell.execute_reply": "2022-01-26T01:27:34.830930Z",
     "shell.execute_reply.started": "2022-01-25T21:17:44.819261Z"
    },
    "papermill": {
     "duration": 0.483408,
     "end_time": "2022-01-26T01:27:34.831129",
     "exception": false,
     "start_time": "2022-01-26T01:27:34.347721",
     "status": "completed"
    },
    "tags": []
   },
   "outputs": [
    {
     "data": {
      "text/plain": [
       "<AxesSubplot:xlabel='body-style', ylabel='price'>"
      ]
     },
     "execution_count": 92,
     "metadata": {},
     "output_type": "execute_result"
    },
    {
     "data": {
      "image/png": "[encoded data removed]",
      "text/plain": [
       "<Figure size 432x288 with 1 Axes>"
      ]
     },
     "metadata": {
      "needs_background": "light"
     },
     "output_type": "display_data"
    }
   ],
   "source": [
    "# Let's look at the relationship between \"body-style\" and \"price\".\n",
    "\n",
    "sns.boxplot(x=\"body-style\", y=\"price\", data=df)"
   ]
  },
  {
   "cell_type": "code",
   "execution_count": 93,
   "id": "1affb761",
   "metadata": {
    "execution": {
     "iopub.execute_input": "2022-01-26T01:27:35.273445Z",
     "iopub.status.busy": "2022-01-26T01:27:35.272715Z",
     "iopub.status.idle": "2022-01-26T01:27:35.275461Z",
     "shell.execute_reply": "2022-01-26T01:27:35.274811Z",
     "shell.execute_reply.started": "2022-01-25T21:19:43.681211Z"
    },
    "papermill": {
     "duration": 0.224775,
     "end_time": "2022-01-26T01:27:35.275598",
     "exception": false,
     "start_time": "2022-01-26T01:27:35.050823",
     "status": "completed"
    },
    "tags": []
   },
   "outputs": [],
   "source": [
    "# We see that the distributions of price between the different body-style categories\n",
    "\n",
    "#have a significant overlap, \n",
    "\n",
    "# so body-style would not be a good predictor of price. "
   ]
  },
  {
   "cell_type": "code",
   "execution_count": 94,
   "id": "2bdca79b",
   "metadata": {
    "execution": {
     "iopub.execute_input": "2022-01-26T01:27:35.711984Z",
     "iopub.status.busy": "2022-01-26T01:27:35.711355Z",
     "iopub.status.idle": "2022-01-26T01:27:35.923945Z",
     "shell.execute_reply": "2022-01-26T01:27:35.923407Z",
     "shell.execute_reply.started": "2022-01-25T21:20:14.500915Z"
    },
    "papermill": {
     "duration": 0.431246,
     "end_time": "2022-01-26T01:27:35.924112",
     "exception": false,
     "start_time": "2022-01-26T01:27:35.492866",
     "status": "completed"
    },
    "tags": []
   },
   "outputs": [
    {
     "data": {
      "text/plain": [
       "<AxesSubplot:xlabel='engine-location', ylabel='price'>"
      ]
     },
     "execution_count": 94,
     "metadata": {},
     "output_type": "execute_result"
    },
    {
     "data": {
      "image/png": "[encoded data removed]",
      "text/plain": [
       "<Figure size 432x288 with 1 Axes>"
      ]
     },
     "metadata": {
      "needs_background": "light"
     },
     "output_type": "display_data"
    }
   ],
   "source": [
    "# Let's examine engine \"engine-location\" and \"price\"\n",
    "\n",
    "sns.boxplot(x=\"engine-location\", y=\"price\", data=df)"
   ]
  },
  {
   "cell_type": "code",
   "execution_count": 95,
   "id": "c8cf3b0a",
   "metadata": {
    "execution": {
     "iopub.execute_input": "2022-01-26T01:27:36.366477Z",
     "iopub.status.busy": "2022-01-26T01:27:36.365833Z",
     "iopub.status.idle": "2022-01-26T01:27:36.368447Z",
     "shell.execute_reply": "2022-01-26T01:27:36.369056Z",
     "shell.execute_reply.started": "2022-01-25T21:22:06.802466Z"
    },
    "papermill": {
     "duration": 0.224149,
     "end_time": "2022-01-26T01:27:36.369235",
     "exception": false,
     "start_time": "2022-01-26T01:27:36.145086",
     "status": "completed"
    },
    "tags": []
   },
   "outputs": [],
   "source": [
    "# Here we see that the distribution of price between these two engine-location categories\n",
    "\n",
    "# front and rear, are distinct enough to take engine-location as a potential good predictor of price."
   ]
  },
  {
   "cell_type": "code",
   "execution_count": 96,
   "id": "6b197b52",
   "metadata": {
    "execution": {
     "iopub.execute_input": "2022-01-26T01:27:36.884465Z",
     "iopub.status.busy": "2022-01-26T01:27:36.883774Z",
     "iopub.status.idle": "2022-01-26T01:27:37.109361Z",
     "shell.execute_reply": "2022-01-26T01:27:37.110092Z",
     "shell.execute_reply.started": "2022-01-25T21:22:19.398734Z"
    },
    "papermill": {
     "duration": 0.519478,
     "end_time": "2022-01-26T01:27:37.110280",
     "exception": false,
     "start_time": "2022-01-26T01:27:36.590802",
     "status": "completed"
    },
    "tags": []
   },
   "outputs": [
    {
     "data": {
      "text/plain": [
       "<AxesSubplot:xlabel='drive-wheels', ylabel='price'>"
      ]
     },
     "execution_count": 96,
     "metadata": {},
     "output_type": "execute_result"
    },
    {
     "data": {
      "image/png": "[encoded data removed]",
      "text/plain": [
       "<Figure size 432x288 with 1 Axes>"
      ]
     },
     "metadata": {
      "needs_background": "light"
     },
     "output_type": "display_data"
    }
   ],
   "source": [
    "# Let's examine \"drive-wheels\" and \"price\".\n",
    "\n",
    "sns.boxplot(x=\"drive-wheels\", y=\"price\", data=df)"
   ]
  },
  {
   "cell_type": "code",
   "execution_count": 97,
   "id": "bf5f37a1",
   "metadata": {
    "execution": {
     "iopub.execute_input": "2022-01-26T01:27:37.553937Z",
     "iopub.status.busy": "2022-01-26T01:27:37.552994Z",
     "iopub.status.idle": "2022-01-26T01:27:37.556029Z",
     "shell.execute_reply": "2022-01-26T01:27:37.556475Z",
     "shell.execute_reply.started": "2022-01-25T21:23:02.368709Z"
    },
    "papermill": {
     "duration": 0.226899,
     "end_time": "2022-01-26T01:27:37.556640",
     "exception": false,
     "start_time": "2022-01-26T01:27:37.329741",
     "status": "completed"
    },
    "tags": []
   },
   "outputs": [],
   "source": [
    "# Here we see that the distribution of price between the different drive-wheels categories differs. \n",
    "\n",
    "# As such, drive-wheels could potentially be a predictor of price"
   ]
  },
  {
   "cell_type": "code",
   "execution_count": 98,
   "id": "c48afbb4",
   "metadata": {
    "execution": {
     "iopub.execute_input": "2022-01-26T01:27:38.002288Z",
     "iopub.status.busy": "2022-01-26T01:27:38.001363Z",
     "iopub.status.idle": "2022-01-26T01:27:38.191405Z",
     "shell.execute_reply": "2022-01-26T01:27:38.191924Z",
     "shell.execute_reply.started": "2022-01-25T21:25:19.417867Z"
    },
    "papermill": {
     "duration": 0.415564,
     "end_time": "2022-01-26T01:27:38.192125",
     "exception": false,
     "start_time": "2022-01-26T01:27:37.776561",
     "status": "completed"
    },
    "tags": []
   },
   "outputs": [
    {
     "data": {
      "text/html": [
       "<div>\n",
       "<style scoped>\n",
       "    .dataframe tbody tr th:only-of-type {\n",
       "        vertical-align: middle;\n",
       "    }\n",
       "\n",
       "    .dataframe tbody tr th {\n",
       "        vertical-align: top;\n",
       "    }\n",
       "\n",
       "    .dataframe thead th {\n",
       "        text-align: right;\n",
       "    }\n",
       "</style>\n",
       "<table border=\"1\" class=\"dataframe\">\n",
       "  <thead>\n",
       "    <tr style=\"text-align: right;\">\n",
       "      <th></th>\n",
       "      <th>symboling</th>\n",
       "      <th>normalized-losses</th>\n",
       "      <th>wheel-base</th>\n",
       "      <th>length</th>\n",
       "      <th>width</th>\n",
       "      <th>height</th>\n",
       "      <th>curb-weight</th>\n",
       "      <th>engine-size</th>\n",
       "      <th>bore</th>\n",
       "      <th>stroke</th>\n",
       "      <th>...</th>\n",
       "      <th>horsepower</th>\n",
       "      <th>peak-rpm</th>\n",
       "      <th>city-mpg</th>\n",
       "      <th>highway-mpg</th>\n",
       "      <th>price</th>\n",
       "      <th>city-L/100km</th>\n",
       "      <th>fuel-type-diesel</th>\n",
       "      <th>fuel-type-gas</th>\n",
       "      <th>aspiration-std</th>\n",
       "      <th>aspiration-turbo</th>\n",
       "    </tr>\n",
       "  </thead>\n",
       "  <tbody>\n",
       "    <tr>\n",
       "      <th>count</th>\n",
       "      <td>201.000000</td>\n",
       "      <td>201.00000</td>\n",
       "      <td>201.000000</td>\n",
       "      <td>201.000000</td>\n",
       "      <td>201.000000</td>\n",
       "      <td>201.000000</td>\n",
       "      <td>201.000000</td>\n",
       "      <td>201.000000</td>\n",
       "      <td>201.000000</td>\n",
       "      <td>201.000000</td>\n",
       "      <td>...</td>\n",
       "      <td>201.000000</td>\n",
       "      <td>201.000000</td>\n",
       "      <td>201.000000</td>\n",
       "      <td>201.000000</td>\n",
       "      <td>201.000000</td>\n",
       "      <td>201.000000</td>\n",
       "      <td>201.000000</td>\n",
       "      <td>201.000000</td>\n",
       "      <td>201.000000</td>\n",
       "      <td>201.000000</td>\n",
       "    </tr>\n",
       "    <tr>\n",
       "      <th>mean</th>\n",
       "      <td>0.840796</td>\n",
       "      <td>122.00000</td>\n",
       "      <td>98.797015</td>\n",
       "      <td>0.837102</td>\n",
       "      <td>0.915126</td>\n",
       "      <td>0.899108</td>\n",
       "      <td>2555.666667</td>\n",
       "      <td>126.875622</td>\n",
       "      <td>3.330692</td>\n",
       "      <td>3.256874</td>\n",
       "      <td>...</td>\n",
       "      <td>103.402985</td>\n",
       "      <td>5117.665368</td>\n",
       "      <td>25.179104</td>\n",
       "      <td>8.044957</td>\n",
       "      <td>13207.129353</td>\n",
       "      <td>9.944145</td>\n",
       "      <td>0.099502</td>\n",
       "      <td>0.900498</td>\n",
       "      <td>0.820896</td>\n",
       "      <td>0.179104</td>\n",
       "    </tr>\n",
       "    <tr>\n",
       "      <th>std</th>\n",
       "      <td>1.254802</td>\n",
       "      <td>31.99625</td>\n",
       "      <td>6.066366</td>\n",
       "      <td>0.059213</td>\n",
       "      <td>0.029187</td>\n",
       "      <td>0.040933</td>\n",
       "      <td>517.296727</td>\n",
       "      <td>41.546834</td>\n",
       "      <td>0.268072</td>\n",
       "      <td>0.316048</td>\n",
       "      <td>...</td>\n",
       "      <td>37.365650</td>\n",
       "      <td>478.113805</td>\n",
       "      <td>6.423220</td>\n",
       "      <td>1.840739</td>\n",
       "      <td>7947.066342</td>\n",
       "      <td>2.534599</td>\n",
       "      <td>0.300083</td>\n",
       "      <td>0.300083</td>\n",
       "      <td>0.384397</td>\n",
       "      <td>0.384397</td>\n",
       "    </tr>\n",
       "    <tr>\n",
       "      <th>min</th>\n",
       "      <td>-2.000000</td>\n",
       "      <td>65.00000</td>\n",
       "      <td>86.600000</td>\n",
       "      <td>0.678039</td>\n",
       "      <td>0.837500</td>\n",
       "      <td>0.799331</td>\n",
       "      <td>1488.000000</td>\n",
       "      <td>61.000000</td>\n",
       "      <td>2.540000</td>\n",
       "      <td>2.070000</td>\n",
       "      <td>...</td>\n",
       "      <td>48.000000</td>\n",
       "      <td>4150.000000</td>\n",
       "      <td>13.000000</td>\n",
       "      <td>4.351852</td>\n",
       "      <td>5118.000000</td>\n",
       "      <td>4.795918</td>\n",
       "      <td>0.000000</td>\n",
       "      <td>0.000000</td>\n",
       "      <td>0.000000</td>\n",
       "      <td>0.000000</td>\n",
       "    </tr>\n",
       "    <tr>\n",
       "      <th>25%</th>\n",
       "      <td>0.000000</td>\n",
       "      <td>101.00000</td>\n",
       "      <td>94.500000</td>\n",
       "      <td>0.801538</td>\n",
       "      <td>0.890278</td>\n",
       "      <td>0.869565</td>\n",
       "      <td>2169.000000</td>\n",
       "      <td>98.000000</td>\n",
       "      <td>3.150000</td>\n",
       "      <td>3.110000</td>\n",
       "      <td>...</td>\n",
       "      <td>70.000000</td>\n",
       "      <td>4800.000000</td>\n",
       "      <td>19.000000</td>\n",
       "      <td>6.911765</td>\n",
       "      <td>7775.000000</td>\n",
       "      <td>7.833333</td>\n",
       "      <td>0.000000</td>\n",
       "      <td>1.000000</td>\n",
       "      <td>1.000000</td>\n",
       "      <td>0.000000</td>\n",
       "    </tr>\n",
       "    <tr>\n",
       "      <th>50%</th>\n",
       "      <td>1.000000</td>\n",
       "      <td>122.00000</td>\n",
       "      <td>97.000000</td>\n",
       "      <td>0.832292</td>\n",
       "      <td>0.909722</td>\n",
       "      <td>0.904682</td>\n",
       "      <td>2414.000000</td>\n",
       "      <td>120.000000</td>\n",
       "      <td>3.310000</td>\n",
       "      <td>3.290000</td>\n",
       "      <td>...</td>\n",
       "      <td>95.000000</td>\n",
       "      <td>5125.369458</td>\n",
       "      <td>24.000000</td>\n",
       "      <td>7.833333</td>\n",
       "      <td>10295.000000</td>\n",
       "      <td>9.791667</td>\n",
       "      <td>0.000000</td>\n",
       "      <td>1.000000</td>\n",
       "      <td>1.000000</td>\n",
       "      <td>0.000000</td>\n",
       "    </tr>\n",
       "    <tr>\n",
       "      <th>75%</th>\n",
       "      <td>2.000000</td>\n",
       "      <td>137.00000</td>\n",
       "      <td>102.400000</td>\n",
       "      <td>0.881788</td>\n",
       "      <td>0.925000</td>\n",
       "      <td>0.928094</td>\n",
       "      <td>2926.000000</td>\n",
       "      <td>141.000000</td>\n",
       "      <td>3.580000</td>\n",
       "      <td>3.410000</td>\n",
       "      <td>...</td>\n",
       "      <td>116.000000</td>\n",
       "      <td>5500.000000</td>\n",
       "      <td>30.000000</td>\n",
       "      <td>9.400000</td>\n",
       "      <td>16500.000000</td>\n",
       "      <td>12.368421</td>\n",
       "      <td>0.000000</td>\n",
       "      <td>1.000000</td>\n",
       "      <td>1.000000</td>\n",
       "      <td>0.000000</td>\n",
       "    </tr>\n",
       "    <tr>\n",
       "      <th>max</th>\n",
       "      <td>3.000000</td>\n",
       "      <td>256.00000</td>\n",
       "      <td>120.900000</td>\n",
       "      <td>1.000000</td>\n",
       "      <td>1.000000</td>\n",
       "      <td>1.000000</td>\n",
       "      <td>4066.000000</td>\n",
       "      <td>326.000000</td>\n",
       "      <td>3.940000</td>\n",
       "      <td>4.170000</td>\n",
       "      <td>...</td>\n",
       "      <td>262.000000</td>\n",
       "      <td>6600.000000</td>\n",
       "      <td>49.000000</td>\n",
       "      <td>14.687500</td>\n",
       "      <td>45400.000000</td>\n",
       "      <td>18.076923</td>\n",
       "      <td>1.000000</td>\n",
       "      <td>1.000000</td>\n",
       "      <td>1.000000</td>\n",
       "      <td>1.000000</td>\n",
       "    </tr>\n",
       "  </tbody>\n",
       "</table>\n",
       "<p>8 rows × 21 columns</p>\n",
       "</div>"
      ],
      "text/plain": [
       "        symboling  normalized-losses  wheel-base      length       width  \\\n",
       "count  201.000000          201.00000  201.000000  201.000000  201.000000   \n",
       "mean     0.840796          122.00000   98.797015    0.837102    0.915126   \n",
       "std      1.254802           31.99625    6.066366    0.059213    0.029187   \n",
       "min     -2.000000           65.00000   86.600000    0.678039    0.837500   \n",
       "25%      0.000000          101.00000   94.500000    0.801538    0.890278   \n",
       "50%      1.000000          122.00000   97.000000    0.832292    0.909722   \n",
       "75%      2.000000          137.00000  102.400000    0.881788    0.925000   \n",
       "max      3.000000          256.00000  120.900000    1.000000    1.000000   \n",
       "\n",
       "           height  curb-weight  engine-size        bore      stroke  ...  \\\n",
       "count  201.000000   201.000000   201.000000  201.000000  201.000000  ...   \n",
       "mean     0.899108  2555.666667   126.875622    3.330692    3.256874  ...   \n",
       "std      0.040933   517.296727    41.546834    0.268072    0.316048  ...   \n",
       "min      0.799331  1488.000000    61.000000    2.540000    2.070000  ...   \n",
       "25%      0.869565  2169.000000    98.000000    3.150000    3.110000  ...   \n",
       "50%      0.904682  2414.000000   120.000000    3.310000    3.290000  ...   \n",
       "75%      0.928094  2926.000000   141.000000    3.580000    3.410000  ...   \n",
       "max      1.000000  4066.000000   326.000000    3.940000    4.170000  ...   \n",
       "\n",
       "       horsepower     peak-rpm    city-mpg  highway-mpg         price  \\\n",
       "count  201.000000   201.000000  201.000000   201.000000    201.000000   \n",
       "mean   103.402985  5117.665368   25.179104     8.044957  13207.129353   \n",
       "std     37.365650   478.113805    6.423220     1.840739   7947.066342   \n",
       "min     48.000000  4150.000000   13.000000     4.351852   5118.000000   \n",
       "25%     70.000000  4800.000000   19.000000     6.911765   7775.000000   \n",
       "50%     95.000000  5125.369458   24.000000     7.833333  10295.000000   \n",
       "75%    116.000000  5500.000000   30.000000     9.400000  16500.000000   \n",
       "max    262.000000  6600.000000   49.000000    14.687500  45400.000000   \n",
       "\n",
       "       city-L/100km  fuel-type-diesel  fuel-type-gas  aspiration-std  \\\n",
       "count    201.000000        201.000000     201.000000      201.000000   \n",
       "mean       9.944145          0.099502       0.900498        0.820896   \n",
       "std        2.534599          0.300083       0.300083        0.384397   \n",
       "min        4.795918          0.000000       0.000000        0.000000   \n",
       "25%        7.833333          0.000000       1.000000        1.000000   \n",
       "50%        9.791667          0.000000       1.000000        1.000000   \n",
       "75%       12.368421          0.000000       1.000000        1.000000   \n",
       "max       18.076923          1.000000       1.000000        1.000000   \n",
       "\n",
       "       aspiration-turbo  \n",
       "count        201.000000  \n",
       "mean           0.179104  \n",
       "std            0.384397  \n",
       "min            0.000000  \n",
       "25%            0.000000  \n",
       "50%            0.000000  \n",
       "75%            0.000000  \n",
       "max            1.000000  \n",
       "\n",
       "[8 rows x 21 columns]"
      ]
     },
     "execution_count": 98,
     "metadata": {},
     "output_type": "execute_result"
    }
   ],
   "source": [
    "# Descriptive Statistical Analysis\n",
    "\n",
    "# The describe function automatically computes basic statistics for all continuous variables\n",
    "\n",
    "# Any NaN values are automatically skipped in these statistics.\n",
    "\n",
    "# This will show:\n",
    "\n",
    "  #  the count of that variable\n",
    "  #  the mean\n",
    "  #  the standard deviation (std)\n",
    "  #  the minimum value\n",
    "  #  the IQR (Interquartile Range: 25%, 50% and 75%)\n",
    "  #  the maximum value\n",
    "\n",
    "df.describe()"
   ]
  },
  {
   "cell_type": "code",
   "execution_count": 99,
   "id": "518f4da6",
   "metadata": {
    "execution": {
     "iopub.execute_input": "2022-01-26T01:27:38.636765Z",
     "iopub.status.busy": "2022-01-26T01:27:38.636227Z",
     "iopub.status.idle": "2022-01-26T01:27:38.660881Z",
     "shell.execute_reply": "2022-01-26T01:27:38.660353Z",
     "shell.execute_reply.started": "2022-01-25T21:26:14.428553Z"
    },
    "papermill": {
     "duration": 0.248736,
     "end_time": "2022-01-26T01:27:38.661048",
     "exception": false,
     "start_time": "2022-01-26T01:27:38.412312",
     "status": "completed"
    },
    "tags": []
   },
   "outputs": [
    {
     "data": {
      "text/html": [
       "<div>\n",
       "<style scoped>\n",
       "    .dataframe tbody tr th:only-of-type {\n",
       "        vertical-align: middle;\n",
       "    }\n",
       "\n",
       "    .dataframe tbody tr th {\n",
       "        vertical-align: top;\n",
       "    }\n",
       "\n",
       "    .dataframe thead th {\n",
       "        text-align: right;\n",
       "    }\n",
       "</style>\n",
       "<table border=\"1\" class=\"dataframe\">\n",
       "  <thead>\n",
       "    <tr style=\"text-align: right;\">\n",
       "      <th></th>\n",
       "      <th>make</th>\n",
       "      <th>num-of-doors</th>\n",
       "      <th>body-style</th>\n",
       "      <th>drive-wheels</th>\n",
       "      <th>engine-location</th>\n",
       "      <th>engine-type</th>\n",
       "      <th>num-of-cylinders</th>\n",
       "      <th>fuel-system</th>\n",
       "    </tr>\n",
       "  </thead>\n",
       "  <tbody>\n",
       "    <tr>\n",
       "      <th>count</th>\n",
       "      <td>201</td>\n",
       "      <td>201</td>\n",
       "      <td>201</td>\n",
       "      <td>201</td>\n",
       "      <td>201</td>\n",
       "      <td>201</td>\n",
       "      <td>201</td>\n",
       "      <td>201</td>\n",
       "    </tr>\n",
       "    <tr>\n",
       "      <th>unique</th>\n",
       "      <td>22</td>\n",
       "      <td>2</td>\n",
       "      <td>5</td>\n",
       "      <td>3</td>\n",
       "      <td>2</td>\n",
       "      <td>6</td>\n",
       "      <td>7</td>\n",
       "      <td>8</td>\n",
       "    </tr>\n",
       "    <tr>\n",
       "      <th>top</th>\n",
       "      <td>toyota</td>\n",
       "      <td>four</td>\n",
       "      <td>sedan</td>\n",
       "      <td>fwd</td>\n",
       "      <td>front</td>\n",
       "      <td>ohc</td>\n",
       "      <td>four</td>\n",
       "      <td>mpfi</td>\n",
       "    </tr>\n",
       "    <tr>\n",
       "      <th>freq</th>\n",
       "      <td>32</td>\n",
       "      <td>115</td>\n",
       "      <td>94</td>\n",
       "      <td>118</td>\n",
       "      <td>198</td>\n",
       "      <td>145</td>\n",
       "      <td>157</td>\n",
       "      <td>92</td>\n",
       "    </tr>\n",
       "  </tbody>\n",
       "</table>\n",
       "</div>"
      ],
      "text/plain": [
       "          make num-of-doors body-style drive-wheels engine-location  \\\n",
       "count      201          201        201          201             201   \n",
       "unique      22            2          5            3               2   \n",
       "top     toyota         four      sedan          fwd           front   \n",
       "freq        32          115         94          118             198   \n",
       "\n",
       "       engine-type num-of-cylinders fuel-system  \n",
       "count          201              201         201  \n",
       "unique           6                7           8  \n",
       "top            ohc             four        mpfi  \n",
       "freq           145              157          92  "
      ]
     },
     "execution_count": 99,
     "metadata": {},
     "output_type": "execute_result"
    }
   ],
   "source": [
    "# The default setting of \"describe\" skips variables of type object\n",
    "\n",
    "# We can apply the method \"describe\" on the variables of type 'object' as follows:\n",
    "\n",
    "df.describe(include=['object'])"
   ]
  },
  {
   "cell_type": "code",
   "execution_count": 100,
   "id": "61dcc468",
   "metadata": {
    "execution": {
     "iopub.execute_input": "2022-01-26T01:27:39.114319Z",
     "iopub.status.busy": "2022-01-26T01:27:39.113457Z",
     "iopub.status.idle": "2022-01-26T01:27:39.116772Z",
     "shell.execute_reply": "2022-01-26T01:27:39.117285Z",
     "shell.execute_reply.started": "2022-01-25T21:28:54.660384Z"
    },
    "papermill": {
     "duration": 0.233294,
     "end_time": "2022-01-26T01:27:39.117460",
     "exception": false,
     "start_time": "2022-01-26T01:27:38.884166",
     "status": "completed"
    },
    "tags": []
   },
   "outputs": [
    {
     "data": {
      "text/plain": [
       "fwd    118\n",
       "rwd     75\n",
       "4wd      8\n",
       "Name: drive-wheels, dtype: int64"
      ]
     },
     "execution_count": 100,
     "metadata": {},
     "output_type": "execute_result"
    }
   ],
   "source": [
    "# Value Counts\n",
    "\n",
    "# Value counts is a good way of understanding how many units of each variable we have\n",
    "\n",
    "# We can apply the \"value_counts\" method on the column \"drive-wheels\"\n",
    "\n",
    "# Don’t forget the method \"value_counts\" only works on pandas series, not pandas dataframes\n",
    "\n",
    "# As a result, we only include one bracket df['drive-wheels'], not two brackets df[['drive-wheels']].\n",
    "\n",
    "df['drive-wheels'].value_counts()"
   ]
  },
  {
   "cell_type": "code",
   "execution_count": 101,
   "id": "a06df8a4",
   "metadata": {
    "execution": {
     "iopub.execute_input": "2022-01-26T01:27:39.567908Z",
     "iopub.status.busy": "2022-01-26T01:27:39.566943Z",
     "iopub.status.idle": "2022-01-26T01:27:39.576097Z",
     "shell.execute_reply": "2022-01-26T01:27:39.576547Z",
     "shell.execute_reply.started": "2022-01-25T21:29:47.167915Z"
    },
    "papermill": {
     "duration": 0.236073,
     "end_time": "2022-01-26T01:27:39.576724",
     "exception": false,
     "start_time": "2022-01-26T01:27:39.340651",
     "status": "completed"
    },
    "tags": []
   },
   "outputs": [
    {
     "data": {
      "text/html": [
       "<div>\n",
       "<style scoped>\n",
       "    .dataframe tbody tr th:only-of-type {\n",
       "        vertical-align: middle;\n",
       "    }\n",
       "\n",
       "    .dataframe tbody tr th {\n",
       "        vertical-align: top;\n",
       "    }\n",
       "\n",
       "    .dataframe thead th {\n",
       "        text-align: right;\n",
       "    }\n",
       "</style>\n",
       "<table border=\"1\" class=\"dataframe\">\n",
       "  <thead>\n",
       "    <tr style=\"text-align: right;\">\n",
       "      <th></th>\n",
       "      <th>drive-wheels</th>\n",
       "    </tr>\n",
       "  </thead>\n",
       "  <tbody>\n",
       "    <tr>\n",
       "      <th>fwd</th>\n",
       "      <td>118</td>\n",
       "    </tr>\n",
       "    <tr>\n",
       "      <th>rwd</th>\n",
       "      <td>75</td>\n",
       "    </tr>\n",
       "    <tr>\n",
       "      <th>4wd</th>\n",
       "      <td>8</td>\n",
       "    </tr>\n",
       "  </tbody>\n",
       "</table>\n",
       "</div>"
      ],
      "text/plain": [
       "     drive-wheels\n",
       "fwd           118\n",
       "rwd            75\n",
       "4wd             8"
      ]
     },
     "execution_count": 101,
     "metadata": {},
     "output_type": "execute_result"
    }
   ],
   "source": [
    "# We can convert the series to a dataframe as follows:\n",
    "\n",
    "df['drive-wheels'].value_counts().to_frame()"
   ]
  },
  {
   "cell_type": "code",
   "execution_count": 102,
   "id": "47deef1c",
   "metadata": {
    "execution": {
     "iopub.execute_input": "2022-01-26T01:27:40.025315Z",
     "iopub.status.busy": "2022-01-26T01:27:40.024379Z",
     "iopub.status.idle": "2022-01-26T01:27:40.035422Z",
     "shell.execute_reply": "2022-01-26T01:27:40.034892Z",
     "shell.execute_reply.started": "2022-01-25T21:31:46.808727Z"
    },
    "papermill": {
     "duration": 0.235593,
     "end_time": "2022-01-26T01:27:40.035588",
     "exception": false,
     "start_time": "2022-01-26T01:27:39.799995",
     "status": "completed"
    },
    "tags": []
   },
   "outputs": [
    {
     "data": {
      "text/html": [
       "<div>\n",
       "<style scoped>\n",
       "    .dataframe tbody tr th:only-of-type {\n",
       "        vertical-align: middle;\n",
       "    }\n",
       "\n",
       "    .dataframe tbody tr th {\n",
       "        vertical-align: top;\n",
       "    }\n",
       "\n",
       "    .dataframe thead th {\n",
       "        text-align: right;\n",
       "    }\n",
       "</style>\n",
       "<table border=\"1\" class=\"dataframe\">\n",
       "  <thead>\n",
       "    <tr style=\"text-align: right;\">\n",
       "      <th></th>\n",
       "      <th>value_counts</th>\n",
       "    </tr>\n",
       "  </thead>\n",
       "  <tbody>\n",
       "    <tr>\n",
       "      <th>fwd</th>\n",
       "      <td>118</td>\n",
       "    </tr>\n",
       "    <tr>\n",
       "      <th>rwd</th>\n",
       "      <td>75</td>\n",
       "    </tr>\n",
       "    <tr>\n",
       "      <th>4wd</th>\n",
       "      <td>8</td>\n",
       "    </tr>\n",
       "  </tbody>\n",
       "</table>\n",
       "</div>"
      ],
      "text/plain": [
       "     value_counts\n",
       "fwd           118\n",
       "rwd            75\n",
       "4wd             8"
      ]
     },
     "execution_count": 102,
     "metadata": {},
     "output_type": "execute_result"
    }
   ],
   "source": [
    "# Let's repeat the above steps but save the results to the dataframe \n",
    "\n",
    "drive_wheels_counts = df['drive-wheels'].value_counts().to_frame()\n",
    "\n",
    "#rename the column 'drive-wheels' to 'value_counts'\n",
    "\n",
    "drive_wheels_counts.rename(columns={'drive-wheels': 'value_counts'}, inplace=True)\n",
    "\n",
    "drive_wheels_counts"
   ]
  },
  {
   "cell_type": "code",
   "execution_count": 103,
   "id": "b93c2610",
   "metadata": {
    "execution": {
     "iopub.execute_input": "2022-01-26T01:27:40.502035Z",
     "iopub.status.busy": "2022-01-26T01:27:40.501366Z",
     "iopub.status.idle": "2022-01-26T01:27:40.511165Z",
     "shell.execute_reply": "2022-01-26T01:27:40.511713Z",
     "shell.execute_reply.started": "2022-01-25T21:32:44.539282Z"
    },
    "papermill": {
     "duration": 0.253099,
     "end_time": "2022-01-26T01:27:40.511875",
     "exception": false,
     "start_time": "2022-01-26T01:27:40.258776",
     "status": "completed"
    },
    "tags": []
   },
   "outputs": [
    {
     "data": {
      "text/html": [
       "<div>\n",
       "<style scoped>\n",
       "    .dataframe tbody tr th:only-of-type {\n",
       "        vertical-align: middle;\n",
       "    }\n",
       "\n",
       "    .dataframe tbody tr th {\n",
       "        vertical-align: top;\n",
       "    }\n",
       "\n",
       "    .dataframe thead th {\n",
       "        text-align: right;\n",
       "    }\n",
       "</style>\n",
       "<table border=\"1\" class=\"dataframe\">\n",
       "  <thead>\n",
       "    <tr style=\"text-align: right;\">\n",
       "      <th></th>\n",
       "      <th>value_counts</th>\n",
       "    </tr>\n",
       "    <tr>\n",
       "      <th>drive-wheels</th>\n",
       "      <th></th>\n",
       "    </tr>\n",
       "  </thead>\n",
       "  <tbody>\n",
       "    <tr>\n",
       "      <th>fwd</th>\n",
       "      <td>118</td>\n",
       "    </tr>\n",
       "    <tr>\n",
       "      <th>rwd</th>\n",
       "      <td>75</td>\n",
       "    </tr>\n",
       "    <tr>\n",
       "      <th>4wd</th>\n",
       "      <td>8</td>\n",
       "    </tr>\n",
       "  </tbody>\n",
       "</table>\n",
       "</div>"
      ],
      "text/plain": [
       "              value_counts\n",
       "drive-wheels              \n",
       "fwd                    118\n",
       "rwd                     75\n",
       "4wd                      8"
      ]
     },
     "execution_count": 103,
     "metadata": {},
     "output_type": "execute_result"
    }
   ],
   "source": [
    "# Now let's rename the index to 'drive-wheels':\n",
    "\n",
    "drive_wheels_counts.index.name = 'drive-wheels'\n",
    "\n",
    "drive_wheels_counts"
   ]
  },
  {
   "cell_type": "code",
   "execution_count": 104,
   "id": "d61438cd",
   "metadata": {
    "execution": {
     "iopub.execute_input": "2022-01-26T01:27:40.995903Z",
     "iopub.status.busy": "2022-01-26T01:27:40.994708Z",
     "iopub.status.idle": "2022-01-26T01:27:40.998840Z",
     "shell.execute_reply": "2022-01-26T01:27:40.999595Z",
     "shell.execute_reply.started": "2022-01-25T21:33:44.128444Z"
    },
    "papermill": {
     "duration": 0.246286,
     "end_time": "2022-01-26T01:27:40.999820",
     "exception": false,
     "start_time": "2022-01-26T01:27:40.753534",
     "status": "completed"
    },
    "tags": []
   },
   "outputs": [
    {
     "data": {
      "text/html": [
       "<div>\n",
       "<style scoped>\n",
       "    .dataframe tbody tr th:only-of-type {\n",
       "        vertical-align: middle;\n",
       "    }\n",
       "\n",
       "    .dataframe tbody tr th {\n",
       "        vertical-align: top;\n",
       "    }\n",
       "\n",
       "    .dataframe thead th {\n",
       "        text-align: right;\n",
       "    }\n",
       "</style>\n",
       "<table border=\"1\" class=\"dataframe\">\n",
       "  <thead>\n",
       "    <tr style=\"text-align: right;\">\n",
       "      <th></th>\n",
       "      <th>value_counts</th>\n",
       "    </tr>\n",
       "    <tr>\n",
       "      <th>engine-location</th>\n",
       "      <th></th>\n",
       "    </tr>\n",
       "  </thead>\n",
       "  <tbody>\n",
       "    <tr>\n",
       "      <th>front</th>\n",
       "      <td>198</td>\n",
       "    </tr>\n",
       "    <tr>\n",
       "      <th>rear</th>\n",
       "      <td>3</td>\n",
       "    </tr>\n",
       "  </tbody>\n",
       "</table>\n",
       "</div>"
      ],
      "text/plain": [
       "                 value_counts\n",
       "engine-location              \n",
       "front                     198\n",
       "rear                        3"
      ]
     },
     "execution_count": 104,
     "metadata": {},
     "output_type": "execute_result"
    }
   ],
   "source": [
    "# We can repeat the above process for the variable 'engine-location'.\n",
    "\n",
    "engine_loc_counts = df['engine-location'].value_counts().to_frame()\n",
    "\n",
    "engine_loc_counts.rename(columns={'engine-location': 'value_counts'}, inplace=True)\n",
    "\n",
    "engine_loc_counts.index.name = 'engine-location'\n",
    "\n",
    "engine_loc_counts.head(10)"
   ]
  },
  {
   "cell_type": "code",
   "execution_count": 105,
   "id": "ad259155",
   "metadata": {
    "execution": {
     "iopub.execute_input": "2022-01-26T01:27:41.453910Z",
     "iopub.status.busy": "2022-01-26T01:27:41.453251Z",
     "iopub.status.idle": "2022-01-26T01:27:41.456268Z",
     "shell.execute_reply": "2022-01-26T01:27:41.456773Z",
     "shell.execute_reply.started": "2022-01-25T21:35:26.321419Z"
    },
    "papermill": {
     "duration": 0.227344,
     "end_time": "2022-01-26T01:27:41.456931",
     "exception": false,
     "start_time": "2022-01-26T01:27:41.229587",
     "status": "completed"
    },
    "tags": []
   },
   "outputs": [],
   "source": [
    "# After examining the value counts of the engine location\n",
    "\n",
    "# we see that engine location would not be a good predictor variable for the price\n",
    "\n",
    "# This is because we only have three cars with a rear engine and 198 with an engine in the front\n",
    "\n",
    "# so this result is skewed\n",
    "\n",
    "# Thus, we are not able to draw any conclusions about the engine location."
   ]
  },
  {
   "cell_type": "code",
   "execution_count": 106,
   "id": "2c8276d6",
   "metadata": {
    "execution": {
     "iopub.execute_input": "2022-01-26T01:27:41.903339Z",
     "iopub.status.busy": "2022-01-26T01:27:41.902625Z",
     "iopub.status.idle": "2022-01-26T01:27:41.907806Z",
     "shell.execute_reply": "2022-01-26T01:27:41.908363Z",
     "shell.execute_reply.started": "2022-01-25T21:37:34.638635Z"
    },
    "papermill": {
     "duration": 0.230006,
     "end_time": "2022-01-26T01:27:41.908528",
     "exception": false,
     "start_time": "2022-01-26T01:27:41.678522",
     "status": "completed"
    },
    "tags": []
   },
   "outputs": [
    {
     "data": {
      "text/plain": [
       "array(['rwd', 'fwd', '4wd'], dtype=object)"
      ]
     },
     "execution_count": 106,
     "metadata": {},
     "output_type": "execute_result"
    }
   ],
   "source": [
    "#  Basics of Grouping\n",
    "\n",
    "# The \"groupby\" method groups data by different categories\n",
    "\n",
    "# The data is grouped based on one or several variables\n",
    "\n",
    "# and analysis is performed on the individual groups.\n",
    "\n",
    "# For example\n",
    "\n",
    "# let's group by the variable \"drive-wheels\"\n",
    "\n",
    "df['drive-wheels'].unique()"
   ]
  },
  {
   "cell_type": "code",
   "execution_count": 107,
   "id": "4340d042",
   "metadata": {
    "execution": {
     "iopub.execute_input": "2022-01-26T01:27:42.359080Z",
     "iopub.status.busy": "2022-01-26T01:27:42.358448Z",
     "iopub.status.idle": "2022-01-26T01:27:42.361204Z",
     "shell.execute_reply": "2022-01-26T01:27:42.361767Z",
     "shell.execute_reply.started": "2022-01-25T21:37:49.106227Z"
    },
    "papermill": {
     "duration": 0.228157,
     "end_time": "2022-01-26T01:27:42.361918",
     "exception": false,
     "start_time": "2022-01-26T01:27:42.133761",
     "status": "completed"
    },
    "tags": []
   },
   "outputs": [],
   "source": [
    "# We see that there are 3 different categories of drive wheels."
   ]
  },
  {
   "cell_type": "code",
   "execution_count": 108,
   "id": "820f2cd8",
   "metadata": {
    "execution": {
     "iopub.execute_input": "2022-01-26T01:27:42.810174Z",
     "iopub.status.busy": "2022-01-26T01:27:42.809549Z",
     "iopub.status.idle": "2022-01-26T01:27:42.825234Z",
     "shell.execute_reply": "2022-01-26T01:27:42.825778Z",
     "shell.execute_reply.started": "2022-01-25T21:41:33.248269Z"
    },
    "papermill": {
     "duration": 0.240522,
     "end_time": "2022-01-26T01:27:42.825940",
     "exception": false,
     "start_time": "2022-01-26T01:27:42.585418",
     "status": "completed"
    },
    "tags": []
   },
   "outputs": [
    {
     "data": {
      "text/html": [
       "<div>\n",
       "<style scoped>\n",
       "    .dataframe tbody tr th:only-of-type {\n",
       "        vertical-align: middle;\n",
       "    }\n",
       "\n",
       "    .dataframe tbody tr th {\n",
       "        vertical-align: top;\n",
       "    }\n",
       "\n",
       "    .dataframe thead th {\n",
       "        text-align: right;\n",
       "    }\n",
       "</style>\n",
       "<table border=\"1\" class=\"dataframe\">\n",
       "  <thead>\n",
       "    <tr style=\"text-align: right;\">\n",
       "      <th></th>\n",
       "      <th>drive-wheels</th>\n",
       "      <th>price</th>\n",
       "    </tr>\n",
       "  </thead>\n",
       "  <tbody>\n",
       "    <tr>\n",
       "      <th>0</th>\n",
       "      <td>4wd</td>\n",
       "      <td>10241.000000</td>\n",
       "    </tr>\n",
       "    <tr>\n",
       "      <th>1</th>\n",
       "      <td>fwd</td>\n",
       "      <td>9244.779661</td>\n",
       "    </tr>\n",
       "    <tr>\n",
       "      <th>2</th>\n",
       "      <td>rwd</td>\n",
       "      <td>19757.613333</td>\n",
       "    </tr>\n",
       "  </tbody>\n",
       "</table>\n",
       "</div>"
      ],
      "text/plain": [
       "  drive-wheels         price\n",
       "0          4wd  10241.000000\n",
       "1          fwd   9244.779661\n",
       "2          rwd  19757.613333"
      ]
     },
     "execution_count": 108,
     "metadata": {},
     "output_type": "execute_result"
    }
   ],
   "source": [
    "# If we want to know, on average\n",
    "\n",
    "# which type of drive wheel is most valuable, we can group \"drive-wheels\" and then average them.\n",
    "\n",
    "# We can select the columns 'drive-wheels', 'body-style' and 'price'\n",
    "\n",
    "# then assign it to the variable \"df_group_one\".\n",
    "\n",
    "df_group_one = df[['drive-wheels','body-style','price']]\n",
    "\n",
    "\n",
    "# We can then calculate the average price for each of the different categories of data.\n",
    "\n",
    "# grouping results\n",
    "\n",
    "df_group_one = df_group_one.groupby(['drive-wheels'],as_index=False).mean()\n",
    "\n",
    "df_group_one"
   ]
  },
  {
   "cell_type": "code",
   "execution_count": 109,
   "id": "183750e0",
   "metadata": {
    "execution": {
     "iopub.execute_input": "2022-01-26T01:27:43.271699Z",
     "iopub.status.busy": "2022-01-26T01:27:43.271119Z",
     "iopub.status.idle": "2022-01-26T01:27:43.273934Z",
     "shell.execute_reply": "2022-01-26T01:27:43.274506Z",
     "shell.execute_reply.started": "2022-01-25T21:44:31.060569Z"
    },
    "papermill": {
     "duration": 0.226144,
     "end_time": "2022-01-26T01:27:43.274665",
     "exception": false,
     "start_time": "2022-01-26T01:27:43.048521",
     "status": "completed"
    },
    "tags": []
   },
   "outputs": [],
   "source": [
    "# From our data\n",
    "\n",
    "# it seems rear-wheel drive vehicles are, on average, the most expensive\n",
    "\n",
    "# while 4-wheel and front-wheel are approximately the same in price."
   ]
  },
  {
   "cell_type": "code",
   "execution_count": 110,
   "id": "b04c83fd",
   "metadata": {
    "execution": {
     "iopub.execute_input": "2022-01-26T01:27:43.722769Z",
     "iopub.status.busy": "2022-01-26T01:27:43.722154Z",
     "iopub.status.idle": "2022-01-26T01:27:43.737806Z",
     "shell.execute_reply": "2022-01-26T01:27:43.738439Z",
     "shell.execute_reply.started": "2022-01-25T21:44:43.381261Z"
    },
    "papermill": {
     "duration": 0.242786,
     "end_time": "2022-01-26T01:27:43.738606",
     "exception": false,
     "start_time": "2022-01-26T01:27:43.495820",
     "status": "completed"
    },
    "tags": []
   },
   "outputs": [
    {
     "data": {
      "text/html": [
       "<div>\n",
       "<style scoped>\n",
       "    .dataframe tbody tr th:only-of-type {\n",
       "        vertical-align: middle;\n",
       "    }\n",
       "\n",
       "    .dataframe tbody tr th {\n",
       "        vertical-align: top;\n",
       "    }\n",
       "\n",
       "    .dataframe thead th {\n",
       "        text-align: right;\n",
       "    }\n",
       "</style>\n",
       "<table border=\"1\" class=\"dataframe\">\n",
       "  <thead>\n",
       "    <tr style=\"text-align: right;\">\n",
       "      <th></th>\n",
       "      <th>drive-wheels</th>\n",
       "      <th>body-style</th>\n",
       "      <th>price</th>\n",
       "    </tr>\n",
       "  </thead>\n",
       "  <tbody>\n",
       "    <tr>\n",
       "      <th>0</th>\n",
       "      <td>4wd</td>\n",
       "      <td>hatchback</td>\n",
       "      <td>7603.000000</td>\n",
       "    </tr>\n",
       "    <tr>\n",
       "      <th>1</th>\n",
       "      <td>4wd</td>\n",
       "      <td>sedan</td>\n",
       "      <td>12647.333333</td>\n",
       "    </tr>\n",
       "    <tr>\n",
       "      <th>2</th>\n",
       "      <td>4wd</td>\n",
       "      <td>wagon</td>\n",
       "      <td>9095.750000</td>\n",
       "    </tr>\n",
       "    <tr>\n",
       "      <th>3</th>\n",
       "      <td>fwd</td>\n",
       "      <td>convertible</td>\n",
       "      <td>11595.000000</td>\n",
       "    </tr>\n",
       "    <tr>\n",
       "      <th>4</th>\n",
       "      <td>fwd</td>\n",
       "      <td>hardtop</td>\n",
       "      <td>8249.000000</td>\n",
       "    </tr>\n",
       "    <tr>\n",
       "      <th>5</th>\n",
       "      <td>fwd</td>\n",
       "      <td>hatchback</td>\n",
       "      <td>8396.387755</td>\n",
       "    </tr>\n",
       "    <tr>\n",
       "      <th>6</th>\n",
       "      <td>fwd</td>\n",
       "      <td>sedan</td>\n",
       "      <td>9811.800000</td>\n",
       "    </tr>\n",
       "    <tr>\n",
       "      <th>7</th>\n",
       "      <td>fwd</td>\n",
       "      <td>wagon</td>\n",
       "      <td>9997.333333</td>\n",
       "    </tr>\n",
       "    <tr>\n",
       "      <th>8</th>\n",
       "      <td>rwd</td>\n",
       "      <td>convertible</td>\n",
       "      <td>23949.600000</td>\n",
       "    </tr>\n",
       "    <tr>\n",
       "      <th>9</th>\n",
       "      <td>rwd</td>\n",
       "      <td>hardtop</td>\n",
       "      <td>24202.714286</td>\n",
       "    </tr>\n",
       "    <tr>\n",
       "      <th>10</th>\n",
       "      <td>rwd</td>\n",
       "      <td>hatchback</td>\n",
       "      <td>14337.777778</td>\n",
       "    </tr>\n",
       "    <tr>\n",
       "      <th>11</th>\n",
       "      <td>rwd</td>\n",
       "      <td>sedan</td>\n",
       "      <td>21711.833333</td>\n",
       "    </tr>\n",
       "    <tr>\n",
       "      <th>12</th>\n",
       "      <td>rwd</td>\n",
       "      <td>wagon</td>\n",
       "      <td>16994.222222</td>\n",
       "    </tr>\n",
       "  </tbody>\n",
       "</table>\n",
       "</div>"
      ],
      "text/plain": [
       "   drive-wheels   body-style         price\n",
       "0           4wd    hatchback   7603.000000\n",
       "1           4wd        sedan  12647.333333\n",
       "2           4wd        wagon   9095.750000\n",
       "3           fwd  convertible  11595.000000\n",
       "4           fwd      hardtop   8249.000000\n",
       "5           fwd    hatchback   8396.387755\n",
       "6           fwd        sedan   9811.800000\n",
       "7           fwd        wagon   9997.333333\n",
       "8           rwd  convertible  23949.600000\n",
       "9           rwd      hardtop  24202.714286\n",
       "10          rwd    hatchback  14337.777778\n",
       "11          rwd        sedan  21711.833333\n",
       "12          rwd        wagon  16994.222222"
      ]
     },
     "execution_count": 110,
     "metadata": {},
     "output_type": "execute_result"
    }
   ],
   "source": [
    "# we can also group by multiple variables\n",
    "\n",
    "# For example\n",
    "\n",
    "# let's group by both 'drive-wheels' and 'body-style'\n",
    "\n",
    "# This groups the dataframe by the unique combination of 'drive-wheels' and 'body-style'\n",
    "\n",
    "# We can store the results in the variable 'grouped_test1'.\n",
    "\n",
    "# grouping results\n",
    "\n",
    "df_gptest = df[['drive-wheels','body-style','price']]\n",
    "\n",
    "grouped_test1 = df_gptest.groupby(['drive-wheels','body-style'],as_index=False).mean()\n",
    "\n",
    "grouped_test1"
   ]
  },
  {
   "cell_type": "code",
   "execution_count": 111,
   "id": "84ac1245",
   "metadata": {
    "execution": {
     "iopub.execute_input": "2022-01-26T01:27:44.185734Z",
     "iopub.status.busy": "2022-01-26T01:27:44.185125Z",
     "iopub.status.idle": "2022-01-26T01:27:44.203446Z",
     "shell.execute_reply": "2022-01-26T01:27:44.204045Z",
     "shell.execute_reply.started": "2022-01-25T21:47:27.610510Z"
    },
    "papermill": {
     "duration": 0.242482,
     "end_time": "2022-01-26T01:27:44.204223",
     "exception": false,
     "start_time": "2022-01-26T01:27:43.961741",
     "status": "completed"
    },
    "tags": []
   },
   "outputs": [
    {
     "data": {
      "text/html": [
       "<div>\n",
       "<style scoped>\n",
       "    .dataframe tbody tr th:only-of-type {\n",
       "        vertical-align: middle;\n",
       "    }\n",
       "\n",
       "    .dataframe tbody tr th {\n",
       "        vertical-align: top;\n",
       "    }\n",
       "\n",
       "    .dataframe thead tr th {\n",
       "        text-align: left;\n",
       "    }\n",
       "\n",
       "    .dataframe thead tr:last-of-type th {\n",
       "        text-align: right;\n",
       "    }\n",
       "</style>\n",
       "<table border=\"1\" class=\"dataframe\">\n",
       "  <thead>\n",
       "    <tr>\n",
       "      <th></th>\n",
       "      <th colspan=\"5\" halign=\"left\">price</th>\n",
       "    </tr>\n",
       "    <tr>\n",
       "      <th>body-style</th>\n",
       "      <th>convertible</th>\n",
       "      <th>hardtop</th>\n",
       "      <th>hatchback</th>\n",
       "      <th>sedan</th>\n",
       "      <th>wagon</th>\n",
       "    </tr>\n",
       "    <tr>\n",
       "      <th>drive-wheels</th>\n",
       "      <th></th>\n",
       "      <th></th>\n",
       "      <th></th>\n",
       "      <th></th>\n",
       "      <th></th>\n",
       "    </tr>\n",
       "  </thead>\n",
       "  <tbody>\n",
       "    <tr>\n",
       "      <th>4wd</th>\n",
       "      <td>NaN</td>\n",
       "      <td>NaN</td>\n",
       "      <td>7603.000000</td>\n",
       "      <td>12647.333333</td>\n",
       "      <td>9095.750000</td>\n",
       "    </tr>\n",
       "    <tr>\n",
       "      <th>fwd</th>\n",
       "      <td>11595.0</td>\n",
       "      <td>8249.000000</td>\n",
       "      <td>8396.387755</td>\n",
       "      <td>9811.800000</td>\n",
       "      <td>9997.333333</td>\n",
       "    </tr>\n",
       "    <tr>\n",
       "      <th>rwd</th>\n",
       "      <td>23949.6</td>\n",
       "      <td>24202.714286</td>\n",
       "      <td>14337.777778</td>\n",
       "      <td>21711.833333</td>\n",
       "      <td>16994.222222</td>\n",
       "    </tr>\n",
       "  </tbody>\n",
       "</table>\n",
       "</div>"
      ],
      "text/plain": [
       "                   price                                            \\\n",
       "body-style   convertible       hardtop     hatchback         sedan   \n",
       "drive-wheels                                                         \n",
       "4wd                  NaN           NaN   7603.000000  12647.333333   \n",
       "fwd              11595.0   8249.000000   8396.387755   9811.800000   \n",
       "rwd              23949.6  24202.714286  14337.777778  21711.833333   \n",
       "\n",
       "                            \n",
       "body-style           wagon  \n",
       "drive-wheels                \n",
       "4wd            9095.750000  \n",
       "fwd            9997.333333  \n",
       "rwd           16994.222222  "
      ]
     },
     "execution_count": 111,
     "metadata": {},
     "output_type": "execute_result"
    }
   ],
   "source": [
    "# This grouped data is much easier to visualize when it is made into a [pivot table]\n",
    "\n",
    "# A pivot table is like an Excel spreadsheet\n",
    "\n",
    "# with one variable along the column and another along the row\n",
    "\n",
    "# We can convert the dataframe to a pivot table using the method \"pivot\" \n",
    "\n",
    "# to create a pivot table from the groups.\n",
    "\n",
    "# In this case\n",
    "\n",
    "# we will leave the drive-wheels variable as the rows of the table\n",
    "\n",
    "# and pivot body-style to become the columns of the table:\n",
    "\n",
    "grouped_pivot = grouped_test1.pivot(index='drive-wheels',columns='body-style')\n",
    "\n",
    "grouped_pivot"
   ]
  },
  {
   "cell_type": "code",
   "execution_count": 112,
   "id": "195b6833",
   "metadata": {
    "execution": {
     "iopub.execute_input": "2022-01-26T01:27:44.651132Z",
     "iopub.status.busy": "2022-01-26T01:27:44.650447Z",
     "iopub.status.idle": "2022-01-26T01:27:44.664868Z",
     "shell.execute_reply": "2022-01-26T01:27:44.665473Z",
     "shell.execute_reply.started": "2022-01-25T21:49:55.255859Z"
    },
    "papermill": {
     "duration": 0.240754,
     "end_time": "2022-01-26T01:27:44.665639",
     "exception": false,
     "start_time": "2022-01-26T01:27:44.424885",
     "status": "completed"
    },
    "tags": []
   },
   "outputs": [
    {
     "data": {
      "text/html": [
       "<div>\n",
       "<style scoped>\n",
       "    .dataframe tbody tr th:only-of-type {\n",
       "        vertical-align: middle;\n",
       "    }\n",
       "\n",
       "    .dataframe tbody tr th {\n",
       "        vertical-align: top;\n",
       "    }\n",
       "\n",
       "    .dataframe thead tr th {\n",
       "        text-align: left;\n",
       "    }\n",
       "\n",
       "    .dataframe thead tr:last-of-type th {\n",
       "        text-align: right;\n",
       "    }\n",
       "</style>\n",
       "<table border=\"1\" class=\"dataframe\">\n",
       "  <thead>\n",
       "    <tr>\n",
       "      <th></th>\n",
       "      <th colspan=\"5\" halign=\"left\">price</th>\n",
       "    </tr>\n",
       "    <tr>\n",
       "      <th>body-style</th>\n",
       "      <th>convertible</th>\n",
       "      <th>hardtop</th>\n",
       "      <th>hatchback</th>\n",
       "      <th>sedan</th>\n",
       "      <th>wagon</th>\n",
       "    </tr>\n",
       "    <tr>\n",
       "      <th>drive-wheels</th>\n",
       "      <th></th>\n",
       "      <th></th>\n",
       "      <th></th>\n",
       "      <th></th>\n",
       "      <th></th>\n",
       "    </tr>\n",
       "  </thead>\n",
       "  <tbody>\n",
       "    <tr>\n",
       "      <th>4wd</th>\n",
       "      <td>0.0</td>\n",
       "      <td>0.000000</td>\n",
       "      <td>7603.000000</td>\n",
       "      <td>12647.333333</td>\n",
       "      <td>9095.750000</td>\n",
       "    </tr>\n",
       "    <tr>\n",
       "      <th>fwd</th>\n",
       "      <td>11595.0</td>\n",
       "      <td>8249.000000</td>\n",
       "      <td>8396.387755</td>\n",
       "      <td>9811.800000</td>\n",
       "      <td>9997.333333</td>\n",
       "    </tr>\n",
       "    <tr>\n",
       "      <th>rwd</th>\n",
       "      <td>23949.6</td>\n",
       "      <td>24202.714286</td>\n",
       "      <td>14337.777778</td>\n",
       "      <td>21711.833333</td>\n",
       "      <td>16994.222222</td>\n",
       "    </tr>\n",
       "  </tbody>\n",
       "</table>\n",
       "</div>"
      ],
      "text/plain": [
       "                   price                                            \\\n",
       "body-style   convertible       hardtop     hatchback         sedan   \n",
       "drive-wheels                                                         \n",
       "4wd                  0.0      0.000000   7603.000000  12647.333333   \n",
       "fwd              11595.0   8249.000000   8396.387755   9811.800000   \n",
       "rwd              23949.6  24202.714286  14337.777778  21711.833333   \n",
       "\n",
       "                            \n",
       "body-style           wagon  \n",
       "drive-wheels                \n",
       "4wd            9095.750000  \n",
       "fwd            9997.333333  \n",
       "rwd           16994.222222  "
      ]
     },
     "execution_count": 112,
     "metadata": {},
     "output_type": "execute_result"
    }
   ],
   "source": [
    "# Often, we won't have data for some of the pivot cells\n",
    "\n",
    "# We can fill these missing cells with the value 0\n",
    "\n",
    "# but any other value could potentially be used as well\n",
    "\n",
    "# It should be mentioned that missing data is quite a complex\n",
    "\n",
    "grouped_pivot = grouped_pivot.fillna(0) #fill missing values with 0\n",
    "\n",
    "grouped_pivot"
   ]
  },
  {
   "cell_type": "code",
   "execution_count": 113,
   "id": "fd3ca887",
   "metadata": {
    "execution": {
     "iopub.execute_input": "2022-01-26T01:27:45.115915Z",
     "iopub.status.busy": "2022-01-26T01:27:45.115366Z",
     "iopub.status.idle": "2022-01-26T01:27:45.127075Z",
     "shell.execute_reply": "2022-01-26T01:27:45.127596Z",
     "shell.execute_reply.started": "2022-01-25T21:51:28.970897Z"
    },
    "papermill": {
     "duration": 0.238674,
     "end_time": "2022-01-26T01:27:45.127750",
     "exception": false,
     "start_time": "2022-01-26T01:27:44.889076",
     "status": "completed"
    },
    "tags": []
   },
   "outputs": [
    {
     "data": {
      "text/html": [
       "<div>\n",
       "<style scoped>\n",
       "    .dataframe tbody tr th:only-of-type {\n",
       "        vertical-align: middle;\n",
       "    }\n",
       "\n",
       "    .dataframe tbody tr th {\n",
       "        vertical-align: top;\n",
       "    }\n",
       "\n",
       "    .dataframe thead th {\n",
       "        text-align: right;\n",
       "    }\n",
       "</style>\n",
       "<table border=\"1\" class=\"dataframe\">\n",
       "  <thead>\n",
       "    <tr style=\"text-align: right;\">\n",
       "      <th></th>\n",
       "      <th>body-style</th>\n",
       "      <th>price</th>\n",
       "    </tr>\n",
       "  </thead>\n",
       "  <tbody>\n",
       "    <tr>\n",
       "      <th>0</th>\n",
       "      <td>convertible</td>\n",
       "      <td>21890.500000</td>\n",
       "    </tr>\n",
       "    <tr>\n",
       "      <th>1</th>\n",
       "      <td>hardtop</td>\n",
       "      <td>22208.500000</td>\n",
       "    </tr>\n",
       "    <tr>\n",
       "      <th>2</th>\n",
       "      <td>hatchback</td>\n",
       "      <td>9957.441176</td>\n",
       "    </tr>\n",
       "    <tr>\n",
       "      <th>3</th>\n",
       "      <td>sedan</td>\n",
       "      <td>14459.755319</td>\n",
       "    </tr>\n",
       "    <tr>\n",
       "      <th>4</th>\n",
       "      <td>wagon</td>\n",
       "      <td>12371.960000</td>\n",
       "    </tr>\n",
       "  </tbody>\n",
       "</table>\n",
       "</div>"
      ],
      "text/plain": [
       "    body-style         price\n",
       "0  convertible  21890.500000\n",
       "1      hardtop  22208.500000\n",
       "2    hatchback   9957.441176\n",
       "3        sedan  14459.755319\n",
       "4        wagon  12371.960000"
      ]
     },
     "execution_count": 113,
     "metadata": {},
     "output_type": "execute_result"
    }
   ],
   "source": [
    "# the average \"price\" of each car based on \"body-style\".\n",
    "\n",
    "df_gptest2 = df[['body-style','price']]\n",
    "\n",
    "grouped_test_bodystyle = df_gptest2.groupby(['body-style'],as_index= False).mean()\n",
    "\n",
    "grouped_test_bodystyle"
   ]
  },
  {
   "cell_type": "code",
   "execution_count": 114,
   "id": "09293e5a",
   "metadata": {
    "execution": {
     "iopub.execute_input": "2022-01-26T01:27:45.601912Z",
     "iopub.status.busy": "2022-01-26T01:27:45.593530Z",
     "iopub.status.idle": "2022-01-26T01:27:45.818513Z",
     "shell.execute_reply": "2022-01-26T01:27:45.817998Z",
     "shell.execute_reply.started": "2022-01-25T21:52:50.439677Z"
    },
    "papermill": {
     "duration": 0.46711,
     "end_time": "2022-01-26T01:27:45.818660",
     "exception": false,
     "start_time": "2022-01-26T01:27:45.351550",
     "status": "completed"
    },
    "tags": []
   },
   "outputs": [
    {
     "data": {
      "image/png": "[encoded data removed]",
      "text/plain": [
       "<Figure size 432x288 with 2 Axes>"
      ]
     },
     "metadata": {
      "needs_background": "light"
     },
     "output_type": "display_data"
    }
   ],
   "source": [
    "# Let's use a heat map to visualize the relationship between Body Style vs Price.\n",
    "\n",
    "#use the grouped results\n",
    "\n",
    "plt.pcolor(grouped_pivot, cmap='RdBu')\n",
    "\n",
    "plt.colorbar()\n",
    "\n",
    "plt.show()"
   ]
  },
  {
   "cell_type": "code",
   "execution_count": 115,
   "id": "e4db766d",
   "metadata": {
    "execution": {
     "iopub.execute_input": "2022-01-26T01:27:46.272938Z",
     "iopub.status.busy": "2022-01-26T01:27:46.271906Z",
     "iopub.status.idle": "2022-01-26T01:27:46.275406Z",
     "shell.execute_reply": "2022-01-26T01:27:46.275857Z",
     "shell.execute_reply.started": "2022-01-25T21:54:20.472150Z"
    },
    "papermill": {
     "duration": 0.231687,
     "end_time": "2022-01-26T01:27:46.276086",
     "exception": false,
     "start_time": "2022-01-26T01:27:46.044399",
     "status": "completed"
    },
    "tags": []
   },
   "outputs": [],
   "source": [
    "# The heatmap plots the target variable (price) proportional to colour \n",
    "\n",
    "# with respect to the variables 'drive-wheel' and 'body-style' \n",
    "\n",
    "# on the vertical and horizontal axis, respectively. \n",
    "\n",
    "# This allows us to visualize how the price is related to 'drive-wheel' and 'body-style'."
   ]
  },
  {
   "cell_type": "code",
   "execution_count": 116,
   "id": "e5f28dfb",
   "metadata": {
    "execution": {
     "iopub.execute_input": "2022-01-26T01:27:46.733888Z",
     "iopub.status.busy": "2022-01-26T01:27:46.732937Z",
     "iopub.status.idle": "2022-01-26T01:27:46.934625Z",
     "shell.execute_reply": "2022-01-26T01:27:46.935108Z",
     "shell.execute_reply.started": "2022-01-25T21:56:36.790564Z"
    },
    "papermill": {
     "duration": 0.432292,
     "end_time": "2022-01-26T01:27:46.935276",
     "exception": false,
     "start_time": "2022-01-26T01:27:46.502984",
     "status": "completed"
    },
    "tags": []
   },
   "outputs": [
    {
     "data": {
      "image/png": "[encoded data removed]",
      "text/plain": [
       "<Figure size 432x288 with 2 Axes>"
      ]
     },
     "metadata": {
      "needs_background": "light"
     },
     "output_type": "display_data"
    }
   ],
   "source": [
    "# The default labels convey no useful information to us. Let's change that:\n",
    "\n",
    "fig, ax = plt.subplots()\n",
    "\n",
    "im = ax.pcolor(grouped_pivot, cmap='RdBu')\n",
    "\n",
    "#label names\n",
    "\n",
    "row_labels = grouped_pivot.columns.levels[1]\n",
    "\n",
    "col_labels = grouped_pivot.index\n",
    "\n",
    "#move ticks and labels to the center\n",
    "\n",
    "ax.set_xticks(np.arange(grouped_pivot.shape[1]) + 0.5, minor=False)\n",
    "\n",
    "ax.set_yticks(np.arange(grouped_pivot.shape[0]) + 0.5, minor=False)\n",
    "\n",
    "#insert labels\n",
    "\n",
    "ax.set_xticklabels(row_labels, minor=False)\n",
    "\n",
    "ax.set_yticklabels(col_labels, minor=False)\n",
    "\n",
    "#rotate label if too long\n",
    "\n",
    "plt.xticks(rotation=90)\n",
    "\n",
    "fig.colorbar(im)\n",
    "\n",
    "plt.show()"
   ]
  },
  {
   "cell_type": "code",
   "execution_count": 117,
   "id": "28584727",
   "metadata": {
    "execution": {
     "iopub.execute_input": "2022-01-26T01:27:47.387506Z",
     "iopub.status.busy": "2022-01-26T01:27:47.386543Z",
     "iopub.status.idle": "2022-01-26T01:27:47.390082Z",
     "shell.execute_reply": "2022-01-26T01:27:47.390553Z",
     "shell.execute_reply.started": "2022-01-25T21:59:24.669516Z"
    },
    "papermill": {
     "duration": 0.230773,
     "end_time": "2022-01-26T01:27:47.390717",
     "exception": false,
     "start_time": "2022-01-26T01:27:47.159944",
     "status": "completed"
    },
    "tags": []
   },
   "outputs": [],
   "source": [
    "# The main question we want to answer in this module is\n",
    "\n",
    "# \"What are the main characteristics which have the most impact on the car price?\".\n",
    "\n",
    "# To get a better measure of the important characteristics\n",
    "\n",
    "# we look at the correlation of these variables with the car price\n",
    "\n",
    "# In other words: \n",
    "\n",
    "# how is the car price dependent on this variable?"
   ]
  },
  {
   "cell_type": "code",
   "execution_count": 118,
   "id": "c6e8ab4e",
   "metadata": {
    "execution": {
     "iopub.execute_input": "2022-01-26T01:27:47.870481Z",
     "iopub.status.busy": "2022-01-26T01:27:47.869652Z",
     "iopub.status.idle": "2022-01-26T01:27:47.871770Z",
     "shell.execute_reply": "2022-01-26T01:27:47.872265Z",
     "shell.execute_reply.started": "2022-01-25T22:03:47.497236Z"
    },
    "papermill": {
     "duration": 0.25627,
     "end_time": "2022-01-26T01:27:47.872437",
     "exception": false,
     "start_time": "2022-01-26T01:27:47.616167",
     "status": "completed"
    },
    "tags": []
   },
   "outputs": [],
   "source": [
    " # Correlation and Causation\n",
    "\n",
    "# Correlation: a measure of the extent of interdependence between variables.\n",
    "\n",
    "# Causation: the relationship between cause and effect between two variables.\n",
    "\n",
    "\n",
    "# Pearson Correlation\n",
    "\n",
    "# The Pearson Correlation measures the linear dependence between two variables X and Y.\n",
    "\n",
    "# The resulting coefficient is a value between -1 and 1 inclusive, where:\n",
    "\n",
    "  #  1: Perfect positive linear correlation.\n",
    "  #  0: No linear correlation, the two variables most likely do not affect each other.\n",
    "  #  -1: Perfect negative linear correlation"
   ]
  },
  {
   "cell_type": "code",
   "execution_count": 119,
   "id": "26e2e6eb",
   "metadata": {
    "execution": {
     "iopub.execute_input": "2022-01-26T01:27:48.326555Z",
     "iopub.status.busy": "2022-01-26T01:27:48.325920Z",
     "iopub.status.idle": "2022-01-26T01:27:48.359468Z",
     "shell.execute_reply": "2022-01-26T01:27:48.359935Z",
     "shell.execute_reply.started": "2022-01-25T22:04:17.687927Z"
    },
    "papermill": {
     "duration": 0.263166,
     "end_time": "2022-01-26T01:27:48.360121",
     "exception": false,
     "start_time": "2022-01-26T01:27:48.096955",
     "status": "completed"
    },
    "tags": []
   },
   "outputs": [
    {
     "data": {
      "text/html": [
       "<div>\n",
       "<style scoped>\n",
       "    .dataframe tbody tr th:only-of-type {\n",
       "        vertical-align: middle;\n",
       "    }\n",
       "\n",
       "    .dataframe tbody tr th {\n",
       "        vertical-align: top;\n",
       "    }\n",
       "\n",
       "    .dataframe thead th {\n",
       "        text-align: right;\n",
       "    }\n",
       "</style>\n",
       "<table border=\"1\" class=\"dataframe\">\n",
       "  <thead>\n",
       "    <tr style=\"text-align: right;\">\n",
       "      <th></th>\n",
       "      <th>symboling</th>\n",
       "      <th>normalized-losses</th>\n",
       "      <th>wheel-base</th>\n",
       "      <th>length</th>\n",
       "      <th>width</th>\n",
       "      <th>height</th>\n",
       "      <th>curb-weight</th>\n",
       "      <th>engine-size</th>\n",
       "      <th>bore</th>\n",
       "      <th>stroke</th>\n",
       "      <th>...</th>\n",
       "      <th>horsepower</th>\n",
       "      <th>peak-rpm</th>\n",
       "      <th>city-mpg</th>\n",
       "      <th>highway-mpg</th>\n",
       "      <th>price</th>\n",
       "      <th>city-L/100km</th>\n",
       "      <th>fuel-type-diesel</th>\n",
       "      <th>fuel-type-gas</th>\n",
       "      <th>aspiration-std</th>\n",
       "      <th>aspiration-turbo</th>\n",
       "    </tr>\n",
       "  </thead>\n",
       "  <tbody>\n",
       "    <tr>\n",
       "      <th>symboling</th>\n",
       "      <td>1.000000</td>\n",
       "      <td>0.466264</td>\n",
       "      <td>-0.535987</td>\n",
       "      <td>-0.365404</td>\n",
       "      <td>-0.242423</td>\n",
       "      <td>-0.550160</td>\n",
       "      <td>-0.233118</td>\n",
       "      <td>-0.110581</td>\n",
       "      <td>-0.140019</td>\n",
       "      <td>-0.008153</td>\n",
       "      <td>...</td>\n",
       "      <td>0.075810</td>\n",
       "      <td>0.279740</td>\n",
       "      <td>-0.035527</td>\n",
       "      <td>-0.029807</td>\n",
       "      <td>-0.082391</td>\n",
       "      <td>0.066171</td>\n",
       "      <td>-0.196735</td>\n",
       "      <td>0.196735</td>\n",
       "      <td>0.054615</td>\n",
       "      <td>-0.054615</td>\n",
       "    </tr>\n",
       "    <tr>\n",
       "      <th>normalized-losses</th>\n",
       "      <td>0.466264</td>\n",
       "      <td>1.000000</td>\n",
       "      <td>-0.056661</td>\n",
       "      <td>0.019424</td>\n",
       "      <td>0.086802</td>\n",
       "      <td>-0.373737</td>\n",
       "      <td>0.099404</td>\n",
       "      <td>0.112360</td>\n",
       "      <td>-0.029862</td>\n",
       "      <td>0.055045</td>\n",
       "      <td>...</td>\n",
       "      <td>0.217300</td>\n",
       "      <td>0.239543</td>\n",
       "      <td>-0.225016</td>\n",
       "      <td>0.181189</td>\n",
       "      <td>0.133999</td>\n",
       "      <td>0.238567</td>\n",
       "      <td>-0.101546</td>\n",
       "      <td>0.101546</td>\n",
       "      <td>0.006911</td>\n",
       "      <td>-0.006911</td>\n",
       "    </tr>\n",
       "    <tr>\n",
       "      <th>wheel-base</th>\n",
       "      <td>-0.535987</td>\n",
       "      <td>-0.056661</td>\n",
       "      <td>1.000000</td>\n",
       "      <td>0.876024</td>\n",
       "      <td>0.814507</td>\n",
       "      <td>0.590742</td>\n",
       "      <td>0.782097</td>\n",
       "      <td>0.572027</td>\n",
       "      <td>0.493244</td>\n",
       "      <td>0.158018</td>\n",
       "      <td>...</td>\n",
       "      <td>0.371178</td>\n",
       "      <td>-0.360305</td>\n",
       "      <td>-0.470606</td>\n",
       "      <td>0.577576</td>\n",
       "      <td>0.584642</td>\n",
       "      <td>0.476153</td>\n",
       "      <td>0.307237</td>\n",
       "      <td>-0.307237</td>\n",
       "      <td>-0.256889</td>\n",
       "      <td>0.256889</td>\n",
       "    </tr>\n",
       "    <tr>\n",
       "      <th>length</th>\n",
       "      <td>-0.365404</td>\n",
       "      <td>0.019424</td>\n",
       "      <td>0.876024</td>\n",
       "      <td>1.000000</td>\n",
       "      <td>0.857170</td>\n",
       "      <td>0.492063</td>\n",
       "      <td>0.880665</td>\n",
       "      <td>0.685025</td>\n",
       "      <td>0.608971</td>\n",
       "      <td>0.123952</td>\n",
       "      <td>...</td>\n",
       "      <td>0.579795</td>\n",
       "      <td>-0.285970</td>\n",
       "      <td>-0.665192</td>\n",
       "      <td>0.707108</td>\n",
       "      <td>0.690628</td>\n",
       "      <td>0.657373</td>\n",
       "      <td>0.211187</td>\n",
       "      <td>-0.211187</td>\n",
       "      <td>-0.230085</td>\n",
       "      <td>0.230085</td>\n",
       "    </tr>\n",
       "    <tr>\n",
       "      <th>width</th>\n",
       "      <td>-0.242423</td>\n",
       "      <td>0.086802</td>\n",
       "      <td>0.814507</td>\n",
       "      <td>0.857170</td>\n",
       "      <td>1.000000</td>\n",
       "      <td>0.306002</td>\n",
       "      <td>0.866201</td>\n",
       "      <td>0.729436</td>\n",
       "      <td>0.544885</td>\n",
       "      <td>0.188822</td>\n",
       "      <td>...</td>\n",
       "      <td>0.615056</td>\n",
       "      <td>-0.245800</td>\n",
       "      <td>-0.633531</td>\n",
       "      <td>0.736728</td>\n",
       "      <td>0.751265</td>\n",
       "      <td>0.673363</td>\n",
       "      <td>0.244356</td>\n",
       "      <td>-0.244356</td>\n",
       "      <td>-0.305732</td>\n",
       "      <td>0.305732</td>\n",
       "    </tr>\n",
       "    <tr>\n",
       "      <th>height</th>\n",
       "      <td>-0.550160</td>\n",
       "      <td>-0.373737</td>\n",
       "      <td>0.590742</td>\n",
       "      <td>0.492063</td>\n",
       "      <td>0.306002</td>\n",
       "      <td>1.000000</td>\n",
       "      <td>0.307581</td>\n",
       "      <td>0.074694</td>\n",
       "      <td>0.180449</td>\n",
       "      <td>-0.060663</td>\n",
       "      <td>...</td>\n",
       "      <td>-0.087001</td>\n",
       "      <td>-0.309974</td>\n",
       "      <td>-0.049800</td>\n",
       "      <td>0.084301</td>\n",
       "      <td>0.135486</td>\n",
       "      <td>0.003811</td>\n",
       "      <td>0.281578</td>\n",
       "      <td>-0.281578</td>\n",
       "      <td>-0.090336</td>\n",
       "      <td>0.090336</td>\n",
       "    </tr>\n",
       "    <tr>\n",
       "      <th>curb-weight</th>\n",
       "      <td>-0.233118</td>\n",
       "      <td>0.099404</td>\n",
       "      <td>0.782097</td>\n",
       "      <td>0.880665</td>\n",
       "      <td>0.866201</td>\n",
       "      <td>0.307581</td>\n",
       "      <td>1.000000</td>\n",
       "      <td>0.849072</td>\n",
       "      <td>0.644060</td>\n",
       "      <td>0.167438</td>\n",
       "      <td>...</td>\n",
       "      <td>0.757981</td>\n",
       "      <td>-0.279361</td>\n",
       "      <td>-0.749543</td>\n",
       "      <td>0.836921</td>\n",
       "      <td>0.834415</td>\n",
       "      <td>0.785353</td>\n",
       "      <td>0.221046</td>\n",
       "      <td>-0.221046</td>\n",
       "      <td>-0.321955</td>\n",
       "      <td>0.321955</td>\n",
       "    </tr>\n",
       "    <tr>\n",
       "      <th>engine-size</th>\n",
       "      <td>-0.110581</td>\n",
       "      <td>0.112360</td>\n",
       "      <td>0.572027</td>\n",
       "      <td>0.685025</td>\n",
       "      <td>0.729436</td>\n",
       "      <td>0.074694</td>\n",
       "      <td>0.849072</td>\n",
       "      <td>1.000000</td>\n",
       "      <td>0.572609</td>\n",
       "      <td>0.205928</td>\n",
       "      <td>...</td>\n",
       "      <td>0.822668</td>\n",
       "      <td>-0.256733</td>\n",
       "      <td>-0.650546</td>\n",
       "      <td>0.783465</td>\n",
       "      <td>0.872335</td>\n",
       "      <td>0.745059</td>\n",
       "      <td>0.070779</td>\n",
       "      <td>-0.070779</td>\n",
       "      <td>-0.110040</td>\n",
       "      <td>0.110040</td>\n",
       "    </tr>\n",
       "    <tr>\n",
       "      <th>bore</th>\n",
       "      <td>-0.140019</td>\n",
       "      <td>-0.029862</td>\n",
       "      <td>0.493244</td>\n",
       "      <td>0.608971</td>\n",
       "      <td>0.544885</td>\n",
       "      <td>0.180449</td>\n",
       "      <td>0.644060</td>\n",
       "      <td>0.572609</td>\n",
       "      <td>1.000000</td>\n",
       "      <td>-0.055390</td>\n",
       "      <td>...</td>\n",
       "      <td>0.566903</td>\n",
       "      <td>-0.267392</td>\n",
       "      <td>-0.582027</td>\n",
       "      <td>0.559112</td>\n",
       "      <td>0.543155</td>\n",
       "      <td>0.554610</td>\n",
       "      <td>0.054458</td>\n",
       "      <td>-0.054458</td>\n",
       "      <td>-0.227816</td>\n",
       "      <td>0.227816</td>\n",
       "    </tr>\n",
       "    <tr>\n",
       "      <th>stroke</th>\n",
       "      <td>-0.008153</td>\n",
       "      <td>0.055045</td>\n",
       "      <td>0.158018</td>\n",
       "      <td>0.123952</td>\n",
       "      <td>0.188822</td>\n",
       "      <td>-0.060663</td>\n",
       "      <td>0.167438</td>\n",
       "      <td>0.205928</td>\n",
       "      <td>-0.055390</td>\n",
       "      <td>1.000000</td>\n",
       "      <td>...</td>\n",
       "      <td>0.098128</td>\n",
       "      <td>-0.063561</td>\n",
       "      <td>-0.033956</td>\n",
       "      <td>0.047089</td>\n",
       "      <td>0.082269</td>\n",
       "      <td>0.036133</td>\n",
       "      <td>0.241064</td>\n",
       "      <td>-0.241064</td>\n",
       "      <td>-0.218233</td>\n",
       "      <td>0.218233</td>\n",
       "    </tr>\n",
       "    <tr>\n",
       "      <th>compression-ratio</th>\n",
       "      <td>-0.182196</td>\n",
       "      <td>-0.114713</td>\n",
       "      <td>0.250313</td>\n",
       "      <td>0.159733</td>\n",
       "      <td>0.189867</td>\n",
       "      <td>0.259737</td>\n",
       "      <td>0.156433</td>\n",
       "      <td>0.028889</td>\n",
       "      <td>0.001263</td>\n",
       "      <td>0.187871</td>\n",
       "      <td>...</td>\n",
       "      <td>-0.214489</td>\n",
       "      <td>-0.435780</td>\n",
       "      <td>0.331425</td>\n",
       "      <td>-0.223361</td>\n",
       "      <td>0.071107</td>\n",
       "      <td>-0.299372</td>\n",
       "      <td>0.985231</td>\n",
       "      <td>-0.985231</td>\n",
       "      <td>-0.307522</td>\n",
       "      <td>0.307522</td>\n",
       "    </tr>\n",
       "    <tr>\n",
       "      <th>horsepower</th>\n",
       "      <td>0.075810</td>\n",
       "      <td>0.217300</td>\n",
       "      <td>0.371178</td>\n",
       "      <td>0.579795</td>\n",
       "      <td>0.615056</td>\n",
       "      <td>-0.087001</td>\n",
       "      <td>0.757981</td>\n",
       "      <td>0.822668</td>\n",
       "      <td>0.566903</td>\n",
       "      <td>0.098128</td>\n",
       "      <td>...</td>\n",
       "      <td>1.000000</td>\n",
       "      <td>0.107884</td>\n",
       "      <td>-0.822192</td>\n",
       "      <td>0.840627</td>\n",
       "      <td>0.809607</td>\n",
       "      <td>0.889482</td>\n",
       "      <td>-0.169030</td>\n",
       "      <td>0.169030</td>\n",
       "      <td>-0.251159</td>\n",
       "      <td>0.251159</td>\n",
       "    </tr>\n",
       "    <tr>\n",
       "      <th>peak-rpm</th>\n",
       "      <td>0.279740</td>\n",
       "      <td>0.239543</td>\n",
       "      <td>-0.360305</td>\n",
       "      <td>-0.285970</td>\n",
       "      <td>-0.245800</td>\n",
       "      <td>-0.309974</td>\n",
       "      <td>-0.279361</td>\n",
       "      <td>-0.256733</td>\n",
       "      <td>-0.267392</td>\n",
       "      <td>-0.063561</td>\n",
       "      <td>...</td>\n",
       "      <td>0.107884</td>\n",
       "      <td>1.000000</td>\n",
       "      <td>-0.115413</td>\n",
       "      <td>0.017694</td>\n",
       "      <td>-0.101616</td>\n",
       "      <td>0.115830</td>\n",
       "      <td>-0.475812</td>\n",
       "      <td>0.475812</td>\n",
       "      <td>0.190057</td>\n",
       "      <td>-0.190057</td>\n",
       "    </tr>\n",
       "    <tr>\n",
       "      <th>city-mpg</th>\n",
       "      <td>-0.035527</td>\n",
       "      <td>-0.225016</td>\n",
       "      <td>-0.470606</td>\n",
       "      <td>-0.665192</td>\n",
       "      <td>-0.633531</td>\n",
       "      <td>-0.049800</td>\n",
       "      <td>-0.749543</td>\n",
       "      <td>-0.650546</td>\n",
       "      <td>-0.582027</td>\n",
       "      <td>-0.033956</td>\n",
       "      <td>...</td>\n",
       "      <td>-0.822192</td>\n",
       "      <td>-0.115413</td>\n",
       "      <td>1.000000</td>\n",
       "      <td>-0.909024</td>\n",
       "      <td>-0.686571</td>\n",
       "      <td>-0.949713</td>\n",
       "      <td>0.265676</td>\n",
       "      <td>-0.265676</td>\n",
       "      <td>0.189237</td>\n",
       "      <td>-0.189237</td>\n",
       "    </tr>\n",
       "    <tr>\n",
       "      <th>highway-mpg</th>\n",
       "      <td>-0.029807</td>\n",
       "      <td>0.181189</td>\n",
       "      <td>0.577576</td>\n",
       "      <td>0.707108</td>\n",
       "      <td>0.736728</td>\n",
       "      <td>0.084301</td>\n",
       "      <td>0.836921</td>\n",
       "      <td>0.783465</td>\n",
       "      <td>0.559112</td>\n",
       "      <td>0.047089</td>\n",
       "      <td>...</td>\n",
       "      <td>0.840627</td>\n",
       "      <td>0.017694</td>\n",
       "      <td>-0.909024</td>\n",
       "      <td>1.000000</td>\n",
       "      <td>0.801118</td>\n",
       "      <td>0.958306</td>\n",
       "      <td>-0.158091</td>\n",
       "      <td>0.158091</td>\n",
       "      <td>-0.210720</td>\n",
       "      <td>0.210720</td>\n",
       "    </tr>\n",
       "    <tr>\n",
       "      <th>price</th>\n",
       "      <td>-0.082391</td>\n",
       "      <td>0.133999</td>\n",
       "      <td>0.584642</td>\n",
       "      <td>0.690628</td>\n",
       "      <td>0.751265</td>\n",
       "      <td>0.135486</td>\n",
       "      <td>0.834415</td>\n",
       "      <td>0.872335</td>\n",
       "      <td>0.543155</td>\n",
       "      <td>0.082269</td>\n",
       "      <td>...</td>\n",
       "      <td>0.809607</td>\n",
       "      <td>-0.101616</td>\n",
       "      <td>-0.686571</td>\n",
       "      <td>0.801118</td>\n",
       "      <td>1.000000</td>\n",
       "      <td>0.789898</td>\n",
       "      <td>0.110326</td>\n",
       "      <td>-0.110326</td>\n",
       "      <td>-0.179578</td>\n",
       "      <td>0.179578</td>\n",
       "    </tr>\n",
       "    <tr>\n",
       "      <th>city-L/100km</th>\n",
       "      <td>0.066171</td>\n",
       "      <td>0.238567</td>\n",
       "      <td>0.476153</td>\n",
       "      <td>0.657373</td>\n",
       "      <td>0.673363</td>\n",
       "      <td>0.003811</td>\n",
       "      <td>0.785353</td>\n",
       "      <td>0.745059</td>\n",
       "      <td>0.554610</td>\n",
       "      <td>0.036133</td>\n",
       "      <td>...</td>\n",
       "      <td>0.889482</td>\n",
       "      <td>0.115830</td>\n",
       "      <td>-0.949713</td>\n",
       "      <td>0.958306</td>\n",
       "      <td>0.789898</td>\n",
       "      <td>1.000000</td>\n",
       "      <td>-0.241282</td>\n",
       "      <td>0.241282</td>\n",
       "      <td>-0.157578</td>\n",
       "      <td>0.157578</td>\n",
       "    </tr>\n",
       "    <tr>\n",
       "      <th>fuel-type-diesel</th>\n",
       "      <td>-0.196735</td>\n",
       "      <td>-0.101546</td>\n",
       "      <td>0.307237</td>\n",
       "      <td>0.211187</td>\n",
       "      <td>0.244356</td>\n",
       "      <td>0.281578</td>\n",
       "      <td>0.221046</td>\n",
       "      <td>0.070779</td>\n",
       "      <td>0.054458</td>\n",
       "      <td>0.241064</td>\n",
       "      <td>...</td>\n",
       "      <td>-0.169030</td>\n",
       "      <td>-0.475812</td>\n",
       "      <td>0.265676</td>\n",
       "      <td>-0.158091</td>\n",
       "      <td>0.110326</td>\n",
       "      <td>-0.241282</td>\n",
       "      <td>1.000000</td>\n",
       "      <td>-1.000000</td>\n",
       "      <td>-0.408228</td>\n",
       "      <td>0.408228</td>\n",
       "    </tr>\n",
       "    <tr>\n",
       "      <th>fuel-type-gas</th>\n",
       "      <td>0.196735</td>\n",
       "      <td>0.101546</td>\n",
       "      <td>-0.307237</td>\n",
       "      <td>-0.211187</td>\n",
       "      <td>-0.244356</td>\n",
       "      <td>-0.281578</td>\n",
       "      <td>-0.221046</td>\n",
       "      <td>-0.070779</td>\n",
       "      <td>-0.054458</td>\n",
       "      <td>-0.241064</td>\n",
       "      <td>...</td>\n",
       "      <td>0.169030</td>\n",
       "      <td>0.475812</td>\n",
       "      <td>-0.265676</td>\n",
       "      <td>0.158091</td>\n",
       "      <td>-0.110326</td>\n",
       "      <td>0.241282</td>\n",
       "      <td>-1.000000</td>\n",
       "      <td>1.000000</td>\n",
       "      <td>0.408228</td>\n",
       "      <td>-0.408228</td>\n",
       "    </tr>\n",
       "    <tr>\n",
       "      <th>aspiration-std</th>\n",
       "      <td>0.054615</td>\n",
       "      <td>0.006911</td>\n",
       "      <td>-0.256889</td>\n",
       "      <td>-0.230085</td>\n",
       "      <td>-0.305732</td>\n",
       "      <td>-0.090336</td>\n",
       "      <td>-0.321955</td>\n",
       "      <td>-0.110040</td>\n",
       "      <td>-0.227816</td>\n",
       "      <td>-0.218233</td>\n",
       "      <td>...</td>\n",
       "      <td>-0.251159</td>\n",
       "      <td>0.190057</td>\n",
       "      <td>0.189237</td>\n",
       "      <td>-0.210720</td>\n",
       "      <td>-0.179578</td>\n",
       "      <td>-0.157578</td>\n",
       "      <td>-0.408228</td>\n",
       "      <td>0.408228</td>\n",
       "      <td>1.000000</td>\n",
       "      <td>-1.000000</td>\n",
       "    </tr>\n",
       "    <tr>\n",
       "      <th>aspiration-turbo</th>\n",
       "      <td>-0.054615</td>\n",
       "      <td>-0.006911</td>\n",
       "      <td>0.256889</td>\n",
       "      <td>0.230085</td>\n",
       "      <td>0.305732</td>\n",
       "      <td>0.090336</td>\n",
       "      <td>0.321955</td>\n",
       "      <td>0.110040</td>\n",
       "      <td>0.227816</td>\n",
       "      <td>0.218233</td>\n",
       "      <td>...</td>\n",
       "      <td>0.251159</td>\n",
       "      <td>-0.190057</td>\n",
       "      <td>-0.189237</td>\n",
       "      <td>0.210720</td>\n",
       "      <td>0.179578</td>\n",
       "      <td>0.157578</td>\n",
       "      <td>0.408228</td>\n",
       "      <td>-0.408228</td>\n",
       "      <td>-1.000000</td>\n",
       "      <td>1.000000</td>\n",
       "    </tr>\n",
       "  </tbody>\n",
       "</table>\n",
       "<p>21 rows × 21 columns</p>\n",
       "</div>"
      ],
      "text/plain": [
       "                   symboling  normalized-losses  wheel-base    length  \\\n",
       "symboling           1.000000           0.466264   -0.535987 -0.365404   \n",
       "normalized-losses   0.466264           1.000000   -0.056661  0.019424   \n",
       "wheel-base         -0.535987          -0.056661    1.000000  0.876024   \n",
       "length             -0.365404           0.019424    0.876024  1.000000   \n",
       "width              -0.242423           0.086802    0.814507  0.857170   \n",
       "height             -0.550160          -0.373737    0.590742  0.492063   \n",
       "curb-weight        -0.233118           0.099404    0.782097  0.880665   \n",
       "engine-size        -0.110581           0.112360    0.572027  0.685025   \n",
       "bore               -0.140019          -0.029862    0.493244  0.608971   \n",
       "stroke             -0.008153           0.055045    0.158018  0.123952   \n",
       "compression-ratio  -0.182196          -0.114713    0.250313  0.159733   \n",
       "horsepower          0.075810           0.217300    0.371178  0.579795   \n",
       "peak-rpm            0.279740           0.239543   -0.360305 -0.285970   \n",
       "city-mpg           -0.035527          -0.225016   -0.470606 -0.665192   \n",
       "highway-mpg        -0.029807           0.181189    0.577576  0.707108   \n",
       "price              -0.082391           0.133999    0.584642  0.690628   \n",
       "city-L/100km        0.066171           0.238567    0.476153  0.657373   \n",
       "fuel-type-diesel   -0.196735          -0.101546    0.307237  0.211187   \n",
       "fuel-type-gas       0.196735           0.101546   -0.307237 -0.211187   \n",
       "aspiration-std      0.054615           0.006911   -0.256889 -0.230085   \n",
       "aspiration-turbo   -0.054615          -0.006911    0.256889  0.230085   \n",
       "\n",
       "                      width    height  curb-weight  engine-size      bore  \\\n",
       "symboling         -0.242423 -0.550160    -0.233118    -0.110581 -0.140019   \n",
       "normalized-losses  0.086802 -0.373737     0.099404     0.112360 -0.029862   \n",
       "wheel-base         0.814507  0.590742     0.782097     0.572027  0.493244   \n",
       "length             0.857170  0.492063     0.880665     0.685025  0.608971   \n",
       "width              1.000000  0.306002     0.866201     0.729436  0.544885   \n",
       "height             0.306002  1.000000     0.307581     0.074694  0.180449   \n",
       "curb-weight        0.866201  0.307581     1.000000     0.849072  0.644060   \n",
       "engine-size        0.729436  0.074694     0.849072     1.000000  0.572609   \n",
       "bore               0.544885  0.180449     0.644060     0.572609  1.000000   \n",
       "stroke             0.188822 -0.060663     0.167438     0.205928 -0.055390   \n",
       "compression-ratio  0.189867  0.259737     0.156433     0.028889  0.001263   \n",
       "horsepower         0.615056 -0.087001     0.757981     0.822668  0.566903   \n",
       "peak-rpm          -0.245800 -0.309974    -0.279361    -0.256733 -0.267392   \n",
       "city-mpg          -0.633531 -0.049800    -0.749543    -0.650546 -0.582027   \n",
       "highway-mpg        0.736728  0.084301     0.836921     0.783465  0.559112   \n",
       "price              0.751265  0.135486     0.834415     0.872335  0.543155   \n",
       "city-L/100km       0.673363  0.003811     0.785353     0.745059  0.554610   \n",
       "fuel-type-diesel   0.244356  0.281578     0.221046     0.070779  0.054458   \n",
       "fuel-type-gas     -0.244356 -0.281578    -0.221046    -0.070779 -0.054458   \n",
       "aspiration-std    -0.305732 -0.090336    -0.321955    -0.110040 -0.227816   \n",
       "aspiration-turbo   0.305732  0.090336     0.321955     0.110040  0.227816   \n",
       "\n",
       "                     stroke  ...  horsepower  peak-rpm  city-mpg  highway-mpg  \\\n",
       "symboling         -0.008153  ...    0.075810  0.279740 -0.035527    -0.029807   \n",
       "normalized-losses  0.055045  ...    0.217300  0.239543 -0.225016     0.181189   \n",
       "wheel-base         0.158018  ...    0.371178 -0.360305 -0.470606     0.577576   \n",
       "length             0.123952  ...    0.579795 -0.285970 -0.665192     0.707108   \n",
       "width              0.188822  ...    0.615056 -0.245800 -0.633531     0.736728   \n",
       "height            -0.060663  ...   -0.087001 -0.309974 -0.049800     0.084301   \n",
       "curb-weight        0.167438  ...    0.757981 -0.279361 -0.749543     0.836921   \n",
       "engine-size        0.205928  ...    0.822668 -0.256733 -0.650546     0.783465   \n",
       "bore              -0.055390  ...    0.566903 -0.267392 -0.582027     0.559112   \n",
       "stroke             1.000000  ...    0.098128 -0.063561 -0.033956     0.047089   \n",
       "compression-ratio  0.187871  ...   -0.214489 -0.435780  0.331425    -0.223361   \n",
       "horsepower         0.098128  ...    1.000000  0.107884 -0.822192     0.840627   \n",
       "peak-rpm          -0.063561  ...    0.107884  1.000000 -0.115413     0.017694   \n",
       "city-mpg          -0.033956  ...   -0.822192 -0.115413  1.000000    -0.909024   \n",
       "highway-mpg        0.047089  ...    0.840627  0.017694 -0.909024     1.000000   \n",
       "price              0.082269  ...    0.809607 -0.101616 -0.686571     0.801118   \n",
       "city-L/100km       0.036133  ...    0.889482  0.115830 -0.949713     0.958306   \n",
       "fuel-type-diesel   0.241064  ...   -0.169030 -0.475812  0.265676    -0.158091   \n",
       "fuel-type-gas     -0.241064  ...    0.169030  0.475812 -0.265676     0.158091   \n",
       "aspiration-std    -0.218233  ...   -0.251159  0.190057  0.189237    -0.210720   \n",
       "aspiration-turbo   0.218233  ...    0.251159 -0.190057 -0.189237     0.210720   \n",
       "\n",
       "                      price  city-L/100km  fuel-type-diesel  fuel-type-gas  \\\n",
       "symboling         -0.082391      0.066171         -0.196735       0.196735   \n",
       "normalized-losses  0.133999      0.238567         -0.101546       0.101546   \n",
       "wheel-base         0.584642      0.476153          0.307237      -0.307237   \n",
       "length             0.690628      0.657373          0.211187      -0.211187   \n",
       "width              0.751265      0.673363          0.244356      -0.244356   \n",
       "height             0.135486      0.003811          0.281578      -0.281578   \n",
       "curb-weight        0.834415      0.785353          0.221046      -0.221046   \n",
       "engine-size        0.872335      0.745059          0.070779      -0.070779   \n",
       "bore               0.543155      0.554610          0.054458      -0.054458   \n",
       "stroke             0.082269      0.036133          0.241064      -0.241064   \n",
       "compression-ratio  0.071107     -0.299372          0.985231      -0.985231   \n",
       "horsepower         0.809607      0.889482         -0.169030       0.169030   \n",
       "peak-rpm          -0.101616      0.115830         -0.475812       0.475812   \n",
       "city-mpg          -0.686571     -0.949713          0.265676      -0.265676   \n",
       "highway-mpg        0.801118      0.958306         -0.158091       0.158091   \n",
       "price              1.000000      0.789898          0.110326      -0.110326   \n",
       "city-L/100km       0.789898      1.000000         -0.241282       0.241282   \n",
       "fuel-type-diesel   0.110326     -0.241282          1.000000      -1.000000   \n",
       "fuel-type-gas     -0.110326      0.241282         -1.000000       1.000000   \n",
       "aspiration-std    -0.179578     -0.157578         -0.408228       0.408228   \n",
       "aspiration-turbo   0.179578      0.157578          0.408228      -0.408228   \n",
       "\n",
       "                   aspiration-std  aspiration-turbo  \n",
       "symboling                0.054615         -0.054615  \n",
       "normalized-losses        0.006911         -0.006911  \n",
       "wheel-base              -0.256889          0.256889  \n",
       "length                  -0.230085          0.230085  \n",
       "width                   -0.305732          0.305732  \n",
       "height                  -0.090336          0.090336  \n",
       "curb-weight             -0.321955          0.321955  \n",
       "engine-size             -0.110040          0.110040  \n",
       "bore                    -0.227816          0.227816  \n",
       "stroke                  -0.218233          0.218233  \n",
       "compression-ratio       -0.307522          0.307522  \n",
       "horsepower              -0.251159          0.251159  \n",
       "peak-rpm                 0.190057         -0.190057  \n",
       "city-mpg                 0.189237         -0.189237  \n",
       "highway-mpg             -0.210720          0.210720  \n",
       "price                   -0.179578          0.179578  \n",
       "city-L/100km            -0.157578          0.157578  \n",
       "fuel-type-diesel        -0.408228          0.408228  \n",
       "fuel-type-gas            0.408228         -0.408228  \n",
       "aspiration-std           1.000000         -1.000000  \n",
       "aspiration-turbo        -1.000000          1.000000  \n",
       "\n",
       "[21 rows x 21 columns]"
      ]
     },
     "execution_count": 119,
     "metadata": {},
     "output_type": "execute_result"
    }
   ],
   "source": [
    "# Pearson Correlation is the default method of the function \"corr\". Like before\n",
    "\n",
    "# we can calculate the Pearson Correlation of the of the 'int64' or 'float64' variables.\n",
    "\n",
    "df.corr()"
   ]
  },
  {
   "cell_type": "code",
   "execution_count": 120,
   "id": "ccfbcb48",
   "metadata": {
    "execution": {
     "iopub.execute_input": "2022-01-26T01:27:48.816179Z",
     "iopub.status.busy": "2022-01-26T01:27:48.815517Z",
     "iopub.status.idle": "2022-01-26T01:27:48.819243Z",
     "shell.execute_reply": "2022-01-26T01:27:48.819819Z",
     "shell.execute_reply.started": "2022-01-25T22:08:01.686373Z"
    },
    "papermill": {
     "duration": 0.233909,
     "end_time": "2022-01-26T01:27:48.820010",
     "exception": false,
     "start_time": "2022-01-26T01:27:48.586101",
     "status": "completed"
    },
    "tags": []
   },
   "outputs": [],
   "source": [
    "# Sometimes we would like to know the significant of the correlation estimate.\n",
    "\n",
    "# P-value\n",
    "\n",
    "# What is this P-value? \n",
    "\n",
    "# The P-value is the probability value that the correlation between these two variables \n",
    "\n",
    "# is statistically significant. \n",
    "\n",
    "# Normally, \n",
    "\n",
    "# we choose a significance level of 0.05, which means that we are 95% confident \n",
    "\n",
    "# that the correlation between the variables is significant.\n",
    "\n",
    "# By convention, when the\n",
    "\n",
    "# p-value is < 0.001: we say there is strong evidence that the correlation is significant.\n",
    "\n",
    "# the p-value is < 0.05: there is moderate evidence that the correlation is significant.\n",
    "\n",
    "# the p-value is < 0.1: there is weak evidence that the correlation is significant.\n",
    "\n",
    "# the p-value is > 0.1: there is no evidence that the correlation is significant."
   ]
  },
  {
   "cell_type": "code",
   "execution_count": 121,
   "id": "316af34b",
   "metadata": {
    "execution": {
     "iopub.execute_input": "2022-01-26T01:27:49.276939Z",
     "iopub.status.busy": "2022-01-26T01:27:49.276335Z",
     "iopub.status.idle": "2022-01-26T01:27:49.278907Z",
     "shell.execute_reply": "2022-01-26T01:27:49.278422Z",
     "shell.execute_reply.started": "2022-01-25T22:09:01.186923Z"
    },
    "papermill": {
     "duration": 0.232135,
     "end_time": "2022-01-26T01:27:49.279064",
     "exception": false,
     "start_time": "2022-01-26T01:27:49.046929",
     "status": "completed"
    },
    "tags": []
   },
   "outputs": [],
   "source": [
    "# We can obtain this information using \"stats\" module in the \"scipy\" library.\n",
    "\n",
    "from scipy import stats"
   ]
  },
  {
   "cell_type": "code",
   "execution_count": 122,
   "id": "eadeab25",
   "metadata": {
    "execution": {
     "iopub.execute_input": "2022-01-26T01:27:49.738598Z",
     "iopub.status.busy": "2022-01-26T01:27:49.737916Z",
     "iopub.status.idle": "2022-01-26T01:27:49.742085Z",
     "shell.execute_reply": "2022-01-26T01:27:49.741424Z",
     "shell.execute_reply.started": "2022-01-25T22:09:54.578818Z"
    },
    "papermill": {
     "duration": 0.238376,
     "end_time": "2022-01-26T01:27:49.742232",
     "exception": false,
     "start_time": "2022-01-26T01:27:49.503856",
     "status": "completed"
    },
    "tags": []
   },
   "outputs": [
    {
     "name": "stdout",
     "output_type": "stream",
     "text": [
      "The Pearson Correlation Coefficient is 0.584641822265508  with a P-value of P = 8.076488270733218e-20\n"
     ]
    }
   ],
   "source": [
    "# Let's calculate the Pearson Correlation Coefficient and P-value of 'wheel-base' and 'price'.\n",
    "\n",
    "pearson_coef, p_value = stats.pearsonr(df['wheel-base'], df['price'])\n",
    "\n",
    "print(\"The Pearson Correlation Coefficient is\", pearson_coef, \" with a P-value of P =\", p_value)  "
   ]
  },
  {
   "cell_type": "code",
   "execution_count": 123,
   "id": "4fe5d7bc",
   "metadata": {
    "execution": {
     "iopub.execute_input": "2022-01-26T01:27:50.203966Z",
     "iopub.status.busy": "2022-01-26T01:27:50.203289Z",
     "iopub.status.idle": "2022-01-26T01:27:50.206063Z",
     "shell.execute_reply": "2022-01-26T01:27:50.206642Z",
     "shell.execute_reply.started": "2022-01-25T22:10:48.757564Z"
    },
    "papermill": {
     "duration": 0.235209,
     "end_time": "2022-01-26T01:27:50.206796",
     "exception": false,
     "start_time": "2022-01-26T01:27:49.971587",
     "status": "completed"
    },
    "tags": []
   },
   "outputs": [],
   "source": [
    "# Conclusion:\n",
    "\n",
    "# Since the p-value is < 0.001\n",
    "\n",
    "# the correlation between wheel-base and price is statistically significant\n",
    "\n",
    "# although the linear relationship isn't extremely strong (~0.585).\n"
   ]
  },
  {
   "cell_type": "code",
   "execution_count": 124,
   "id": "65e5668b",
   "metadata": {
    "execution": {
     "iopub.execute_input": "2022-01-26T01:27:50.665009Z",
     "iopub.status.busy": "2022-01-26T01:27:50.664221Z",
     "iopub.status.idle": "2022-01-26T01:27:50.670223Z",
     "shell.execute_reply": "2022-01-26T01:27:50.670700Z",
     "shell.execute_reply.started": "2022-01-25T22:11:51.640808Z"
    },
    "papermill": {
     "duration": 0.237571,
     "end_time": "2022-01-26T01:27:50.670852",
     "exception": false,
     "start_time": "2022-01-26T01:27:50.433281",
     "status": "completed"
    },
    "tags": []
   },
   "outputs": [
    {
     "name": "stdout",
     "output_type": "stream",
     "text": [
      "The Pearson Correlation Coefficient is 0.8096068016571054  with a P-value of P =  6.273536270650504e-48\n"
     ]
    }
   ],
   "source": [
    "# Let's calculate the Pearson Correlation Coefficient and P-value of 'horsepower' and 'price'.\n",
    "\n",
    "pearson_coef, p_value = stats.pearsonr(df['horsepower'], df['price'])\n",
    "\n",
    "print(\"The Pearson Correlation Coefficient is\", pearson_coef, \" with a P-value of P = \", p_value)  "
   ]
  },
  {
   "cell_type": "code",
   "execution_count": 125,
   "id": "44ee6217",
   "metadata": {
    "execution": {
     "iopub.execute_input": "2022-01-26T01:27:51.135848Z",
     "iopub.status.busy": "2022-01-26T01:27:51.135255Z",
     "iopub.status.idle": "2022-01-26T01:27:51.138073Z",
     "shell.execute_reply": "2022-01-26T01:27:51.138667Z",
     "shell.execute_reply.started": "2022-01-25T22:12:40.198516Z"
    },
    "papermill": {
     "duration": 0.235584,
     "end_time": "2022-01-26T01:27:51.138827",
     "exception": false,
     "start_time": "2022-01-26T01:27:50.903243",
     "status": "completed"
    },
    "tags": []
   },
   "outputs": [],
   "source": [
    "# Conclusion:\n",
    "\n",
    "# Since the p-value is < 0.001\n",
    "\n",
    "# the correlation between horsepower and price is statistically significant\n",
    "\n",
    "# and the linear relationship is quite strong (~0.809, close to 1)."
   ]
  },
  {
   "cell_type": "code",
   "execution_count": 126,
   "id": "ba646338",
   "metadata": {
    "execution": {
     "iopub.execute_input": "2022-01-26T01:27:51.599697Z",
     "iopub.status.busy": "2022-01-26T01:27:51.599058Z",
     "iopub.status.idle": "2022-01-26T01:27:51.605387Z",
     "shell.execute_reply": "2022-01-26T01:27:51.604822Z",
     "shell.execute_reply.started": "2022-01-25T22:13:30.005252Z"
    },
    "papermill": {
     "duration": 0.238078,
     "end_time": "2022-01-26T01:27:51.605539",
     "exception": false,
     "start_time": "2022-01-26T01:27:51.367461",
     "status": "completed"
    },
    "tags": []
   },
   "outputs": [
    {
     "name": "stdout",
     "output_type": "stream",
     "text": [
      "The Pearson Correlation Coefficient is 0.6906283804483639  with a P-value of P =  8.016477466159328e-30\n"
     ]
    }
   ],
   "source": [
    "# Let's calculate the Pearson Correlation Coefficient and P-value of 'length' and 'price'.\n",
    "\n",
    "pearson_coef, p_value = stats.pearsonr(df['length'], df['price'])\n",
    "\n",
    "print(\"The Pearson Correlation Coefficient is\", pearson_coef, \" with a P-value of P = \", p_value)"
   ]
  },
  {
   "cell_type": "code",
   "execution_count": 127,
   "id": "08668236",
   "metadata": {
    "execution": {
     "iopub.execute_input": "2022-01-26T01:27:52.074023Z",
     "iopub.status.busy": "2022-01-26T01:27:52.073383Z",
     "iopub.status.idle": "2022-01-26T01:27:52.076470Z",
     "shell.execute_reply": "2022-01-26T01:27:52.077077Z",
     "shell.execute_reply.started": "2022-01-25T22:14:10.336787Z"
    },
    "papermill": {
     "duration": 0.239362,
     "end_time": "2022-01-26T01:27:52.077245",
     "exception": false,
     "start_time": "2022-01-26T01:27:51.837883",
     "status": "completed"
    },
    "tags": []
   },
   "outputs": [],
   "source": [
    "# Conclusion:\n",
    "\n",
    "# Since the p-value is < 0.001\n",
    "\n",
    "# the correlation between length and price is statistically significant\n",
    "\n",
    "#and the linear relationship is moderately strong (~0.691)."
   ]
  },
  {
   "cell_type": "code",
   "execution_count": 128,
   "id": "f5b879c7",
   "metadata": {
    "execution": {
     "iopub.execute_input": "2022-01-26T01:27:52.542325Z",
     "iopub.status.busy": "2022-01-26T01:27:52.541627Z",
     "iopub.status.idle": "2022-01-26T01:27:52.548031Z",
     "shell.execute_reply": "2022-01-26T01:27:52.549028Z",
     "shell.execute_reply.started": "2022-01-25T22:14:39.599126Z"
    },
    "papermill": {
     "duration": 0.242519,
     "end_time": "2022-01-26T01:27:52.549279",
     "exception": false,
     "start_time": "2022-01-26T01:27:52.306760",
     "status": "completed"
    },
    "tags": []
   },
   "outputs": [
    {
     "name": "stdout",
     "output_type": "stream",
     "text": [
      "The Pearson Correlation Coefficient is 0.7512653440522673  with a P-value of P = 9.200335510481646e-38\n"
     ]
    }
   ],
   "source": [
    "# Let's calculate the Pearson Correlation Coefficient and P-value of 'width' and 'price':\n",
    "\n",
    "pearson_coef, p_value = stats.pearsonr(df['width'], df['price'])\n",
    "\n",
    "print(\"The Pearson Correlation Coefficient is\", pearson_coef, \" with a P-value of P =\", p_value ) "
   ]
  },
  {
   "cell_type": "code",
   "execution_count": 129,
   "id": "bc60124e",
   "metadata": {
    "execution": {
     "iopub.execute_input": "2022-01-26T01:27:53.018848Z",
     "iopub.status.busy": "2022-01-26T01:27:53.018214Z",
     "iopub.status.idle": "2022-01-26T01:27:53.021558Z",
     "shell.execute_reply": "2022-01-26T01:27:53.022181Z",
     "shell.execute_reply.started": "2022-01-25T22:15:22.004840Z"
    },
    "papermill": {
     "duration": 0.239045,
     "end_time": "2022-01-26T01:27:53.022356",
     "exception": false,
     "start_time": "2022-01-26T01:27:52.783311",
     "status": "completed"
    },
    "tags": []
   },
   "outputs": [],
   "source": [
    "# Conclusion:\n",
    "\n",
    "# Since the p-value is < 0.001\n",
    "\n",
    "# the correlation between width and price is statistically significant\n",
    "\n",
    "#and the linear relationship is quite strong (~0.751).\n"
   ]
  },
  {
   "cell_type": "code",
   "execution_count": 130,
   "id": "b648a8f1",
   "metadata": {
    "execution": {
     "iopub.execute_input": "2022-01-26T01:27:53.484556Z",
     "iopub.status.busy": "2022-01-26T01:27:53.483897Z",
     "iopub.status.idle": "2022-01-26T01:27:53.491744Z",
     "shell.execute_reply": "2022-01-26T01:27:53.490770Z",
     "shell.execute_reply.started": "2022-01-25T22:15:49.239170Z"
    },
    "papermill": {
     "duration": 0.238372,
     "end_time": "2022-01-26T01:27:53.492016",
     "exception": false,
     "start_time": "2022-01-26T01:27:53.253644",
     "status": "completed"
    },
    "tags": []
   },
   "outputs": [
    {
     "name": "stdout",
     "output_type": "stream",
     "text": [
      "The Pearson Correlation Coefficient is 0.8344145257702843  with a P-value of P =  2.189577238894065e-53\n"
     ]
    }
   ],
   "source": [
    "# Let's calculate the Pearson Correlation Coefficient and P-value of 'curb-weight' and 'price':\n",
    "\n",
    "pearson_coef, p_value = stats.pearsonr(df['curb-weight'], df['price'])\n",
    "\n",
    "print( \"The Pearson Correlation Coefficient is\", pearson_coef, \" with a P-value of P = \", p_value)  "
   ]
  },
  {
   "cell_type": "code",
   "execution_count": 131,
   "id": "edb608f6",
   "metadata": {
    "execution": {
     "iopub.execute_input": "2022-01-26T01:27:53.959766Z",
     "iopub.status.busy": "2022-01-26T01:27:53.959120Z",
     "iopub.status.idle": "2022-01-26T01:27:53.961990Z",
     "shell.execute_reply": "2022-01-26T01:27:53.962564Z",
     "shell.execute_reply.started": "2022-01-25T22:16:30.346232Z"
    },
    "papermill": {
     "duration": 0.238724,
     "end_time": "2022-01-26T01:27:53.962734",
     "exception": false,
     "start_time": "2022-01-26T01:27:53.724010",
     "status": "completed"
    },
    "tags": []
   },
   "outputs": [],
   "source": [
    "# Conclusion:\n",
    "\n",
    "# Since the p-value is < 0.001\n",
    "\n",
    "# the correlation between curb-weight and price is statistically significant\n",
    "\n",
    "# and the linear relationship is quite strong (~0.834)."
   ]
  },
  {
   "cell_type": "code",
   "execution_count": 132,
   "id": "924fa3d4",
   "metadata": {
    "execution": {
     "iopub.execute_input": "2022-01-26T01:27:54.432566Z",
     "iopub.status.busy": "2022-01-26T01:27:54.431911Z",
     "iopub.status.idle": "2022-01-26T01:27:54.437178Z",
     "shell.execute_reply": "2022-01-26T01:27:54.437748Z",
     "shell.execute_reply.started": "2022-01-25T22:16:57.427103Z"
    },
    "papermill": {
     "duration": 0.241286,
     "end_time": "2022-01-26T01:27:54.437907",
     "exception": false,
     "start_time": "2022-01-26T01:27:54.196621",
     "status": "completed"
    },
    "tags": []
   },
   "outputs": [
    {
     "name": "stdout",
     "output_type": "stream",
     "text": [
      "The Pearson Correlation Coefficient is 0.8723351674455185  with a P-value of P = 9.265491622198389e-64\n"
     ]
    }
   ],
   "source": [
    "# Let's calculate the Pearson Correlation Coefficient and P-value of 'engine-size' and 'price':\n",
    "\n",
    "pearson_coef, p_value = stats.pearsonr(df['engine-size'], df['price'])\n",
    "\n",
    "print(\"The Pearson Correlation Coefficient is\", pearson_coef, \" with a P-value of P =\", p_value) "
   ]
  },
  {
   "cell_type": "code",
   "execution_count": 133,
   "id": "90e6545d",
   "metadata": {
    "execution": {
     "iopub.execute_input": "2022-01-26T01:27:54.963279Z",
     "iopub.status.busy": "2022-01-26T01:27:54.962624Z",
     "iopub.status.idle": "2022-01-26T01:27:54.965468Z",
     "shell.execute_reply": "2022-01-26T01:27:54.966111Z",
     "shell.execute_reply.started": "2022-01-25T22:17:42.301238Z"
    },
    "papermill": {
     "duration": 0.295183,
     "end_time": "2022-01-26T01:27:54.966301",
     "exception": false,
     "start_time": "2022-01-26T01:27:54.671118",
     "status": "completed"
    },
    "tags": []
   },
   "outputs": [],
   "source": [
    "# Conclusion:\n",
    "\n",
    "# Since the p-value is < 0.001\n",
    "\n",
    "# the correlation between engine-size and price is statistically significant\n",
    "\n",
    "# and the linear relationship is very strong (~0.872).\n"
   ]
  },
  {
   "cell_type": "code",
   "execution_count": 134,
   "id": "86f21d43",
   "metadata": {
    "execution": {
     "iopub.execute_input": "2022-01-26T01:27:55.433705Z",
     "iopub.status.busy": "2022-01-26T01:27:55.433106Z",
     "iopub.status.idle": "2022-01-26T01:27:55.439798Z",
     "shell.execute_reply": "2022-01-26T01:27:55.439268Z",
     "shell.execute_reply.started": "2022-01-25T22:18:16.419728Z"
    },
    "papermill": {
     "duration": 0.239349,
     "end_time": "2022-01-26T01:27:55.439932",
     "exception": false,
     "start_time": "2022-01-26T01:27:55.200583",
     "status": "completed"
    },
    "tags": []
   },
   "outputs": [
    {
     "name": "stdout",
     "output_type": "stream",
     "text": [
      "The Pearson Correlation Coefficient is 0.5431553832626602  with a P-value of P =   8.049189483935489e-17\n"
     ]
    }
   ],
   "source": [
    "# Let's calculate the Pearson Correlation Coefficient and P-value of 'bore' and 'price':\n",
    "\n",
    "pearson_coef, p_value = stats.pearsonr(df['bore'], df['price'])\n",
    "\n",
    "print(\"The Pearson Correlation Coefficient is\", pearson_coef, \" with a P-value of P =  \", p_value ) "
   ]
  },
  {
   "cell_type": "code",
   "execution_count": 135,
   "id": "8f552014",
   "metadata": {
    "execution": {
     "iopub.execute_input": "2022-01-26T01:27:55.910564Z",
     "iopub.status.busy": "2022-01-26T01:27:55.909915Z",
     "iopub.status.idle": "2022-01-26T01:27:55.912380Z",
     "shell.execute_reply": "2022-01-26T01:27:55.912866Z",
     "shell.execute_reply.started": "2022-01-25T22:18:59.448722Z"
    },
    "papermill": {
     "duration": 0.240848,
     "end_time": "2022-01-26T01:27:55.913060",
     "exception": false,
     "start_time": "2022-01-26T01:27:55.672212",
     "status": "completed"
    },
    "tags": []
   },
   "outputs": [],
   "source": [
    "# Conclusion:\n",
    "\n",
    "# Since the p-value is < 0.001\n",
    "\n",
    "# the correlation between bore and price is statistically significant\n",
    "\n",
    "# but the linear relationship is only moderate (~0.521).\n"
   ]
  },
  {
   "cell_type": "code",
   "execution_count": 136,
   "id": "55649dbb",
   "metadata": {
    "execution": {
     "iopub.execute_input": "2022-01-26T01:27:56.380982Z",
     "iopub.status.busy": "2022-01-26T01:27:56.380325Z",
     "iopub.status.idle": "2022-01-26T01:27:56.384182Z",
     "shell.execute_reply": "2022-01-26T01:27:56.384668Z",
     "shell.execute_reply.started": "2022-01-25T22:19:41.023241Z"
    },
    "papermill": {
     "duration": 0.2407,
     "end_time": "2022-01-26T01:27:56.384852",
     "exception": false,
     "start_time": "2022-01-26T01:27:56.144152",
     "status": "completed"
    },
    "tags": []
   },
   "outputs": [
    {
     "name": "stdout",
     "output_type": "stream",
     "text": [
      "The Pearson Correlation Coefficient is -0.6865710067844678  with a P-value of P =  2.321132065567641e-29\n"
     ]
    }
   ],
   "source": [
    "# City-mpg vs. Price\n",
    "\n",
    "pearson_coef, p_value = stats.pearsonr(df['city-mpg'], df['price'])\n",
    "\n",
    "print(\"The Pearson Correlation Coefficient is\", pearson_coef, \" with a P-value of P = \", p_value)  "
   ]
  },
  {
   "cell_type": "code",
   "execution_count": 137,
   "id": "b8bff9e8",
   "metadata": {
    "execution": {
     "iopub.execute_input": "2022-01-26T01:27:56.853030Z",
     "iopub.status.busy": "2022-01-26T01:27:56.852342Z",
     "iopub.status.idle": "2022-01-26T01:27:56.855858Z",
     "shell.execute_reply": "2022-01-26T01:27:56.855362Z",
     "shell.execute_reply.started": "2022-01-25T22:20:54.420613Z"
    },
    "papermill": {
     "duration": 0.238591,
     "end_time": "2022-01-26T01:27:56.856024",
     "exception": false,
     "start_time": "2022-01-26T01:27:56.617433",
     "status": "completed"
    },
    "tags": []
   },
   "outputs": [],
   "source": [
    "# Conclusion:\n",
    "\n",
    "# Since the p-value is < 0.001\n",
    "\n",
    "# the correlation between city-mpg and price is statistically significant\n",
    "\n",
    "# and the coefficient of about -0.687 shows that the relationship is negative and moderately strong"
   ]
  },
  {
   "cell_type": "code",
   "execution_count": 138,
   "id": "63913aaf",
   "metadata": {
    "execution": {
     "iopub.execute_input": "2022-01-26T01:27:57.323185Z",
     "iopub.status.busy": "2022-01-26T01:27:57.322518Z",
     "iopub.status.idle": "2022-01-26T01:27:57.326105Z",
     "shell.execute_reply": "2022-01-26T01:27:57.326561Z",
     "shell.execute_reply.started": "2022-01-25T22:21:17.919192Z"
    },
    "papermill": {
     "duration": 0.240475,
     "end_time": "2022-01-26T01:27:57.326715",
     "exception": false,
     "start_time": "2022-01-26T01:27:57.086240",
     "status": "completed"
    },
    "tags": []
   },
   "outputs": [
    {
     "name": "stdout",
     "output_type": "stream",
     "text": [
      "The Pearson Correlation Coefficient is 0.8011176263981974  with a P-value of P =  3.046784581041456e-46\n"
     ]
    }
   ],
   "source": [
    "# Highway-mpg vs. Price\n",
    "\n",
    "pearson_coef, p_value = stats.pearsonr(df['highway-mpg'], df['price'])\n",
    "\n",
    "print( \"The Pearson Correlation Coefficient is\", pearson_coef, \" with a P-value of P = \", p_value )"
   ]
  },
  {
   "cell_type": "code",
   "execution_count": 139,
   "id": "0b1a9eb5",
   "metadata": {
    "execution": {
     "iopub.execute_input": "2022-01-26T01:27:57.797344Z",
     "iopub.status.busy": "2022-01-26T01:27:57.796637Z",
     "iopub.status.idle": "2022-01-26T01:27:57.799039Z",
     "shell.execute_reply": "2022-01-26T01:27:57.798464Z",
     "shell.execute_reply.started": "2022-01-25T22:21:57.409402Z"
    },
    "papermill": {
     "duration": 0.242038,
     "end_time": "2022-01-26T01:27:57.799198",
     "exception": false,
     "start_time": "2022-01-26T01:27:57.557160",
     "status": "completed"
    },
    "tags": []
   },
   "outputs": [],
   "source": [
    "# Conclusion:\n",
    "\n",
    "# Since the p-value is < 0.001\n",
    "\n",
    "# the correlation between highway-mpg and price is statistically significant\n",
    "\n",
    "# and the coefficient of about -0.705 shows that the relationship is negative and moderately strong.\n"
   ]
  },
  {
   "cell_type": "code",
   "execution_count": 140,
   "id": "20369ac2",
   "metadata": {
    "execution": {
     "iopub.execute_input": "2022-01-26T01:27:58.269827Z",
     "iopub.status.busy": "2022-01-26T01:27:58.268793Z",
     "iopub.status.idle": "2022-01-26T01:27:58.271709Z",
     "shell.execute_reply": "2022-01-26T01:27:58.271064Z",
     "shell.execute_reply.started": "2022-01-25T22:24:58.589042Z"
    },
    "papermill": {
     "duration": 0.240068,
     "end_time": "2022-01-26T01:27:58.271872",
     "exception": false,
     "start_time": "2022-01-26T01:27:58.031804",
     "status": "completed"
    },
    "tags": []
   },
   "outputs": [],
   "source": [
    "# ANOVA: Analysis of Variance\n",
    "\n",
    "# is a statistical method used to test whether there are significant \n",
    "\n",
    "# differences between the means of two or more groups. ANOVA returns two parameters:\n",
    "\n",
    "\n",
    "# F-test score: \n",
    "           # ANOVA assumes the means of all groups are the same\n",
    "           # calculates how much the actual means deviate from the assumption\n",
    "           # and reports it as the F-test score. \n",
    "           # A larger score means there is a larger difference between the means.\n",
    "\n",
    "# P-value: P-value tells how statistically significant our calculated score value is.\n",
    "\n",
    "# If our price variable is strongly correlated with the variable we are analyzing\n",
    "\n",
    "# we expect ANOVA to return a sizeable F-test score and a small p-value.\n"
   ]
  },
  {
   "cell_type": "code",
   "execution_count": 141,
   "id": "e0beedfb",
   "metadata": {
    "execution": {
     "iopub.execute_input": "2022-01-26T01:27:58.742278Z",
     "iopub.status.busy": "2022-01-26T01:27:58.738473Z",
     "iopub.status.idle": "2022-01-26T01:27:58.751116Z",
     "shell.execute_reply": "2022-01-26T01:27:58.750518Z",
     "shell.execute_reply.started": "2022-01-25T22:27:07.129834Z"
    },
    "papermill": {
     "duration": 0.2482,
     "end_time": "2022-01-26T01:27:58.751252",
     "exception": false,
     "start_time": "2022-01-26T01:27:58.503052",
     "status": "completed"
    },
    "tags": []
   },
   "outputs": [
    {
     "data": {
      "text/html": [
       "<div>\n",
       "<style scoped>\n",
       "    .dataframe tbody tr th:only-of-type {\n",
       "        vertical-align: middle;\n",
       "    }\n",
       "\n",
       "    .dataframe tbody tr th {\n",
       "        vertical-align: top;\n",
       "    }\n",
       "\n",
       "    .dataframe thead th {\n",
       "        text-align: right;\n",
       "    }\n",
       "</style>\n",
       "<table border=\"1\" class=\"dataframe\">\n",
       "  <thead>\n",
       "    <tr style=\"text-align: right;\">\n",
       "      <th></th>\n",
       "      <th>drive-wheels</th>\n",
       "      <th>price</th>\n",
       "    </tr>\n",
       "  </thead>\n",
       "  <tbody>\n",
       "    <tr>\n",
       "      <th>0</th>\n",
       "      <td>rwd</td>\n",
       "      <td>13495.0</td>\n",
       "    </tr>\n",
       "    <tr>\n",
       "      <th>1</th>\n",
       "      <td>rwd</td>\n",
       "      <td>16500.0</td>\n",
       "    </tr>\n",
       "    <tr>\n",
       "      <th>3</th>\n",
       "      <td>fwd</td>\n",
       "      <td>13950.0</td>\n",
       "    </tr>\n",
       "    <tr>\n",
       "      <th>4</th>\n",
       "      <td>4wd</td>\n",
       "      <td>17450.0</td>\n",
       "    </tr>\n",
       "    <tr>\n",
       "      <th>5</th>\n",
       "      <td>fwd</td>\n",
       "      <td>15250.0</td>\n",
       "    </tr>\n",
       "    <tr>\n",
       "      <th>136</th>\n",
       "      <td>4wd</td>\n",
       "      <td>7603.0</td>\n",
       "    </tr>\n",
       "  </tbody>\n",
       "</table>\n",
       "</div>"
      ],
      "text/plain": [
       "    drive-wheels    price\n",
       "0            rwd  13495.0\n",
       "1            rwd  16500.0\n",
       "3            fwd  13950.0\n",
       "4            4wd  17450.0\n",
       "5            fwd  15250.0\n",
       "136          4wd   7603.0"
      ]
     },
     "execution_count": 141,
     "metadata": {},
     "output_type": "execute_result"
    }
   ],
   "source": [
    "# Since ANOVA analyzes the difference between different groups of the same variable\n",
    "\n",
    "# the groupby function will come in handy. \n",
    "\n",
    "# Because the ANOVA algorithm averages the data automatically\n",
    "\n",
    "# we do not need to take the average before hand.\n",
    "\n",
    "\n",
    "# To see if different types of 'drive-wheels' impact 'price'\n",
    "\n",
    "# we group the data.\n",
    "\n",
    "grouped_test2=df_gptest[['drive-wheels', 'price']].groupby(['drive-wheels'])\n",
    "\n",
    "grouped_test2.head(2)"
   ]
  },
  {
   "cell_type": "code",
   "execution_count": 142,
   "id": "002a8b42",
   "metadata": {
    "execution": {
     "iopub.execute_input": "2022-01-26T01:27:59.264540Z",
     "iopub.status.busy": "2022-01-26T01:27:59.263478Z",
     "iopub.status.idle": "2022-01-26T01:27:59.266968Z",
     "shell.execute_reply": "2022-01-26T01:27:59.267499Z",
     "shell.execute_reply.started": "2022-01-25T22:29:56.070784Z"
    },
    "papermill": {
     "duration": 0.250359,
     "end_time": "2022-01-26T01:27:59.267665",
     "exception": false,
     "start_time": "2022-01-26T01:27:59.017306",
     "status": "completed"
    },
    "tags": []
   },
   "outputs": [
    {
     "data": {
      "text/html": [
       "<div>\n",
       "<style scoped>\n",
       "    .dataframe tbody tr th:only-of-type {\n",
       "        vertical-align: middle;\n",
       "    }\n",
       "\n",
       "    .dataframe tbody tr th {\n",
       "        vertical-align: top;\n",
       "    }\n",
       "\n",
       "    .dataframe thead th {\n",
       "        text-align: right;\n",
       "    }\n",
       "</style>\n",
       "<table border=\"1\" class=\"dataframe\">\n",
       "  <thead>\n",
       "    <tr style=\"text-align: right;\">\n",
       "      <th></th>\n",
       "      <th>drive-wheels</th>\n",
       "      <th>body-style</th>\n",
       "      <th>price</th>\n",
       "    </tr>\n",
       "  </thead>\n",
       "  <tbody>\n",
       "    <tr>\n",
       "      <th>0</th>\n",
       "      <td>rwd</td>\n",
       "      <td>convertible</td>\n",
       "      <td>13495.0</td>\n",
       "    </tr>\n",
       "    <tr>\n",
       "      <th>1</th>\n",
       "      <td>rwd</td>\n",
       "      <td>convertible</td>\n",
       "      <td>16500.0</td>\n",
       "    </tr>\n",
       "    <tr>\n",
       "      <th>2</th>\n",
       "      <td>rwd</td>\n",
       "      <td>hatchback</td>\n",
       "      <td>16500.0</td>\n",
       "    </tr>\n",
       "    <tr>\n",
       "      <th>3</th>\n",
       "      <td>fwd</td>\n",
       "      <td>sedan</td>\n",
       "      <td>13950.0</td>\n",
       "    </tr>\n",
       "    <tr>\n",
       "      <th>4</th>\n",
       "      <td>4wd</td>\n",
       "      <td>sedan</td>\n",
       "      <td>17450.0</td>\n",
       "    </tr>\n",
       "    <tr>\n",
       "      <th>...</th>\n",
       "      <td>...</td>\n",
       "      <td>...</td>\n",
       "      <td>...</td>\n",
       "    </tr>\n",
       "    <tr>\n",
       "      <th>196</th>\n",
       "      <td>rwd</td>\n",
       "      <td>sedan</td>\n",
       "      <td>16845.0</td>\n",
       "    </tr>\n",
       "    <tr>\n",
       "      <th>197</th>\n",
       "      <td>rwd</td>\n",
       "      <td>sedan</td>\n",
       "      <td>19045.0</td>\n",
       "    </tr>\n",
       "    <tr>\n",
       "      <th>198</th>\n",
       "      <td>rwd</td>\n",
       "      <td>sedan</td>\n",
       "      <td>21485.0</td>\n",
       "    </tr>\n",
       "    <tr>\n",
       "      <th>199</th>\n",
       "      <td>rwd</td>\n",
       "      <td>sedan</td>\n",
       "      <td>22470.0</td>\n",
       "    </tr>\n",
       "    <tr>\n",
       "      <th>200</th>\n",
       "      <td>rwd</td>\n",
       "      <td>sedan</td>\n",
       "      <td>22625.0</td>\n",
       "    </tr>\n",
       "  </tbody>\n",
       "</table>\n",
       "<p>201 rows × 3 columns</p>\n",
       "</div>"
      ],
      "text/plain": [
       "    drive-wheels   body-style    price\n",
       "0            rwd  convertible  13495.0\n",
       "1            rwd  convertible  16500.0\n",
       "2            rwd    hatchback  16500.0\n",
       "3            fwd        sedan  13950.0\n",
       "4            4wd        sedan  17450.0\n",
       "..           ...          ...      ...\n",
       "196          rwd        sedan  16845.0\n",
       "197          rwd        sedan  19045.0\n",
       "198          rwd        sedan  21485.0\n",
       "199          rwd        sedan  22470.0\n",
       "200          rwd        sedan  22625.0\n",
       "\n",
       "[201 rows x 3 columns]"
      ]
     },
     "execution_count": 142,
     "metadata": {},
     "output_type": "execute_result"
    }
   ],
   "source": [
    "df_gptest = df[['drive-wheels','body-style','price']]\n",
    "df_gptest"
   ]
  },
  {
   "cell_type": "code",
   "execution_count": 143,
   "id": "535e82a1",
   "metadata": {
    "execution": {
     "iopub.execute_input": "2022-01-26T01:27:59.738777Z",
     "iopub.status.busy": "2022-01-26T01:27:59.737849Z",
     "iopub.status.idle": "2022-01-26T01:27:59.743041Z",
     "shell.execute_reply": "2022-01-26T01:27:59.742466Z",
     "shell.execute_reply.started": "2022-01-25T22:31:55.291388Z"
    },
    "papermill": {
     "duration": 0.245728,
     "end_time": "2022-01-26T01:27:59.743184",
     "exception": false,
     "start_time": "2022-01-26T01:27:59.497456",
     "status": "completed"
    },
    "tags": []
   },
   "outputs": [
    {
     "data": {
      "text/plain": [
       "4      17450.0\n",
       "136     7603.0\n",
       "140     9233.0\n",
       "141    11259.0\n",
       "144     8013.0\n",
       "145    11694.0\n",
       "150     7898.0\n",
       "151     8778.0\n",
       "Name: price, dtype: float64"
      ]
     },
     "execution_count": 143,
     "metadata": {},
     "output_type": "execute_result"
    }
   ],
   "source": [
    "# We can obtain the values of the method group using the method \"get_group\".\n",
    "\n",
    "grouped_test2.get_group('4wd')['price']"
   ]
  },
  {
   "cell_type": "code",
   "execution_count": 144,
   "id": "eccd7ceb",
   "metadata": {
    "execution": {
     "iopub.execute_input": "2022-01-26T01:28:00.229649Z",
     "iopub.status.busy": "2022-01-26T01:28:00.228995Z",
     "iopub.status.idle": "2022-01-26T01:28:00.232286Z",
     "shell.execute_reply": "2022-01-26T01:28:00.231647Z",
     "shell.execute_reply.started": "2022-01-25T22:33:10.203419Z"
    },
    "papermill": {
     "duration": 0.249249,
     "end_time": "2022-01-26T01:28:00.232424",
     "exception": false,
     "start_time": "2022-01-26T01:27:59.983175",
     "status": "completed"
    },
    "tags": []
   },
   "outputs": [
    {
     "name": "stdout",
     "output_type": "stream",
     "text": [
      "ANOVA results: F= 67.95406500780399 , P = 3.3945443577151245e-23\n"
     ]
    }
   ],
   "source": [
    "# We can use the function 'f_oneway' in the module 'stats' to obtain the F-test score and P-value.\n",
    "\n",
    "# ANOVA\n",
    "\n",
    "f_val, p_val = stats.f_oneway(grouped_test2.get_group('fwd')['price'],\n",
    "                              grouped_test2.get_group('rwd')['price'],\n",
    "                              grouped_test2.get_group('4wd')['price'])  \n",
    "\n",
    "print( \"ANOVA results: F=\", f_val, \", P =\", p_val)   "
   ]
  },
  {
   "cell_type": "code",
   "execution_count": 145,
   "id": "88fc6d2d",
   "metadata": {
    "execution": {
     "iopub.execute_input": "2022-01-26T01:28:00.713881Z",
     "iopub.status.busy": "2022-01-26T01:28:00.713241Z",
     "iopub.status.idle": "2022-01-26T01:28:00.716356Z",
     "shell.execute_reply": "2022-01-26T01:28:00.715698Z",
     "shell.execute_reply.started": "2022-01-25T22:36:03.598299Z"
    },
    "papermill": {
     "duration": 0.240232,
     "end_time": "2022-01-26T01:28:00.716553",
     "exception": false,
     "start_time": "2022-01-26T01:28:00.476321",
     "status": "completed"
    },
    "tags": []
   },
   "outputs": [],
   "source": [
    "# This is a great result with a \n",
    "\n",
    "# large F-test score showing a strong correlation \n",
    "\n",
    "# and a P-value of almost 0 implying almost certain statistical significance\n",
    "\n",
    "# But does this mean all three tested groups are all this highly correlated?"
   ]
  },
  {
   "cell_type": "code",
   "execution_count": 146,
   "id": "cb333f10",
   "metadata": {
    "execution": {
     "iopub.execute_input": "2022-01-26T01:28:01.198099Z",
     "iopub.status.busy": "2022-01-26T01:28:01.197402Z",
     "iopub.status.idle": "2022-01-26T01:28:01.201412Z",
     "shell.execute_reply": "2022-01-26T01:28:01.201827Z",
     "shell.execute_reply.started": "2022-01-25T22:36:21.369906Z"
    },
    "papermill": {
     "duration": 0.24388,
     "end_time": "2022-01-26T01:28:01.202034",
     "exception": false,
     "start_time": "2022-01-26T01:28:00.958154",
     "status": "completed"
    },
    "tags": []
   },
   "outputs": [
    {
     "name": "stdout",
     "output_type": "stream",
     "text": [
      "ANOVA results: F= 130.5533160959111 , P = 2.2355306355677845e-23\n"
     ]
    }
   ],
   "source": [
    "# Let's examine them separately.\n",
    "\n",
    "#fwd and rwd\n",
    "\n",
    "f_val, p_val = stats.f_oneway(grouped_test2.get_group('fwd')['price'], \n",
    "                              grouped_test2.get_group('rwd')['price'])  \n",
    "\n",
    "print( \"ANOVA results: F=\", f_val, \", P =\", p_val )"
   ]
  },
  {
   "cell_type": "code",
   "execution_count": 147,
   "id": "30ba5eaf",
   "metadata": {
    "execution": {
     "iopub.execute_input": "2022-01-26T01:28:01.676724Z",
     "iopub.status.busy": "2022-01-26T01:28:01.676096Z",
     "iopub.status.idle": "2022-01-26T01:28:01.680696Z",
     "shell.execute_reply": "2022-01-26T01:28:01.680169Z",
     "shell.execute_reply.started": "2022-01-25T22:37:20.009037Z"
    },
    "papermill": {
     "duration": 0.247526,
     "end_time": "2022-01-26T01:28:01.680828",
     "exception": false,
     "start_time": "2022-01-26T01:28:01.433302",
     "status": "completed"
    },
    "tags": []
   },
   "outputs": [
    {
     "name": "stdout",
     "output_type": "stream",
     "text": [
      "ANOVA results: F= 8.580681368924756 , P = 0.004411492211225333\n"
     ]
    }
   ],
   "source": [
    "# Let's examine the other groups.\n",
    "\n",
    "# 4wd and rwd\n",
    "\n",
    "f_val, p_val = stats.f_oneway(grouped_test2.get_group('4wd')['price'], \n",
    "                              grouped_test2.get_group('rwd')['price'])  \n",
    "\n",
    "print( \"ANOVA results: F=\", f_val, \", P =\", p_val)   "
   ]
  },
  {
   "cell_type": "code",
   "execution_count": 148,
   "id": "a1e0dd0c",
   "metadata": {
    "execution": {
     "iopub.execute_input": "2022-01-26T01:28:02.160871Z",
     "iopub.status.busy": "2022-01-26T01:28:02.159790Z",
     "iopub.status.idle": "2022-01-26T01:28:02.163442Z",
     "shell.execute_reply": "2022-01-26T01:28:02.164134Z",
     "shell.execute_reply.started": "2022-01-25T22:38:08.530138Z"
    },
    "papermill": {
     "duration": 0.24731,
     "end_time": "2022-01-26T01:28:02.164358",
     "exception": false,
     "start_time": "2022-01-26T01:28:01.917048",
     "status": "completed"
    },
    "tags": []
   },
   "outputs": [
    {
     "name": "stdout",
     "output_type": "stream",
     "text": [
      "ANOVA results: F= 0.665465750252303 , P = 0.41620116697845666\n"
     ]
    }
   ],
   "source": [
    "# 4wd and fwd\n",
    "\n",
    "f_val, p_val = stats.f_oneway(grouped_test2.get_group('4wd')['price'], \n",
    "                              grouped_test2.get_group('fwd')['price'])  \n",
    "\n",
    "print(\"ANOVA results: F=\", f_val, \", P =\", p_val)"
   ]
  },
  {
   "cell_type": "code",
   "execution_count": 149,
   "id": "c408f37e",
   "metadata": {
    "execution": {
     "iopub.execute_input": "2022-01-26T01:28:02.636085Z",
     "iopub.status.busy": "2022-01-26T01:28:02.635027Z",
     "iopub.status.idle": "2022-01-26T01:28:02.637394Z",
     "shell.execute_reply": "2022-01-26T01:28:02.637826Z",
     "shell.execute_reply.started": "2022-01-25T22:40:32.448455Z"
    },
    "papermill": {
     "duration": 0.241465,
     "end_time": "2022-01-26T01:28:02.638019",
     "exception": false,
     "start_time": "2022-01-26T01:28:02.396554",
     "status": "completed"
    },
    "tags": []
   },
   "outputs": [],
   "source": [
    "# Conclusion: Important Variables\n",
    "\n",
    "# We now have a better idea of what our data looks like \n",
    "\n",
    "# and which variables are important to take into account when predicting the car price\n",
    "\n",
    "# We have narrowed it down to the following variables:\n",
    "\n",
    "# Continuous numerical variables:\n",
    "\n",
    "  #  Length\n",
    "  #  Width\n",
    "  #  Curb-weight\n",
    "  #  Engine-size\n",
    "  #  Horsepower\n",
    "  #  City-mpg\n",
    "  #  Highway-mpg\n",
    "  #  Wheel-base\n",
    "  #  Bore\n",
    "\n",
    "# Categorical variables:\n",
    "\n",
    "    # Drive-wheels\n"
   ]
  },
  {
   "cell_type": "code",
   "execution_count": 150,
   "id": "be8c17f4",
   "metadata": {
    "execution": {
     "iopub.execute_input": "2022-01-26T01:28:03.115329Z",
     "iopub.status.busy": "2022-01-26T01:28:03.114323Z",
     "iopub.status.idle": "2022-01-26T01:28:03.117029Z",
     "shell.execute_reply": "2022-01-26T01:28:03.116570Z",
     "shell.execute_reply.started": "2022-01-25T22:41:40.181186Z"
    },
    "papermill": {
     "duration": 0.243171,
     "end_time": "2022-01-26T01:28:03.117163",
     "exception": false,
     "start_time": "2022-01-26T01:28:02.873992",
     "status": "completed"
    },
    "tags": []
   },
   "outputs": [],
   "source": [
    "# As we now move into \n",
    "\n",
    "   # building machine learning models \n",
    "    \n",
    "    # to automate our analysis, \n",
    "    \n",
    "    # feeding the model with variables that meaningfully affect our target variable\n",
    "    \n",
    "    # will improve our model's prediction performance.\n"
   ]
  },
  {
   "cell_type": "code",
   "execution_count": 151,
   "id": "bd0cfddc",
   "metadata": {
    "execution": {
     "iopub.execute_input": "2022-01-26T01:28:03.585805Z",
     "iopub.status.busy": "2022-01-26T01:28:03.584845Z",
     "iopub.status.idle": "2022-01-26T01:28:03.588552Z",
     "shell.execute_reply": "2022-01-26T01:28:03.589144Z",
     "shell.execute_reply.started": "2022-01-25T22:50:03.547280Z"
    },
    "papermill": {
     "duration": 0.240311,
     "end_time": "2022-01-26T01:28:03.589299",
     "exception": false,
     "start_time": "2022-01-26T01:28:03.348988",
     "status": "completed"
    },
    "tags": []
   },
   "outputs": [],
   "source": [
    "# we will develop several models that will predict the price of the car \n",
    "\n",
    "# using the variables or features. \n",
    "\n",
    "# This is just an estimate but should give us an objective idea of how much the car should cost.\n",
    "\n",
    "# Some questions we want to ask in this module\n",
    "\n",
    "  #  Do I know if the dealer is offering fair value for my trade-in?\n",
    "  #  Do I know if I put a fair value on my car?\n",
    "\n",
    "# In data analytics, \n",
    "\n",
    "# we often use Model Development to help us predict future observations from the data we have.\n",
    "\n",
    "# A model will help us understand the exact relationship between different variables \n",
    "\n",
    "# and how these variables are used to predict the result.\n"
   ]
  },
  {
   "cell_type": "code",
   "execution_count": 152,
   "id": "624c3773",
   "metadata": {
    "execution": {
     "iopub.execute_input": "2022-01-26T01:28:04.062091Z",
     "iopub.status.busy": "2022-01-26T01:28:04.061119Z",
     "iopub.status.idle": "2022-01-26T01:28:04.064599Z",
     "shell.execute_reply": "2022-01-26T01:28:04.065193Z",
     "shell.execute_reply.started": "2022-01-25T22:53:44.210356Z"
    },
    "papermill": {
     "duration": 0.242921,
     "end_time": "2022-01-26T01:28:04.065355",
     "exception": false,
     "start_time": "2022-01-26T01:28:03.822434",
     "status": "completed"
    },
    "tags": []
   },
   "outputs": [],
   "source": [
    "# Simple Linear Regression \n",
    "     # is a method to help us understand the relationship between two variables:\n",
    "\n",
    "    # The predictor/independent variable (X)\n",
    "    # The response/dependent variable (that we want to predict)(Y)\n",
    "\n",
    "# The result of Linear Regression \n",
    "   # is a linear function that predicts \n",
    "   # the response (dependent) variable as a function of the predictor (independent) variable."
   ]
  },
  {
   "cell_type": "code",
   "execution_count": 153,
   "id": "7b645f9b",
   "metadata": {
    "execution": {
     "iopub.execute_input": "2022-01-26T01:28:04.533943Z",
     "iopub.status.busy": "2022-01-26T01:28:04.533003Z",
     "iopub.status.idle": "2022-01-26T01:28:04.536657Z",
     "shell.execute_reply": "2022-01-26T01:28:04.537233Z",
     "shell.execute_reply.started": "2022-01-25T22:55:35.359559Z"
    },
    "papermill": {
     "duration": 0.239531,
     "end_time": "2022-01-26T01:28:04.537394",
     "exception": false,
     "start_time": "2022-01-26T01:28:04.297863",
     "status": "completed"
    },
    "tags": []
   },
   "outputs": [],
   "source": [
    "# 𝑌:𝑅𝑒𝑠𝑝𝑜𝑛𝑠𝑒 𝑉𝑎𝑟𝑖𝑎𝑏𝑙𝑒\n",
    "# 𝑋:𝑃𝑟𝑒𝑑𝑖𝑐𝑡𝑜𝑟 𝑉𝑎𝑟𝑖𝑎𝑏𝑙𝑒𝑠\n",
    "\n",
    "# Linear Function\n",
    "                      #     𝑌ℎ𝑎𝑡=𝑎+𝑏𝑋\n",
    "\n",
    "# [a] refers to the intercept of the regression line, in other words: the value of Y when X is 0\n",
    "\n",
    "# [b] refers to the slope of the regression line, \n",
    "   # in other words: the value with which Y changes when X increases by 1 unit"
   ]
  },
  {
   "cell_type": "code",
   "execution_count": 154,
   "id": "3654f8a5",
   "metadata": {
    "execution": {
     "iopub.execute_input": "2022-01-26T01:28:05.006677Z",
     "iopub.status.busy": "2022-01-26T01:28:05.005648Z",
     "iopub.status.idle": "2022-01-26T01:28:05.234162Z",
     "shell.execute_reply": "2022-01-26T01:28:05.233599Z",
     "shell.execute_reply.started": "2022-01-25T22:56:17.640203Z"
    },
    "papermill": {
     "duration": 0.464736,
     "end_time": "2022-01-26T01:28:05.234316",
     "exception": false,
     "start_time": "2022-01-26T01:28:04.769580",
     "status": "completed"
    },
    "tags": []
   },
   "outputs": [],
   "source": [
    "# Let's load the modules for linear regression:\n",
    "\n",
    "from sklearn.linear_model import LinearRegression"
   ]
  },
  {
   "cell_type": "code",
   "execution_count": 155,
   "id": "1f213e59",
   "metadata": {
    "execution": {
     "iopub.execute_input": "2022-01-26T01:28:05.701227Z",
     "iopub.status.busy": "2022-01-26T01:28:05.700527Z",
     "iopub.status.idle": "2022-01-26T01:28:05.705500Z",
     "shell.execute_reply": "2022-01-26T01:28:05.706111Z",
     "shell.execute_reply.started": "2022-01-25T22:56:50.168607Z"
    },
    "papermill": {
     "duration": 0.241807,
     "end_time": "2022-01-26T01:28:05.706281",
     "exception": false,
     "start_time": "2022-01-26T01:28:05.464474",
     "status": "completed"
    },
    "tags": []
   },
   "outputs": [
    {
     "data": {
      "text/plain": [
       "LinearRegression()"
      ]
     },
     "execution_count": 155,
     "metadata": {},
     "output_type": "execute_result"
    }
   ],
   "source": [
    "# Create the linear regression object:\n",
    "\n",
    "lm = LinearRegression()\n",
    "\n",
    "lm"
   ]
  },
  {
   "cell_type": "code",
   "execution_count": 156,
   "id": "10e50940",
   "metadata": {
    "execution": {
     "iopub.execute_input": "2022-01-26T01:28:06.182747Z",
     "iopub.status.busy": "2022-01-26T01:28:06.181761Z",
     "iopub.status.idle": "2022-01-26T01:28:06.192992Z",
     "shell.execute_reply": "2022-01-26T01:28:06.193570Z",
     "shell.execute_reply.started": "2022-01-25T22:58:56.616786Z"
    },
    "papermill": {
     "duration": 0.251515,
     "end_time": "2022-01-26T01:28:06.193732",
     "exception": false,
     "start_time": "2022-01-26T01:28:05.942217",
     "status": "completed"
    },
    "tags": []
   },
   "outputs": [
    {
     "data": {
      "text/plain": [
       "LinearRegression()"
      ]
     },
     "execution_count": 156,
     "metadata": {},
     "output_type": "execute_result"
    }
   ],
   "source": [
    "# How could \"highway-mpg\" help us predict car price?\n",
    "\n",
    "# we want to look at how highway-mpg can help us predict car price. \n",
    "\n",
    "# Using simple linear regression, \n",
    "\n",
    "# we will create a linear function \n",
    "\n",
    "# with \"highway-mpg\" as the predictor variable and the \"price\" as the response variable.\n",
    "\n",
    "\n",
    "X = df[['highway-mpg']]\n",
    "\n",
    "Y = df['price']\n",
    "\n",
    "# Fit the linear model using highway-mpg:\n",
    "\n",
    "lm.fit(X,Y)"
   ]
  },
  {
   "cell_type": "code",
   "execution_count": 157,
   "id": "f388f906",
   "metadata": {
    "execution": {
     "iopub.execute_input": "2022-01-26T01:28:06.663896Z",
     "iopub.status.busy": "2022-01-26T01:28:06.662914Z",
     "iopub.status.idle": "2022-01-26T01:28:06.670831Z",
     "shell.execute_reply": "2022-01-26T01:28:06.670319Z",
     "shell.execute_reply.started": "2022-01-25T23:00:08.177327Z"
    },
    "papermill": {
     "duration": 0.243847,
     "end_time": "2022-01-26T01:28:06.670989",
     "exception": false,
     "start_time": "2022-01-26T01:28:06.427142",
     "status": "completed"
    },
    "tags": []
   },
   "outputs": [
    {
     "data": {
      "text/plain": [
       "array([15485.52737455, 15485.52737455, 16643.34931414, 12475.19033163,\n",
       "       22327.2024721 ])"
      ]
     },
     "execution_count": 157,
     "metadata": {},
     "output_type": "execute_result"
    }
   ],
   "source": [
    "# We can output a prediction:\n",
    "\n",
    "Yhat=lm.predict(X)\n",
    "Yhat[0:5]"
   ]
  },
  {
   "cell_type": "code",
   "execution_count": 158,
   "id": "6c72276a",
   "metadata": {
    "execution": {
     "iopub.execute_input": "2022-01-26T01:28:07.157566Z",
     "iopub.status.busy": "2022-01-26T01:28:07.156800Z",
     "iopub.status.idle": "2022-01-26T01:28:07.159884Z",
     "shell.execute_reply": "2022-01-26T01:28:07.160379Z",
     "shell.execute_reply.started": "2022-01-25T23:03:41.513464Z"
    },
    "papermill": {
     "duration": 0.244847,
     "end_time": "2022-01-26T01:28:07.160542",
     "exception": false,
     "start_time": "2022-01-26T01:28:06.915695",
     "status": "completed"
    },
    "tags": []
   },
   "outputs": [
    {
     "data": {
      "text/plain": [
       "-14617.843054664605"
      ]
     },
     "execution_count": 158,
     "metadata": {},
     "output_type": "execute_result"
    }
   ],
   "source": [
    "# What is the value of the intercept (a)?\n",
    "\n",
    "lm.intercept_"
   ]
  },
  {
   "cell_type": "code",
   "execution_count": 159,
   "id": "a526e410",
   "metadata": {
    "execution": {
     "iopub.execute_input": "2022-01-26T01:28:07.633067Z",
     "iopub.status.busy": "2022-01-26T01:28:07.632065Z",
     "iopub.status.idle": "2022-01-26T01:28:07.638396Z",
     "shell.execute_reply": "2022-01-26T01:28:07.637865Z",
     "shell.execute_reply.started": "2022-01-25T23:03:46.544790Z"
    },
    "papermill": {
     "duration": 0.242351,
     "end_time": "2022-01-26T01:28:07.638534",
     "exception": false,
     "start_time": "2022-01-26T01:28:07.396183",
     "status": "completed"
    },
    "tags": []
   },
   "outputs": [
    {
     "data": {
      "text/plain": [
       "array([3458.68511314])"
      ]
     },
     "execution_count": 159,
     "metadata": {},
     "output_type": "execute_result"
    }
   ],
   "source": [
    "# What is the value of the slope (b)?\n",
    "\n",
    "lm.coef_"
   ]
  },
  {
   "cell_type": "code",
   "execution_count": 160,
   "id": "d44ea037",
   "metadata": {
    "execution": {
     "iopub.execute_input": "2022-01-26T01:28:08.116663Z",
     "iopub.status.busy": "2022-01-26T01:28:08.115650Z",
     "iopub.status.idle": "2022-01-26T01:28:08.118138Z",
     "shell.execute_reply": "2022-01-26T01:28:08.118582Z",
     "shell.execute_reply.started": "2022-01-25T23:05:59.537210Z"
    },
    "papermill": {
     "duration": 0.24379,
     "end_time": "2022-01-26T01:28:08.118740",
     "exception": false,
     "start_time": "2022-01-26T01:28:07.874950",
     "status": "completed"
    },
    "tags": []
   },
   "outputs": [],
   "source": [
    "# What is the final estimated linear model we get?\n",
    "\n",
    "# As we saw above, we should get a final linear model with the structure:\n",
    "\n",
    "#                        𝑌ℎ𝑎𝑡=𝑎+𝑏𝑋\n",
    "\n",
    "# Plugging in the actual values we get:\n",
    "\n",
    "#     Price = (-14617.84) + (3458.685) x highway-mpg\n"
   ]
  },
  {
   "cell_type": "code",
   "execution_count": 161,
   "id": "80042fcc",
   "metadata": {
    "execution": {
     "iopub.execute_input": "2022-01-26T01:28:08.593609Z",
     "iopub.status.busy": "2022-01-26T01:28:08.592675Z",
     "iopub.status.idle": "2022-01-26T01:28:08.596456Z",
     "shell.execute_reply": "2022-01-26T01:28:08.595792Z",
     "shell.execute_reply.started": "2022-01-25T23:07:13.458042Z"
    },
    "papermill": {
     "duration": 0.243527,
     "end_time": "2022-01-26T01:28:08.596603",
     "exception": false,
     "start_time": "2022-01-26T01:28:08.353076",
     "status": "completed"
    },
    "tags": []
   },
   "outputs": [
    {
     "data": {
      "text/plain": [
       "LinearRegression()"
      ]
     },
     "execution_count": 161,
     "metadata": {},
     "output_type": "execute_result"
    }
   ],
   "source": [
    "# Create another linear regression object called \"lm1\".\n",
    "\n",
    "lm1 = LinearRegression()\n",
    "\n",
    "lm1"
   ]
  },
  {
   "cell_type": "code",
   "execution_count": 162,
   "id": "1193a85c",
   "metadata": {
    "execution": {
     "iopub.execute_input": "2022-01-26T01:28:09.084184Z",
     "iopub.status.busy": "2022-01-26T01:28:09.083511Z",
     "iopub.status.idle": "2022-01-26T01:28:09.087039Z",
     "shell.execute_reply": "2022-01-26T01:28:09.086519Z",
     "shell.execute_reply.started": "2022-01-25T23:07:40.134649Z"
    },
    "papermill": {
     "duration": 0.253498,
     "end_time": "2022-01-26T01:28:09.087180",
     "exception": false,
     "start_time": "2022-01-26T01:28:08.833682",
     "status": "completed"
    },
    "tags": []
   },
   "outputs": [
    {
     "data": {
      "text/plain": [
       "LinearRegression()"
      ]
     },
     "execution_count": 162,
     "metadata": {},
     "output_type": "execute_result"
    }
   ],
   "source": [
    "lm1.fit(df[['engine-size']], df[['price']])\n",
    "lm1"
   ]
  },
  {
   "cell_type": "code",
   "execution_count": 163,
   "id": "836001db",
   "metadata": {
    "execution": {
     "iopub.execute_input": "2022-01-26T01:28:09.562712Z",
     "iopub.status.busy": "2022-01-26T01:28:09.560697Z",
     "iopub.status.idle": "2022-01-26T01:28:09.566573Z",
     "shell.execute_reply": "2022-01-26T01:28:09.567096Z",
     "shell.execute_reply.started": "2022-01-25T23:08:09.214250Z"
    },
    "papermill": {
     "duration": 0.243908,
     "end_time": "2022-01-26T01:28:09.567272",
     "exception": false,
     "start_time": "2022-01-26T01:28:09.323364",
     "status": "completed"
    },
    "tags": []
   },
   "outputs": [
    {
     "data": {
      "text/plain": [
       "array([[166.86001569]])"
      ]
     },
     "execution_count": 163,
     "metadata": {},
     "output_type": "execute_result"
    }
   ],
   "source": [
    "lm1.coef_"
   ]
  },
  {
   "cell_type": "code",
   "execution_count": 164,
   "id": "f696e699",
   "metadata": {
    "execution": {
     "iopub.execute_input": "2022-01-26T01:28:10.075476Z",
     "iopub.status.busy": "2022-01-26T01:28:10.074732Z",
     "iopub.status.idle": "2022-01-26T01:28:10.077435Z",
     "shell.execute_reply": "2022-01-26T01:28:10.077898Z",
     "shell.execute_reply.started": "2022-01-25T23:08:28.587116Z"
    },
    "papermill": {
     "duration": 0.264565,
     "end_time": "2022-01-26T01:28:10.078101",
     "exception": false,
     "start_time": "2022-01-26T01:28:09.813536",
     "status": "completed"
    },
    "tags": []
   },
   "outputs": [
    {
     "data": {
      "text/plain": [
       "array([-7963.33890628])"
      ]
     },
     "execution_count": 164,
     "metadata": {},
     "output_type": "execute_result"
    }
   ],
   "source": [
    "lm1.intercept_"
   ]
  },
  {
   "cell_type": "code",
   "execution_count": 165,
   "id": "116520e0",
   "metadata": {
    "execution": {
     "iopub.execute_input": "2022-01-26T01:28:10.556583Z",
     "iopub.status.busy": "2022-01-26T01:28:10.555840Z",
     "iopub.status.idle": "2022-01-26T01:28:10.557472Z",
     "shell.execute_reply": "2022-01-26T01:28:10.557922Z",
     "shell.execute_reply.started": "2022-01-25T23:10:47.773223Z"
    },
    "papermill": {
     "duration": 0.243931,
     "end_time": "2022-01-26T01:28:10.558115",
     "exception": false,
     "start_time": "2022-01-26T01:28:10.314184",
     "status": "completed"
    },
    "tags": []
   },
   "outputs": [],
   "source": [
    "#  the equation of the predicted line? You can use x and yhat or \"engine-size\" or \"price\".\n",
    "\n",
    "#     Yhat = (-7963.34) + (166.86) * X\n",
    "\n",
    "#     Price = (-7963.34) + (166.86) * (df['engine-size'])"
   ]
  },
  {
   "cell_type": "code",
   "execution_count": 166,
   "id": "339cf123",
   "metadata": {
    "execution": {
     "iopub.execute_input": "2022-01-26T01:28:11.043754Z",
     "iopub.status.busy": "2022-01-26T01:28:11.043175Z",
     "iopub.status.idle": "2022-01-26T01:28:11.044946Z",
     "shell.execute_reply": "2022-01-26T01:28:11.045621Z",
     "shell.execute_reply.started": "2022-01-25T23:14:06.683245Z"
    },
    "papermill": {
     "duration": 0.248012,
     "end_time": "2022-01-26T01:28:11.045785",
     "exception": false,
     "start_time": "2022-01-26T01:28:10.797773",
     "status": "completed"
    },
    "tags": []
   },
   "outputs": [],
   "source": [
    "# Multiple Linear Regression\n",
    "\n",
    "# What if we want to predict car price using more than one variable?\n",
    "\n",
    "# is very similar to Simple Linear Regression, \n",
    "\n",
    "# but this method is used to explain the relationship between\n",
    "\n",
    "# one continuous response (dependent) variable \n",
    "\n",
    "# and two or more predictor (independent) variables. \n",
    "\n",
    "# Most of the real-world regression models involve multiple predictors. \n",
    "\n",
    "# using four predictor variables, but these results can generalize to any integer:"
   ]
  },
  {
   "cell_type": "code",
   "execution_count": 167,
   "id": "dadc5425",
   "metadata": {
    "execution": {
     "iopub.execute_input": "2022-01-26T01:28:11.525888Z",
     "iopub.status.busy": "2022-01-26T01:28:11.525245Z",
     "iopub.status.idle": "2022-01-26T01:28:11.529039Z",
     "shell.execute_reply": "2022-01-26T01:28:11.529484Z",
     "shell.execute_reply.started": "2022-01-25T23:18:15.923862Z"
    },
    "papermill": {
     "duration": 0.245895,
     "end_time": "2022-01-26T01:28:11.529657",
     "exception": false,
     "start_time": "2022-01-26T01:28:11.283762",
     "status": "completed"
    },
    "tags": []
   },
   "outputs": [],
   "source": [
    "#                𝑌:𝑅𝑒𝑠𝑝𝑜𝑛𝑠𝑒 𝑉𝑎𝑟𝑖𝑎𝑏𝑙𝑒\n",
    "#                𝑋_1:𝑃𝑟𝑒𝑑𝑖𝑐𝑡𝑜𝑟 𝑉𝑎𝑟𝑖𝑎𝑏𝑙𝑒 1\n",
    "#               𝑋_2:𝑃𝑟𝑒𝑑𝑖𝑐𝑡𝑜𝑟 𝑉𝑎𝑟𝑖𝑎𝑏𝑙𝑒 2\n",
    "#              𝑋_3:𝑃𝑟𝑒𝑑𝑖𝑐𝑡𝑜𝑟 𝑉𝑎𝑟𝑖𝑎𝑏𝑙𝑒 3\n",
    "#             𝑋_4:𝑃𝑟𝑒𝑑𝑖𝑐𝑡𝑜𝑟 𝑉𝑎𝑟𝑖𝑎𝑏𝑙𝑒 4\n",
    "\n",
    "#                𝑎:𝑖𝑛𝑡𝑒𝑟𝑐𝑒𝑝𝑡\n",
    "#               𝑏_1:𝑐𝑜𝑒𝑓𝑓𝑖𝑐𝑖𝑒𝑛𝑡𝑠 𝑜𝑓 𝑉𝑎𝑟𝑖𝑎𝑏𝑙𝑒 1\n",
    "#               𝑏_2:𝑐𝑜𝑒𝑓𝑓𝑖𝑐𝑖𝑒𝑛𝑡𝑠 𝑜𝑓 𝑉𝑎𝑟𝑖𝑎𝑏𝑙𝑒 2\n",
    "#               𝑏_3:𝑐𝑜𝑒𝑓𝑓𝑖𝑐𝑖𝑒𝑛𝑡𝑠 𝑜𝑓 𝑉𝑎𝑟𝑖𝑎𝑏𝑙𝑒 3\n",
    "#               𝑏_4:𝑐𝑜𝑒𝑓𝑓𝑖𝑐𝑖𝑒𝑛𝑡𝑠 𝑜𝑓 𝑉𝑎𝑟𝑖𝑎𝑏𝑙𝑒 4\n",
    "\n",
    "# The equation is given by:\n",
    "\n",
    "#                𝑌ℎ𝑎𝑡 = (𝑎) + (𝑏_1)(𝑋_1) + (𝑏_2)(𝑋_2) + (𝑏_3)(𝑋_3) + (𝑏_4)(𝑋_4)"
   ]
  },
  {
   "cell_type": "code",
   "execution_count": 168,
   "id": "fdd6de13",
   "metadata": {
    "execution": {
     "iopub.execute_input": "2022-01-26T01:28:12.017005Z",
     "iopub.status.busy": "2022-01-26T01:28:12.016218Z",
     "iopub.status.idle": "2022-01-26T01:28:12.019153Z",
     "shell.execute_reply": "2022-01-26T01:28:12.019606Z",
     "shell.execute_reply.started": "2022-01-25T23:20:09.992601Z"
    },
    "papermill": {
     "duration": 0.252914,
     "end_time": "2022-01-26T01:28:12.019762",
     "exception": false,
     "start_time": "2022-01-26T01:28:11.766848",
     "status": "completed"
    },
    "tags": []
   },
   "outputs": [
    {
     "data": {
      "text/plain": [
       "LinearRegression()"
      ]
     },
     "execution_count": 168,
     "metadata": {},
     "output_type": "execute_result"
    }
   ],
   "source": [
    "# From our (analysis) we know that good predictors of price could be:\n",
    "\n",
    "    # Horsepower\n",
    "    # Curb-weight\n",
    "    # Engine-size\n",
    "    # Highway-mpg\n",
    "\n",
    "# Let's develop a model using these variables as the predictor variables.\n",
    "\n",
    "\n",
    "Z = df[['horsepower', 'curb-weight', 'engine-size', 'highway-mpg']]\n",
    "\n",
    "# Fit the linear model using the four above-mentioned variables.\n",
    "\n",
    "lm.fit(Z, df['price'])"
   ]
  },
  {
   "cell_type": "code",
   "execution_count": 169,
   "id": "447eee86",
   "metadata": {
    "execution": {
     "iopub.execute_input": "2022-01-26T01:28:12.496764Z",
     "iopub.status.busy": "2022-01-26T01:28:12.495769Z",
     "iopub.status.idle": "2022-01-26T01:28:12.500764Z",
     "shell.execute_reply": "2022-01-26T01:28:12.501310Z",
     "shell.execute_reply.started": "2022-01-25T23:20:35.812796Z"
    },
    "papermill": {
     "duration": 0.246192,
     "end_time": "2022-01-26T01:28:12.501485",
     "exception": false,
     "start_time": "2022-01-26T01:28:12.255293",
     "status": "completed"
    },
    "tags": []
   },
   "outputs": [
    {
     "data": {
      "text/plain": [
       "-14385.634549360107"
      ]
     },
     "execution_count": 169,
     "metadata": {},
     "output_type": "execute_result"
    }
   ],
   "source": [
    "# What is the value of the intercept(a)?\n",
    "\n",
    "lm.intercept_"
   ]
  },
  {
   "cell_type": "code",
   "execution_count": 170,
   "id": "a0f60289",
   "metadata": {
    "execution": {
     "iopub.execute_input": "2022-01-26T01:28:12.985129Z",
     "iopub.status.busy": "2022-01-26T01:28:12.983827Z",
     "iopub.status.idle": "2022-01-26T01:28:12.989868Z",
     "shell.execute_reply": "2022-01-26T01:28:12.990466Z",
     "shell.execute_reply.started": "2022-01-25T23:21:02.495065Z"
    },
    "papermill": {
     "duration": 0.250731,
     "end_time": "2022-01-26T01:28:12.990630",
     "exception": false,
     "start_time": "2022-01-26T01:28:12.739899",
     "status": "completed"
    },
    "tags": []
   },
   "outputs": [
    {
     "data": {
      "text/plain": [
       "array([ 36.6377371 ,   3.50038215,  85.37370862, 500.51979785])"
      ]
     },
     "execution_count": 170,
     "metadata": {},
     "output_type": "execute_result"
    }
   ],
   "source": [
    "# What are the values of the coefficients (b1, b2, b3, b4)?\n",
    "\n",
    "lm.coef_"
   ]
  },
  {
   "cell_type": "code",
   "execution_count": 171,
   "id": "cef0de0a",
   "metadata": {
    "execution": {
     "iopub.execute_input": "2022-01-26T01:28:13.574815Z",
     "iopub.status.busy": "2022-01-26T01:28:13.573808Z",
     "iopub.status.idle": "2022-01-26T01:28:13.577373Z",
     "shell.execute_reply": "2022-01-26T01:28:13.577918Z",
     "shell.execute_reply.started": "2022-01-25T23:27:27.879483Z"
    },
    "papermill": {
     "duration": 0.32192,
     "end_time": "2022-01-26T01:28:13.578124",
     "exception": false,
     "start_time": "2022-01-26T01:28:13.256204",
     "status": "completed"
    },
    "tags": []
   },
   "outputs": [],
   "source": [
    "# What is the final estimated linear model that we get?\n",
    "\n",
    "# As we saw above, we should get a final linear function with the structure:\n",
    "\n",
    "#           𝑌ℎ𝑎𝑡 = (𝑎) + (𝑏_1)(𝑋_1) + (𝑏_2)(𝑋_2) + (𝑏_3)(𝑋_3) + (𝑏_4)(𝑋_4)\n",
    "\n",
    "#   Price = (-14385.634549360107) +\n",
    "#                 (36.6377371) x (horsepower) +\n",
    "#                 (3.50038215) x (curb-weight) +\n",
    "#                 (85.37370862) x (engine-size) +\n",
    "#                 (500.51979785) x (highway-mpg)\n"
   ]
  },
  {
   "cell_type": "code",
   "execution_count": 172,
   "id": "2775f3e3",
   "metadata": {
    "execution": {
     "iopub.execute_input": "2022-01-26T01:28:14.067142Z",
     "iopub.status.busy": "2022-01-26T01:28:14.066153Z",
     "iopub.status.idle": "2022-01-26T01:28:14.075810Z",
     "shell.execute_reply": "2022-01-26T01:28:14.076402Z",
     "shell.execute_reply.started": "2022-01-25T23:29:01.715281Z"
    },
    "papermill": {
     "duration": 0.256781,
     "end_time": "2022-01-26T01:28:14.076575",
     "exception": false,
     "start_time": "2022-01-26T01:28:13.819794",
     "status": "completed"
    },
    "tags": []
   },
   "outputs": [
    {
     "data": {
      "text/plain": [
       "LinearRegression()"
      ]
     },
     "execution_count": 172,
     "metadata": {},
     "output_type": "execute_result"
    }
   ],
   "source": [
    "# Create and train a Multiple Linear Regression model \"lm2\" \n",
    "\n",
    "# where the response variable is \"price\", \n",
    "\n",
    "# and the predictor variable is \"normalized-losses\" and \"highway-mpg\".\n",
    "\n",
    "lm2 = LinearRegression()\n",
    "\n",
    "lm2.fit(df[['normalized-losses' , 'highway-mpg']],df['price'])"
   ]
  },
  {
   "cell_type": "code",
   "execution_count": 173,
   "id": "55b33011",
   "metadata": {
    "execution": {
     "iopub.execute_input": "2022-01-26T01:28:14.553038Z",
     "iopub.status.busy": "2022-01-26T01:28:14.552087Z",
     "iopub.status.idle": "2022-01-26T01:28:14.557818Z",
     "shell.execute_reply": "2022-01-26T01:28:14.558408Z",
     "shell.execute_reply.started": "2022-01-25T23:30:08.287343Z"
    },
    "papermill": {
     "duration": 0.247129,
     "end_time": "2022-01-26T01:28:14.558568",
     "exception": false,
     "start_time": "2022-01-26T01:28:14.311439",
     "status": "completed"
    },
    "tags": []
   },
   "outputs": [
    {
     "data": {
      "text/plain": [
       "-14340.935762266607"
      ]
     },
     "execution_count": 173,
     "metadata": {},
     "output_type": "execute_result"
    }
   ],
   "source": [
    "lm2.intercept_"
   ]
  },
  {
   "cell_type": "code",
   "execution_count": 174,
   "id": "65404158",
   "metadata": {
    "execution": {
     "iopub.execute_input": "2022-01-26T01:28:15.041154Z",
     "iopub.status.busy": "2022-01-26T01:28:15.040169Z",
     "iopub.status.idle": "2022-01-26T01:28:15.046631Z",
     "shell.execute_reply": "2022-01-26T01:28:15.046142Z",
     "shell.execute_reply.started": "2022-01-25T23:30:17.388042Z"
    },
    "papermill": {
     "duration": 0.251482,
     "end_time": "2022-01-26T01:28:15.046781",
     "exception": false,
     "start_time": "2022-01-26T01:28:14.795299",
     "status": "completed"
    },
    "tags": []
   },
   "outputs": [
    {
     "data": {
      "text/plain": [
       "array([-2.86467994e+00,  3.46770737e+03])"
      ]
     },
     "execution_count": 174,
     "metadata": {},
     "output_type": "execute_result"
    }
   ],
   "source": [
    "lm2.coef_"
   ]
  },
  {
   "cell_type": "code",
   "execution_count": 175,
   "id": "0d1f72c5",
   "metadata": {
    "execution": {
     "iopub.execute_input": "2022-01-26T01:28:15.533166Z",
     "iopub.status.busy": "2022-01-26T01:28:15.532408Z",
     "iopub.status.idle": "2022-01-26T01:28:15.534440Z",
     "shell.execute_reply": "2022-01-26T01:28:15.533943Z",
     "shell.execute_reply.started": "2022-01-25T23:32:16.656102Z"
    },
    "papermill": {
     "duration": 0.24734,
     "end_time": "2022-01-26T01:28:15.534574",
     "exception": false,
     "start_time": "2022-01-26T01:28:15.287234",
     "status": "completed"
    },
    "tags": []
   },
   "outputs": [],
   "source": [
    "#  Model Evaluation Using Visualization\n",
    "\n",
    "# Now that we've developed some models, \n",
    "\n",
    "# to evaluate our models and choose the best one by using a visualization.\n",
    "\n",
    "\n",
    "# import the visualization package: seaborn\n",
    "\n",
    "import seaborn as sns\n",
    "\n",
    "%matplotlib inline "
   ]
  },
  {
   "cell_type": "code",
   "execution_count": 176,
   "id": "27947ba8",
   "metadata": {
    "execution": {
     "iopub.execute_input": "2022-01-26T01:28:16.018486Z",
     "iopub.status.busy": "2022-01-26T01:28:16.017465Z",
     "iopub.status.idle": "2022-01-26T01:28:16.019425Z",
     "shell.execute_reply": "2022-01-26T01:28:16.019924Z",
     "shell.execute_reply.started": "2022-01-25T23:34:21.707156Z"
    },
    "papermill": {
     "duration": 0.247474,
     "end_time": "2022-01-26T01:28:16.020118",
     "exception": false,
     "start_time": "2022-01-26T01:28:15.772644",
     "status": "completed"
    },
    "tags": []
   },
   "outputs": [],
   "source": [
    "# Regression Plot\n",
    "\n",
    "# When it comes to simple linear regression\n",
    "\n",
    "# an excellent way to visualize the fit of our model is by using regression plots.\n",
    "\n",
    "# This plot will show a combination of a scattered data points (a scatterplot), \n",
    "\n",
    "# as well as the fitted linear regression line going through the data. \n",
    "\n",
    "# This will give us a reasonable estimate of the relationship between the two variables\n",
    "\n",
    "# the strength of the correlation, as well as the direction (positive or negative correlation)."
   ]
  },
  {
   "cell_type": "code",
   "execution_count": 177,
   "id": "227b8026",
   "metadata": {
    "execution": {
     "iopub.execute_input": "2022-01-26T01:28:16.504947Z",
     "iopub.status.busy": "2022-01-26T01:28:16.504293Z",
     "iopub.status.idle": "2022-01-26T01:28:16.860180Z",
     "shell.execute_reply": "2022-01-26T01:28:16.859637Z",
     "shell.execute_reply.started": "2022-01-25T23:38:51.086607Z"
    },
    "papermill": {
     "duration": 0.599216,
     "end_time": "2022-01-26T01:28:16.860338",
     "exception": false,
     "start_time": "2022-01-26T01:28:16.261122",
     "status": "completed"
    },
    "tags": []
   },
   "outputs": [
    {
     "data": {
      "text/plain": [
       "(0.0, 47712.27423201985)"
      ]
     },
     "execution_count": 177,
     "metadata": {},
     "output_type": "execute_result"
    },
    {
     "data": {
      "image/png": "[encoded data removed]",
      "text/plain": [
       "<Figure size 864x720 with 1 Axes>"
      ]
     },
     "metadata": {
      "needs_background": "light"
     },
     "output_type": "display_data"
    }
   ],
   "source": [
    "# Let's visualize highway-mpg as potential predictor variable of price:\n",
    "\n",
    "width = 12\n",
    "\n",
    "height = 10\n",
    "\n",
    "plt.figure(figsize=(width, height))\n",
    "\n",
    "sns.regplot(x=\"highway-mpg\", y=\"price\", data=df)\n",
    "\n",
    "plt.ylim(0,)"
   ]
  },
  {
   "cell_type": "code",
   "execution_count": 178,
   "id": "8dd4d46a",
   "metadata": {
    "execution": {
     "iopub.execute_input": "2022-01-26T01:28:17.358131Z",
     "iopub.status.busy": "2022-01-26T01:28:17.357521Z",
     "iopub.status.idle": "2022-01-26T01:28:17.360538Z",
     "shell.execute_reply": "2022-01-26T01:28:17.361085Z",
     "shell.execute_reply.started": "2022-01-25T23:41:09.416930Z"
    },
    "papermill": {
     "duration": 0.248333,
     "end_time": "2022-01-26T01:28:17.361241",
     "exception": false,
     "start_time": "2022-01-26T01:28:17.112908",
     "status": "completed"
    },
    "tags": []
   },
   "outputs": [],
   "source": [
    "# One thing to keep in mind when looking at a regression plot \n",
    "\n",
    "# is to pay attention to how scattered the data points are around the regression line\n",
    "\n",
    "# This will give you a good indication of the variance of the data \n",
    "\n",
    "# and whether a linear model would be the best fit or not\n",
    "\n",
    "# If the data is too far off from the line, \n",
    "\n",
    "# this linear model might not be the best model for this data."
   ]
  },
  {
   "cell_type": "code",
   "execution_count": 179,
   "id": "4d8a4d3a",
   "metadata": {
    "execution": {
     "iopub.execute_input": "2022-01-26T01:28:17.848581Z",
     "iopub.status.busy": "2022-01-26T01:28:17.847943Z",
     "iopub.status.idle": "2022-01-26T01:28:18.189223Z",
     "shell.execute_reply": "2022-01-26T01:28:18.188513Z",
     "shell.execute_reply.started": "2022-01-25T23:41:16.665977Z"
    },
    "papermill": {
     "duration": 0.586644,
     "end_time": "2022-01-26T01:28:18.189376",
     "exception": false,
     "start_time": "2022-01-26T01:28:17.602732",
     "status": "completed"
    },
    "tags": []
   },
   "outputs": [
    {
     "data": {
      "text/plain": [
       "(0.0, 47414.1)"
      ]
     },
     "execution_count": 179,
     "metadata": {},
     "output_type": "execute_result"
    },
    {
     "data": {
      "image/png": "[encoded data removed]",
      "text/plain": [
       "<Figure size 864x720 with 1 Axes>"
      ]
     },
     "metadata": {
      "needs_background": "light"
     },
     "output_type": "display_data"
    }
   ],
   "source": [
    "# Let's compare this plot to the regression plot of \"peak-rpm\".\n",
    "\n",
    "plt.figure(figsize=(width, height))\n",
    "\n",
    "sns.regplot(x=\"peak-rpm\", y=\"price\", data=df)\n",
    "\n",
    "plt.ylim(0,)"
   ]
  },
  {
   "cell_type": "code",
   "execution_count": 180,
   "id": "a727a266",
   "metadata": {
    "execution": {
     "iopub.execute_input": "2022-01-26T01:28:18.677595Z",
     "iopub.status.busy": "2022-01-26T01:28:18.676897Z",
     "iopub.status.idle": "2022-01-26T01:28:18.679694Z",
     "shell.execute_reply": "2022-01-26T01:28:18.679228Z",
     "shell.execute_reply.started": "2022-01-25T23:43:55.126528Z"
    },
    "papermill": {
     "duration": 0.249895,
     "end_time": "2022-01-26T01:28:18.679829",
     "exception": false,
     "start_time": "2022-01-26T01:28:18.429934",
     "status": "completed"
    },
    "tags": []
   },
   "outputs": [],
   "source": [
    "# Comparing the regression plot of \"peak-rpm\" and \"highway-mpg\"\n",
    "\n",
    "# we see that \n",
    "\n",
    "# the points for \"highway-mpg\" are much closer to the generated line \n",
    "\n",
    "# The points for \"peak-rpm\" have more spread around the predicted line \n",
    "\n",
    "# and it is much harder to determine if the points are decreasing or increasing \n",
    "\n",
    "# as the \"peak-rpm\" increases."
   ]
  },
  {
   "cell_type": "code",
   "execution_count": 181,
   "id": "a4a36e34",
   "metadata": {
    "execution": {
     "iopub.execute_input": "2022-01-26T01:28:19.183695Z",
     "iopub.status.busy": "2022-01-26T01:28:19.183054Z",
     "iopub.status.idle": "2022-01-26T01:28:19.185564Z",
     "shell.execute_reply": "2022-01-26T01:28:19.186078Z",
     "shell.execute_reply.started": "2022-01-25T23:45:26.680443Z"
    },
    "papermill": {
     "duration": 0.262281,
     "end_time": "2022-01-26T01:28:19.186243",
     "exception": false,
     "start_time": "2022-01-26T01:28:18.923962",
     "status": "completed"
    },
    "tags": []
   },
   "outputs": [
    {
     "data": {
      "text/html": [
       "<div>\n",
       "<style scoped>\n",
       "    .dataframe tbody tr th:only-of-type {\n",
       "        vertical-align: middle;\n",
       "    }\n",
       "\n",
       "    .dataframe tbody tr th {\n",
       "        vertical-align: top;\n",
       "    }\n",
       "\n",
       "    .dataframe thead th {\n",
       "        text-align: right;\n",
       "    }\n",
       "</style>\n",
       "<table border=\"1\" class=\"dataframe\">\n",
       "  <thead>\n",
       "    <tr style=\"text-align: right;\">\n",
       "      <th></th>\n",
       "      <th>peak-rpm</th>\n",
       "      <th>highway-mpg</th>\n",
       "      <th>price</th>\n",
       "    </tr>\n",
       "  </thead>\n",
       "  <tbody>\n",
       "    <tr>\n",
       "      <th>peak-rpm</th>\n",
       "      <td>1.000000</td>\n",
       "      <td>0.017694</td>\n",
       "      <td>-0.101616</td>\n",
       "    </tr>\n",
       "    <tr>\n",
       "      <th>highway-mpg</th>\n",
       "      <td>0.017694</td>\n",
       "      <td>1.000000</td>\n",
       "      <td>0.801118</td>\n",
       "    </tr>\n",
       "    <tr>\n",
       "      <th>price</th>\n",
       "      <td>-0.101616</td>\n",
       "      <td>0.801118</td>\n",
       "      <td>1.000000</td>\n",
       "    </tr>\n",
       "  </tbody>\n",
       "</table>\n",
       "</div>"
      ],
      "text/plain": [
       "             peak-rpm  highway-mpg     price\n",
       "peak-rpm     1.000000     0.017694 -0.101616\n",
       "highway-mpg  0.017694     1.000000  0.801118\n",
       "price       -0.101616     0.801118  1.000000"
      ]
     },
     "execution_count": 181,
     "metadata": {},
     "output_type": "execute_result"
    }
   ],
   "source": [
    "# from plots above, is \"peak-rpm\" or \"highway-mpg\" more strongly correlated with \"price\"? \n",
    "\n",
    "df[[\"peak-rpm\",\"highway-mpg\",\"price\"]].corr()"
   ]
  },
  {
   "cell_type": "code",
   "execution_count": 182,
   "id": "e007d6e0",
   "metadata": {
    "execution": {
     "iopub.execute_input": "2022-01-26T01:28:19.672304Z",
     "iopub.status.busy": "2022-01-26T01:28:19.671622Z",
     "iopub.status.idle": "2022-01-26T01:28:19.674570Z",
     "shell.execute_reply": "2022-01-26T01:28:19.673936Z",
     "shell.execute_reply.started": "2022-01-25T23:53:12.820197Z"
    },
    "papermill": {
     "duration": 0.247683,
     "end_time": "2022-01-26T01:28:19.674699",
     "exception": false,
     "start_time": "2022-01-26T01:28:19.427016",
     "status": "completed"
    },
    "tags": []
   },
   "outputs": [],
   "source": [
    "# Residual Plot\n",
    "\n",
    "# A good way to visualize the variance of the data is to use a residual plot.\n",
    "\n",
    "# What is a residual?\n",
    "\n",
    "     # The difference between the observed value (y) \n",
    "\n",
    "    # and the predicted value (Yhat) \n",
    "    \n",
    "    # is called the residual (e). \n",
    "    \n",
    "# When we look at a regression plot,\n",
    "\n",
    "# the residual is the distance from the data point to the fitted regression line.\n",
    "\n",
    "\n",
    "# So what is a residual plot?\n",
    "\n",
    "# A residual plot is a graph that shows \n",
    "\n",
    "    #the residuals on the vertical y-axis and \n",
    "    #the independent variable on the horizontal x-axis."
   ]
  },
  {
   "cell_type": "code",
   "execution_count": 183,
   "id": "cb9f6c51",
   "metadata": {
    "execution": {
     "iopub.execute_input": "2022-01-26T01:28:20.168339Z",
     "iopub.status.busy": "2022-01-26T01:28:20.166995Z",
     "iopub.status.idle": "2022-01-26T01:28:20.171274Z",
     "shell.execute_reply": "2022-01-26T01:28:20.170728Z",
     "shell.execute_reply.started": "2022-01-25T23:53:37.729146Z"
    },
    "papermill": {
     "duration": 0.250722,
     "end_time": "2022-01-26T01:28:20.171418",
     "exception": false,
     "start_time": "2022-01-26T01:28:19.920696",
     "status": "completed"
    },
    "tags": []
   },
   "outputs": [],
   "source": [
    "# What do we pay attention to when looking at a residual plot?\n",
    "\n",
    "# We look at the spread of the residuals:\n",
    "\n",
    "# If the points in a residual plot are randomly spread out around the x-axis\n",
    "\n",
    "# then a linear model is appropriate for the data.\n",
    "\n",
    "# Why is that? \n",
    "\n",
    "# Randomly spread out residuals means that the variance is constant\n",
    "\n",
    "# and thus the linear model is a good fit for this data."
   ]
  },
  {
   "cell_type": "code",
   "execution_count": 184,
   "id": "c90eec9a",
   "metadata": {
    "execution": {
     "iopub.execute_input": "2022-01-26T01:28:20.659629Z",
     "iopub.status.busy": "2022-01-26T01:28:20.659040Z",
     "iopub.status.idle": "2022-01-26T01:28:20.904927Z",
     "shell.execute_reply": "2022-01-26T01:28:20.904205Z",
     "shell.execute_reply.started": "2022-01-25T23:53:47.358981Z"
    },
    "papermill": {
     "duration": 0.491557,
     "end_time": "2022-01-26T01:28:20.905118",
     "exception": false,
     "start_time": "2022-01-26T01:28:20.413561",
     "status": "completed"
    },
    "tags": []
   },
   "outputs": [
    {
     "name": "stderr",
     "output_type": "stream",
     "text": [
      "/opt/conda/lib/python3.7/site-packages/seaborn/_decorators.py:43: FutureWarning: Pass the following variables as keyword args: x, y. From version 0.12, the only valid positional argument will be `data`, and passing other arguments without an explicit keyword will result in an error or misinterpretation.\n",
      "  FutureWarning\n"
     ]
    },
    {
     "data": {
      "image/png": "[encoded data removed]",
      "text/plain": [
       "<Figure size 864x720 with 1 Axes>"
      ]
     },
     "metadata": {
      "needs_background": "light"
     },
     "output_type": "display_data"
    }
   ],
   "source": [
    "width = 12\n",
    "height = 10\n",
    "plt.figure(figsize=(width, height))\n",
    "sns.residplot(df['highway-mpg'], df['price'])\n",
    "plt.show()"
   ]
  },
  {
   "cell_type": "code",
   "execution_count": 185,
   "id": "a81a5722",
   "metadata": {
    "execution": {
     "iopub.execute_input": "2022-01-26T01:28:21.407393Z",
     "iopub.status.busy": "2022-01-26T01:28:21.406732Z",
     "iopub.status.idle": "2022-01-26T01:28:21.409490Z",
     "shell.execute_reply": "2022-01-26T01:28:21.410085Z",
     "shell.execute_reply.started": "2022-01-25T23:55:43.817264Z"
    },
    "papermill": {
     "duration": 0.251391,
     "end_time": "2022-01-26T01:28:21.410249",
     "exception": false,
     "start_time": "2022-01-26T01:28:21.158858",
     "status": "completed"
    },
    "tags": []
   },
   "outputs": [],
   "source": [
    "# What is this plot telling us?\n",
    "\n",
    "# We can see from this residual plot that \n",
    "\n",
    "# the residuals are not randomly spread around the x-axis, \n",
    "\n",
    "# leading us to believe that maybe a non-linear model is more appropriate for this data.\n"
   ]
  },
  {
   "cell_type": "code",
   "execution_count": 186,
   "id": "b35909a0",
   "metadata": {
    "execution": {
     "iopub.execute_input": "2022-01-26T01:28:21.906861Z",
     "iopub.status.busy": "2022-01-26T01:28:21.905902Z",
     "iopub.status.idle": "2022-01-26T01:28:21.908583Z",
     "shell.execute_reply": "2022-01-26T01:28:21.908000Z",
     "shell.execute_reply.started": "2022-01-25T23:58:06.650292Z"
    },
    "papermill": {
     "duration": 0.25481,
     "end_time": "2022-01-26T01:28:21.908718",
     "exception": false,
     "start_time": "2022-01-26T01:28:21.653908",
     "status": "completed"
    },
    "tags": []
   },
   "outputs": [],
   "source": [
    "# Multiple Linear Regression\n",
    "\n",
    "# How do we visualize a model for Multiple Linear Regression? \n",
    "\n",
    "# This gets a bit more complicated because you can't visualize it with regression or residual plot.\n",
    "\n",
    "# One way to look at the fit of the model \n",
    "\n",
    "# is by looking at the distribution plot. \n",
    "\n",
    "# We can look at the distribution of the fitted values that result from the model \n",
    "\n",
    "# and compare it to the distribution of the actual values."
   ]
  },
  {
   "cell_type": "code",
   "execution_count": 187,
   "id": "6b76bdaa",
   "metadata": {
    "execution": {
     "iopub.execute_input": "2022-01-26T01:28:22.422568Z",
     "iopub.status.busy": "2022-01-26T01:28:22.421626Z",
     "iopub.status.idle": "2022-01-26T01:28:22.425518Z",
     "shell.execute_reply": "2022-01-26T01:28:22.425023Z",
     "shell.execute_reply.started": "2022-01-26T00:00:01.295760Z"
    },
    "papermill": {
     "duration": 0.268053,
     "end_time": "2022-01-26T01:28:22.425656",
     "exception": false,
     "start_time": "2022-01-26T01:28:22.157603",
     "status": "completed"
    },
    "tags": []
   },
   "outputs": [
    {
     "data": {
      "text/plain": [
       "array([1.40550861e+04, 1.40550861e+04, 1.86388884e+04, 1.07582804e+04,\n",
       "       1.66700703e+04, 1.47356851e+04, 1.59153138e+04, 1.63003559e+04,\n",
       "       1.86108914e+04, 1.09744890e+04, 1.09744890e+04, 1.77356466e+04,\n",
       "       1.79281677e+04, 1.94473734e+04, 2.67782345e+04, 2.73032918e+04,\n",
       "       2.82754858e+04, 8.62759291e+00, 5.15775587e+03, 5.28026924e+03,\n",
       "       5.22491525e+03, 5.45140207e+03, 9.08758971e+03, 5.76993684e+03,\n",
       "       5.84694525e+03, 5.84694525e+03, 9.30811379e+03, 1.20482859e+04,\n",
       "       1.89856331e+04, 3.76807803e+03, 5.71572960e+03, 3.78788211e+03,\n",
       "       6.50343111e+03, 6.55943722e+03, 6.74845786e+03, 6.79746321e+03,\n",
       "       9.54748093e+03, 9.73300118e+03, 9.78550691e+03, 1.00235329e+04,\n",
       "       1.15351180e+04, 1.04898864e+04, 1.01849200e+04, 1.26972142e+04,\n",
       "       3.45122174e+04, 3.45122174e+04, 4.37907412e+04, 6.28472431e+03,\n",
       "       5.62078495e+03, 5.63828686e+03, 5.77830214e+03, 5.79580405e+03,\n",
       "       8.73585265e+03, 8.73585265e+03, 8.75335456e+03, 1.12553187e+04,\n",
       "       1.11316315e+04, 1.12191411e+04, 1.11316315e+04, 1.12191411e+04,\n",
       "       9.72673411e+03, 1.12716468e+04, 1.56656095e+04, 1.21593439e+04,\n",
       "       2.27529251e+04, 2.35755150e+04, 2.26829175e+04, 2.36455226e+04,\n",
       "       3.08966558e+04, 3.07041348e+04, 3.96536862e+04, 3.86646207e+04,\n",
       "       1.90653237e+04, 5.54267872e+03, 5.86017547e+03, 6.07019840e+03,\n",
       "       9.14709621e+03, 1.14720950e+04, 1.10786607e+04, 1.90626415e+04,\n",
       "       1.93706752e+04, 1.93881771e+04, 1.12081748e+04, 1.13481901e+04,\n",
       "       1.15876076e+04, 1.15876076e+04, 6.21481802e+03, 5.83564683e+03,\n",
       "       6.31632911e+03, 6.38633675e+03, 6.68736961e+03, 6.43184172e+03,\n",
       "       6.70137114e+03, 6.50184936e+03, 6.73287458e+03, 6.63136350e+03,\n",
       "       1.10074342e+04, 1.09304258e+04, 2.28160870e+04, 2.35196638e+04,\n",
       "       2.20519982e+04, 2.23836043e+04, 2.44962603e+04, 2.26216303e+04,\n",
       "       1.48851481e+04, 1.68267836e+04, 1.56202283e+04, 1.87829511e+04,\n",
       "       1.50043936e+04, 1.70193046e+04, 1.57394739e+04, 1.89754721e+04,\n",
       "       1.50776691e+04, 1.70193046e+04, 1.81141202e+04, 5.37193130e+03,\n",
       "       9.08758971e+03, 5.76993684e+03, 5.84694525e+03, 7.23701211e+03,\n",
       "       1.20482859e+04, 1.90101358e+04, 1.78254295e+04, 2.41128158e+04,\n",
       "       2.41128158e+04, 2.42668326e+04, 1.35157682e+04, 1.30992227e+04,\n",
       "       1.34795422e+04, 1.36090563e+04, 1.36510609e+04, 1.38295804e+04,\n",
       "       1.61596241e+04, 1.62961391e+04, 6.86668447e+03, 8.72435393e+03,\n",
       "       9.14439979e+03, 8.52631723e+03, 9.06916498e+03, 1.01452598e+04,\n",
       "       1.08923180e+04, 1.17434103e+04, 9.53058781e+03, 1.06663744e+04,\n",
       "       1.03658815e+04, 1.32915341e+04, 5.70449754e+03, 5.97638573e+03,\n",
       "       5.88887618e+03, 6.90013474e+03, 7.43185373e+03, 1.03021671e+04,\n",
       "       7.00890284e+03, 7.10691354e+03, 8.28783808e+03, 7.52315506e+03,\n",
       "       6.37802970e+03, 7.43291649e+03, 7.49592337e+03, 7.59743445e+03,\n",
       "       7.71994782e+03, 1.00687173e+04, 1.01912307e+04, 1.51406135e+04,\n",
       "       1.51266120e+04, 1.51791177e+04, 1.56271666e+04, 1.57496800e+04,\n",
       "       1.66632797e+04, 1.10019937e+04, 9.92528359e+03, 1.15262445e+04,\n",
       "       1.15262445e+04, 1.16802613e+04, 2.14300056e+04, 2.15700209e+04,\n",
       "       2.17893761e+04, 2.10056467e+04, 6.27214487e+03, 9.22612659e+03,\n",
       "       6.28264602e+03, 9.23662773e+03, 9.45715181e+03, 7.30489496e+03,\n",
       "       1.03104446e+04, 1.01632937e+04, 1.00477811e+04, 1.54707808e+04,\n",
       "       8.50978668e+03, 1.09099630e+04, 1.62226644e+04, 1.66497110e+04,\n",
       "       1.63031732e+04, 1.66777141e+04, 1.86533861e+04, 1.90454289e+04,\n",
       "       1.63626797e+04, 1.88916476e+04, 2.09506315e+04, 1.74942587e+04,\n",
       "       1.72518166e+04])"
      ]
     },
     "execution_count": 187,
     "metadata": {},
     "output_type": "execute_result"
    }
   ],
   "source": [
    "# First, let's make a prediction:\n",
    "\n",
    "Z = df[['horsepower', 'curb-weight', 'engine-size', 'highway-mpg']]\n",
    "Y_hat = lm.predict(Z)\n",
    "Y_hat"
   ]
  },
  {
   "cell_type": "code",
   "execution_count": 188,
   "id": "72cfe947",
   "metadata": {
    "execution": {
     "iopub.execute_input": "2022-01-26T01:28:22.925224Z",
     "iopub.status.busy": "2022-01-26T01:28:22.924284Z",
     "iopub.status.idle": "2022-01-26T01:28:23.178938Z",
     "shell.execute_reply": "2022-01-26T01:28:23.179462Z",
     "shell.execute_reply.started": "2022-01-26T00:01:09.365743Z"
    },
    "papermill": {
     "duration": 0.507657,
     "end_time": "2022-01-26T01:28:23.179628",
     "exception": false,
     "start_time": "2022-01-26T01:28:22.671971",
     "status": "completed"
    },
    "tags": []
   },
   "outputs": [
    {
     "name": "stderr",
     "output_type": "stream",
     "text": [
      "/opt/conda/lib/python3.7/site-packages/seaborn/distributions.py:2619: FutureWarning: `distplot` is a deprecated function and will be removed in a future version. Please adapt your code to use either `displot` (a figure-level function with similar flexibility) or `kdeplot` (an axes-level function for kernel density plots).\n",
      "  warnings.warn(msg, FutureWarning)\n",
      "/opt/conda/lib/python3.7/site-packages/seaborn/distributions.py:2619: FutureWarning: `distplot` is a deprecated function and will be removed in a future version. Please adapt your code to use either `displot` (a figure-level function with similar flexibility) or `kdeplot` (an axes-level function for kernel density plots).\n",
      "  warnings.warn(msg, FutureWarning)\n"
     ]
    },
    {
     "data": {
      "image/png": "[encoded data removed]",
      "text/plain": [
       "<Figure size 864x720 with 1 Axes>"
      ]
     },
     "metadata": {
      "needs_background": "light"
     },
     "output_type": "display_data"
    }
   ],
   "source": [
    "plt.figure(figsize=(width, height))\n",
    "\n",
    "\n",
    "ax1 = sns.distplot(df['price'], hist=False, color=\"r\", label=\"Actual Value\")\n",
    "sns.distplot(Y_hat, hist=False, color=\"b\", label=\"Fitted Values\" , ax=ax1)\n",
    "\n",
    "\n",
    "plt.title('Actual vs Fitted Values for Price')\n",
    "plt.xlabel('Price (in dollars)')\n",
    "plt.ylabel('Proportion of Cars')\n",
    "\n",
    "plt.show()\n",
    "plt.close()"
   ]
  },
  {
   "cell_type": "code",
   "execution_count": 189,
   "id": "6585b337",
   "metadata": {
    "execution": {
     "iopub.execute_input": "2022-01-26T01:28:23.674834Z",
     "iopub.status.busy": "2022-01-26T01:28:23.673895Z",
     "iopub.status.idle": "2022-01-26T01:28:23.675883Z",
     "shell.execute_reply": "2022-01-26T01:28:23.676387Z",
     "shell.execute_reply.started": "2022-01-26T00:02:17.685380Z"
    },
    "papermill": {
     "duration": 0.25069,
     "end_time": "2022-01-26T01:28:23.676554",
     "exception": false,
     "start_time": "2022-01-26T01:28:23.425864",
     "status": "completed"
    },
    "tags": []
   },
   "outputs": [],
   "source": [
    "# We can see that the fitted values are reasonably close to the actual values\n",
    "\n",
    "# since the two distributions overlap a bit. However, there is definitely some room for improvement"
   ]
  },
  {
   "cell_type": "code",
   "execution_count": 190,
   "id": "d810ad7f",
   "metadata": {
    "execution": {
     "iopub.execute_input": "2022-01-26T01:28:24.175612Z",
     "iopub.status.busy": "2022-01-26T01:28:24.174593Z",
     "iopub.status.idle": "2022-01-26T01:28:24.177434Z",
     "shell.execute_reply": "2022-01-26T01:28:24.176914Z",
     "shell.execute_reply.started": "2022-01-26T00:08:00.971410Z"
    },
    "papermill": {
     "duration": 0.253814,
     "end_time": "2022-01-26T01:28:24.177567",
     "exception": false,
     "start_time": "2022-01-26T01:28:23.923753",
     "status": "completed"
    },
    "tags": []
   },
   "outputs": [],
   "source": [
    "# Polynomial Regression and Pipelines\n",
    "\n",
    "# Polynomial regression is a particular case of the general linear regression model \n",
    "\n",
    "# or multiple linear regression models.\n",
    "\n",
    "# We get non-linear relationships \n",
    "  # by squaring or setting higher-order terms of the predictor variables.\n",
    "\n",
    "# There are different orders of polynomial regression:\n",
    "\n",
    "#          Quadratic - 2nd Order\n",
    "#           𝑌ℎ𝑎𝑡 = (𝑎) + (𝑏1)(𝑋) + (𝑏2)(𝑋^2)\n",
    "\n",
    "#            Cubic - 3rd Order\n",
    "#            𝑌ℎ𝑎𝑡 = (𝑎) + (𝑏1)(𝑋) + (𝑏2)(𝑋^2) + (𝑏3)(𝑋^3)\n",
    "\n",
    "#            Higher-Order:\n",
    "#           𝑌 = (𝑎) + (𝑏1)(𝑋) + (𝑏2)(𝑋^2) + (𝑏3)(𝑋^3)...."
   ]
  },
  {
   "cell_type": "code",
   "execution_count": 191,
   "id": "6a7cc787",
   "metadata": {
    "execution": {
     "iopub.execute_input": "2022-01-26T01:28:24.671294Z",
     "iopub.status.busy": "2022-01-26T01:28:24.670547Z",
     "iopub.status.idle": "2022-01-26T01:28:24.672568Z",
     "shell.execute_reply": "2022-01-26T01:28:24.673106Z",
     "shell.execute_reply.started": "2022-01-26T00:09:55.409676Z"
    },
    "papermill": {
     "duration": 0.251322,
     "end_time": "2022-01-26T01:28:24.673285",
     "exception": false,
     "start_time": "2022-01-26T01:28:24.421963",
     "status": "completed"
    },
    "tags": []
   },
   "outputs": [],
   "source": [
    "# We saw earlier that a linear model did not provide the best fit \n",
    "\n",
    "# while using \"highway-mpg\" as the predictor variable. \n",
    "\n",
    "# Let's see if we can try fitting a polynomial model to the data instead."
   ]
  },
  {
   "cell_type": "code",
   "execution_count": 192,
   "id": "a36bbe39",
   "metadata": {
    "execution": {
     "iopub.execute_input": "2022-01-26T01:28:25.174708Z",
     "iopub.status.busy": "2022-01-26T01:28:25.173623Z",
     "iopub.status.idle": "2022-01-26T01:28:25.176539Z",
     "shell.execute_reply": "2022-01-26T01:28:25.175876Z",
     "shell.execute_reply.started": "2022-01-26T00:10:52.568104Z"
    },
    "papermill": {
     "duration": 0.258012,
     "end_time": "2022-01-26T01:28:25.176677",
     "exception": false,
     "start_time": "2022-01-26T01:28:24.918665",
     "status": "completed"
    },
    "tags": []
   },
   "outputs": [],
   "source": [
    "# We will use the following function to plot the data:\n",
    "\n",
    "def PlotPolly(model, independent_variable, dependent_variabble, Name):\n",
    "\n",
    "    x_new = np.linspace(15, 55, 100)\n",
    "\n",
    "    y_new = model(x_new)\n",
    "\n",
    "\n",
    "    plt.plot(independent_variable, dependent_variabble, '.', x_new, y_new, '-')\n",
    "\n",
    "    plt.title('Polynomial Fit with Matplotlib for Price ~ Length')\n",
    "\n",
    "    ax = plt.gca()\n",
    "\n",
    "    ax.set_facecolor((0.898, 0.898, 0.898))\n",
    "\n",
    "    fig = plt.gcf()\n",
    "\n",
    "    plt.xlabel(Name)\n",
    "    plt.ylabel('Price of Cars')\n",
    "\n",
    "    plt.show()\n",
    "    plt.close()"
   ]
  },
  {
   "cell_type": "code",
   "execution_count": 193,
   "id": "3e97c3be",
   "metadata": {
    "execution": {
     "iopub.execute_input": "2022-01-26T01:28:25.677263Z",
     "iopub.status.busy": "2022-01-26T01:28:25.676601Z",
     "iopub.status.idle": "2022-01-26T01:28:25.680119Z",
     "shell.execute_reply": "2022-01-26T01:28:25.680600Z",
     "shell.execute_reply.started": "2022-01-26T00:12:03.230195Z"
    },
    "papermill": {
     "duration": 0.254958,
     "end_time": "2022-01-26T01:28:25.680767",
     "exception": false,
     "start_time": "2022-01-26T01:28:25.425809",
     "status": "completed"
    },
    "tags": []
   },
   "outputs": [],
   "source": [
    "# Let's get the variables:\n",
    "\n",
    "x = df['highway-mpg']\n",
    "\n",
    "y = df['price']"
   ]
  },
  {
   "cell_type": "code",
   "execution_count": 194,
   "id": "525a5aea",
   "metadata": {
    "execution": {
     "iopub.execute_input": "2022-01-26T01:28:26.187504Z",
     "iopub.status.busy": "2022-01-26T01:28:26.186823Z",
     "iopub.status.idle": "2022-01-26T01:28:26.192288Z",
     "shell.execute_reply": "2022-01-26T01:28:26.193017Z",
     "shell.execute_reply.started": "2022-01-26T00:13:20.308414Z"
    },
    "papermill": {
     "duration": 0.263414,
     "end_time": "2022-01-26T01:28:26.193240",
     "exception": false,
     "start_time": "2022-01-26T01:28:25.929826",
     "status": "completed"
    },
    "tags": []
   },
   "outputs": [
    {
     "name": "stdout",
     "output_type": "stream",
     "text": [
      "       3         2\n",
      "-23.4 x + 923.6 x - 7083 x + 2.152e+04\n"
     ]
    }
   ],
   "source": [
    "# Let's fit the polynomial using the function polyfit, \n",
    "\n",
    "# then use the function poly1d to display the polynomial function.\n",
    "\n",
    "# Here we use a polynomial of the 3rd order (cubic) \n",
    "\n",
    "f = np.polyfit(x, y, 3)\n",
    "\n",
    "p = np.poly1d(f)\n",
    "\n",
    "print(p)"
   ]
  },
  {
   "cell_type": "code",
   "execution_count": 195,
   "id": "eea25314",
   "metadata": {
    "execution": {
     "iopub.execute_input": "2022-01-26T01:28:26.693856Z",
     "iopub.status.busy": "2022-01-26T01:28:26.693258Z",
     "iopub.status.idle": "2022-01-26T01:28:26.887846Z",
     "shell.execute_reply": "2022-01-26T01:28:26.886788Z",
     "shell.execute_reply.started": "2022-01-26T00:13:53.740286Z"
    },
    "papermill": {
     "duration": 0.445742,
     "end_time": "2022-01-26T01:28:26.888052",
     "exception": false,
     "start_time": "2022-01-26T01:28:26.442310",
     "status": "completed"
    },
    "tags": []
   },
   "outputs": [
    {
     "data": {
      "image/png": "[encoded data removed]",
      "text/plain": [
       "<Figure size 432x288 with 1 Axes>"
      ]
     },
     "metadata": {
      "needs_background": "light"
     },
     "output_type": "display_data"
    }
   ],
   "source": [
    "# Let's plot the function:\n",
    "\n",
    "PlotPolly(p, x, y, 'highway-mpg')"
   ]
  },
  {
   "cell_type": "code",
   "execution_count": 196,
   "id": "127a21ff",
   "metadata": {
    "execution": {
     "iopub.execute_input": "2022-01-26T01:28:27.401227Z",
     "iopub.status.busy": "2022-01-26T01:28:27.400609Z",
     "iopub.status.idle": "2022-01-26T01:28:27.598489Z",
     "shell.execute_reply": "2022-01-26T01:28:27.597940Z",
     "shell.execute_reply.started": "2022-01-26T00:16:11.408011Z"
    },
    "papermill": {
     "duration": 0.449277,
     "end_time": "2022-01-26T01:28:27.598633",
     "exception": false,
     "start_time": "2022-01-26T01:28:27.149356",
     "status": "completed"
    },
    "tags": []
   },
   "outputs": [
    {
     "name": "stdout",
     "output_type": "stream",
     "text": [
      "          11          10         9         8             7\n",
      "0.003545 x  - 0.4733 x  + 26.87 x - 870.3 x + 1.803e+04 x\n",
      "              6             5             4            3             2\n",
      " - 2.523e+05 x + 2.441e+06 x - 1.637e+07 x + 7.47e+07 x - 2.213e+08 x + 3.832e+08 x - 2.943e+08\n"
     ]
    },
    {
     "data": {
      "image/png": "[encoded data removed]",
      "text/plain": [
       "<Figure size 432x288 with 1 Axes>"
      ]
     },
     "metadata": {
      "needs_background": "light"
     },
     "output_type": "display_data"
    }
   ],
   "source": [
    "# Create 11 order polynomial model with the variables x and y from above.\n",
    "\n",
    "f1 = np.polyfit(x, y, 11)\n",
    "\n",
    "p1 = np.poly1d(f1)\n",
    "\n",
    "print(p1)\n",
    "\n",
    "PlotPolly(p1,x,y, 'Highway MPG')"
   ]
  },
  {
   "cell_type": "code",
   "execution_count": 197,
   "id": "1c46fc51",
   "metadata": {
    "execution": {
     "iopub.execute_input": "2022-01-26T01:28:28.108315Z",
     "iopub.status.busy": "2022-01-26T01:28:28.107556Z",
     "iopub.status.idle": "2022-01-26T01:28:28.110368Z",
     "shell.execute_reply": "2022-01-26T01:28:28.110818Z",
     "shell.execute_reply.started": "2022-01-26T00:20:35.036908Z"
    },
    "papermill": {
     "duration": 0.261985,
     "end_time": "2022-01-26T01:28:28.110994",
     "exception": false,
     "start_time": "2022-01-26T01:28:27.849009",
     "status": "completed"
    },
    "tags": []
   },
   "outputs": [
    {
     "name": "stdout",
     "output_type": "stream",
     "text": [
      "       3         2\n",
      "-23.4 x + 923.6 x - 7083 x + 2.152e+04\n"
     ]
    }
   ],
   "source": [
    "x3 = df['peak-rpm']\n",
    "\n",
    "y3 = df['price']\n",
    "\n",
    "# Here we use a polynomial of the 3rd order (cubic) \n",
    "\n",
    "f3 = np.polyfit(x, y, 3)\n",
    "\n",
    "p3 = np.poly1d(f)\n",
    "\n",
    "print(p)"
   ]
  },
  {
   "cell_type": "code",
   "execution_count": 198,
   "id": "c81aa678",
   "metadata": {
    "execution": {
     "iopub.execute_input": "2022-01-26T01:28:28.610350Z",
     "iopub.status.busy": "2022-01-26T01:28:28.609709Z",
     "iopub.status.idle": "2022-01-26T01:28:28.808029Z",
     "shell.execute_reply": "2022-01-26T01:28:28.808559Z",
     "shell.execute_reply.started": "2022-01-26T00:20:42.186708Z"
    },
    "papermill": {
     "duration": 0.449035,
     "end_time": "2022-01-26T01:28:28.808732",
     "exception": false,
     "start_time": "2022-01-26T01:28:28.359697",
     "status": "completed"
    },
    "tags": []
   },
   "outputs": [
    {
     "data": {
      "image/png": "[encoded data removed]",
      "text/plain": [
       "<Figure size 432x288 with 1 Axes>"
      ]
     },
     "metadata": {
      "needs_background": "light"
     },
     "output_type": "display_data"
    }
   ],
   "source": [
    "PlotPolly(p3,x3,y3, 'peak-rpm')"
   ]
  },
  {
   "cell_type": "code",
   "execution_count": 199,
   "id": "57d3785b",
   "metadata": {
    "execution": {
     "iopub.execute_input": "2022-01-26T01:28:29.311637Z",
     "iopub.status.busy": "2022-01-26T01:28:29.310891Z",
     "iopub.status.idle": "2022-01-26T01:28:29.313869Z",
     "shell.execute_reply": "2022-01-26T01:28:29.314435Z",
     "shell.execute_reply.started": "2022-01-26T00:23:42.397477Z"
    },
    "papermill": {
     "duration": 0.253888,
     "end_time": "2022-01-26T01:28:29.314604",
     "exception": false,
     "start_time": "2022-01-26T01:28:29.060716",
     "status": "completed"
    },
    "tags": []
   },
   "outputs": [],
   "source": [
    "# We can perform a polynomial transform on multiple features. First, we import the module:\n",
    "\n",
    "from sklearn.preprocessing import PolynomialFeatures"
   ]
  },
  {
   "cell_type": "code",
   "execution_count": 200,
   "id": "7b72da91",
   "metadata": {
    "execution": {
     "iopub.execute_input": "2022-01-26T01:28:29.815909Z",
     "iopub.status.busy": "2022-01-26T01:28:29.815330Z",
     "iopub.status.idle": "2022-01-26T01:28:29.820465Z",
     "shell.execute_reply": "2022-01-26T01:28:29.821104Z",
     "shell.execute_reply.started": "2022-01-26T00:23:59.205167Z"
    },
    "papermill": {
     "duration": 0.25636,
     "end_time": "2022-01-26T01:28:29.821354",
     "exception": false,
     "start_time": "2022-01-26T01:28:29.564994",
     "status": "completed"
    },
    "tags": []
   },
   "outputs": [
    {
     "data": {
      "text/plain": [
       "PolynomialFeatures()"
      ]
     },
     "execution_count": 200,
     "metadata": {},
     "output_type": "execute_result"
    }
   ],
   "source": [
    "# We create a PolynomialFeatures object of degree 2:\n",
    "\n",
    "pr=PolynomialFeatures(degree=2)\n",
    "\n",
    "pr"
   ]
  },
  {
   "cell_type": "code",
   "execution_count": 201,
   "id": "d60e1cf3",
   "metadata": {
    "execution": {
     "iopub.execute_input": "2022-01-26T01:28:30.327591Z",
     "iopub.status.busy": "2022-01-26T01:28:30.326989Z",
     "iopub.status.idle": "2022-01-26T01:28:30.333485Z",
     "shell.execute_reply": "2022-01-26T01:28:30.334017Z",
     "shell.execute_reply.started": "2022-01-26T00:24:37.436515Z"
    },
    "papermill": {
     "duration": 0.25959,
     "end_time": "2022-01-26T01:28:30.334191",
     "exception": false,
     "start_time": "2022-01-26T01:28:30.074601",
     "status": "completed"
    },
    "tags": []
   },
   "outputs": [],
   "source": [
    "Z_pr = pr.fit_transform(Z)"
   ]
  },
  {
   "cell_type": "code",
   "execution_count": 202,
   "id": "be62d70b",
   "metadata": {
    "execution": {
     "iopub.execute_input": "2022-01-26T01:28:30.853299Z",
     "iopub.status.busy": "2022-01-26T01:28:30.852593Z",
     "iopub.status.idle": "2022-01-26T01:28:30.857482Z",
     "shell.execute_reply": "2022-01-26T01:28:30.857919Z",
     "shell.execute_reply.started": "2022-01-26T00:24:48.567044Z"
    },
    "papermill": {
     "duration": 0.270641,
     "end_time": "2022-01-26T01:28:30.858100",
     "exception": false,
     "start_time": "2022-01-26T01:28:30.587459",
     "status": "completed"
    },
    "tags": []
   },
   "outputs": [
    {
     "data": {
      "text/plain": [
       "(201, 4)"
      ]
     },
     "execution_count": 202,
     "metadata": {},
     "output_type": "execute_result"
    }
   ],
   "source": [
    "# In the original data, there are 201 samples and 4 features.\n",
    "\n",
    "Z.shape"
   ]
  },
  {
   "cell_type": "code",
   "execution_count": 203,
   "id": "b222f566",
   "metadata": {
    "execution": {
     "iopub.execute_input": "2022-01-26T01:28:31.367363Z",
     "iopub.status.busy": "2022-01-26T01:28:31.366386Z",
     "iopub.status.idle": "2022-01-26T01:28:31.371542Z",
     "shell.execute_reply": "2022-01-26T01:28:31.372090Z",
     "shell.execute_reply.started": "2022-01-26T00:25:16.407778Z"
    },
    "papermill": {
     "duration": 0.260737,
     "end_time": "2022-01-26T01:28:31.372265",
     "exception": false,
     "start_time": "2022-01-26T01:28:31.111528",
     "status": "completed"
    },
    "tags": []
   },
   "outputs": [
    {
     "data": {
      "text/plain": [
       "(201, 15)"
      ]
     },
     "execution_count": 203,
     "metadata": {},
     "output_type": "execute_result"
    }
   ],
   "source": [
    "# After the transformation, there are 201 samples and 15 features.\n",
    "\n",
    "Z_pr.shape"
   ]
  },
  {
   "cell_type": "code",
   "execution_count": 204,
   "id": "3f6e7e36",
   "metadata": {
    "execution": {
     "iopub.execute_input": "2022-01-26T01:28:31.900729Z",
     "iopub.status.busy": "2022-01-26T01:28:31.899842Z",
     "iopub.status.idle": "2022-01-26T01:28:31.906936Z",
     "shell.execute_reply": "2022-01-26T01:28:31.906326Z",
     "shell.execute_reply.started": "2022-01-26T00:27:04.928521Z"
    },
    "papermill": {
     "duration": 0.282648,
     "end_time": "2022-01-26T01:28:31.907139",
     "exception": false,
     "start_time": "2022-01-26T01:28:31.624491",
     "status": "completed"
    },
    "tags": []
   },
   "outputs": [],
   "source": [
    "# Pipeline\n",
    "\n",
    "# Data Pipelines simplify the steps of processing the data. \n",
    "\n",
    "# We use the module Pipeline to create a pipeline. \n",
    "\n",
    "# We also use StandardScaler as a step in our pipeline.\n",
    "\n",
    "\n",
    "from sklearn.pipeline import Pipeline\n",
    "\n",
    "from sklearn.preprocessing import StandardScaler"
   ]
  },
  {
   "cell_type": "code",
   "execution_count": 205,
   "id": "bd3e2ced",
   "metadata": {
    "execution": {
     "iopub.execute_input": "2022-01-26T01:28:32.413097Z",
     "iopub.status.busy": "2022-01-26T01:28:32.412089Z",
     "iopub.status.idle": "2022-01-26T01:28:32.416399Z",
     "shell.execute_reply": "2022-01-26T01:28:32.416985Z",
     "shell.execute_reply.started": "2022-01-26T00:27:47.767995Z"
    },
    "papermill": {
     "duration": 0.257765,
     "end_time": "2022-01-26T01:28:32.417146",
     "exception": false,
     "start_time": "2022-01-26T01:28:32.159381",
     "status": "completed"
    },
    "tags": []
   },
   "outputs": [],
   "source": [
    "# We create the pipeline by creating a list of tuples i\n",
    "\n",
    "# ncluding the name of the model or estimator and its corresponding constructor.\n",
    "\n",
    "Input=[('scale',StandardScaler()),\n",
    "       ('polynomial', PolynomialFeatures(include_bias=False)),\n",
    "       ('model',LinearRegression())]"
   ]
  },
  {
   "cell_type": "code",
   "execution_count": 206,
   "id": "61686d1b",
   "metadata": {
    "execution": {
     "iopub.execute_input": "2022-01-26T01:28:32.922497Z",
     "iopub.status.busy": "2022-01-26T01:28:32.921477Z",
     "iopub.status.idle": "2022-01-26T01:28:32.929685Z",
     "shell.execute_reply": "2022-01-26T01:28:32.930290Z",
     "shell.execute_reply.started": "2022-01-26T00:27:54.986861Z"
    },
    "papermill": {
     "duration": 0.263697,
     "end_time": "2022-01-26T01:28:32.930458",
     "exception": false,
     "start_time": "2022-01-26T01:28:32.666761",
     "status": "completed"
    },
    "tags": []
   },
   "outputs": [
    {
     "data": {
      "text/plain": [
       "Pipeline(steps=[('scale', StandardScaler()),\n",
       "                ('polynomial', PolynomialFeatures(include_bias=False)),\n",
       "                ('model', LinearRegression())])"
      ]
     },
     "execution_count": 206,
     "metadata": {},
     "output_type": "execute_result"
    }
   ],
   "source": [
    "# We input the list as an argument to the pipeline constructor:\n",
    "\n",
    "pipe=Pipeline(Input)\n",
    "\n",
    "pipe"
   ]
  },
  {
   "cell_type": "code",
   "execution_count": 207,
   "id": "57d8b513",
   "metadata": {
    "execution": {
     "iopub.execute_input": "2022-01-26T01:28:33.437648Z",
     "iopub.status.busy": "2022-01-26T01:28:33.436660Z",
     "iopub.status.idle": "2022-01-26T01:28:33.449558Z",
     "shell.execute_reply": "2022-01-26T01:28:33.450143Z",
     "shell.execute_reply.started": "2022-01-26T00:29:20.815710Z"
    },
    "papermill": {
     "duration": 0.266002,
     "end_time": "2022-01-26T01:28:33.450310",
     "exception": false,
     "start_time": "2022-01-26T01:28:33.184308",
     "status": "completed"
    },
    "tags": []
   },
   "outputs": [
    {
     "data": {
      "text/plain": [
       "Pipeline(steps=[('scale', StandardScaler()),\n",
       "                ('polynomial', PolynomialFeatures(include_bias=False)),\n",
       "                ('model', LinearRegression())])"
      ]
     },
     "execution_count": 207,
     "metadata": {},
     "output_type": "execute_result"
    }
   ],
   "source": [
    "# First, we convert the data type Z to type float to avoid conversion warnings \n",
    "\n",
    "# that may appear as a result of StandardScaler taking float inputs.\n",
    "\n",
    "# Then, we can normalize the data, perform a transform and fit the model simultaneously.\n",
    "\n",
    "Z = Z.astype(float)\n",
    "\n",
    "pipe.fit(Z,y)"
   ]
  },
  {
   "cell_type": "code",
   "execution_count": 208,
   "id": "962922c5",
   "metadata": {
    "execution": {
     "iopub.execute_input": "2022-01-26T01:28:33.956402Z",
     "iopub.status.busy": "2022-01-26T01:28:33.952816Z",
     "iopub.status.idle": "2022-01-26T01:28:33.960983Z",
     "shell.execute_reply": "2022-01-26T01:28:33.961584Z",
     "shell.execute_reply.started": "2022-01-26T00:30:06.716763Z"
    },
    "papermill": {
     "duration": 0.262655,
     "end_time": "2022-01-26T01:28:33.961746",
     "exception": false,
     "start_time": "2022-01-26T01:28:33.699091",
     "status": "completed"
    },
    "tags": []
   },
   "outputs": [
    {
     "data": {
      "text/plain": [
       "array([12395.58706934, 12395.58706934, 18422.45365339,  9979.7757077 ])"
      ]
     },
     "execution_count": 208,
     "metadata": {},
     "output_type": "execute_result"
    }
   ],
   "source": [
    "# Similarly, we can normalize the data, perform a transform and produce a prediction simultaneously.\n",
    "\n",
    "ypipe=pipe.predict(Z)\n",
    "\n",
    "ypipe[0:4]"
   ]
  },
  {
   "cell_type": "code",
   "execution_count": 209,
   "id": "ced70b6c",
   "metadata": {
    "execution": {
     "iopub.execute_input": "2022-01-26T01:28:34.469316Z",
     "iopub.status.busy": "2022-01-26T01:28:34.468430Z",
     "iopub.status.idle": "2022-01-26T01:28:34.480613Z",
     "shell.execute_reply": "2022-01-26T01:28:34.481203Z",
     "shell.execute_reply.started": "2022-01-26T00:32:06.295126Z"
    },
    "papermill": {
     "duration": 0.265836,
     "end_time": "2022-01-26T01:28:34.481366",
     "exception": false,
     "start_time": "2022-01-26T01:28:34.215530",
     "status": "completed"
    },
    "tags": []
   },
   "outputs": [
    {
     "data": {
      "text/plain": [
       "array([14055.08612634, 14055.08612634, 18638.8884263 , 10758.2803759 ,\n",
       "       16670.07025864, 14735.68505426, 15915.31383891, 16300.35587545,\n",
       "       18610.89141407, 10974.48897133])"
      ]
     },
     "execution_count": 209,
     "metadata": {},
     "output_type": "execute_result"
    }
   ],
   "source": [
    "# Create a pipeline that \n",
    "\n",
    "# standardizes the data, \n",
    "\n",
    "# then produce a prediction using a linear regression model using the features Z and target y.\n",
    "\n",
    "Input=[('scale',StandardScaler()),('model',LinearRegression())]\n",
    "\n",
    "pipe = Pipeline(Input)\n",
    "\n",
    "pipe.fit(Z,y)\n",
    "\n",
    "ypipe = pipe.predict(Z)\n",
    "\n",
    "ypipe[0:10]"
   ]
  },
  {
   "cell_type": "code",
   "execution_count": 210,
   "id": "dc362370",
   "metadata": {
    "execution": {
     "iopub.execute_input": "2022-01-26T01:28:34.987588Z",
     "iopub.status.busy": "2022-01-26T01:28:34.986588Z",
     "iopub.status.idle": "2022-01-26T01:28:34.990356Z",
     "shell.execute_reply": "2022-01-26T01:28:34.990904Z",
     "shell.execute_reply.started": "2022-01-26T00:34:45.118242Z"
    },
    "papermill": {
     "duration": 0.260181,
     "end_time": "2022-01-26T01:28:34.991119",
     "exception": false,
     "start_time": "2022-01-26T01:28:34.730938",
     "status": "completed"
    },
    "tags": []
   },
   "outputs": [],
   "source": [
    "# Measures for In-Sample Evaluation\n",
    "\n",
    "# When evaluating our models, not only do we want to visualize the results, \n",
    "\n",
    "# but we also want a quantitative measure to determine how accurate the model is.\n",
    "\n",
    "# Two very important measures that are often used in Statistics \n",
    "# to determine the accuracy of a model are:\n",
    "\n",
    "  #  R^2 / R-squared\n",
    "  #  Mean Squared Error (MSE)"
   ]
  },
  {
   "cell_type": "code",
   "execution_count": 211,
   "id": "55c7bc93",
   "metadata": {
    "execution": {
     "iopub.execute_input": "2022-01-26T01:28:35.501440Z",
     "iopub.status.busy": "2022-01-26T01:28:35.500439Z",
     "iopub.status.idle": "2022-01-26T01:28:35.502606Z",
     "shell.execute_reply": "2022-01-26T01:28:35.503209Z",
     "shell.execute_reply.started": "2022-01-26T00:35:04.736485Z"
    },
    "papermill": {
     "duration": 0.257721,
     "end_time": "2022-01-26T01:28:35.503389",
     "exception": false,
     "start_time": "2022-01-26T01:28:35.245668",
     "status": "completed"
    },
    "tags": []
   },
   "outputs": [],
   "source": [
    "# R-squared\n",
    "\n",
    "# R squared, also known as the coefficient of determination, \n",
    "\n",
    "# is a measure to indicate how close the data is to the fitted regression line.\n",
    "\n",
    "# The value of the R-squared is \n",
    "\n",
    "# the percentage of variation of the response variable (y) that is explained by a linear model."
   ]
  },
  {
   "cell_type": "code",
   "execution_count": 212,
   "id": "a4da6cdb",
   "metadata": {
    "execution": {
     "iopub.execute_input": "2022-01-26T01:28:36.010686Z",
     "iopub.status.busy": "2022-01-26T01:28:36.009697Z",
     "iopub.status.idle": "2022-01-26T01:28:36.013045Z",
     "shell.execute_reply": "2022-01-26T01:28:36.013647Z",
     "shell.execute_reply.started": "2022-01-26T00:36:36.727261Z"
    },
    "papermill": {
     "duration": 0.260142,
     "end_time": "2022-01-26T01:28:36.013814",
     "exception": false,
     "start_time": "2022-01-26T01:28:35.753672",
     "status": "completed"
    },
    "tags": []
   },
   "outputs": [],
   "source": [
    "# Mean Squared Error (MSE)\n",
    "\n",
    "# measures the average of the squares of errors. \n",
    "\n",
    "#  That is, the difference between actual value (y) and the estimated value (ŷ)."
   ]
  },
  {
   "cell_type": "code",
   "execution_count": 213,
   "id": "9e0bf553",
   "metadata": {
    "execution": {
     "iopub.execute_input": "2022-01-26T01:28:36.521220Z",
     "iopub.status.busy": "2022-01-26T01:28:36.520243Z",
     "iopub.status.idle": "2022-01-26T01:28:36.530940Z",
     "shell.execute_reply": "2022-01-26T01:28:36.531581Z",
     "shell.execute_reply.started": "2022-01-26T00:40:03.636798Z"
    },
    "papermill": {
     "duration": 0.266535,
     "end_time": "2022-01-26T01:28:36.531814",
     "exception": false,
     "start_time": "2022-01-26T01:28:36.265279",
     "status": "completed"
    },
    "tags": []
   },
   "outputs": [
    {
     "name": "stdout",
     "output_type": "stream",
     "text": [
      "The R-square is:  0.6417894513258818\n"
     ]
    }
   ],
   "source": [
    "# Let's calculate the R^2:\n",
    "\n",
    "X = df[['highway-mpg']]\n",
    "Y = df['price']\n",
    "\n",
    "# highway_mpg_fit\n",
    "\n",
    "lm.fit(X, Y)\n",
    "\n",
    "# Find the R^2\n",
    "\n",
    "print('The R-square is: ', lm.score(X, Y))"
   ]
  },
  {
   "cell_type": "code",
   "execution_count": 214,
   "id": "6f77b0df",
   "metadata": {
    "execution": {
     "iopub.execute_input": "2022-01-26T01:28:37.044535Z",
     "iopub.status.busy": "2022-01-26T01:28:37.043571Z",
     "iopub.status.idle": "2022-01-26T01:28:37.047495Z",
     "shell.execute_reply": "2022-01-26T01:28:37.046796Z",
     "shell.execute_reply.started": "2022-01-26T00:42:00.376750Z"
    },
    "papermill": {
     "duration": 0.262872,
     "end_time": "2022-01-26T01:28:37.047638",
     "exception": false,
     "start_time": "2022-01-26T01:28:36.784766",
     "status": "completed"
    },
    "tags": []
   },
   "outputs": [],
   "source": [
    "# We can say that ~ 64.178 % of the variation of the price \n",
    "\n",
    "# is explained by this simple linear model \"horsepower_fit\"."
   ]
  },
  {
   "cell_type": "code",
   "execution_count": 215,
   "id": "34556efa",
   "metadata": {
    "execution": {
     "iopub.execute_input": "2022-01-26T01:28:37.560903Z",
     "iopub.status.busy": "2022-01-26T01:28:37.560249Z",
     "iopub.status.idle": "2022-01-26T01:28:37.562936Z",
     "shell.execute_reply": "2022-01-26T01:28:37.563648Z",
     "shell.execute_reply.started": "2022-01-26T00:42:09.916144Z"
    },
    "papermill": {
     "duration": 0.262895,
     "end_time": "2022-01-26T01:28:37.563873",
     "exception": false,
     "start_time": "2022-01-26T01:28:37.300978",
     "status": "completed"
    },
    "tags": []
   },
   "outputs": [
    {
     "name": "stdout",
     "output_type": "stream",
     "text": [
      "The output of the first four predicted value is:  [15485.52737455 15485.52737455 16643.34931414 12475.19033163]\n"
     ]
    }
   ],
   "source": [
    "# Let's calculate the MSE:\n",
    "\n",
    "# We can predict the output i.e., \"yhat\" using the predict method, where X is the input variable:\n",
    "\n",
    "Yhat=lm.predict(X)\n",
    "\n",
    "print('The output of the first four predicted value is: ', Yhat[0:4])"
   ]
  },
  {
   "cell_type": "code",
   "execution_count": 216,
   "id": "ef536506",
   "metadata": {
    "execution": {
     "iopub.execute_input": "2022-01-26T01:28:38.076228Z",
     "iopub.status.busy": "2022-01-26T01:28:38.075479Z",
     "iopub.status.idle": "2022-01-26T01:28:38.078550Z",
     "shell.execute_reply": "2022-01-26T01:28:38.079072Z",
     "shell.execute_reply.started": "2022-01-26T00:43:25.836669Z"
    },
    "papermill": {
     "duration": 0.261318,
     "end_time": "2022-01-26T01:28:38.079236",
     "exception": false,
     "start_time": "2022-01-26T01:28:37.817918",
     "status": "completed"
    },
    "tags": []
   },
   "outputs": [],
   "source": [
    "# Let's import the function mean_squared_error from the module metrics:\n",
    "\n",
    "from sklearn.metrics import mean_squared_error"
   ]
  },
  {
   "cell_type": "code",
   "execution_count": 217,
   "id": "37e8bcc5",
   "metadata": {
    "execution": {
     "iopub.execute_input": "2022-01-26T01:28:38.589479Z",
     "iopub.status.busy": "2022-01-26T01:28:38.588817Z",
     "iopub.status.idle": "2022-01-26T01:28:38.591466Z",
     "shell.execute_reply": "2022-01-26T01:28:38.591933Z",
     "shell.execute_reply.started": "2022-01-26T00:43:32.706159Z"
    },
    "papermill": {
     "duration": 0.258698,
     "end_time": "2022-01-26T01:28:38.592121",
     "exception": false,
     "start_time": "2022-01-26T01:28:38.333423",
     "status": "completed"
    },
    "tags": []
   },
   "outputs": [
    {
     "name": "stdout",
     "output_type": "stream",
     "text": [
      "The mean square error of price and predicted value is:  22510543.777085222\n"
     ]
    }
   ],
   "source": [
    "# We can compare the predicted results with the actual results:\n",
    "\n",
    "mse = mean_squared_error(df['price'], Yhat)\n",
    "\n",
    "print('The mean square error of price and predicted value is: ', mse)"
   ]
  },
  {
   "cell_type": "code",
   "execution_count": 218,
   "id": "bc2155da",
   "metadata": {
    "execution": {
     "iopub.execute_input": "2022-01-26T01:28:39.104254Z",
     "iopub.status.busy": "2022-01-26T01:28:39.103301Z",
     "iopub.status.idle": "2022-01-26T01:28:39.113379Z",
     "shell.execute_reply": "2022-01-26T01:28:39.113918Z",
     "shell.execute_reply.started": "2022-01-26T00:44:32.856095Z"
    },
    "papermill": {
     "duration": 0.269298,
     "end_time": "2022-01-26T01:28:39.114148",
     "exception": false,
     "start_time": "2022-01-26T01:28:38.844850",
     "status": "completed"
    },
    "tags": []
   },
   "outputs": [
    {
     "name": "stdout",
     "output_type": "stream",
     "text": [
      "The R-square is:  0.811811561534475\n"
     ]
    }
   ],
   "source": [
    "# Model 2: Multiple Linear Regression\n",
    "\n",
    "# Let's calculate the R^2:\n",
    "\n",
    "# fit the model \n",
    "\n",
    "lm.fit(Z, df['price'])\n",
    "\n",
    "# Find the R^2\n",
    "\n",
    "print('The R-square is: ', lm.score(Z, df['price']))"
   ]
  },
  {
   "cell_type": "code",
   "execution_count": 219,
   "id": "e81afeef",
   "metadata": {
    "execution": {
     "iopub.execute_input": "2022-01-26T01:28:39.629585Z",
     "iopub.status.busy": "2022-01-26T01:28:39.628244Z",
     "iopub.status.idle": "2022-01-26T01:28:39.632338Z",
     "shell.execute_reply": "2022-01-26T01:28:39.632986Z",
     "shell.execute_reply.started": "2022-01-26T00:46:38.735797Z"
    },
    "papermill": {
     "duration": 0.261822,
     "end_time": "2022-01-26T01:28:39.633152",
     "exception": false,
     "start_time": "2022-01-26T01:28:39.371330",
     "status": "completed"
    },
    "tags": []
   },
   "outputs": [],
   "source": [
    "# We can say that ~ 81.181 % of the variation of price \n",
    "\n",
    "# is explained by this multiple linear regression \"multi_fit\"."
   ]
  },
  {
   "cell_type": "code",
   "execution_count": 220,
   "id": "ab9eb240",
   "metadata": {
    "execution": {
     "iopub.execute_input": "2022-01-26T01:28:40.149073Z",
     "iopub.status.busy": "2022-01-26T01:28:40.148433Z",
     "iopub.status.idle": "2022-01-26T01:28:40.156840Z",
     "shell.execute_reply": "2022-01-26T01:28:40.156251Z",
     "shell.execute_reply.started": "2022-01-26T00:46:50.687014Z"
    },
    "papermill": {
     "duration": 0.268001,
     "end_time": "2022-01-26T01:28:40.156994",
     "exception": false,
     "start_time": "2022-01-26T01:28:39.888993",
     "status": "completed"
    },
    "tags": []
   },
   "outputs": [
    {
     "name": "stdout",
     "output_type": "stream",
     "text": [
      "The mean square error of price and predicted value using multifit is:  11826072.956532085\n"
     ]
    }
   ],
   "source": [
    "# Let's calculate the MSE.\n",
    "\n",
    "# We produce a prediction:\n",
    "\n",
    "Y_predict_multifit = lm.predict(Z)\n",
    "\n",
    "# We compare the predicted results with the actual results:\n",
    "\n",
    "print('The mean square error of price and predicted value using multifit is: ', \\\n",
    "\n",
    "      mean_squared_error(df['price'], Y_predict_multifit))"
   ]
  },
  {
   "cell_type": "code",
   "execution_count": 221,
   "id": "f53d83f7",
   "metadata": {
    "execution": {
     "iopub.execute_input": "2022-01-26T01:28:40.717081Z",
     "iopub.status.busy": "2022-01-26T01:28:40.716439Z",
     "iopub.status.idle": "2022-01-26T01:28:40.719212Z",
     "shell.execute_reply": "2022-01-26T01:28:40.718722Z",
     "shell.execute_reply.started": "2022-01-26T00:48:25.716912Z"
    },
    "papermill": {
     "duration": 0.308153,
     "end_time": "2022-01-26T01:28:40.719336",
     "exception": false,
     "start_time": "2022-01-26T01:28:40.411183",
     "status": "completed"
    },
    "tags": []
   },
   "outputs": [],
   "source": [
    "# Model 3: Polynomial Fit\n",
    "\n",
    "# Let's calculate the R^2.\n",
    "\n",
    "# Let’s import the function r2_score from the module metrics as we are using a different function.\n",
    "\n",
    "from sklearn.metrics import r2_score"
   ]
  },
  {
   "cell_type": "code",
   "execution_count": 222,
   "id": "23473952",
   "metadata": {
    "execution": {
     "iopub.execute_input": "2022-01-26T01:28:41.242207Z",
     "iopub.status.busy": "2022-01-26T01:28:41.239442Z",
     "iopub.status.idle": "2022-01-26T01:28:41.245062Z",
     "shell.execute_reply": "2022-01-26T01:28:41.244515Z",
     "shell.execute_reply.started": "2022-01-26T00:51:50.020175Z"
    },
    "papermill": {
     "duration": 0.265352,
     "end_time": "2022-01-26T01:28:41.245206",
     "exception": false,
     "start_time": "2022-01-26T01:28:40.979854",
     "status": "completed"
    },
    "tags": []
   },
   "outputs": [
    {
     "name": "stdout",
     "output_type": "stream",
     "text": [
      "The R-square value is:  0.6753581660812171\n"
     ]
    }
   ],
   "source": [
    "# We apply the function to get the value of R^2:\n",
    "\n",
    "r_squared = r2_score(y, p(x))\n",
    "\n",
    "print('The R-square value is: ', r_squared)"
   ]
  },
  {
   "cell_type": "code",
   "execution_count": 223,
   "id": "ee221988",
   "metadata": {
    "execution": {
     "iopub.execute_input": "2022-01-26T01:28:41.762278Z",
     "iopub.status.busy": "2022-01-26T01:28:41.761631Z",
     "iopub.status.idle": "2022-01-26T01:28:41.764067Z",
     "shell.execute_reply": "2022-01-26T01:28:41.764564Z",
     "shell.execute_reply.started": "2022-01-26T00:52:28.576698Z"
    },
    "papermill": {
     "duration": 0.264537,
     "end_time": "2022-01-26T01:28:41.764719",
     "exception": false,
     "start_time": "2022-01-26T01:28:41.500182",
     "status": "completed"
    },
    "tags": []
   },
   "outputs": [
    {
     "data": {
      "text/plain": [
       "20401030.180019397"
      ]
     },
     "execution_count": 223,
     "metadata": {},
     "output_type": "execute_result"
    }
   ],
   "source": [
    "# We can also calculate the MSE:\n",
    "\n",
    "mean_squared_error(df['price'], p(x))"
   ]
  },
  {
   "cell_type": "code",
   "execution_count": 224,
   "id": "e04a1d30",
   "metadata": {
    "execution": {
     "iopub.execute_input": "2022-01-26T01:28:42.278039Z",
     "iopub.status.busy": "2022-01-26T01:28:42.277365Z",
     "iopub.status.idle": "2022-01-26T01:28:42.280193Z",
     "shell.execute_reply": "2022-01-26T01:28:42.280660Z",
     "shell.execute_reply.started": "2022-01-26T00:53:51.427206Z"
    },
    "papermill": {
     "duration": 0.261933,
     "end_time": "2022-01-26T01:28:42.280818",
     "exception": false,
     "start_time": "2022-01-26T01:28:42.018885",
     "status": "completed"
    },
    "tags": []
   },
   "outputs": [],
   "source": [
    "#  Prediction and Decision Making\n",
    "\n",
    "# Prediction\n",
    "\n",
    "# In the previous we trained the model using the method fit. \n",
    "\n",
    "# Now we will use the method predict to produce a prediction. \n",
    "\n",
    "#Lets import pyplot for plotting; we will also be using some functions from numpy"
   ]
  },
  {
   "cell_type": "code",
   "execution_count": 225,
   "id": "b7406d9b",
   "metadata": {
    "execution": {
     "iopub.execute_input": "2022-01-26T01:28:42.807338Z",
     "iopub.status.busy": "2022-01-26T01:28:42.805775Z",
     "iopub.status.idle": "2022-01-26T01:28:42.814071Z",
     "shell.execute_reply": "2022-01-26T01:28:42.814736Z",
     "shell.execute_reply.started": "2022-01-26T00:54:51.206508Z"
    },
    "papermill": {
     "duration": 0.277888,
     "end_time": "2022-01-26T01:28:42.814940",
     "exception": false,
     "start_time": "2022-01-26T01:28:42.537052",
     "status": "completed"
    },
    "tags": []
   },
   "outputs": [
    {
     "data": {
      "text/plain": [
       "LinearRegression()"
      ]
     },
     "execution_count": 225,
     "metadata": {},
     "output_type": "execute_result"
    }
   ],
   "source": [
    "# Create a new input:\n",
    "\n",
    "new_input = np.arange(1, 100, 1).reshape(-1, 1)\n",
    "\n",
    "# Fit the model:\n",
    "\n",
    "lm.fit(X, Y)\n",
    "\n",
    "lm"
   ]
  },
  {
   "cell_type": "code",
   "execution_count": 226,
   "id": "4c2d311c",
   "metadata": {
    "execution": {
     "iopub.execute_input": "2022-01-26T01:28:43.347903Z",
     "iopub.status.busy": "2022-01-26T01:28:43.347199Z",
     "iopub.status.idle": "2022-01-26T01:28:43.349734Z",
     "shell.execute_reply": "2022-01-26T01:28:43.350249Z",
     "shell.execute_reply.started": "2022-01-26T00:55:21.319871Z"
    },
    "papermill": {
     "duration": 0.267375,
     "end_time": "2022-01-26T01:28:43.350408",
     "exception": false,
     "start_time": "2022-01-26T01:28:43.083033",
     "status": "completed"
    },
    "tags": []
   },
   "outputs": [
    {
     "data": {
      "text/plain": [
       "array([-11159.15794152,  -7700.47282838,  -4241.78771523,   -783.10260209,\n",
       "         2675.58251105])"
      ]
     },
     "execution_count": 226,
     "metadata": {},
     "output_type": "execute_result"
    }
   ],
   "source": [
    "# Produce a prediction:\n",
    "\n",
    "yhat=lm.predict(new_input)\n",
    "\n",
    "yhat[0:5]"
   ]
  },
  {
   "cell_type": "code",
   "execution_count": 227,
   "id": "48b57639",
   "metadata": {
    "execution": {
     "iopub.execute_input": "2022-01-26T01:28:43.866058Z",
     "iopub.status.busy": "2022-01-26T01:28:43.865425Z",
     "iopub.status.idle": "2022-01-26T01:28:44.043014Z",
     "shell.execute_reply": "2022-01-26T01:28:44.043510Z",
     "shell.execute_reply.started": "2022-01-26T00:55:50.616935Z"
    },
    "papermill": {
     "duration": 0.438076,
     "end_time": "2022-01-26T01:28:44.043680",
     "exception": false,
     "start_time": "2022-01-26T01:28:43.605604",
     "status": "completed"
    },
    "tags": []
   },
   "outputs": [
    {
     "data": {
      "image/png": "[encoded data removed]",
      "text/plain": [
       "<Figure size 432x288 with 1 Axes>"
      ]
     },
     "metadata": {
      "needs_background": "light"
     },
     "output_type": "display_data"
    }
   ],
   "source": [
    "# We can plot the data:\n",
    "\n",
    "plt.plot(new_input, yhat)\n",
    "\n",
    "plt.show()"
   ]
  },
  {
   "cell_type": "code",
   "execution_count": 228,
   "id": "f4436042",
   "metadata": {
    "execution": {
     "iopub.execute_input": "2022-01-26T01:28:44.560933Z",
     "iopub.status.busy": "2022-01-26T01:28:44.559246Z",
     "iopub.status.idle": "2022-01-26T01:28:44.562711Z",
     "shell.execute_reply": "2022-01-26T01:28:44.563198Z",
     "shell.execute_reply.started": "2022-01-26T00:58:03.356515Z"
    },
    "papermill": {
     "duration": 0.262204,
     "end_time": "2022-01-26T01:28:44.563384",
     "exception": false,
     "start_time": "2022-01-26T01:28:44.301180",
     "status": "completed"
    },
    "tags": []
   },
   "outputs": [],
   "source": [
    "# Decision Making: Determining a Good Model Fit\n",
    "\n",
    "# Now that we have visualized the different models, \n",
    "\n",
    "# and generated the R-squared and MSE values for the fits, \n",
    "\n",
    "# how do we determine a good model fit?\n"
   ]
  },
  {
   "cell_type": "code",
   "execution_count": 229,
   "id": "f3ba422d",
   "metadata": {
    "execution": {
     "iopub.execute_input": "2022-01-26T01:28:45.086535Z",
     "iopub.status.busy": "2022-01-26T01:28:45.085903Z",
     "iopub.status.idle": "2022-01-26T01:28:45.088339Z",
     "shell.execute_reply": "2022-01-26T01:28:45.088858Z",
     "shell.execute_reply.started": "2022-01-26T00:58:08.256093Z"
    },
    "papermill": {
     "duration": 0.264838,
     "end_time": "2022-01-26T01:28:45.089053",
     "exception": false,
     "start_time": "2022-01-26T01:28:44.824215",
     "status": "completed"
    },
    "tags": []
   },
   "outputs": [],
   "source": [
    "#   What is a good R-squared value?\n",
    "\n",
    "# When comparing models, \n",
    "\n",
    "# the model with the higher R-squared value is a better fit for the data.\n"
   ]
  },
  {
   "cell_type": "code",
   "execution_count": 230,
   "id": "52e65c0e",
   "metadata": {
    "execution": {
     "iopub.execute_input": "2022-01-26T01:28:45.606034Z",
     "iopub.status.busy": "2022-01-26T01:28:45.605368Z",
     "iopub.status.idle": "2022-01-26T01:28:45.609362Z",
     "shell.execute_reply": "2022-01-26T01:28:45.608721Z",
     "shell.execute_reply.started": "2022-01-26T00:58:41.878903Z"
    },
    "papermill": {
     "duration": 0.264707,
     "end_time": "2022-01-26T01:28:45.609498",
     "exception": false,
     "start_time": "2022-01-26T01:28:45.344791",
     "status": "completed"
    },
    "tags": []
   },
   "outputs": [],
   "source": [
    " #   What is a good MSE?\n",
    "    # When comparing models, the model with the smallest MSE value is a better fit for the data"
   ]
  },
  {
   "cell_type": "code",
   "execution_count": 231,
   "id": "ab68a94e",
   "metadata": {
    "execution": {
     "iopub.execute_input": "2022-01-26T01:28:46.166618Z",
     "iopub.status.busy": "2022-01-26T01:28:46.165923Z",
     "iopub.status.idle": "2022-01-26T01:28:46.170600Z",
     "shell.execute_reply": "2022-01-26T01:28:46.171297Z",
     "shell.execute_reply.started": "2022-01-26T01:04:10.646054Z"
    },
    "papermill": {
     "duration": 0.295806,
     "end_time": "2022-01-26T01:28:46.171512",
     "exception": false,
     "start_time": "2022-01-26T01:28:45.875706",
     "status": "completed"
    },
    "tags": []
   },
   "outputs": [],
   "source": [
    "# Simple Linear Regression Model (SLR) vs Multiple Linear Regression Model (MLR)\n",
    "\n",
    "# Usually, the more variables you have, the better your model is at predicting, \n",
    "\n",
    "# but this is not always true. Sometimes you may not have enough data, \n",
    "\n",
    "# you may run into numerical problems, or many of the variables may not be useful \n",
    "\n",
    "# and even act as noise. As a result, you should always check the MSE and R^2."
   ]
  },
  {
   "cell_type": "code",
   "execution_count": 232,
   "id": "3999785b",
   "metadata": {
    "execution": {
     "iopub.execute_input": "2022-01-26T01:28:46.697546Z",
     "iopub.status.busy": "2022-01-26T01:28:46.695720Z",
     "iopub.status.idle": "2022-01-26T01:28:46.699292Z",
     "shell.execute_reply": "2022-01-26T01:28:46.699844Z",
     "shell.execute_reply.started": "2022-01-26T01:18:48.108694Z"
    },
    "papermill": {
     "duration": 0.264696,
     "end_time": "2022-01-26T01:28:46.700017",
     "exception": false,
     "start_time": "2022-01-26T01:28:46.435321",
     "status": "completed"
    },
    "tags": []
   },
   "outputs": [],
   "source": [
    "# In order to compare the results of the MLR vs SLR models, \n",
    "\n",
    "# we look at a combination of both the R-squared and MSE \n",
    "\n",
    "# to make the best conclusion about the fit of the model."
   ]
  },
  {
   "cell_type": "code",
   "execution_count": 233,
   "id": "6fbf2b80",
   "metadata": {
    "execution": {
     "iopub.execute_input": "2022-01-26T01:28:47.222767Z",
     "iopub.status.busy": "2022-01-26T01:28:47.222113Z",
     "iopub.status.idle": "2022-01-26T01:28:47.224471Z",
     "shell.execute_reply": "2022-01-26T01:28:47.223887Z",
     "shell.execute_reply.started": "2022-01-26T01:19:11.239608Z"
    },
    "papermill": {
     "duration": 0.265093,
     "end_time": "2022-01-26T01:28:47.224603",
     "exception": false,
     "start_time": "2022-01-26T01:28:46.959510",
     "status": "completed"
    },
    "tags": []
   },
   "outputs": [],
   "source": [
    "# The MSE of SLR is (22510543.77) while \n",
    "# the MSE of MLR is (11826072.95) \n",
    "\n",
    "# MSE of MLR is much smaller.\n",
    "\n",
    "# R-squared: In this case, we can also see that there is a big difference between \n",
    "\n",
    "# the R-squared of the SLR and the R-squared of the MLR. \n",
    "\n",
    "# The R-squared for the SLR (~0.641) is small compared to \n",
    "# the R-squared for the MLR (~0.811).\n",
    "\n",
    "# This R-squared in combination with the MSE show \n",
    "\n",
    "\n",
    "# that MLR seems like the better model fit in this case compared to SLR.\n"
   ]
  },
  {
   "cell_type": "code",
   "execution_count": 234,
   "id": "8143f2b8",
   "metadata": {
    "execution": {
     "iopub.execute_input": "2022-01-26T01:28:47.745043Z",
     "iopub.status.busy": "2022-01-26T01:28:47.744445Z",
     "iopub.status.idle": "2022-01-26T01:28:47.747543Z",
     "shell.execute_reply": "2022-01-26T01:28:47.746949Z",
     "shell.execute_reply.started": "2022-01-26T01:21:54.637673Z"
    },
    "papermill": {
     "duration": 0.261359,
     "end_time": "2022-01-26T01:28:47.747682",
     "exception": false,
     "start_time": "2022-01-26T01:28:47.486323",
     "status": "completed"
    },
    "tags": []
   },
   "outputs": [],
   "source": [
    "# Simple Linear Model (SLR) vs. Polynomial Fit\n",
    "\n",
    "# MSE: We can see that Polynomial Fit brought down the MSE, \n",
    "# since this MSE is smaller than the one from the SLR.\n",
    "    \n",
    "# R-squared: The R-squared for the Polynomial Fit \n",
    "# is larger than the R-squared for the SLR, \n",
    "\n",
    "# so the Polynomial Fit also brought up the R-squared quite a bit.\n",
    "\n",
    "# Since the Polynomial Fit resulted in a lower MSE and a higher R-squared, \n",
    "\n",
    "# we can conclude that this was a better fit model than the simple linear regression\n",
    "\n",
    "# for predicting \"price\" with \"highway-mpg\" as a predictor variable.\n"
   ]
  },
  {
   "cell_type": "code",
   "execution_count": 235,
   "id": "b453fad2",
   "metadata": {
    "execution": {
     "iopub.execute_input": "2022-01-26T01:28:48.266092Z",
     "iopub.status.busy": "2022-01-26T01:28:48.265387Z",
     "iopub.status.idle": "2022-01-26T01:28:48.268319Z",
     "shell.execute_reply": "2022-01-26T01:28:48.267803Z",
     "shell.execute_reply.started": "2022-01-26T01:24:53.476064Z"
    },
    "papermill": {
     "duration": 0.265332,
     "end_time": "2022-01-26T01:28:48.268463",
     "exception": false,
     "start_time": "2022-01-26T01:28:48.003131",
     "status": "completed"
    },
    "tags": []
   },
   "outputs": [],
   "source": [
    "# Multiple Linear Regression (MLR) vs. Polynomial Fit\n",
    "\n",
    "# MSE: The MSE for the MLR is smaller than the MSE for the Polynomial Fit.\n",
    "   \n",
    "# R-squared: The R-squared for the MLR is also much larger than for the Polynomial Fit.\n",
    "\n"
   ]
  },
  {
   "cell_type": "code",
   "execution_count": 236,
   "id": "6611ad04",
   "metadata": {
    "execution": {
     "iopub.execute_input": "2022-01-26T01:28:48.782845Z",
     "iopub.status.busy": "2022-01-26T01:28:48.782208Z",
     "iopub.status.idle": "2022-01-26T01:28:48.784891Z",
     "shell.execute_reply": "2022-01-26T01:28:48.784354Z",
     "shell.execute_reply.started": "2022-01-26T01:25:57.098889Z"
    },
    "papermill": {
     "duration": 0.261577,
     "end_time": "2022-01-26T01:28:48.785042",
     "exception": false,
     "start_time": "2022-01-26T01:28:48.523465",
     "status": "completed"
    },
    "tags": []
   },
   "outputs": [],
   "source": [
    "# Conclusion\n",
    "\n",
    "# Comparing these three models, \n",
    "\n",
    "# we conclude that the MLR model is the best model to be able to predict price from our dataset. \n",
    "\n",
    "# This result makes sense since we have 27 variables in total\n",
    "\n",
    "# and we know that more than one of those variables are potential predictors of the final car price.\n"
   ]
  },
  {
   "cell_type": "code",
   "execution_count": null,
   "id": "66f9b238",
   "metadata": {
    "papermill": {
     "duration": 0.257243,
     "end_time": "2022-01-26T01:28:49.298279",
     "exception": false,
     "start_time": "2022-01-26T01:28:49.041036",
     "status": "completed"
    },
    "tags": []
   },
   "outputs": [],
   "source": []
  }
 ],
 "metadata": {
  "kernelspec": {
   "display_name": "Python 3",
   "language": "python",
   "name": "python3"
  },
  "language_info": {
   "codemirror_mode": {
    "name": "ipython",
    "version": 3
   },
   "file_extension": ".py",
   "mimetype": "text/x-python",
   "name": "python",
   "nbconvert_exporter": "python",
   "pygments_lexer": "ipython3",
   "version": "3.7.12"
  },
  "papermill": {
   "default_parameters": {},
   "duration": 126.848682,
   "end_time": "2022-01-26T01:28:50.267202",
   "environment_variables": {},
   "exception": null,
   "input_path": "__notebook__.ipynb",
   "output_path": "__notebook__.ipynb",
   "parameters": {},
   "start_time": "2022-01-26T01:26:43.418520",
   "version": "2.3.3"
  }
 },
 "nbformat": 4,
 "nbformat_minor": 5
}
